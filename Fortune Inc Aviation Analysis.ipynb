{
 "cells": [
  {
   "cell_type": "markdown",
   "id": "11b1db10-9d78-45b8-8215-14a6c15841ad",
   "metadata": {},
   "source": [
    "# Aviation Industry Analysis"
   ]
  },
  {
   "cell_type": "markdown",
   "id": "ebfbde19-5614-4b61-a11b-ff9ecb4af19e",
   "metadata": {},
   "source": [
    "#### Elina Rankova\n",
    "\n",
    "<div style=\"width: 100%; text-align: center;\">\n",
    "  <img src=\"https://www.bellaromeitalianadventures.com/wp-content/uploads/2018/03/aeroplane5.jpg\" width=\"720\" height=\"450\" style=\"margin: 0 auto;\"/>\n",
    "</div>\n",
    "\n",
    "Source: <a href=\"https://www.bellaromeitalianadventures.com/rome-fiumicino-airport-number-one-world/\">Bellarome Italians Adventures</a>"
   ]
  },
  {
   "cell_type": "markdown",
   "id": "91b30bce-0a40-4978-b16b-69afb66677fe",
   "metadata": {},
   "source": [
    "## 1. Business Problem and Understanding"
   ]
  },
  {
   "cell_type": "markdown",
   "id": "0480b968-8806-41d9-ab4d-ad3082a74fc4",
   "metadata": {},
   "source": [
    "**Stakeholders:** CEO, Head of Operations, Head of Aviation (brand new department)\n",
    "\n",
    "Fortune Inc. is expanding into airplane aviation to diversify its portfolio. In Phase 1 of department development, we aim to evaluate which aircrafts and aircraft specifics pose the lowest risk as we venture into a brand new industry. Being so to the industry, we want to focus on identifying the industry standard for aircraft make and model, and which top make and model results in least number of *destroyed* aircrafts during accident events to account for easier financial maintainance. We also want to focus on which type of engine is the industry standard for identified make and model and corresponds to the least number of fatal injuries.\n",
    "\n",
    "**Some preliminary questions include:**\n",
    "\n",
    "- *What type of aircraft make and model the most sense to purchase first when considering industry standard and which engine types are associated with identified make and model?*\n",
    "- *How is type of engine related to total injuries during accident events as related to identified industry standard make and model?*\n",
    "- *Have there been improvements in aviation technology and regulation helping us determine which event years provide relevant data?*\n",
    "\n",
    "For analysis, we are using data from the <a href = \"https://www.kaggle.com/datasets/khsamaha/aviation-accident-database-synopses\">Aviation Accident Database & Synopses</a>, up to 2023.\n",
    "\n",
    "Each record represents an accident event and includes much information about aircraft specifics as well as passenger injury details and information about accident events.\n",
    "\n",
    "**The goal: evaluate which type of airplane and engine type pose least risk, as defined above, to purchase and as we enter an industry we have not explored before. As an aside, we aim to evaluate how weather conditions correlate to injury severity for potential training considerations in Phase 2.**"
   ]
  },
  {
   "cell_type": "code",
   "execution_count": 1,
   "id": "987cdb5a-9e9d-4a9c-a731-1175766074fd",
   "metadata": {},
   "outputs": [],
   "source": [
    "# Import libraries\n",
    "\n",
    "import pandas as pd\n",
    "import matplotlib.pyplot as plt\n",
    "%matplotlib inline\n",
    "import numpy as np\n",
    "import seaborn as sns\n",
    "\n",
    "# Ignore warnings\n",
    "import warnings\n",
    "warnings.simplefilter(action='ignore', category=FutureWarning)"
   ]
  },
  {
   "cell_type": "code",
   "execution_count": 2,
   "id": "5bc30537-c58e-4f3a-843a-715f7b2a3962",
   "metadata": {},
   "outputs": [
    {
     "data": {
      "text/html": [
       "<div>\n",
       "<style scoped>\n",
       "    .dataframe tbody tr th:only-of-type {\n",
       "        vertical-align: middle;\n",
       "    }\n",
       "\n",
       "    .dataframe tbody tr th {\n",
       "        vertical-align: top;\n",
       "    }\n",
       "\n",
       "    .dataframe thead th {\n",
       "        text-align: right;\n",
       "    }\n",
       "</style>\n",
       "<table border=\"1\" class=\"dataframe\">\n",
       "  <thead>\n",
       "    <tr style=\"text-align: right;\">\n",
       "      <th></th>\n",
       "      <th>Event.Id</th>\n",
       "      <th>Investigation.Type</th>\n",
       "      <th>Accident.Number</th>\n",
       "      <th>Event.Date</th>\n",
       "      <th>Location</th>\n",
       "      <th>Country</th>\n",
       "      <th>Latitude</th>\n",
       "      <th>Longitude</th>\n",
       "      <th>Airport.Code</th>\n",
       "      <th>Airport.Name</th>\n",
       "      <th>...</th>\n",
       "      <th>Purpose.of.flight</th>\n",
       "      <th>Air.carrier</th>\n",
       "      <th>Total.Fatal.Injuries</th>\n",
       "      <th>Total.Serious.Injuries</th>\n",
       "      <th>Total.Minor.Injuries</th>\n",
       "      <th>Total.Uninjured</th>\n",
       "      <th>Weather.Condition</th>\n",
       "      <th>Broad.phase.of.flight</th>\n",
       "      <th>Report.Status</th>\n",
       "      <th>Publication.Date</th>\n",
       "    </tr>\n",
       "  </thead>\n",
       "  <tbody>\n",
       "    <tr>\n",
       "      <th>0</th>\n",
       "      <td>20001218X45444</td>\n",
       "      <td>Accident</td>\n",
       "      <td>SEA87LA080</td>\n",
       "      <td>1948-10-24</td>\n",
       "      <td>MOOSE CREEK, ID</td>\n",
       "      <td>United States</td>\n",
       "      <td>NaN</td>\n",
       "      <td>NaN</td>\n",
       "      <td>NaN</td>\n",
       "      <td>NaN</td>\n",
       "      <td>...</td>\n",
       "      <td>Personal</td>\n",
       "      <td>NaN</td>\n",
       "      <td>2.0</td>\n",
       "      <td>0.0</td>\n",
       "      <td>0.0</td>\n",
       "      <td>0.0</td>\n",
       "      <td>UNK</td>\n",
       "      <td>Cruise</td>\n",
       "      <td>Probable Cause</td>\n",
       "      <td>NaN</td>\n",
       "    </tr>\n",
       "    <tr>\n",
       "      <th>1</th>\n",
       "      <td>20001218X45447</td>\n",
       "      <td>Accident</td>\n",
       "      <td>LAX94LA336</td>\n",
       "      <td>1962-07-19</td>\n",
       "      <td>BRIDGEPORT, CA</td>\n",
       "      <td>United States</td>\n",
       "      <td>NaN</td>\n",
       "      <td>NaN</td>\n",
       "      <td>NaN</td>\n",
       "      <td>NaN</td>\n",
       "      <td>...</td>\n",
       "      <td>Personal</td>\n",
       "      <td>NaN</td>\n",
       "      <td>4.0</td>\n",
       "      <td>0.0</td>\n",
       "      <td>0.0</td>\n",
       "      <td>0.0</td>\n",
       "      <td>UNK</td>\n",
       "      <td>Unknown</td>\n",
       "      <td>Probable Cause</td>\n",
       "      <td>19-09-1996</td>\n",
       "    </tr>\n",
       "    <tr>\n",
       "      <th>2</th>\n",
       "      <td>20061025X01555</td>\n",
       "      <td>Accident</td>\n",
       "      <td>NYC07LA005</td>\n",
       "      <td>1974-08-30</td>\n",
       "      <td>Saltville, VA</td>\n",
       "      <td>United States</td>\n",
       "      <td>36.922223</td>\n",
       "      <td>-81.878056</td>\n",
       "      <td>NaN</td>\n",
       "      <td>NaN</td>\n",
       "      <td>...</td>\n",
       "      <td>Personal</td>\n",
       "      <td>NaN</td>\n",
       "      <td>3.0</td>\n",
       "      <td>NaN</td>\n",
       "      <td>NaN</td>\n",
       "      <td>NaN</td>\n",
       "      <td>IMC</td>\n",
       "      <td>Cruise</td>\n",
       "      <td>Probable Cause</td>\n",
       "      <td>26-02-2007</td>\n",
       "    </tr>\n",
       "    <tr>\n",
       "      <th>3</th>\n",
       "      <td>20001218X45448</td>\n",
       "      <td>Accident</td>\n",
       "      <td>LAX96LA321</td>\n",
       "      <td>1977-06-19</td>\n",
       "      <td>EUREKA, CA</td>\n",
       "      <td>United States</td>\n",
       "      <td>NaN</td>\n",
       "      <td>NaN</td>\n",
       "      <td>NaN</td>\n",
       "      <td>NaN</td>\n",
       "      <td>...</td>\n",
       "      <td>Personal</td>\n",
       "      <td>NaN</td>\n",
       "      <td>2.0</td>\n",
       "      <td>0.0</td>\n",
       "      <td>0.0</td>\n",
       "      <td>0.0</td>\n",
       "      <td>IMC</td>\n",
       "      <td>Cruise</td>\n",
       "      <td>Probable Cause</td>\n",
       "      <td>12-09-2000</td>\n",
       "    </tr>\n",
       "    <tr>\n",
       "      <th>4</th>\n",
       "      <td>20041105X01764</td>\n",
       "      <td>Accident</td>\n",
       "      <td>CHI79FA064</td>\n",
       "      <td>1979-08-02</td>\n",
       "      <td>Canton, OH</td>\n",
       "      <td>United States</td>\n",
       "      <td>NaN</td>\n",
       "      <td>NaN</td>\n",
       "      <td>NaN</td>\n",
       "      <td>NaN</td>\n",
       "      <td>...</td>\n",
       "      <td>Personal</td>\n",
       "      <td>NaN</td>\n",
       "      <td>1.0</td>\n",
       "      <td>2.0</td>\n",
       "      <td>NaN</td>\n",
       "      <td>0.0</td>\n",
       "      <td>VMC</td>\n",
       "      <td>Approach</td>\n",
       "      <td>Probable Cause</td>\n",
       "      <td>16-04-1980</td>\n",
       "    </tr>\n",
       "  </tbody>\n",
       "</table>\n",
       "<p>5 rows × 31 columns</p>\n",
       "</div>"
      ],
      "text/plain": [
       "         Event.Id Investigation.Type Accident.Number  Event.Date  \\\n",
       "0  20001218X45444           Accident      SEA87LA080  1948-10-24   \n",
       "1  20001218X45447           Accident      LAX94LA336  1962-07-19   \n",
       "2  20061025X01555           Accident      NYC07LA005  1974-08-30   \n",
       "3  20001218X45448           Accident      LAX96LA321  1977-06-19   \n",
       "4  20041105X01764           Accident      CHI79FA064  1979-08-02   \n",
       "\n",
       "          Location        Country   Latitude   Longitude Airport.Code  \\\n",
       "0  MOOSE CREEK, ID  United States        NaN         NaN          NaN   \n",
       "1   BRIDGEPORT, CA  United States        NaN         NaN          NaN   \n",
       "2    Saltville, VA  United States  36.922223  -81.878056          NaN   \n",
       "3       EUREKA, CA  United States        NaN         NaN          NaN   \n",
       "4       Canton, OH  United States        NaN         NaN          NaN   \n",
       "\n",
       "  Airport.Name  ... Purpose.of.flight Air.carrier Total.Fatal.Injuries  \\\n",
       "0          NaN  ...          Personal         NaN                  2.0   \n",
       "1          NaN  ...          Personal         NaN                  4.0   \n",
       "2          NaN  ...          Personal         NaN                  3.0   \n",
       "3          NaN  ...          Personal         NaN                  2.0   \n",
       "4          NaN  ...          Personal         NaN                  1.0   \n",
       "\n",
       "  Total.Serious.Injuries Total.Minor.Injuries Total.Uninjured  \\\n",
       "0                    0.0                  0.0             0.0   \n",
       "1                    0.0                  0.0             0.0   \n",
       "2                    NaN                  NaN             NaN   \n",
       "3                    0.0                  0.0             0.0   \n",
       "4                    2.0                  NaN             0.0   \n",
       "\n",
       "  Weather.Condition  Broad.phase.of.flight   Report.Status Publication.Date  \n",
       "0               UNK                 Cruise  Probable Cause              NaN  \n",
       "1               UNK                Unknown  Probable Cause       19-09-1996  \n",
       "2               IMC                 Cruise  Probable Cause       26-02-2007  \n",
       "3               IMC                 Cruise  Probable Cause       12-09-2000  \n",
       "4               VMC               Approach  Probable Cause       16-04-1980  \n",
       "\n",
       "[5 rows x 31 columns]"
      ]
     },
     "execution_count": 2,
     "metadata": {},
     "output_type": "execute_result"
    }
   ],
   "source": [
    "# Load in data\n",
    "\n",
    "# Had to specify encoding 'latin-1' for file to load\n",
    "# Setting low_memory=False in the read_csv function will force pandas to read the entire file at once, \n",
    "# which can help with inferring the correct data types. \n",
    "\n",
    "ad = pd.read_csv('Data/AviationData.csv', encoding='latin-1', low_memory=False)\n",
    "ad.head()"
   ]
  },
  {
   "cell_type": "code",
   "execution_count": 3,
   "id": "0487e12a-3999-458d-8a64-d3dc26f49c74",
   "metadata": {},
   "outputs": [
    {
     "name": "stdout",
     "output_type": "stream",
     "text": [
      "<class 'pandas.core.frame.DataFrame'>\n",
      "RangeIndex: 88889 entries, 0 to 88888\n",
      "Data columns (total 31 columns):\n",
      " #   Column                  Non-Null Count  Dtype  \n",
      "---  ------                  --------------  -----  \n",
      " 0   Event.Id                88889 non-null  object \n",
      " 1   Investigation.Type      88889 non-null  object \n",
      " 2   Accident.Number         88889 non-null  object \n",
      " 3   Event.Date              88889 non-null  object \n",
      " 4   Location                88837 non-null  object \n",
      " 5   Country                 88663 non-null  object \n",
      " 6   Latitude                34382 non-null  object \n",
      " 7   Longitude               34373 non-null  object \n",
      " 8   Airport.Code            50249 non-null  object \n",
      " 9   Airport.Name            52790 non-null  object \n",
      " 10  Injury.Severity         87889 non-null  object \n",
      " 11  Aircraft.damage         85695 non-null  object \n",
      " 12  Aircraft.Category       32287 non-null  object \n",
      " 13  Registration.Number     87572 non-null  object \n",
      " 14  Make                    88826 non-null  object \n",
      " 15  Model                   88797 non-null  object \n",
      " 16  Amateur.Built           88787 non-null  object \n",
      " 17  Number.of.Engines       82805 non-null  float64\n",
      " 18  Engine.Type             81812 non-null  object \n",
      " 19  FAR.Description         32023 non-null  object \n",
      " 20  Schedule                12582 non-null  object \n",
      " 21  Purpose.of.flight       82697 non-null  object \n",
      " 22  Air.carrier             16648 non-null  object \n",
      " 23  Total.Fatal.Injuries    77488 non-null  float64\n",
      " 24  Total.Serious.Injuries  76379 non-null  float64\n",
      " 25  Total.Minor.Injuries    76956 non-null  float64\n",
      " 26  Total.Uninjured         82977 non-null  float64\n",
      " 27  Weather.Condition       84397 non-null  object \n",
      " 28  Broad.phase.of.flight   61724 non-null  object \n",
      " 29  Report.Status           82508 non-null  object \n",
      " 30  Publication.Date        75118 non-null  object \n",
      "dtypes: float64(5), object(26)\n",
      "memory usage: 21.0+ MB\n"
     ]
    }
   ],
   "source": [
    "ad.info()"
   ]
  },
  {
   "cell_type": "code",
   "execution_count": 4,
   "id": "86c703e2-8b29-4882-a3c1-5190b7a58d48",
   "metadata": {},
   "outputs": [
    {
     "data": {
      "text/html": [
       "<div>\n",
       "<style scoped>\n",
       "    .dataframe tbody tr th:only-of-type {\n",
       "        vertical-align: middle;\n",
       "    }\n",
       "\n",
       "    .dataframe tbody tr th {\n",
       "        vertical-align: top;\n",
       "    }\n",
       "\n",
       "    .dataframe thead th {\n",
       "        text-align: right;\n",
       "    }\n",
       "</style>\n",
       "<table border=\"1\" class=\"dataframe\">\n",
       "  <thead>\n",
       "    <tr style=\"text-align: right;\">\n",
       "      <th></th>\n",
       "      <th>Number.of.Engines</th>\n",
       "      <th>Total.Fatal.Injuries</th>\n",
       "      <th>Total.Serious.Injuries</th>\n",
       "      <th>Total.Minor.Injuries</th>\n",
       "      <th>Total.Uninjured</th>\n",
       "    </tr>\n",
       "  </thead>\n",
       "  <tbody>\n",
       "    <tr>\n",
       "      <th>count</th>\n",
       "      <td>82805.000000</td>\n",
       "      <td>77488.000000</td>\n",
       "      <td>76379.000000</td>\n",
       "      <td>76956.000000</td>\n",
       "      <td>82977.000000</td>\n",
       "    </tr>\n",
       "    <tr>\n",
       "      <th>mean</th>\n",
       "      <td>1.146585</td>\n",
       "      <td>0.647855</td>\n",
       "      <td>0.279881</td>\n",
       "      <td>0.357061</td>\n",
       "      <td>5.325440</td>\n",
       "    </tr>\n",
       "    <tr>\n",
       "      <th>std</th>\n",
       "      <td>0.446510</td>\n",
       "      <td>5.485960</td>\n",
       "      <td>1.544084</td>\n",
       "      <td>2.235625</td>\n",
       "      <td>27.913634</td>\n",
       "    </tr>\n",
       "    <tr>\n",
       "      <th>min</th>\n",
       "      <td>0.000000</td>\n",
       "      <td>0.000000</td>\n",
       "      <td>0.000000</td>\n",
       "      <td>0.000000</td>\n",
       "      <td>0.000000</td>\n",
       "    </tr>\n",
       "    <tr>\n",
       "      <th>25%</th>\n",
       "      <td>1.000000</td>\n",
       "      <td>0.000000</td>\n",
       "      <td>0.000000</td>\n",
       "      <td>0.000000</td>\n",
       "      <td>0.000000</td>\n",
       "    </tr>\n",
       "    <tr>\n",
       "      <th>50%</th>\n",
       "      <td>1.000000</td>\n",
       "      <td>0.000000</td>\n",
       "      <td>0.000000</td>\n",
       "      <td>0.000000</td>\n",
       "      <td>1.000000</td>\n",
       "    </tr>\n",
       "    <tr>\n",
       "      <th>75%</th>\n",
       "      <td>1.000000</td>\n",
       "      <td>0.000000</td>\n",
       "      <td>0.000000</td>\n",
       "      <td>0.000000</td>\n",
       "      <td>2.000000</td>\n",
       "    </tr>\n",
       "    <tr>\n",
       "      <th>max</th>\n",
       "      <td>8.000000</td>\n",
       "      <td>349.000000</td>\n",
       "      <td>161.000000</td>\n",
       "      <td>380.000000</td>\n",
       "      <td>699.000000</td>\n",
       "    </tr>\n",
       "  </tbody>\n",
       "</table>\n",
       "</div>"
      ],
      "text/plain": [
       "       Number.of.Engines  Total.Fatal.Injuries  Total.Serious.Injuries  \\\n",
       "count       82805.000000          77488.000000            76379.000000   \n",
       "mean            1.146585              0.647855                0.279881   \n",
       "std             0.446510              5.485960                1.544084   \n",
       "min             0.000000              0.000000                0.000000   \n",
       "25%             1.000000              0.000000                0.000000   \n",
       "50%             1.000000              0.000000                0.000000   \n",
       "75%             1.000000              0.000000                0.000000   \n",
       "max             8.000000            349.000000              161.000000   \n",
       "\n",
       "       Total.Minor.Injuries  Total.Uninjured  \n",
       "count          76956.000000     82977.000000  \n",
       "mean               0.357061         5.325440  \n",
       "std                2.235625        27.913634  \n",
       "min                0.000000         0.000000  \n",
       "25%                0.000000         0.000000  \n",
       "50%                0.000000         1.000000  \n",
       "75%                0.000000         2.000000  \n",
       "max              380.000000       699.000000  "
      ]
     },
     "execution_count": 4,
     "metadata": {},
     "output_type": "execute_result"
    }
   ],
   "source": [
    "ad.describe()"
   ]
  },
  {
   "cell_type": "markdown",
   "id": "371997c5-8d00-4c48-aa0f-a68e22034cd6",
   "metadata": {},
   "source": [
    "We will have to do some cleaning since there seems to be a good amount of missingness. There are date columns that might also need to be converted to a non-object type.\n",
    "\n",
    "**Additional observations:**\n",
    "- 88888 rows and 31 columns\n",
    "- 5 floats and 26 objects\n",
    "- Columns may will need capitalization adjusted\n",
    "- There are some outliers that may need to be addressed"
   ]
  },
  {
   "cell_type": "markdown",
   "id": "de22c016-73ea-4667-bf99-dcd5d37abbdd",
   "metadata": {},
   "source": [
    "## 2. Data Exploration & Preparation \n",
    "\n",
    "The following process reflects preliminary data cleaning to adjust the dataframe to a working condition for the subsequent statistical analysis and visualization exploration.\n",
    "\n",
    "Handling the missingness will be a large part of data cleaning for this dataset."
   ]
  },
  {
   "cell_type": "code",
   "execution_count": 5,
   "id": "1e08243b-ab26-42e5-9d2a-95b8a941d54a",
   "metadata": {},
   "outputs": [
    {
     "data": {
      "text/plain": [
       "Event.Id                      0\n",
       "Investigation.Type            0\n",
       "Accident.Number               0\n",
       "Event.Date                    0\n",
       "Location                     52\n",
       "Country                     226\n",
       "Latitude                  54507\n",
       "Longitude                 54516\n",
       "Airport.Code              38640\n",
       "Airport.Name              36099\n",
       "Injury.Severity            1000\n",
       "Aircraft.damage            3194\n",
       "Aircraft.Category         56602\n",
       "Registration.Number        1317\n",
       "Make                         63\n",
       "Model                        92\n",
       "Amateur.Built               102\n",
       "Number.of.Engines          6084\n",
       "Engine.Type                7077\n",
       "FAR.Description           56866\n",
       "Schedule                  76307\n",
       "Purpose.of.flight          6192\n",
       "Air.carrier               72241\n",
       "Total.Fatal.Injuries      11401\n",
       "Total.Serious.Injuries    12510\n",
       "Total.Minor.Injuries      11933\n",
       "Total.Uninjured            5912\n",
       "Weather.Condition          4492\n",
       "Broad.phase.of.flight     27165\n",
       "Report.Status              6381\n",
       "Publication.Date          13771\n",
       "dtype: int64"
      ]
     },
     "execution_count": 5,
     "metadata": {},
     "output_type": "execute_result"
    }
   ],
   "source": [
    "# Assess the missingness\n",
    "\n",
    "ad.isna().sum()"
   ]
  },
  {
   "cell_type": "code",
   "execution_count": 6,
   "id": "067e8f53-dd98-472b-831e-0183ca526ac1",
   "metadata": {},
   "outputs": [
    {
     "data": {
      "text/plain": [
       "Event.Id                   0.000000\n",
       "Investigation.Type         0.000000\n",
       "Accident.Number            0.000000\n",
       "Event.Date                 0.000000\n",
       "Location                   0.058500\n",
       "Country                    0.254250\n",
       "Latitude                  61.320298\n",
       "Longitude                 61.330423\n",
       "Airport.Code              43.469946\n",
       "Airport.Name              40.611324\n",
       "Injury.Severity            1.124999\n",
       "Aircraft.damage            3.593246\n",
       "Aircraft.Category         63.677170\n",
       "Registration.Number        1.481623\n",
       "Make                       0.070875\n",
       "Model                      0.103500\n",
       "Amateur.Built              0.114750\n",
       "Number.of.Engines          6.844491\n",
       "Engine.Type                7.961615\n",
       "FAR.Description           63.974170\n",
       "Schedule                  85.845268\n",
       "Purpose.of.flight          6.965991\n",
       "Air.carrier               81.271023\n",
       "Total.Fatal.Injuries      12.826109\n",
       "Total.Serious.Injuries    14.073732\n",
       "Total.Minor.Injuries      13.424608\n",
       "Total.Uninjured            6.650992\n",
       "Weather.Condition          5.053494\n",
       "Broad.phase.of.flight     30.560587\n",
       "Report.Status              7.178616\n",
       "Publication.Date          15.492356\n",
       "dtype: float64"
      ]
     },
     "execution_count": 6,
     "metadata": {},
     "output_type": "execute_result"
    }
   ],
   "source": [
    "# Assess missingness by percentage\n",
    "\n",
    "ad.isna().sum()/len(ad)*100"
   ]
  },
  {
   "cell_type": "markdown",
   "id": "54454e84-c064-41b4-ad3a-d5cb4a3ceeb6",
   "metadata": {},
   "source": [
    "#### Exploration of Column Values\n",
    "\n",
    "To understand how to handle the missingness as well as understand which imputations may be necessary for analysis, we must explore relevant column.\n",
    "\n",
    "Some columns will be dropped and must be noted as such."
   ]
  },
  {
   "cell_type": "markdown",
   "id": "3f976a1f-c029-4db4-b515-529cbbac225c",
   "metadata": {},
   "source": [
    "**Accident.Number:** Unable to identify whether repeated indices are intentional or not because in the data, the records differ slightly. This is a data limitation."
   ]
  },
  {
   "cell_type": "code",
   "execution_count": 7,
   "id": "9a04de97-2a65-490b-8c46-fe2200fd91a7",
   "metadata": {},
   "outputs": [
    {
     "data": {
      "text/plain": [
       "CEN22LA149    2\n",
       "WPR23LA041    2\n",
       "WPR23LA045    2\n",
       "DCA22WA214    2\n",
       "DCA22WA089    2\n",
       "             ..\n",
       "LAX92FA065    1\n",
       "ANC92T#A12    1\n",
       "MIA92LA049    1\n",
       "NYC92LA048    1\n",
       "ERA23LA097    1\n",
       "Name: Accident.Number, Length: 88863, dtype: int64"
      ]
     },
     "execution_count": 7,
     "metadata": {},
     "output_type": "execute_result"
    }
   ],
   "source": [
    "ad['Accident.Number'].value_counts()"
   ]
  },
  {
   "cell_type": "markdown",
   "id": "2947aeab-7ff5-4e25-84ba-ec7f07c7dde1",
   "metadata": {},
   "source": [
    "<br>**Injury Severity:** Adjust capitalization and combine all fatal cases into one."
   ]
  },
  {
   "cell_type": "code",
   "execution_count": 8,
   "id": "722df163-5323-4d7d-bdc6-1c60167857e0",
   "metadata": {},
   "outputs": [
    {
     "data": {
      "text/plain": [
       "Non-Fatal     67357\n",
       "Fatal(1)       6167\n",
       "Fatal          5262\n",
       "Fatal(2)       3711\n",
       "Incident       2219\n",
       "              ...  \n",
       "Fatal(270)        1\n",
       "Fatal(60)         1\n",
       "Fatal(43)         1\n",
       "Fatal(143)        1\n",
       "Fatal(230)        1\n",
       "Name: Injury.Severity, Length: 109, dtype: int64"
      ]
     },
     "execution_count": 8,
     "metadata": {},
     "output_type": "execute_result"
    }
   ],
   "source": [
    "ad['Injury.Severity'].value_counts()"
   ]
  },
  {
   "cell_type": "markdown",
   "id": "7bc8f5fa-9b10-4634-9b5a-7a0150f4dcc8",
   "metadata": {},
   "source": [
    "<br>**Aircraft Damage:** Can adjust capitalization, imputate NA to 'unknown', then redistribute unknowns based on probability."
   ]
  },
  {
   "cell_type": "code",
   "execution_count": 9,
   "id": "5cc902f4-50a9-4931-876d-4d8e0196a4e3",
   "metadata": {},
   "outputs": [
    {
     "data": {
      "text/plain": [
       "Substantial    64148\n",
       "Destroyed      18623\n",
       "Minor           2805\n",
       "Unknown          119\n",
       "Name: Aircraft.damage, dtype: int64"
      ]
     },
     "execution_count": 9,
     "metadata": {},
     "output_type": "execute_result"
    }
   ],
   "source": [
    "ad['Aircraft.damage'].value_counts()"
   ]
  },
  {
   "cell_type": "markdown",
   "id": "8f4a6e42-0a82-422e-9fa1-b3d5f03cc868",
   "metadata": {},
   "source": [
    "<br>**Make:** Lowercase all letters."
   ]
  },
  {
   "cell_type": "code",
   "execution_count": 10,
   "id": "5bf809ce-a467-4a3b-8e16-28659167f379",
   "metadata": {},
   "outputs": [
    {
     "data": {
      "text/plain": [
       "Cessna             22227\n",
       "Piper              12029\n",
       "CESSNA              4922\n",
       "Beech               4330\n",
       "PIPER               2841\n",
       "                   ...  \n",
       "Leonard Walters        1\n",
       "Maule Air Inc.         1\n",
       "Motley Vans            1\n",
       "Perlick                1\n",
       "ROYSE RALPH L          1\n",
       "Name: Make, Length: 8237, dtype: int64"
      ]
     },
     "execution_count": 10,
     "metadata": {},
     "output_type": "execute_result"
    }
   ],
   "source": [
    "ad['Make'].value_counts()"
   ]
  },
  {
   "cell_type": "markdown",
   "id": "6430bde8-550c-4845-bfbb-faa6d8c861f2",
   "metadata": {},
   "source": [
    "<br>**Number of Engines:** Missing ~7% of data based on .info(). Distribute na values based on probability distribution of existing values."
   ]
  },
  {
   "cell_type": "code",
   "execution_count": 11,
   "id": "d47c7147-78b6-41e1-a0b1-5022db8e6c9d",
   "metadata": {},
   "outputs": [
    {
     "data": {
      "text/plain": [
       "1.0    0.840312\n",
       "2.0    0.133796\n",
       "0.0    0.014806\n",
       "3.0    0.005833\n",
       "4.0    0.005205\n",
       "8.0    0.000036\n",
       "6.0    0.000012\n",
       "Name: Number.of.Engines, dtype: float64"
      ]
     },
     "execution_count": 11,
     "metadata": {},
     "output_type": "execute_result"
    }
   ],
   "source": [
    "ad['Number.of.Engines'].value_counts(normalize=True)"
   ]
  },
  {
   "cell_type": "markdown",
   "id": "5f9fba55-637e-444f-9f1d-ce261473dc27",
   "metadata": {},
   "source": [
    "<br> **Engine Type:** Adjust capitalization. Missing ~8% of data based on .info(); we can combine unknown & UNK and then redistribute missing values based on probability."
   ]
  },
  {
   "cell_type": "code",
   "execution_count": 12,
   "id": "78458915-c5b2-4105-a5f9-e00b8eae5b7e",
   "metadata": {},
   "outputs": [
    {
     "data": {
      "text/plain": [
       "Reciprocating      0.849875\n",
       "Turbo Shaft        0.044113\n",
       "Turbo Prop         0.041449\n",
       "Turbo Fan          0.030326\n",
       "Unknown            0.025070\n",
       "Turbo Jet          0.008593\n",
       "None               0.000232\n",
       "Geared Turbofan    0.000147\n",
       "Electric           0.000122\n",
       "LR                 0.000024\n",
       "NONE               0.000024\n",
       "Hybrid Rocket      0.000012\n",
       "UNK                0.000012\n",
       "Name: Engine.Type, dtype: float64"
      ]
     },
     "execution_count": 12,
     "metadata": {},
     "output_type": "execute_result"
    }
   ],
   "source": [
    "ad['Engine.Type'].value_counts(normalize=True)"
   ]
  },
  {
   "cell_type": "markdown",
   "id": "351cbceb-6f65-44b3-8ce2-5abc7e1a4535",
   "metadata": {},
   "source": [
    "<br> **Purpose of Flight:** Can imputate and na to 'Unknown' & adjust capitalization."
   ]
  },
  {
   "cell_type": "code",
   "execution_count": 13,
   "id": "d8db25c1-01f3-4e4b-978a-73d4326e2fde",
   "metadata": {},
   "outputs": [
    {
     "data": {
      "text/plain": [
       "<bound method IndexOpsMixin.value_counts of 0        Personal\n",
       "1        Personal\n",
       "2        Personal\n",
       "3        Personal\n",
       "4        Personal\n",
       "           ...   \n",
       "88884    Personal\n",
       "88885         NaN\n",
       "88886    Personal\n",
       "88887    Personal\n",
       "88888    Personal\n",
       "Name: Purpose.of.flight, Length: 88889, dtype: object>"
      ]
     },
     "execution_count": 13,
     "metadata": {},
     "output_type": "execute_result"
    }
   ],
   "source": [
    "ad['Purpose.of.flight'].value_counts"
   ]
  },
  {
   "cell_type": "markdown",
   "id": "f499f7f5-4472-48a1-b0d9-16c667735110",
   "metadata": {},
   "source": [
    "<br> **Total Uninjured:** Drop na, may help understand which aircraft is safest"
   ]
  },
  {
   "cell_type": "code",
   "execution_count": 14,
   "id": "60f60ad4-4912-4edc-ba06-a60cd7ddeb3e",
   "metadata": {},
   "outputs": [
    {
     "data": {
      "text/plain": [
       "0.0      29879\n",
       "1.0      25101\n",
       "2.0      15988\n",
       "3.0       4313\n",
       "4.0       2662\n",
       "         ...  \n",
       "558.0        1\n",
       "412.0        1\n",
       "338.0        1\n",
       "401.0        1\n",
       "455.0        1\n",
       "Name: Total.Uninjured, Length: 379, dtype: int64"
      ]
     },
     "execution_count": 14,
     "metadata": {},
     "output_type": "execute_result"
    }
   ],
   "source": [
    "ad['Total.Uninjured'].value_counts()"
   ]
  },
  {
   "cell_type": "markdown",
   "id": "e0bb2da1-c09d-4fd2-9dfa-dbb19bf85b4d",
   "metadata": {},
   "source": [
    "<br> **Weather Condition:** Adjust capitalization and combine; unk & unknown"
   ]
  },
  {
   "cell_type": "code",
   "execution_count": 15,
   "id": "3f1df1d9-b2b2-442c-80ed-9d8169472299",
   "metadata": {},
   "outputs": [
    {
     "data": {
      "text/plain": [
       "VMC    77303\n",
       "IMC     5976\n",
       "UNK      856\n",
       "Unk      262\n",
       "Name: Weather.Condition, dtype: int64"
      ]
     },
     "execution_count": 15,
     "metadata": {},
     "output_type": "execute_result"
    }
   ],
   "source": [
    "ad['Weather.Condition'].value_counts()"
   ]
  },
  {
   "cell_type": "markdown",
   "id": "09add17f-5959-4824-b275-7bd47c54278a",
   "metadata": {},
   "source": [
    "<br> **Broad Phase of Flight:** Combine 'unknown' & 'other'."
   ]
  },
  {
   "cell_type": "code",
   "execution_count": 16,
   "id": "9d15c927-935f-4df7-9fed-625ba008d211",
   "metadata": {},
   "outputs": [
    {
     "data": {
      "text/plain": [
       "Landing        0.249951\n",
       "Takeoff        0.202401\n",
       "Cruise         0.166370\n",
       "Maneuvering    0.131942\n",
       "Approach       0.106053\n",
       "Climb          0.032953\n",
       "Taxi           0.031722\n",
       "Descent        0.030572\n",
       "Go-around      0.021920\n",
       "Standing       0.015310\n",
       "Unknown        0.008878\n",
       "Other          0.001928\n",
       "Name: Broad.phase.of.flight, dtype: float64"
      ]
     },
     "execution_count": 16,
     "metadata": {},
     "output_type": "execute_result"
    }
   ],
   "source": [
    "ad['Broad.phase.of.flight'].value_counts(normalize=True)"
   ]
  },
  {
   "cell_type": "markdown",
   "id": "5879e1d5-7f9e-41b9-830b-c39ab1dc6476",
   "metadata": {},
   "source": [
    "### Basic Data Cleaning\n",
    "\n",
    "The next step in cleaning is dropping or accounting missingness where appropriate, adjusting data types, capitalization, and other minor adjustments to the database."
   ]
  },
  {
   "cell_type": "markdown",
   "id": "a265457b-856e-495a-a41a-49b2a7cfd9c4",
   "metadata": {},
   "source": [
    "#### Create `Event.Year` Column"
   ]
  },
  {
   "cell_type": "code",
   "execution_count": 17,
   "id": "afe0eadb-9215-47e1-b361-840a55638a61",
   "metadata": {},
   "outputs": [
    {
     "data": {
      "text/plain": [
       "'1948'"
      ]
     },
     "execution_count": 17,
     "metadata": {},
     "output_type": "execute_result"
    }
   ],
   "source": [
    "# Create event year column\n",
    "\n",
    "ad['Event.Year'] = ad['Event.Date'].str[:4]\n",
    "ad['Event.Year'].min()"
   ]
  },
  {
   "cell_type": "markdown",
   "id": "ff1b5688-fe29-40c9-b1ac-62ebf4a5e2a7",
   "metadata": {},
   "source": [
    "#### Create `Total.Injuries` Column"
   ]
  },
  {
   "cell_type": "code",
   "execution_count": 18,
   "id": "7077f4d7-5ac4-4de9-b68c-30085140ec8a",
   "metadata": {},
   "outputs": [
    {
     "data": {
      "text/plain": [
       "0.0      40561\n",
       "1.0      17305\n",
       "2.0      10231\n",
       "3.0       2701\n",
       "4.0       1927\n",
       "         ...  \n",
       "101.0        1\n",
       "57.0         1\n",
       "119.0        1\n",
       "143.0        1\n",
       "99.0         1\n",
       "Name: Total.Injuries, Length: 116, dtype: int64"
      ]
     },
     "execution_count": 18,
     "metadata": {},
     "output_type": "execute_result"
    }
   ],
   "source": [
    "# Create injuries column\n",
    "\n",
    "ad['Total.Injuries'] = ad['Total.Fatal.Injuries']+ad['Total.Serious.Injuries']+ad['Total.Minor.Injuries']\n",
    "ad['Total.Injuries'].value_counts()"
   ]
  },
  {
   "cell_type": "markdown",
   "id": "874af7e6-5770-459d-a28b-ad48ca57e569",
   "metadata": {},
   "source": [
    "#### Drop missing values"
   ]
  },
  {
   "cell_type": "code",
   "execution_count": 19,
   "id": "ea54fab0-ff19-4684-84a6-5ff73fca52ed",
   "metadata": {},
   "outputs": [
    {
     "data": {
      "text/plain": [
       "Event.Id                      0\n",
       "Investigation.Type            0\n",
       "Accident.Number               0\n",
       "Event.Date                    0\n",
       "Location                      0\n",
       "Country                       0\n",
       "Latitude                  50673\n",
       "Longitude                 50672\n",
       "Airport.Code              31647\n",
       "Airport.Name              29364\n",
       "Injury.Severity               0\n",
       "Aircraft.damage            2142\n",
       "Aircraft.Category         45755\n",
       "Registration.Number         226\n",
       "Make                          0\n",
       "Model                         0\n",
       "Amateur.Built                 1\n",
       "Number.of.Engines          3957\n",
       "Engine.Type                4801\n",
       "FAR.Description           45964\n",
       "Schedule                  62811\n",
       "Purpose.of.flight          3604\n",
       "Air.carrier               57492\n",
       "Total.Fatal.Injuries          0\n",
       "Total.Serious.Injuries        0\n",
       "Total.Minor.Injuries          0\n",
       "Total.Uninjured               0\n",
       "Weather.Condition          3060\n",
       "Broad.phase.of.flight     24754\n",
       "Report.Status              5442\n",
       "Publication.Date          13104\n",
       "Event.Year                    0\n",
       "Total.Injuries                0\n",
       "dtype: int64"
      ]
     },
     "execution_count": 19,
     "metadata": {},
     "output_type": "execute_result"
    }
   ],
   "source": [
    "# Dropping rows of columns with few missing data\n",
    "# Will not impact overall analysis\n",
    "\n",
    "ad.dropna(inplace=True, \n",
    "          subset=['Location', 'Country', 'Make', 'Model',\n",
    "                  'Injury.Severity','Total.Uninjured','Total.Fatal.Injuries',\n",
    "                  'Total.Serious.Injuries','Total.Minor.Injuries','Total.Injuries'])\n",
    "ad.isna().sum()"
   ]
  },
  {
   "cell_type": "markdown",
   "id": "7b5f4000-7e05-4803-b856-f3be5dc97429",
   "metadata": {},
   "source": [
    "#### Adjust Data Types"
   ]
  },
  {
   "cell_type": "code",
   "execution_count": 20,
   "id": "2fa7476f-8f12-4afa-adc9-ef3077e9c150",
   "metadata": {},
   "outputs": [
    {
     "name": "stdout",
     "output_type": "stream",
     "text": [
      "<class 'pandas.core.frame.DataFrame'>\n",
      "Int64Index: 73048 entries, 0 to 88888\n",
      "Data columns (total 33 columns):\n",
      " #   Column                  Non-Null Count  Dtype  \n",
      "---  ------                  --------------  -----  \n",
      " 0   Event.Id                73048 non-null  object \n",
      " 1   Investigation.Type      73048 non-null  object \n",
      " 2   Accident.Number         73048 non-null  object \n",
      " 3   Event.Date              73048 non-null  object \n",
      " 4   Location                73048 non-null  object \n",
      " 5   Country                 73048 non-null  object \n",
      " 6   Latitude                22375 non-null  object \n",
      " 7   Longitude               22376 non-null  object \n",
      " 8   Airport.Code            41401 non-null  object \n",
      " 9   Airport.Name            43684 non-null  object \n",
      " 10  Injury.Severity         73048 non-null  object \n",
      " 11  Aircraft.damage         70906 non-null  object \n",
      " 12  Aircraft.Category       27293 non-null  object \n",
      " 13  Registration.Number     72822 non-null  object \n",
      " 14  Make                    73048 non-null  object \n",
      " 15  Model                   73048 non-null  object \n",
      " 16  Amateur.Built           73047 non-null  object \n",
      " 17  Number.of.Engines       69091 non-null  float64\n",
      " 18  Engine.Type             68247 non-null  object \n",
      " 19  FAR.Description         27084 non-null  object \n",
      " 20  Schedule                10237 non-null  object \n",
      " 21  Purpose.of.flight       69444 non-null  object \n",
      " 22  Air.carrier             15556 non-null  object \n",
      " 23  Total.Fatal.Injuries    73048 non-null  int64  \n",
      " 24  Total.Serious.Injuries  73048 non-null  int64  \n",
      " 25  Total.Minor.Injuries    73048 non-null  int64  \n",
      " 26  Total.Uninjured         73048 non-null  int64  \n",
      " 27  Weather.Condition       69988 non-null  object \n",
      " 28  Broad.phase.of.flight   48294 non-null  object \n",
      " 29  Report.Status           67606 non-null  object \n",
      " 30  Publication.Date        59944 non-null  object \n",
      " 31  Event.Year              73048 non-null  int64  \n",
      " 32  Total.Injuries          73048 non-null  float64\n",
      "dtypes: float64(2), int64(5), object(26)\n",
      "memory usage: 18.9+ MB\n"
     ]
    }
   ],
   "source": [
    "# Convert dtype columns to int\n",
    "\n",
    "ad['Event.Year']= ad['Event.Year'].astype(int)\n",
    "ad['Total.Fatal.Injuries']= ad['Total.Fatal.Injuries'].astype(int)\n",
    "ad['Total.Serious.Injuries']= ad['Total.Serious.Injuries'].astype(int)\n",
    "ad['Total.Minor.Injuries']= ad['Total.Minor.Injuries'].astype(int)\n",
    "ad['Total.Uninjured']= ad['Total.Uninjured'].astype(int)\n",
    "ad.info()"
   ]
  },
  {
   "cell_type": "markdown",
   "id": "20c3bb13-69fd-4f8d-bbf7-74d1cb598da4",
   "metadata": {},
   "source": [
    "#### Adjust Capitalization"
   ]
  },
  {
   "cell_type": "code",
   "execution_count": 21,
   "id": "e7441530-e59d-4f3b-95b1-99f30175c142",
   "metadata": {},
   "outputs": [
    {
     "data": {
      "text/plain": [
       "VMC    0.915971\n",
       "IMC    0.070612\n",
       "UNK    0.010030\n",
       "Unk    0.003386\n",
       "Name: Weather.Condition, dtype: float64"
      ]
     },
     "execution_count": 21,
     "metadata": {},
     "output_type": "execute_result"
    }
   ],
   "source": [
    "# Create function to lowercase selected columns\n",
    "\n",
    "def lowercase(df):\n",
    "    df = df.apply(lambda x: x.str.lower())\n",
    "    return df\n",
    "\n",
    "# Imutate on database to lowercase all relevant columns\n",
    "\n",
    "ad[['Purpose.of.flight','Make','Aircraft.Category','Engine.Type',\n",
    "    'Location','Injury.Severity','Aircraft.damage','Broad.phase.of.flight']] \\\n",
    "= lowercase(ad[['Purpose.of.flight','Make','Aircraft.Category','Engine.Type',\n",
    "                'Location','Injury.Severity','Aircraft.damage','Broad.phase.of.flight']])\n",
    "ad['Weather.Condition'].value_counts(normalize=True)"
   ]
  },
  {
   "cell_type": "code",
   "execution_count": 22,
   "id": "37d96386-dea3-441c-a343-ca50da542637",
   "metadata": {},
   "outputs": [
    {
     "data": {
      "text/plain": [
       "VMC    0.915971\n",
       "IMC    0.070612\n",
       "UNK    0.013417\n",
       "Name: Weather.Condition, dtype: float64"
      ]
     },
     "execution_count": 22,
     "metadata": {},
     "output_type": "execute_result"
    }
   ],
   "source": [
    "# Create function to uppercase selected columns\n",
    "\n",
    "def uppercase(df):\n",
    "    df = df.apply(lambda x: x.str.upper())\n",
    "    return df\n",
    "\n",
    "ad[['Weather.Condition']] = uppercase(ad[['Weather.Condition']])\n",
    "ad['Weather.Condition'].value_counts(normalize=True)"
   ]
  },
  {
   "cell_type": "markdown",
   "id": "b0d9acb0-c4f0-496d-86f6-02c330ae5ef4",
   "metadata": {},
   "source": [
    "#### Addressing Unknown Category"
   ]
  },
  {
   "cell_type": "code",
   "execution_count": 23,
   "id": "bb8bc8a7-83ad-479c-a0b6-af540b4f43bf",
   "metadata": {},
   "outputs": [
    {
     "name": "stdout",
     "output_type": "stream",
     "text": [
      "1.0    58468\n",
      "2.0     8925\n",
      "0.0      932\n",
      "3.0      417\n",
      "4.0      345\n",
      "8.0        3\n",
      "6.0        1\n",
      "Name: Number.of.Engines, dtype: int64\n",
      "VMC        64107\n",
      "IMC         4942\n",
      "unknown      939\n",
      "Name: Weather.Condition, dtype: int64\n",
      "landing        11719\n",
      "takeoff         9906\n",
      "cruise          8194\n",
      "maneuvering     6440\n",
      "approach        5135\n",
      "climb           1625\n",
      "taxi            1499\n",
      "descent         1482\n",
      "go-around       1060\n",
      "standing         679\n",
      "unknown          460\n",
      "other             95\n",
      "Name: Broad.phase.of.flight, dtype: int64\n"
     ]
    }
   ],
   "source": [
    "# Combine all versions of 'unknown' into one 'unknown'\n",
    "\n",
    "ad.loc[ad['Engine.Type'] == 'unk', ['Engine.Type']] = 'unknown'\n",
    "ad.loc[ad['Injury.Severity'] == 'unavailable', ['Injury.Severity']] = 'unknown'\n",
    "ad.loc[ad['Weather.Condition'] == 'UNK', ['Weather.Condition']] = 'unknown'\n",
    "ad.loc[ad['Weather.Condition'] == 'Unknown', ['Weather.Condition']] = 'unknown'\n",
    "ad.loc[ad['Broad.phase.of.flight'] == 'Other', ['Broad.phase.of.flight']] = 'unknown'\n",
    "print(ad['Number.of.Engines'].value_counts())\n",
    "print(ad['Weather.Condition'].value_counts())\n",
    "print(ad['Broad.phase.of.flight'].value_counts())"
   ]
  },
  {
   "cell_type": "code",
   "execution_count": 24,
   "id": "453b7455-444c-4c79-b316-6465d3572ad5",
   "metadata": {},
   "outputs": [
    {
     "name": "stdout",
     "output_type": "stream",
     "text": [
      "<class 'pandas.core.frame.DataFrame'>\n",
      "Int64Index: 73048 entries, 0 to 88888\n",
      "Data columns (total 33 columns):\n",
      " #   Column                  Non-Null Count  Dtype  \n",
      "---  ------                  --------------  -----  \n",
      " 0   Event.Id                73048 non-null  object \n",
      " 1   Investigation.Type      73048 non-null  object \n",
      " 2   Accident.Number         73048 non-null  object \n",
      " 3   Event.Date              73048 non-null  object \n",
      " 4   Location                73048 non-null  object \n",
      " 5   Country                 73048 non-null  object \n",
      " 6   Latitude                22375 non-null  object \n",
      " 7   Longitude               22376 non-null  object \n",
      " 8   Airport.Code            41401 non-null  object \n",
      " 9   Airport.Name            43684 non-null  object \n",
      " 10  Injury.Severity         73048 non-null  object \n",
      " 11  Aircraft.damage         70906 non-null  object \n",
      " 12  Aircraft.Category       27293 non-null  object \n",
      " 13  Registration.Number     72822 non-null  object \n",
      " 14  Make                    73048 non-null  object \n",
      " 15  Model                   73048 non-null  object \n",
      " 16  Amateur.Built           73047 non-null  object \n",
      " 17  Number.of.Engines       69091 non-null  float64\n",
      " 18  Engine.Type             68247 non-null  object \n",
      " 19  FAR.Description         27084 non-null  object \n",
      " 20  Schedule                10237 non-null  object \n",
      " 21  Purpose.of.flight       69444 non-null  object \n",
      " 22  Air.carrier             15556 non-null  object \n",
      " 23  Total.Fatal.Injuries    73048 non-null  int64  \n",
      " 24  Total.Serious.Injuries  73048 non-null  int64  \n",
      " 25  Total.Minor.Injuries    73048 non-null  int64  \n",
      " 26  Total.Uninjured         73048 non-null  int64  \n",
      " 27  Weather.Condition       69988 non-null  object \n",
      " 28  Broad.phase.of.flight   48294 non-null  object \n",
      " 29  Report.Status           67606 non-null  object \n",
      " 30  Publication.Date        59944 non-null  object \n",
      " 31  Event.Year              73048 non-null  int64  \n",
      " 32  Total.Injuries          73048 non-null  float64\n",
      "dtypes: float64(2), int64(5), object(26)\n",
      "memory usage: 18.9+ MB\n"
     ]
    }
   ],
   "source": [
    "ad.info()"
   ]
  },
  {
   "cell_type": "code",
   "execution_count": 25,
   "id": "0995bd79-8eaf-4865-9245-a7841f72297e",
   "metadata": {},
   "outputs": [
    {
     "name": "stdout",
     "output_type": "stream",
     "text": [
      "0\n",
      "0\n",
      "0\n",
      "0\n",
      "0\n",
      "0\n",
      "0\n"
     ]
    }
   ],
   "source": [
    "# Adjust na value to it's own category\n",
    "\n",
    "ad['Purpose.of.flight'].fillna('unknown', inplace=True)\n",
    "ad['Aircraft.damage'].fillna('unknown', inplace=True)\n",
    "ad['Aircraft.Category'].fillna('unknown', inplace=True)\n",
    "ad['Injury.Severity'].fillna('unknown', inplace=True)\n",
    "ad['Engine.Type'].fillna('unknown', inplace=True)\n",
    "ad['Weather.Condition'].fillna('unknown', inplace=True)\n",
    "ad['Broad.phase.of.flight'].fillna('unknown', inplace=True)\n",
    "\n",
    "print(ad['Purpose.of.flight'].isna().sum())\n",
    "print(ad['Aircraft.damage'].isna().sum())\n",
    "print(ad['Aircraft.Category'].isna().sum())\n",
    "print(ad['Injury.Severity'].isna().sum())\n",
    "print(ad['Engine.Type'].isna().sum())\n",
    "print(ad['Weather.Condition'].isna().sum())\n",
    "print(ad['Broad.phase.of.flight'].isna().sum())"
   ]
  },
  {
   "cell_type": "markdown",
   "id": "403150eb-6b98-4c3b-a995-0feaf2c26942",
   "metadata": {},
   "source": [
    "<br> It looks like `Aircraft.Category` has a lot of missing values and is not eligible to redistribute the unknowns. While it may be useful for analysis, we might not have enough data to get meaningful results.\n",
    "\n",
    "**note:** we may want to advise stakeholders to find complete data for phase 2 of the department expansion."
   ]
  },
  {
   "cell_type": "code",
   "execution_count": 26,
   "id": "944d442c-f3ce-4e28-ae5d-3165a13e9825",
   "metadata": {},
   "outputs": [
    {
     "data": {
      "text/plain": [
       "unknown              62.651955\n",
       "airplane             31.892728\n",
       "helicopter            4.011061\n",
       "glider                0.574964\n",
       "balloon               0.262841\n",
       "weight-shift          0.220403\n",
       "gyrocraft             0.209451\n",
       "powered parachute     0.124576\n",
       "ultralight            0.032855\n",
       "wsft                  0.012321\n",
       "powered-lift          0.002738\n",
       "rocket                0.001369\n",
       "blimp                 0.001369\n",
       "ultr                  0.001369\n",
       "Name: Aircraft.Category, dtype: float64"
      ]
     },
     "execution_count": 26,
     "metadata": {},
     "output_type": "execute_result"
    }
   ],
   "source": [
    "# Confirm new 'unknown' count\n",
    "\n",
    "ad['Aircraft.Category'].value_counts(normalize=True)*100"
   ]
  },
  {
   "cell_type": "markdown",
   "id": "92f040b0-33f6-4b96-bc42-e751a5d3a001",
   "metadata": {},
   "source": [
    "#### Combining Relevant Categories in `Make` and `Injury.Severity`"
   ]
  },
  {
   "cell_type": "code",
   "execution_count": 27,
   "id": "ff31e196-6f62-4882-be9e-4543c5481643",
   "metadata": {},
   "outputs": [
    {
     "data": {
      "text/plain": [
       "cessna                 0.313205\n",
       "piper                  0.172804\n",
       "beech                  0.061056\n",
       "bell                   0.029529\n",
       "boeing                 0.024614\n",
       "                         ...   \n",
       "pacheco                0.000014\n",
       "sirocco flying club    0.000014\n",
       "trickle                0.000014\n",
       "richardson             0.000014\n",
       "royse ralph l          0.000014\n",
       "Name: Make, Length: 6316, dtype: float64"
      ]
     },
     "execution_count": 27,
     "metadata": {},
     "output_type": "execute_result"
    }
   ],
   "source": [
    "# Combine all Boeing values into one\n",
    "\n",
    "for value in ad:\n",
    "    if ad['Make'].str.contains('boeing').any():\n",
    "        ad.loc[ad['Make'].str.contains('boeing'), 'Make'] = 'boeing'\n",
    "\n",
    "ad['Make'].value_counts(normalize=True)"
   ]
  },
  {
   "cell_type": "markdown",
   "id": "37d11019-175b-4fda-b9a8-0dddb4d4d37e",
   "metadata": {},
   "source": [
    "<br> We can now see there is an 'unavailable' and 'unknown' category in `Injury.Severity` into which we can add na values. We can then distribute the 'unknown' values based on proportional distribution of the other categories.\n"
   ]
  },
  {
   "cell_type": "code",
   "execution_count": 28,
   "id": "2ad663b6-39c5-4562-b43b-d76716a6db18",
   "metadata": {},
   "outputs": [
    {
     "data": {
      "text/plain": [
       "non-fatal    0.773327\n",
       "fatal        0.200019\n",
       "incident     0.021192\n",
       "minor        0.002984\n",
       "serious      0.002368\n",
       "unknown      0.000110\n",
       "Name: Injury.Severity, dtype: float64"
      ]
     },
     "execution_count": 28,
     "metadata": {},
     "output_type": "execute_result"
    }
   ],
   "source": [
    "# Combine all variations of 'fatal' values into one 'fatal' category, excluding 'non-fatal'\n",
    "def update_injury_severity(severity):\n",
    "    if pd.notna(severity) and 'fatal' in str(severity).lower() and 'non-fatal' not in str(severity).lower():\n",
    "        return 'fatal'\n",
    "    return severity\n",
    "\n",
    "# Apply the custom function to update 'Injury.Severity'\n",
    "ad['Injury.Severity'] = ad['Injury.Severity'].apply(update_injury_severity)\n",
    "\n",
    "ad['Injury.Severity'].value_counts(normalize=True)"
   ]
  },
  {
   "cell_type": "code",
   "execution_count": 29,
   "id": "cd760c2a-55fb-45db-b4a1-422795b6623b",
   "metadata": {},
   "outputs": [
    {
     "name": "stdout",
     "output_type": "stream",
     "text": [
      "<class 'pandas.core.frame.DataFrame'>\n",
      "Int64Index: 73048 entries, 0 to 88888\n",
      "Data columns (total 33 columns):\n",
      " #   Column                  Non-Null Count  Dtype  \n",
      "---  ------                  --------------  -----  \n",
      " 0   Event.Id                73048 non-null  object \n",
      " 1   Investigation.Type      73048 non-null  object \n",
      " 2   Accident.Number         73048 non-null  object \n",
      " 3   Event.Date              73048 non-null  object \n",
      " 4   Location                73048 non-null  object \n",
      " 5   Country                 73048 non-null  object \n",
      " 6   Latitude                22375 non-null  object \n",
      " 7   Longitude               22376 non-null  object \n",
      " 8   Airport.Code            41401 non-null  object \n",
      " 9   Airport.Name            43684 non-null  object \n",
      " 10  Injury.Severity         73048 non-null  object \n",
      " 11  Aircraft.damage         73048 non-null  object \n",
      " 12  Aircraft.Category       73048 non-null  object \n",
      " 13  Registration.Number     72822 non-null  object \n",
      " 14  Make                    73048 non-null  object \n",
      " 15  Model                   73048 non-null  object \n",
      " 16  Amateur.Built           73047 non-null  object \n",
      " 17  Number.of.Engines       69091 non-null  float64\n",
      " 18  Engine.Type             73048 non-null  object \n",
      " 19  FAR.Description         27084 non-null  object \n",
      " 20  Schedule                10237 non-null  object \n",
      " 21  Purpose.of.flight       73048 non-null  object \n",
      " 22  Air.carrier             15556 non-null  object \n",
      " 23  Total.Fatal.Injuries    73048 non-null  int64  \n",
      " 24  Total.Serious.Injuries  73048 non-null  int64  \n",
      " 25  Total.Minor.Injuries    73048 non-null  int64  \n",
      " 26  Total.Uninjured         73048 non-null  int64  \n",
      " 27  Weather.Condition       73048 non-null  object \n",
      " 28  Broad.phase.of.flight   73048 non-null  object \n",
      " 29  Report.Status           67606 non-null  object \n",
      " 30  Publication.Date        59944 non-null  object \n",
      " 31  Event.Year              73048 non-null  int64  \n",
      " 32  Total.Injuries          73048 non-null  float64\n",
      "dtypes: float64(2), int64(5), object(26)\n",
      "memory usage: 18.9+ MB\n"
     ]
    }
   ],
   "source": [
    "ad.info()"
   ]
  },
  {
   "cell_type": "markdown",
   "id": "5307c3d4-d598-4a3a-8f50-cefb5f84aeca",
   "metadata": {},
   "source": [
    "### Higher Level Imputation (drop cols, impute on na with stat functions)"
   ]
  },
  {
   "cell_type": "markdown",
   "id": "02222619-722e-4c2a-9752-67a5e9068e4e",
   "metadata": {},
   "source": [
    "Now it's time to make some greater adjustments to the dataset which may involve creating copies of the original dataset in order to be able to easily go back if any mistakes or adjustments need to be addressed."
   ]
  },
  {
   "cell_type": "code",
   "execution_count": 30,
   "id": "2225d743-f9c4-451f-9729-25055a1e132c",
   "metadata": {},
   "outputs": [
    {
     "data": {
      "text/plain": [
       "1992"
      ]
     },
     "execution_count": 30,
     "metadata": {},
     "output_type": "execute_result"
    }
   ],
   "source": [
    "# Create copy of original data for column dropping\n",
    "\n",
    "ad_1 = ad.copy()\n",
    "\n",
    "# Drop rows past 1992 in Event.Year\n",
    "\n",
    "mask_year = ad_1['Event.Year'] > 1991\n",
    "ad_1 = ad_1[mask_year]\n",
    "\n",
    "# Validate code worked \n",
    "\n",
    "ad_1['Event.Year'].min()"
   ]
  },
  {
   "cell_type": "markdown",
   "id": "ab1b1a9d-982b-448a-b3d3-12fc71321489",
   "metadata": {},
   "source": [
    "In 1982 and 1991, there were major changes in technological inovations and aviation regulations. So we want data starting 1992 and on for `Event.Year`.\n",
    "\n",
    "**Source:** <a href = \"https://www.faa.gov/about/history/brief_history\">Brief History of Aviation Regulations</a>"
   ]
  },
  {
   "cell_type": "markdown",
   "id": "05018dd5-8e75-4077-abb3-2fd8a10f037a",
   "metadata": {},
   "source": [
    "#### Drop Unneeded Columns\n",
    "\n",
    "Based on earlier analysis the following columns are either missing too much data to produce meaningful results or do not add any conceptual significance for analysis:\n",
    "- Latitude\n",
    "- Longitude\n",
    "- Airport.Code\n",
    "- Airport.Name\n",
    "- Schedule\n",
    "- FAR.Description\n",
    "- Registration.Number\n",
    "- Report.Status\n",
    "- Publication.Date\n",
    "- Amateur Built\n",
    "\n",
    "**Note:** Any columns missing too much data, but conceptually may be helpful can be included as recommendation of additional data retrieval for Phase 2 of department expansion."
   ]
  },
  {
   "cell_type": "code",
   "execution_count": 31,
   "id": "5384c6a6-5d7d-4961-afec-be7de81e2949",
   "metadata": {
    "jp-MarkdownHeadingCollapsed": true
   },
   "outputs": [],
   "source": [
    "# Drop unnecessary columns\n",
    "\n",
    "ad_1 = ad.drop(['Airport.Code', 'Airport.Name', \n",
    "                'Schedule','Registration.Number','Latitude','Longitude', \n",
    "                'FAR.Description','Air.carrier', \n",
    "                'Report.Status','Publication.Date','Amateur.Built'], axis=1)"
   ]
  },
  {
   "cell_type": "markdown",
   "id": "bea1708a-2fc4-4380-8ab5-ece5ee027794",
   "metadata": {},
   "source": [
    "#### Statistical Dispersion of NA or Unknown Values"
   ]
  },
  {
   "cell_type": "markdown",
   "id": "d90f1dee-d5ed-4acd-91a5-f143ca70999b",
   "metadata": {},
   "source": [
    "##### Missing ~5% of data from `Number.of.Engines`\n",
    "\n",
    "ad['Number.of.Engines'].value_counts(dropna=False,normalize=True)\n",
    "\n",
    "Original distribution:\n",
    "\n",
    "- 1.0 = 0.800416\n",
    "- 2.0 = 0.122182\n",
    "- NaN = 0.054157\n",
    "- 0.0 = 0.012759\n",
    "- 3.0 = 0.005709\n",
    "- 4.0 = 0.004723\n",
    "- 8.0 = 0.000041\n",
    "- 6.0 = 0.000014\n",
    "\n",
    "After distribution of na:\n",
    "- 1.0 = 0.845964\n",
    "- 2.0 = 0.129613\n",
    "- 0.0 = 0.013457\n",
    "- 3.0 = 0.005982\n",
    "- 4.0 = 0.004928\n",
    "- 8.0 = 0.000041\n",
    "- 6.0 = 0.000014\n",
    "\n",
    "We can see that the distribution remains fairly unchanged, confirming that it made sense to redistribute the NA values."
   ]
  },
  {
   "cell_type": "code",
   "execution_count": 32,
   "id": "0d20a7c3-003a-4075-93b8-9814e0523316",
   "metadata": {},
   "outputs": [
    {
     "name": "stdout",
     "output_type": "stream",
     "text": [
      "1.0    0.846567\n",
      "2.0    0.128833\n",
      "0.0    0.013443\n",
      "3.0    0.006092\n",
      "4.0    0.004997\n",
      "8.0    0.000055\n",
      "6.0    0.000014\n",
      "Name: Number.of.Engines, dtype: float64\n",
      "0\n"
     ]
    }
   ],
   "source": [
    "# Create copy of data base since this is a major imputation\n",
    "ad_2 = ad_1.copy()\n",
    "\n",
    "# relative probabilities (likelihood of 3 dif classes)\n",
    "rel_prob = [0.800416, 0.122182,  0.012759, 0.005709, 0.004723, 0.000041, 0.000014]\n",
    "\n",
    "# relative probabilities as if NA never existed\n",
    "prob = [i/sum(rel_prob) for i in rel_prob]\n",
    "\n",
    "# actual probability of each class (x/total)\n",
    "def impute_engine_num(value): \n",
    "    if pd.isna(value) == True:\n",
    "        return np.random.choice([1.0,2.0,0.0,3.0,4.0,8.0,6.0], p=prob)\n",
    "    else:\n",
    "        return value\n",
    "        \n",
    "ad_2['Number.of.Engines'] = ad_2['Number.of.Engines'].map(lambda x: impute_engine_num(x))\n",
    "print(ad_2['Number.of.Engines'].value_counts(normalize=True))\n",
    "print(ad_2['Number.of.Engines'].isna().sum())"
   ]
  },
  {
   "cell_type": "markdown",
   "id": "9e2f635a-b1e0-4eab-9321-a0e4006ee17a",
   "metadata": {},
   "source": [
    "##### Missing ~9% of data from `Injury.Severity`\n",
    "\n",
    "ad['Injury.Severity'].value_counts(normalize=True)\n",
    "\n",
    "Original distribution:\n",
    "\n",
    "- fatal = 0.970089\n",
    "- incident = 0.024512\n",
    "- minor = 0.002494\n",
    "- serious = 0.001979\n",
    "- unavailable = 0.000926\n",
    "\n",
    "After distribution of 'unknown':\n",
    "- fatal = 0.970970\n",
    "- incident = 0.024546\n",
    "- minor = 0.002494\n",
    "- serious = 0.001990\n",
    "\n",
    "We can see that the distribution remains fairly unchanged, confirming that it made sense to redistribute the unknown values."
   ]
  },
  {
   "cell_type": "code",
   "execution_count": 33,
   "id": "24fabc47-2c9e-45b8-a434-e535e19a4245",
   "metadata": {},
   "outputs": [
    {
     "data": {
      "text/plain": [
       "non-fatal    0.773327\n",
       "fatal        0.200129\n",
       "incident     0.021192\n",
       "minor        0.002984\n",
       "serious      0.002368\n",
       "Name: Injury.Severity, dtype: float64"
      ]
     },
     "execution_count": 33,
     "metadata": {},
     "output_type": "execute_result"
    }
   ],
   "source": [
    "# Create copy of data base since this is a major imputation\n",
    "ad_3= ad_2.copy()\n",
    "\n",
    "# relative probabilities (likelihood of dif classes)\n",
    "rel_prob = [0.970089, 0.024512, 0.002494, 0.001979]\n",
    "\n",
    "# relative probabilities\n",
    "prob = [i/sum(rel_prob) for i in rel_prob]\n",
    "\n",
    "# actual probability of each class (x/total)\n",
    "def impute_injury_severity(value): \n",
    "    if value == 'unknown':\n",
    "        return np.random.choice(['fatal','incident','minor','serious'], p=prob)\n",
    "    else:\n",
    "        return value\n",
    "        \n",
    "ad_3['Injury.Severity'] = ad_3['Injury.Severity'].map(lambda x: impute_injury_severity(x))\n",
    "ad_3['Injury.Severity'].value_counts(normalize=True)"
   ]
  },
  {
   "cell_type": "markdown",
   "id": "81468a6a-9e27-46ec-b429-8cb4894274c1",
   "metadata": {},
   "source": [
    "##### Missing ~3% of data from `Aircraft.damage`\n",
    "\n",
    "ad['Aircraft.damage'].value_counts(normalize=True)\n",
    "\n",
    "Original distribution:\n",
    "\n",
    "- substantial = 0.729328\n",
    "- destroyed = 0.210427\n",
    "- unknown = 0.031237\n",
    "- minor = 0.029007\n",
    "\n",
    "After distribution of 'unknown':\n",
    "\n",
    "- substantial = 0.753074\n",
    "- destroyed = 0.217027\n",
    "- minor = 0.029899\n",
    "\n",
    "We can see that the distribution remains fairly unchanged, confirming that it made sense to redistribute the unknown values."
   ]
  },
  {
   "cell_type": "code",
   "execution_count": 34,
   "id": "e781a6da-e7ca-4f1e-a133-4cc9121c52f0",
   "metadata": {},
   "outputs": [
    {
     "data": {
      "text/plain": [
       "substantial    0.750274\n",
       "destroyed      0.220376\n",
       "minor          0.029351\n",
       "Name: Aircraft.damage, dtype: float64"
      ]
     },
     "execution_count": 34,
     "metadata": {},
     "output_type": "execute_result"
    }
   ],
   "source": [
    "# Create copy of data base since this is a major imputation\n",
    "ad_4= ad_3.copy()\n",
    "\n",
    "# relative probabilities (likelihood of 3 dif classes)\n",
    "rel_prob = [0.729328, 0.210427, 0.029007]\n",
    "\n",
    "# relative probabilities (likelihood of 3 dif classes)\n",
    "prob = [i/sum(rel_prob) for i in rel_prob]\n",
    "\n",
    "# actual probability of each class (x/total)\n",
    "def impute_aircraft_damage(value): \n",
    "    if value == 'unknown':\n",
    "        return np.random.choice(['substantial','destroyed','minor'], p=prob)\n",
    "    else:\n",
    "        return value\n",
    "        \n",
    "ad_4['Aircraft.damage'] = ad_4['Aircraft.damage'].map(lambda x: impute_aircraft_damage(x))\n",
    "ad_4['Aircraft.damage'].value_counts(normalize=True)"
   ]
  },
  {
   "cell_type": "markdown",
   "id": "a59efa4c-b6c0-4abe-b490-da07871e4e3e",
   "metadata": {},
   "source": [
    "##### Missing ~1.3% of data from `Weather.Condition`\n",
    "\n",
    "ad['Weather.Condition'].value_counts(normalize=True)\n",
    "\n",
    "Original distribution:\n",
    "\n",
    "- VMC = 0.916614\n",
    "- IMC = 0.070747\n",
    "- UNKNOWN = 0.012639\n",
    "\n",
    "After distribution of 'UNKNOWN':\n",
    "\n",
    "- VMC = 0.928695\n",
    "- IMC = 0.071305\n",
    "\n",
    "We can see that the distribution remains fairly unchanged, confirming that it made sense to redistribute the unknown values."
   ]
  },
  {
   "cell_type": "code",
   "execution_count": 35,
   "id": "01e455d5-8f42-465e-920e-3888f3d8e5f8",
   "metadata": {},
   "outputs": [
    {
     "data": {
      "text/plain": [
       "VMC    0.927979\n",
       "IMC    0.072021\n",
       "Name: Weather.Condition, dtype: float64"
      ]
     },
     "execution_count": 35,
     "metadata": {},
     "output_type": "execute_result"
    }
   ],
   "source": [
    "# Create copy of data base since this is a major imputation\n",
    "ad_5= ad_4.copy()\n",
    "\n",
    "# relative probabilities\n",
    "rel_prob = [0.916614, 0.070747]\n",
    "\n",
    "# relative probabilities\n",
    "prob = [i/sum(rel_prob) for i in rel_prob]\n",
    "\n",
    "# actual probability of each class (x/total)\n",
    "def impute_weather(value): # impute = replace\n",
    "    if value == 'unknown':\n",
    "        return np.random.choice(['VMC','IMC'], p=prob)\n",
    "    else:\n",
    "        return value\n",
    "        \n",
    "ad_5['Weather.Condition'] = ad_5['Weather.Condition'].map(lambda x: impute_weather(x))\n",
    "ad_5['Weather.Condition'].value_counts(normalize=True)"
   ]
  },
  {
   "cell_type": "markdown",
   "id": "82c8d8d1-cdba-4b56-9208-32d3f38f44c7",
   "metadata": {},
   "source": [
    "##### Missing ~9% of data from `Engine.Type`\n",
    "\n",
    "ad['Engine.Type'].value_counts(normalize=True)\n",
    "\n",
    "Original distribution:\n",
    "\n",
    "- reciprocating = 0.801607\n",
    "- unknown = 0.090750\n",
    "- turbo shaft = 0.038496\n",
    "- turbo prop = 0.036237\n",
    "- turbo fan = 0.024929\n",
    "- turbo jet = 0.007529\n",
    "- none = 0.000287\n",
    "- electric = 0.000110\n",
    "- lr = 0.000027\n",
    "- hybrid rocket = 0.000014\n",
    "- geared turbofan = 0.000014\n",
    "\n",
    "After distribution of 'unknown':\n",
    "\n",
    "- reciprocating = 0.881734\n",
    "- turbo shaft = 0.042589\n",
    "- turbo prop = 0.039851\n",
    "- turbo fan = 0.027106\n",
    "- turbo jet = 0.008214\n",
    "- none = 0.000342\n",
    "- electric = 0.000110\n",
    "- lr = 0.000027\n",
    "- hybrid rocket = 0.000014\n",
    "- geared turbofan = 0.000014\n",
    "\n",
    "We can see that the distribution remains fairly unchanged, confirming that it made sense to redistribute the unknown values."
   ]
  },
  {
   "cell_type": "code",
   "execution_count": 36,
   "id": "362a3dbe-467c-483e-a125-543fbdb8cee3",
   "metadata": {},
   "outputs": [
    {
     "name": "stdout",
     "output_type": "stream",
     "text": [
      "reciprocating      0.881667\n",
      "turbo shaft        0.042684\n",
      "turbo prop         0.039659\n",
      "turbo fan          0.027229\n",
      "turbo jet          0.008282\n",
      "none               0.000287\n",
      "electric           0.000137\n",
      "lr                 0.000027\n",
      "hybrid rocket      0.000014\n",
      "geared turbofan    0.000014\n",
      "Name: Engine.Type, dtype: float64\n",
      "0\n"
     ]
    }
   ],
   "source": [
    "# Create copy of data base since this is a major imputation\n",
    "ad_6= ad_5.copy()\n",
    "\n",
    "# relative probabilities\n",
    "rel_prob = [0.801607, 0.038496, 0.036237, 0.024929, 0.007529, \n",
    "            0.000287, 0.000110, 0.000027, 0.000014, 0.000014]\n",
    "\n",
    "# relative probabilities\n",
    "prob = [i/sum(rel_prob) for i in rel_prob]\n",
    "\n",
    "# actual probability of each class (x/total)\n",
    "def impute_engine(value):\n",
    "    if value == 'unknown':\n",
    "        return np.random.choice(['reciprocating', 'turbo shaft', 'turbo prop', 'turbo fan',\n",
    "       'turbo jet', 'none', 'electric', 'lr', 'hybrid rocket', 'geared turbofan'], p=prob)\n",
    "    else:\n",
    "        return value\n",
    "        \n",
    "ad_6['Engine.Type'] = ad_5['Engine.Type'].map(lambda x: impute_engine(x))\n",
    "print(ad_6['Engine.Type'].value_counts(normalize=True))\n",
    "print(ad_6['Engine.Type'].isna().sum())"
   ]
  },
  {
   "cell_type": "code",
   "execution_count": 37,
   "id": "7722e4d5-6523-41c5-b981-a827dafc0d8c",
   "metadata": {},
   "outputs": [],
   "source": [
    "ad_6.to_csv('Data/AviationData_clean.csv',index=False)"
   ]
  },
  {
   "cell_type": "markdown",
   "id": "20b387bc-72bd-43f0-ab29-1f4f5e104f64",
   "metadata": {
    "collapsed": true,
    "jupyter": {
     "outputs_hidden": true
    }
   },
   "source": [
    "## 3. Statistical Exploration & Evaluation\n",
    "\n",
    "Finally it's time to visualize our cleaned data to see where we can find statistical significance in relation to risk aversion when looking to invest in aircrafts.\n",
    "\n",
    "Below, we see that if we want to find any significance in `Total.Uninjured` we need to get rid of the outliers."
   ]
  },
  {
   "cell_type": "code",
   "execution_count": 38,
   "id": "0db7c695-b936-4516-928b-6f532cbf3355",
   "metadata": {},
   "outputs": [
    {
     "data": {
      "text/html": [
       "<div>\n",
       "<style scoped>\n",
       "    .dataframe tbody tr th:only-of-type {\n",
       "        vertical-align: middle;\n",
       "    }\n",
       "\n",
       "    .dataframe tbody tr th {\n",
       "        vertical-align: top;\n",
       "    }\n",
       "\n",
       "    .dataframe thead th {\n",
       "        text-align: right;\n",
       "    }\n",
       "</style>\n",
       "<table border=\"1\" class=\"dataframe\">\n",
       "  <thead>\n",
       "    <tr style=\"text-align: right;\">\n",
       "      <th></th>\n",
       "      <th>Number.of.Engines</th>\n",
       "      <th>Total.Fatal.Injuries</th>\n",
       "      <th>Total.Serious.Injuries</th>\n",
       "      <th>Total.Minor.Injuries</th>\n",
       "      <th>Total.Uninjured</th>\n",
       "      <th>Event.Year</th>\n",
       "      <th>Total.Injuries</th>\n",
       "    </tr>\n",
       "  </thead>\n",
       "  <tbody>\n",
       "    <tr>\n",
       "      <th>count</th>\n",
       "      <td>73048.000000</td>\n",
       "      <td>73048.000000</td>\n",
       "      <td>73048.000000</td>\n",
       "      <td>73048.000000</td>\n",
       "      <td>73048.000000</td>\n",
       "      <td>73048.000000</td>\n",
       "      <td>73048.000000</td>\n",
       "    </tr>\n",
       "    <tr>\n",
       "      <th>mean</th>\n",
       "      <td>1.143016</td>\n",
       "      <td>0.510870</td>\n",
       "      <td>0.246441</td>\n",
       "      <td>0.303636</td>\n",
       "      <td>4.840584</td>\n",
       "      <td>1998.146931</td>\n",
       "      <td>1.060946</td>\n",
       "    </tr>\n",
       "    <tr>\n",
       "      <th>std</th>\n",
       "      <td>0.440669</td>\n",
       "      <td>4.235273</td>\n",
       "      <td>1.478220</td>\n",
       "      <td>1.549832</td>\n",
       "      <td>26.160187</td>\n",
       "      <td>12.661781</td>\n",
       "      <td>5.095537</td>\n",
       "    </tr>\n",
       "    <tr>\n",
       "      <th>min</th>\n",
       "      <td>0.000000</td>\n",
       "      <td>0.000000</td>\n",
       "      <td>0.000000</td>\n",
       "      <td>0.000000</td>\n",
       "      <td>0.000000</td>\n",
       "      <td>1948.000000</td>\n",
       "      <td>0.000000</td>\n",
       "    </tr>\n",
       "    <tr>\n",
       "      <th>25%</th>\n",
       "      <td>1.000000</td>\n",
       "      <td>0.000000</td>\n",
       "      <td>0.000000</td>\n",
       "      <td>0.000000</td>\n",
       "      <td>0.000000</td>\n",
       "      <td>1987.000000</td>\n",
       "      <td>0.000000</td>\n",
       "    </tr>\n",
       "    <tr>\n",
       "      <th>50%</th>\n",
       "      <td>1.000000</td>\n",
       "      <td>0.000000</td>\n",
       "      <td>0.000000</td>\n",
       "      <td>0.000000</td>\n",
       "      <td>1.000000</td>\n",
       "      <td>1995.000000</td>\n",
       "      <td>0.000000</td>\n",
       "    </tr>\n",
       "    <tr>\n",
       "      <th>75%</th>\n",
       "      <td>1.000000</td>\n",
       "      <td>0.000000</td>\n",
       "      <td>0.000000</td>\n",
       "      <td>0.000000</td>\n",
       "      <td>2.000000</td>\n",
       "      <td>2011.000000</td>\n",
       "      <td>1.000000</td>\n",
       "    </tr>\n",
       "    <tr>\n",
       "      <th>max</th>\n",
       "      <td>8.000000</td>\n",
       "      <td>295.000000</td>\n",
       "      <td>161.000000</td>\n",
       "      <td>171.000000</td>\n",
       "      <td>576.000000</td>\n",
       "      <td>2022.000000</td>\n",
       "      <td>295.000000</td>\n",
       "    </tr>\n",
       "  </tbody>\n",
       "</table>\n",
       "</div>"
      ],
      "text/plain": [
       "       Number.of.Engines  Total.Fatal.Injuries  Total.Serious.Injuries  \\\n",
       "count       73048.000000          73048.000000            73048.000000   \n",
       "mean            1.143016              0.510870                0.246441   \n",
       "std             0.440669              4.235273                1.478220   \n",
       "min             0.000000              0.000000                0.000000   \n",
       "25%             1.000000              0.000000                0.000000   \n",
       "50%             1.000000              0.000000                0.000000   \n",
       "75%             1.000000              0.000000                0.000000   \n",
       "max             8.000000            295.000000              161.000000   \n",
       "\n",
       "       Total.Minor.Injuries  Total.Uninjured    Event.Year  Total.Injuries  \n",
       "count          73048.000000     73048.000000  73048.000000    73048.000000  \n",
       "mean               0.303636         4.840584   1998.146931        1.060946  \n",
       "std                1.549832        26.160187     12.661781        5.095537  \n",
       "min                0.000000         0.000000   1948.000000        0.000000  \n",
       "25%                0.000000         0.000000   1987.000000        0.000000  \n",
       "50%                0.000000         1.000000   1995.000000        0.000000  \n",
       "75%                0.000000         2.000000   2011.000000        1.000000  \n",
       "max              171.000000       576.000000   2022.000000      295.000000  "
      ]
     },
     "execution_count": 38,
     "metadata": {},
     "output_type": "execute_result"
    }
   ],
   "source": [
    "ad_6.describe()"
   ]
  },
  {
   "cell_type": "markdown",
   "id": "bffb981d-d8cb-4db6-b647-4b4ed7fbd08d",
   "metadata": {},
   "source": [
    "#### Visualize Outliers in `Total.Uninjured`"
   ]
  },
  {
   "cell_type": "code",
   "execution_count": 39,
   "id": "2d1b9e24-204f-4806-83b8-6400a33c864b",
   "metadata": {},
   "outputs": [
    {
     "data": {
      "image/png": "[encoded data removed]",
      "text/plain": [
       "<Figure size 640x480 with 1 Axes>"
      ]
     },
     "metadata": {},
     "output_type": "display_data"
    }
   ],
   "source": [
    "# Identify all outliers of Total.Uninjured\n",
    "mask = ad_6['Total.Uninjured'].value_counts()\n",
    "\n",
    "# Assign x, y\n",
    "x = mask.index\n",
    "y = mask.values\n",
    "\n",
    "fig, ax = plt.subplots()\n",
    "\n",
    "ax.bar(x,y)\n",
    "plt.xlim(xmin=-1, xmax=10)\n",
    "ax.set_title('Total Uninjured Outlier Analysis')\n",
    "ax.set_xlabel('Outlier Count')\n",
    "ax.set_ylabel('Outlier');"
   ]
  },
  {
   "cell_type": "markdown",
   "id": "1f8b2a4e-72eb-4507-a52c-c02bd9869a07",
   "metadata": {},
   "source": [
    "Looks like it makes sense to get rid of outliers with values >7 in `Total.Uninjured`."
   ]
  },
  {
   "cell_type": "code",
   "execution_count": 40,
   "id": "d74baac9-276d-403b-bf32-1237c2c87258",
   "metadata": {},
   "outputs": [
    {
     "data": {
      "text/html": [
       "<div>\n",
       "<style scoped>\n",
       "    .dataframe tbody tr th:only-of-type {\n",
       "        vertical-align: middle;\n",
       "    }\n",
       "\n",
       "    .dataframe tbody tr th {\n",
       "        vertical-align: top;\n",
       "    }\n",
       "\n",
       "    .dataframe thead th {\n",
       "        text-align: right;\n",
       "    }\n",
       "</style>\n",
       "<table border=\"1\" class=\"dataframe\">\n",
       "  <thead>\n",
       "    <tr style=\"text-align: right;\">\n",
       "      <th></th>\n",
       "      <th>Number.of.Engines</th>\n",
       "      <th>Total.Fatal.Injuries</th>\n",
       "      <th>Total.Serious.Injuries</th>\n",
       "      <th>Total.Minor.Injuries</th>\n",
       "      <th>Total.Uninjured</th>\n",
       "      <th>Event.Year</th>\n",
       "      <th>Total.Injuries</th>\n",
       "    </tr>\n",
       "  </thead>\n",
       "  <tbody>\n",
       "    <tr>\n",
       "      <th>count</th>\n",
       "      <td>70374.000000</td>\n",
       "      <td>70374.000000</td>\n",
       "      <td>70374.000000</td>\n",
       "      <td>70374.000000</td>\n",
       "      <td>70374.000000</td>\n",
       "      <td>70374.000000</td>\n",
       "      <td>70374.000000</td>\n",
       "    </tr>\n",
       "    <tr>\n",
       "      <th>mean</th>\n",
       "      <td>1.108378</td>\n",
       "      <td>0.521315</td>\n",
       "      <td>0.227556</td>\n",
       "      <td>0.260323</td>\n",
       "      <td>1.071177</td>\n",
       "      <td>1998.055731</td>\n",
       "      <td>1.009194</td>\n",
       "    </tr>\n",
       "    <tr>\n",
       "      <th>std</th>\n",
       "      <td>0.382953</td>\n",
       "      <td>4.257762</td>\n",
       "      <td>1.176820</td>\n",
       "      <td>0.769859</td>\n",
       "      <td>1.232972</td>\n",
       "      <td>12.653554</td>\n",
       "      <td>4.615069</td>\n",
       "    </tr>\n",
       "    <tr>\n",
       "      <th>min</th>\n",
       "      <td>0.000000</td>\n",
       "      <td>0.000000</td>\n",
       "      <td>0.000000</td>\n",
       "      <td>0.000000</td>\n",
       "      <td>0.000000</td>\n",
       "      <td>1948.000000</td>\n",
       "      <td>0.000000</td>\n",
       "    </tr>\n",
       "    <tr>\n",
       "      <th>25%</th>\n",
       "      <td>1.000000</td>\n",
       "      <td>0.000000</td>\n",
       "      <td>0.000000</td>\n",
       "      <td>0.000000</td>\n",
       "      <td>0.000000</td>\n",
       "      <td>1987.000000</td>\n",
       "      <td>0.000000</td>\n",
       "    </tr>\n",
       "    <tr>\n",
       "      <th>50%</th>\n",
       "      <td>1.000000</td>\n",
       "      <td>0.000000</td>\n",
       "      <td>0.000000</td>\n",
       "      <td>0.000000</td>\n",
       "      <td>1.000000</td>\n",
       "      <td>1995.000000</td>\n",
       "      <td>0.000000</td>\n",
       "    </tr>\n",
       "    <tr>\n",
       "      <th>75%</th>\n",
       "      <td>1.000000</td>\n",
       "      <td>0.000000</td>\n",
       "      <td>0.000000</td>\n",
       "      <td>0.000000</td>\n",
       "      <td>2.000000</td>\n",
       "      <td>2011.000000</td>\n",
       "      <td>1.000000</td>\n",
       "    </tr>\n",
       "    <tr>\n",
       "      <th>max</th>\n",
       "      <td>8.000000</td>\n",
       "      <td>295.000000</td>\n",
       "      <td>161.000000</td>\n",
       "      <td>62.000000</td>\n",
       "      <td>7.000000</td>\n",
       "      <td>2022.000000</td>\n",
       "      <td>295.000000</td>\n",
       "    </tr>\n",
       "  </tbody>\n",
       "</table>\n",
       "</div>"
      ],
      "text/plain": [
       "       Number.of.Engines  Total.Fatal.Injuries  Total.Serious.Injuries  \\\n",
       "count       70374.000000          70374.000000            70374.000000   \n",
       "mean            1.108378              0.521315                0.227556   \n",
       "std             0.382953              4.257762                1.176820   \n",
       "min             0.000000              0.000000                0.000000   \n",
       "25%             1.000000              0.000000                0.000000   \n",
       "50%             1.000000              0.000000                0.000000   \n",
       "75%             1.000000              0.000000                0.000000   \n",
       "max             8.000000            295.000000              161.000000   \n",
       "\n",
       "       Total.Minor.Injuries  Total.Uninjured    Event.Year  Total.Injuries  \n",
       "count          70374.000000     70374.000000  70374.000000    70374.000000  \n",
       "mean               0.260323         1.071177   1998.055731        1.009194  \n",
       "std                0.769859         1.232972     12.653554        4.615069  \n",
       "min                0.000000         0.000000   1948.000000        0.000000  \n",
       "25%                0.000000         0.000000   1987.000000        0.000000  \n",
       "50%                0.000000         1.000000   1995.000000        0.000000  \n",
       "75%                0.000000         2.000000   2011.000000        1.000000  \n",
       "max               62.000000         7.000000   2022.000000      295.000000  "
      ]
     },
     "execution_count": 40,
     "metadata": {},
     "output_type": "execute_result"
    }
   ],
   "source": [
    "# Eliminate outliers (>7) in Total.Uninjured\n",
    "\n",
    "ad_7 = ad_6.copy()\n",
    "\n",
    "mask_outliers = ad_6['Total.Uninjured'] < 8\n",
    "ad_7 = ad_7[mask_outliers]\n",
    "\n",
    "# New describe check\n",
    "ad_7.describe()"
   ]
  },
  {
   "cell_type": "markdown",
   "id": "265aa621-4bad-43b7-8983-0ed681c95649",
   "metadata": {},
   "source": [
    "#### Get Top 25 Used `Make`\n",
    "\n",
    "To be able to analyze which `Make` makes sense to start with, we want to find the top 25 being used."
   ]
  },
  {
   "cell_type": "code",
   "execution_count": 41,
   "id": "6fee59c8-18d3-476e-8ad9-503a9040ce2e",
   "metadata": {},
   "outputs": [
    {
     "data": {
      "image/png": "[encoded data removed]",
      "text/plain": [
       "<Figure size 640x480 with 1 Axes>"
      ]
     },
     "metadata": {},
     "output_type": "display_data"
    }
   ],
   "source": [
    "# Get the top 25 'Make' and see which aircrafts are most popular\n",
    "top25_make_names = ad_7['Make'].value_counts().nlargest(25).index\n",
    "\n",
    "# Filter the DataFrame to include only the top 25 'Make' values\n",
    "top25_make_data = ad_7[ad_7['Make'].isin(top25_make_names)]\n",
    "\n",
    "# Count occurrences of each 'Make'\n",
    "make_counts = top25_make_data['Make'].value_counts()\n",
    "\n",
    "#Plot\n",
    "fig, ax = plt.subplots()\n",
    "\n",
    "plt.bar(make_counts.index, make_counts.values)\n",
    "\n",
    "plt.xlabel('Aircraft Make')\n",
    "plt.ylabel('Count of Make')\n",
    "plt.title('Most Used Aircraft Make')\n",
    "plt.xticks(rotation=90, ha='right')  # Rotate x-axis labels for better visibility\n",
    "plt.show()"
   ]
  },
  {
   "cell_type": "markdown",
   "id": "4ace80b5-239e-4f6d-8de6-8b86fc24cfc3",
   "metadata": {},
   "source": [
    "<br> If we view this data numerically, we can see that ~43% of aircrafts being used are of Cessna make. This aligns with the information provided by CNN about best selling airplanes.\n",
    "\n",
    "**Source:** <a href = \"https://www.cnn.com/travel/article/world-best-selling-airplanes/index.html\">Best Selling Airplain</a>"
   ]
  },
  {
   "cell_type": "code",
   "execution_count": 42,
   "id": "9e88b16e-d833-4b9f-829a-b3d7e816a962",
   "metadata": {},
   "outputs": [
    {
     "data": {
      "text/plain": [
       "cessna            42.970417\n",
       "piper             23.778059\n",
       "beech              8.233117\n",
       "bell               4.053314\n",
       "mooney             2.069135\n",
       "grumman            1.976628\n",
       "bellanca           1.699107\n",
       "robinson           1.587721\n",
       "hughes             1.434801\n",
       "boeing             1.264891\n",
       "schweizer          1.193151\n",
       "aeronca            1.040231\n",
       "air tractor        0.977930\n",
       "maule              0.900527\n",
       "champion           0.866545\n",
       "stinson            0.711737\n",
       "aero commander     0.672091\n",
       "luscombe           0.653212\n",
       "taylorcraft        0.613566\n",
       "hiller             0.611679\n",
       "rockwell           0.598463\n",
       "north american     0.589024\n",
       "aerospatiale       0.530499\n",
       "de havilland       0.500293\n",
       "enstrom            0.473862\n",
       "Name: Make, dtype: float64"
      ]
     },
     "execution_count": 42,
     "metadata": {},
     "output_type": "execute_result"
    }
   ],
   "source": [
    "top25_make_data['Make'].value_counts(normalize=True)*100"
   ]
  },
  {
   "cell_type": "markdown",
   "id": "56860e43-55df-4bcb-ac4e-8e81a213f80c",
   "metadata": {},
   "source": [
    "#### Top `Make` Compared with `Total.Uninjured` and `Aircraft.damage`"
   ]
  },
  {
   "cell_type": "markdown",
   "id": "e79cf48f-38a0-4442-91ad-655df8581701",
   "metadata": {},
   "source": [
    "We can tell that Cessna is the most widely used make by far. We would also want to know if it causes the least injuries and aircraft damage. \n",
    "\n",
    "In addition, we can see that our decision regarding make comes down to the top 4 since beyond that, the count is pretty evenly disperced among the rest of the make types.\n",
    "\n",
    "\n",
    "For `Total.Uninjured` vs `Make` analysis, <u>*it's hard to get any truly significant results*</u> since there are only max 7 uninjured passengers after removing outliers. Though, we can tell that Cessna has a leg up on the other top 4 makes. Regardless, we would want more data to confirm that make has the least risk associated with it."
   ]
  },
  {
   "cell_type": "code",
   "execution_count": 43,
   "id": "6d3a5fea-12bb-40ae-8a89-a6cbbafcc21d",
   "metadata": {},
   "outputs": [
    {
     "data": {
      "image/png": "[encoded data removed]",
      "text/plain": [
       "<Figure size 1200x800 with 1 Axes>"
      ]
     },
     "metadata": {},
     "output_type": "display_data"
    }
   ],
   "source": [
    "# Filter further to Top 4 Make - starting with established DataBase\n",
    "top25_make_data\n",
    "\n",
    "# Use previous top25_make_data created\n",
    "top4_make_names = top25_make_data['Make'].value_counts().nlargest(4).index\n",
    "\n",
    "# Filter the DataFrame to include only the top 10 'Make' values\n",
    "top4_make_data = top25_make_data[top25_make_data['Make'].isin(top4_make_names)]\n",
    "\n",
    "# Calculate percentage values for each category per 'Make'\n",
    "percentage_uninjured = top4_make_data.groupby(['Total.Uninjured', 'Make']).size().unstack().apply(lambda x: x / x.sum(), axis=1) * 100\n",
    "\n",
    "# Create a bar plot with percentage values\n",
    "plt.figure(figsize=(12, 8))\n",
    "\n",
    "# Use hue parameter to stack 'destroyed', 'substantial', 'minor' categories\n",
    "sns.barplot(x='Total.Uninjured', y='beech', data=percentage_uninjured.reset_index(), color='skyblue', label='beech')\n",
    "sns.barplot(x='Total.Uninjured', y='bell', data=percentage_uninjured.reset_index(), color='plum', label='bell', \n",
    "            bottom=percentage_uninjured['beech'])\n",
    "sns.barplot(x='Total.Uninjured', y='cessna', data=percentage_uninjured.reset_index(), color='mediumaquamarine', label='cessna', \n",
    "            bottom=percentage_uninjured['beech'] + percentage_uninjured['bell'])\n",
    "sns.barplot(x='Total.Uninjured', y='piper', data=percentage_uninjured.reset_index(), color='pink', label='piper', \n",
    "            bottom=percentage_uninjured['beech'] + percentage_uninjured['bell'] + percentage_uninjured['cessna'])\n",
    "\n",
    "# Add labels and title\n",
    "plt.xlabel('Uninjured Count')\n",
    "plt.ylabel('Percentage')\n",
    "plt.title('Percentage of Uninjured Count by Aircraft Make')\n",
    "plt.xticks(rotation=90)\n",
    "plt.legend(title='Aircraft Make',bbox_to_anchor=(1, 1))\n",
    "\n",
    "# Show the plot\n",
    "plt.show();"
   ]
  },
  {
   "cell_type": "markdown",
   "id": "799386dc-11da-48e8-b796-8f85b72ae4c0",
   "metadata": {},
   "source": [
    "#### `Make` vs `Aircraft.damage`"
   ]
  },
  {
   "cell_type": "markdown",
   "id": "5f2e75e8-9405-458c-b0b4-d63eda80c5cf",
   "metadata": {},
   "source": [
    "<br> When comparing `Make` with `Aircraft.damage` we can see that because Cessna is still by far the most popular, it also records the most substantial damage to the air craft. At first glance, it does not *seem* have significanly more cases of destroyed aircrafts than lesser used makes.\n",
    "\n",
    "Again, we see that beyond the top 4 makes, the analysis becomes insignificant."
   ]
  },
  {
   "cell_type": "code",
   "execution_count": 44,
   "id": "a6082f7b-d121-42ff-ae92-1fa83db7c521",
   "metadata": {},
   "outputs": [
    {
     "data": {
      "image/png": "[encoded data removed]",
      "text/plain": [
       "<Figure size 1200x800 with 1 Axes>"
      ]
     },
     "metadata": {},
     "output_type": "display_data"
    }
   ],
   "source": [
    "# Visualize top 25 'Make' with 'Aircraft.damage'\n",
    "\n",
    "# Use previously established DataFrame\n",
    "top25_make_data\n",
    "\n",
    "# Get the order of 'Make' based on count in descending order\n",
    "make_order = top25_make_data['Make'].value_counts().index\n",
    "\n",
    "# Create a grouped bar chart comparing 'Make' and 'Aircraft.damage'\n",
    "plt.figure(figsize=(12, 8))\n",
    "sns.countplot(x='Make', hue='Aircraft.damage', data=top25_make_data, palette='muted', order=make_order)\n",
    "\n",
    "# Add labels and title\n",
    "plt.xlabel('Aircraft Make')\n",
    "plt.ylabel('Count')\n",
    "plt.title('Top 25 Makes with Aircraft Damage Types')\n",
    "plt.xticks(rotation=90)\n",
    "\n",
    "# Show the plot\n",
    "plt.show()"
   ]
  },
  {
   "cell_type": "markdown",
   "id": "99c26c27-6d8e-48f3-839c-93c429ecf1e4",
   "metadata": {},
   "source": [
    "<br> Finally we want to compare `Make` and `Aircraft.damage` on a percentage scale to be certain which make poses least risk to the aircraft during an accident.\n",
    "\n",
    "We can see that though it looked like Piper might have a lesser percentage of destroyed aircrafts, in fact, it is Cessna that poses least risk as far as **destroyed** aircrafts during accident events."
   ]
  },
  {
   "cell_type": "code",
   "execution_count": 45,
   "id": "0ea84c26-367b-4a5b-a6ba-55620dcd5636",
   "metadata": {},
   "outputs": [
    {
     "data": {
      "image/png": "[encoded data removed]",
      "text/plain": [
       "<Figure size 1200x800 with 1 Axes>"
      ]
     },
     "metadata": {},
     "output_type": "display_data"
    }
   ],
   "source": [
    "# We can use previously established DataFrame\n",
    "top4_make_data\n",
    "\n",
    "# Calculate percentage values for each category per 'Make'\n",
    "percentage_damage = top4_make_data.groupby(['Make', 'Aircraft.damage']).size().unstack().apply(lambda x: x / x.sum(), axis=1) * 100\n",
    "\n",
    "# Create a bar plot with percentage values\n",
    "plt.figure(figsize=(12, 8))\n",
    "\n",
    "# Use hue parameter to stack 'destroyed', 'substantial', 'minor' categories\n",
    "sns.lineplot(x='Make', y='destroyed', data=percentage_damage.reset_index(), color='red', label='Destroyed')\n",
    "sns.lineplot(x='Make', y='substantial', data=percentage_damage.reset_index(), color='orange', label='Substantial')\n",
    "sns.lineplot(x='Make', y='minor', data=percentage_damage.reset_index(), color='green', label='Minor')\n",
    "\n",
    "# Add labels and title\n",
    "plt.xlabel('Aircraft Make')\n",
    "plt.ylabel('Percentage of Each Damage Type')\n",
    "plt.title('Percentage of Aircraft Damage Types per Aircraft Make')\n",
    "plt.xticks(rotation=90)\n",
    "plt.legend(title='Aircraft Damage', bbox_to_anchor=(1, 1))\n",
    "\n",
    "# Show the plot\n",
    "plt.show();"
   ]
  },
  {
   "cell_type": "markdown",
   "id": "26052ac8-911e-4fbc-981a-ecb12ce49b78",
   "metadata": {},
   "source": [
    "<br> If we look at the data numerically below, we can see that ~20% of Cessna accidents destroy the aircraft while Piper, the second most used make, has ~24% of accidents resulting in a *destroyed* aircraft."
   ]
  },
  {
   "cell_type": "code",
   "execution_count": 46,
   "id": "fe4137e6-e056-4839-9f4e-689179278fe3",
   "metadata": {},
   "outputs": [
    {
     "data": {
      "text/html": [
       "<div>\n",
       "<style scoped>\n",
       "    .dataframe tbody tr th:only-of-type {\n",
       "        vertical-align: middle;\n",
       "    }\n",
       "\n",
       "    .dataframe tbody tr th {\n",
       "        vertical-align: top;\n",
       "    }\n",
       "\n",
       "    .dataframe thead th {\n",
       "        text-align: right;\n",
       "    }\n",
       "</style>\n",
       "<table border=\"1\" class=\"dataframe\">\n",
       "  <thead>\n",
       "    <tr style=\"text-align: right;\">\n",
       "      <th>Aircraft.damage</th>\n",
       "      <th>destroyed</th>\n",
       "      <th>minor</th>\n",
       "      <th>substantial</th>\n",
       "    </tr>\n",
       "    <tr>\n",
       "      <th>Make</th>\n",
       "      <th></th>\n",
       "      <th></th>\n",
       "      <th></th>\n",
       "    </tr>\n",
       "  </thead>\n",
       "  <tbody>\n",
       "    <tr>\n",
       "      <th>beech</th>\n",
       "      <td>29.901399</td>\n",
       "      <td>2.522357</td>\n",
       "      <td>67.576244</td>\n",
       "    </tr>\n",
       "    <tr>\n",
       "      <th>bell</th>\n",
       "      <td>26.408943</td>\n",
       "      <td>1.397299</td>\n",
       "      <td>72.193759</td>\n",
       "    </tr>\n",
       "    <tr>\n",
       "      <th>cessna</th>\n",
       "      <td>19.722332</td>\n",
       "      <td>1.405914</td>\n",
       "      <td>78.871754</td>\n",
       "    </tr>\n",
       "    <tr>\n",
       "      <th>piper</th>\n",
       "      <td>23.747519</td>\n",
       "      <td>1.405320</td>\n",
       "      <td>74.847162</td>\n",
       "    </tr>\n",
       "  </tbody>\n",
       "</table>\n",
       "</div>"
      ],
      "text/plain": [
       "Aircraft.damage  destroyed     minor  substantial\n",
       "Make                                             \n",
       "beech            29.901399  2.522357    67.576244\n",
       "bell             26.408943  1.397299    72.193759\n",
       "cessna           19.722332  1.405914    78.871754\n",
       "piper            23.747519  1.405320    74.847162"
      ]
     },
     "execution_count": 46,
     "metadata": {},
     "output_type": "execute_result"
    }
   ],
   "source": [
    "# Table of percentages\n",
    "top4_make_data.groupby(['Make', 'Aircraft.damage']).size().unstack().apply(lambda x: x / x.sum(), axis=1) * 100"
   ]
  },
  {
   "cell_type": "markdown",
   "id": "33a7c2ed-f766-4e8b-a03e-98fecf360a7a",
   "metadata": {},
   "source": [
    "#### `Model` vs `Aircraft.damage`"
   ]
  },
  {
   "cell_type": "markdown",
   "id": "e8f4fb02-6054-4c47-8968-55f854651bcc",
   "metadata": {},
   "source": [
    "We can see that within the Cessna make, the 152 model used most often and that the difference between these models decreases after the top 4."
   ]
  },
  {
   "cell_type": "code",
   "execution_count": 59,
   "id": "63b32c9f-837e-44c5-8338-66b755e74bc0",
   "metadata": {},
   "outputs": [
    {
     "data": {
      "image/png": "[encoded data removed]",
      "text/plain": [
       "<Figure size 640x480 with 1 Axes>"
      ]
     },
     "metadata": {},
     "output_type": "display_data"
    }
   ],
   "source": [
    "# Isolate data with Cessna as the make\n",
    "cessna_mask = ad_7['Make'] == 'cessna'\n",
    "cessna_make_data = ad_7[cessna_mask]\n",
    "\n",
    "# Get the top 10 'Model' and see which Cessna models are most used\n",
    "top10_models = cessna_make_data['Model'].value_counts().nlargest(10).index\n",
    "\n",
    "# Filter the DataFrame to include only the top 10 models\n",
    "top10_model_data = cessna_make_data[cessna_make_data['Model'].isin(top10_models)]\n",
    "\n",
    "# Count occurrences of each 'Model'\n",
    "model_counts = top10_model_data['Model'].value_counts()\n",
    "\n",
    "#Plot\n",
    "fig, ax = plt.subplots()\n",
    "\n",
    "plt.plot(model_counts.index, model_counts, color='green', marker='o', linestyle='dashed')\n",
    "\n",
    "plt.xlabel('Cessna Models')\n",
    "plt.ylabel('Model Counts')\n",
    "plt.title('Most Used Cessna Models')\n",
    "plt.xticks(rotation=90, ha='right')  # Rotate x-axis labels for better visibility\n",
    "plt.show();"
   ]
  },
  {
   "cell_type": "markdown",
   "id": "7e69a406-d5e8-4ff8-bd4b-5bea57f61c8e",
   "metadata": {},
   "source": [
    "<br> Now we can compare the top 4 `Model` types with `Aircraft.damage`. Though slight, we can clearly see the Cessna 172 model recorded the least number of damaged airplanes."
   ]
  },
  {
   "cell_type": "code",
   "execution_count": 48,
   "id": "6db3a380-982f-444c-acca-0cb701345e95",
   "metadata": {},
   "outputs": [
    {
     "data": {
      "image/png": "[encoded data removed]",
      "text/plain": [
       "<Figure size 1200x800 with 1 Axes>"
      ]
     },
     "metadata": {},
     "output_type": "display_data"
    }
   ],
   "source": [
    "# Use established DataBase\n",
    "cessna_make_data\n",
    "\n",
    "# Get the top 4 'Make' and see which aircrafts are most popular\n",
    "top4_models = cessna_make_data['Model'].value_counts().nlargest(4).index\n",
    "\n",
    "# Filter the DataFrame to include only the top 25 'Make' values\n",
    "top4_model_data = cessna_make_data[cessna_make_data['Model'].isin(top4_models)]\n",
    "\n",
    "# Calculate percentage values for each category per 'Make'\n",
    "perc_model_damage = top4_model_data.groupby(['Model', 'Aircraft.damage']).size().unstack().apply(lambda x: x / x.sum(), axis=1) * 100\n",
    "\n",
    "# Create a bar plot with percentage values\n",
    "plt.figure(figsize=(12, 8))\n",
    "\n",
    "# Use hue parameter to stack 'destroyed', 'substantial', 'minor' categories\n",
    "sns.barplot(x='Model', y='destroyed', data=perc_model_damage.reset_index(), color='lightblue', label='Destroyed')\n",
    "sns.barplot(x='Model', y='substantial', data=perc_model_damage.reset_index(), color='darkseagreen', label='Substantial', \n",
    "            bottom=perc_model_damage['destroyed'])\n",
    "sns.barplot(x='Model', y='minor', data=perc_model_damage.reset_index(), color='palevioletred', label='Minor', \n",
    "            bottom=perc_model_damage['destroyed'] + perc_model_damage['substantial'])\n",
    "\n",
    "# Add labels and title\n",
    "plt.xlabel('Cessna Model')\n",
    "plt.ylabel('Percentage')\n",
    "plt.title('Percentage of Aircraft Damage Types per Cessna Model')\n",
    "plt.xticks(rotation=90)\n",
    "plt.legend(title='Aircraft Damage of Cessna Models', loc='upper right', bbox_to_anchor=(1.3, 1))\n",
    "\n",
    "# Show the plot\n",
    "plt.show();"
   ]
  },
  {
   "cell_type": "markdown",
   "id": "3ae3b00b-18b8-4ff9-8cb3-9354ae687ead",
   "metadata": {},
   "source": [
    "<br> If we look at the data numerically below, we can see that ~12% of the Cessna 172 model destroyed the aircraft, which is less than any of the top 4 Cessna models used."
   ]
  },
  {
   "cell_type": "code",
   "execution_count": 49,
   "id": "b04113c4-5d6d-4803-b750-5bc1530c83dc",
   "metadata": {},
   "outputs": [
    {
     "data": {
      "text/html": [
       "<div>\n",
       "<style scoped>\n",
       "    .dataframe tbody tr th:only-of-type {\n",
       "        vertical-align: middle;\n",
       "    }\n",
       "\n",
       "    .dataframe tbody tr th {\n",
       "        vertical-align: top;\n",
       "    }\n",
       "\n",
       "    .dataframe thead th {\n",
       "        text-align: right;\n",
       "    }\n",
       "</style>\n",
       "<table border=\"1\" class=\"dataframe\">\n",
       "  <thead>\n",
       "    <tr style=\"text-align: right;\">\n",
       "      <th>Aircraft.damage</th>\n",
       "      <th>destroyed</th>\n",
       "      <th>minor</th>\n",
       "      <th>substantial</th>\n",
       "    </tr>\n",
       "    <tr>\n",
       "      <th>Model</th>\n",
       "      <th></th>\n",
       "      <th></th>\n",
       "      <th></th>\n",
       "    </tr>\n",
       "  </thead>\n",
       "  <tbody>\n",
       "    <tr>\n",
       "      <th>150</th>\n",
       "      <td>16.078431</td>\n",
       "      <td>1.307190</td>\n",
       "      <td>82.614379</td>\n",
       "    </tr>\n",
       "    <tr>\n",
       "      <th>152</th>\n",
       "      <td>15.752129</td>\n",
       "      <td>1.277200</td>\n",
       "      <td>82.970672</td>\n",
       "    </tr>\n",
       "    <tr>\n",
       "      <th>172</th>\n",
       "      <td>11.705475</td>\n",
       "      <td>0.566394</td>\n",
       "      <td>87.728131</td>\n",
       "    </tr>\n",
       "    <tr>\n",
       "      <th>172N</th>\n",
       "      <td>21.858501</td>\n",
       "      <td>0.633580</td>\n",
       "      <td>77.507920</td>\n",
       "    </tr>\n",
       "  </tbody>\n",
       "</table>\n",
       "</div>"
      ],
      "text/plain": [
       "Aircraft.damage  destroyed     minor  substantial\n",
       "Model                                            \n",
       "150              16.078431  1.307190    82.614379\n",
       "152              15.752129  1.277200    82.970672\n",
       "172              11.705475  0.566394    87.728131\n",
       "172N             21.858501  0.633580    77.507920"
      ]
     },
     "execution_count": 49,
     "metadata": {},
     "output_type": "execute_result"
    }
   ],
   "source": [
    "top4_model_data.groupby(['Model', 'Aircraft.damage']).size().unstack().apply(lambda x: x / x.sum(), axis=1) * 100"
   ]
  },
  {
   "cell_type": "markdown",
   "id": "da5a61a6-08e8-4115-8e00-0f4516037618",
   "metadata": {},
   "source": [
    "#### `Engine.Type` to `Total.Injuries` for Cessna `Make`"
   ]
  },
  {
   "cell_type": "markdown",
   "id": "63c0daa9-e0ba-4985-a647-7c46cf964d28",
   "metadata": {},
   "source": [
    "As we can see, the Reciprocating engine yields the least injuries for Cessna planes."
   ]
  },
  {
   "cell_type": "code",
   "execution_count": 50,
   "id": "7819679c-46fc-44e2-9dbd-a139bac5f15b",
   "metadata": {},
   "outputs": [
    {
     "data": {
      "image/png": "[encoded data removed]",
      "text/plain": [
       "<Figure size 1200x800 with 1 Axes>"
      ]
     },
     "metadata": {},
     "output_type": "display_data"
    }
   ],
   "source": [
    "# Use previously established DataFrame\n",
    "cessna_make_data\n",
    "\n",
    "# Define total injury values and index\n",
    "injuries_values = cessna_make_data['Total.Injuries'].sort_values(ascending=False).values\n",
    "injuries_index = cessna_make_data['Total.Injuries'].sort_values(ascending=False).index\n",
    "\n",
    "# Filter for engine type\n",
    "engine_values = cessna_make_data.loc[injuries_index, 'Engine.Type'].values\n",
    "\n",
    "# Plot bar graph\n",
    "fig, ax = plt.subplots(figsize = (12,8))\n",
    "\n",
    "sns.barplot(x=engine_values, y=injuries_values, data = cessna_make_data)\n",
    "ax.set_xlabel(\"Engine Type\")\n",
    "ax.set_ylabel(\"Total Injuries\")\n",
    "ax.set_title(\"Engine Type vs Total Injuries for Cessna Planes\")\n",
    "plt.xticks(rotation=90)\n",
    "plt.show();"
   ]
  },
  {
   "cell_type": "markdown",
   "id": "a062062c-1c2a-412a-b058-a46c02f885cf",
   "metadata": {},
   "source": [
    "<br> We can see that numerically, the Reciprocating engine yields percentages in the 90's for lower total injury counts (0-6)."
   ]
  },
  {
   "cell_type": "code",
   "execution_count": 51,
   "id": "a52f3504-0ecb-4848-9f5d-8f23349c00a7",
   "metadata": {},
   "outputs": [
    {
     "data": {
      "text/html": [
       "<div>\n",
       "<style scoped>\n",
       "    .dataframe tbody tr th:only-of-type {\n",
       "        vertical-align: middle;\n",
       "    }\n",
       "\n",
       "    .dataframe tbody tr th {\n",
       "        vertical-align: top;\n",
       "    }\n",
       "\n",
       "    .dataframe thead th {\n",
       "        text-align: right;\n",
       "    }\n",
       "</style>\n",
       "<table border=\"1\" class=\"dataframe\">\n",
       "  <thead>\n",
       "    <tr style=\"text-align: right;\">\n",
       "      <th>Engine.Type</th>\n",
       "      <th>reciprocating</th>\n",
       "      <th>turbo fan</th>\n",
       "      <th>turbo jet</th>\n",
       "      <th>turbo prop</th>\n",
       "      <th>turbo shaft</th>\n",
       "    </tr>\n",
       "    <tr>\n",
       "      <th>Total.Injuries</th>\n",
       "      <th></th>\n",
       "      <th></th>\n",
       "      <th></th>\n",
       "      <th></th>\n",
       "      <th></th>\n",
       "    </tr>\n",
       "  </thead>\n",
       "  <tbody>\n",
       "    <tr>\n",
       "      <th>0.0</th>\n",
       "      <td>98.186074</td>\n",
       "      <td>0.767993</td>\n",
       "      <td>0.117028</td>\n",
       "      <td>0.789936</td>\n",
       "      <td>0.138970</td>\n",
       "    </tr>\n",
       "    <tr>\n",
       "      <th>1.0</th>\n",
       "      <td>97.605342</td>\n",
       "      <td>0.437486</td>\n",
       "      <td>0.161179</td>\n",
       "      <td>1.680866</td>\n",
       "      <td>0.115128</td>\n",
       "    </tr>\n",
       "    <tr>\n",
       "      <th>2.0</th>\n",
       "      <td>97.953521</td>\n",
       "      <td>0.624350</td>\n",
       "      <td>0.208117</td>\n",
       "      <td>0.901838</td>\n",
       "      <td>0.312175</td>\n",
       "    </tr>\n",
       "    <tr>\n",
       "      <th>3.0</th>\n",
       "      <td>97.705314</td>\n",
       "      <td>0.845411</td>\n",
       "      <td>0.120773</td>\n",
       "      <td>1.086957</td>\n",
       "      <td>0.241546</td>\n",
       "    </tr>\n",
       "    <tr>\n",
       "      <th>4.0</th>\n",
       "      <td>97.372488</td>\n",
       "      <td>1.391036</td>\n",
       "      <td>0.154560</td>\n",
       "      <td>0.618238</td>\n",
       "      <td>0.463679</td>\n",
       "    </tr>\n",
       "    <tr>\n",
       "      <th>5.0</th>\n",
       "      <td>92.777778</td>\n",
       "      <td>0.555556</td>\n",
       "      <td>1.666667</td>\n",
       "      <td>4.444444</td>\n",
       "      <td>0.555556</td>\n",
       "    </tr>\n",
       "    <tr>\n",
       "      <th>6.0</th>\n",
       "      <td>92.000000</td>\n",
       "      <td>1.000000</td>\n",
       "      <td>1.000000</td>\n",
       "      <td>5.000000</td>\n",
       "      <td>1.000000</td>\n",
       "    </tr>\n",
       "  </tbody>\n",
       "</table>\n",
       "</div>"
      ],
      "text/plain": [
       "Engine.Type     reciprocating  turbo fan  turbo jet  turbo prop  turbo shaft\n",
       "Total.Injuries                                                              \n",
       "0.0                 98.186074   0.767993   0.117028    0.789936     0.138970\n",
       "1.0                 97.605342   0.437486   0.161179    1.680866     0.115128\n",
       "2.0                 97.953521   0.624350   0.208117    0.901838     0.312175\n",
       "3.0                 97.705314   0.845411   0.120773    1.086957     0.241546\n",
       "4.0                 97.372488   1.391036   0.154560    0.618238     0.463679\n",
       "5.0                 92.777778   0.555556   1.666667    4.444444     0.555556\n",
       "6.0                 92.000000   1.000000   1.000000    5.000000     1.000000"
      ]
     },
     "execution_count": 51,
     "metadata": {},
     "output_type": "execute_result"
    }
   ],
   "source": [
    "# Engine type distribution within total injuries \n",
    "cessna_grouped = cessna_make_data.groupby(by=['Total.Injuries','Engine.Type']).size().unstack().apply(lambda x: x / x.sum(), axis=1) * 100\n",
    "\n",
    "# Drop NaN for cleaner look\n",
    "cessna_grouped.dropna(inplace=True,axis=0)\n",
    "\n",
    "cessna_grouped"
   ]
  },
  {
   "cell_type": "markdown",
   "id": "f49d7df4-c0cc-499d-a49a-8afe9a28c11a",
   "metadata": {},
   "source": [
    "### `Weather.Condition` vs `Injury Severity`"
   ]
  },
  {
   "cell_type": "markdown",
   "id": "00f2a8b1-3c33-45ba-855a-78f053c74776",
   "metadata": {},
   "source": [
    "When we observe `Injury.Severity` by `Weather.Condition` we can see that most fatal injuries occur during IMC at ~60% of accident instances being fatal vs ~14% in VMC.\n",
    "\n",
    "**Definition:** Visual meteorological conditions (VMC) is an aviation flight category \n",
    "in which visual flight rules (VFR) flight is permitted—that is, conditions in which \n",
    "pilots have sufficient visibility to fly the aircraft maintaining visual separation \n",
    "from terrain and other aircraft. \n",
    "\n",
    "In aviation, instrument meteorological conditions (IMC) are weather conditions that \n",
    "require pilots to fly primarily by reference to flight instruments. Typically, this \n",
    "means flying in cloud or poor weather, where little or nothing can be seen or recognised \n",
    "when looking out of the window. \n",
    "\n",
    "**Source:** <a href = https://en.wikipedia.org/wiki/Visual_meteorological_conditions>Wikipedia</a>"
   ]
  },
  {
   "cell_type": "code",
   "execution_count": 52,
   "id": "65788673-a768-423b-aa58-e04a1ba5489f",
   "metadata": {},
   "outputs": [
    {
     "data": {
      "text/html": [
       "<div>\n",
       "<style scoped>\n",
       "    .dataframe tbody tr th:only-of-type {\n",
       "        vertical-align: middle;\n",
       "    }\n",
       "\n",
       "    .dataframe tbody tr th {\n",
       "        vertical-align: top;\n",
       "    }\n",
       "\n",
       "    .dataframe thead th {\n",
       "        text-align: right;\n",
       "    }\n",
       "</style>\n",
       "<table border=\"1\" class=\"dataframe\">\n",
       "  <thead>\n",
       "    <tr style=\"text-align: right;\">\n",
       "      <th>Injury.Severity</th>\n",
       "      <th>fatal</th>\n",
       "      <th>incident</th>\n",
       "      <th>minor</th>\n",
       "      <th>non-fatal</th>\n",
       "      <th>serious</th>\n",
       "    </tr>\n",
       "    <tr>\n",
       "      <th>Weather.Condition</th>\n",
       "      <th></th>\n",
       "      <th></th>\n",
       "      <th></th>\n",
       "      <th></th>\n",
       "      <th></th>\n",
       "    </tr>\n",
       "  </thead>\n",
       "  <tbody>\n",
       "    <tr>\n",
       "      <th>IMC</th>\n",
       "      <td>59.843938</td>\n",
       "      <td>0.660264</td>\n",
       "      <td>NaN</td>\n",
       "      <td>39.435774</td>\n",
       "      <td>0.060024</td>\n",
       "    </tr>\n",
       "    <tr>\n",
       "      <th>VMC</th>\n",
       "      <td>13.415501</td>\n",
       "      <td>0.748993</td>\n",
       "      <td>0.284428</td>\n",
       "      <td>85.432567</td>\n",
       "      <td>0.118511</td>\n",
       "    </tr>\n",
       "  </tbody>\n",
       "</table>\n",
       "</div>"
      ],
      "text/plain": [
       "Injury.Severity        fatal  incident     minor  non-fatal   serious\n",
       "Weather.Condition                                                    \n",
       "IMC                59.843938  0.660264       NaN  39.435774  0.060024\n",
       "VMC                13.415501  0.748993  0.284428  85.432567  0.118511"
      ]
     },
     "execution_count": 52,
     "metadata": {},
     "output_type": "execute_result"
    }
   ],
   "source": [
    "# Use previously established Dataframe\n",
    "cessna_make_data\n",
    "\n",
    "# Group by Weather Condition & Injury Severity\n",
    "cessna_make_data.groupby(by=['Weather.Condition','Injury.Severity']).size().unstack().apply(lambda x: x/x.sum(),axis=1)*100"
   ]
  },
  {
   "cell_type": "markdown",
   "id": "4c0129cc-d2da-448f-bf9f-aa1f80ac1524",
   "metadata": {},
   "source": [
    "## 4. Recommendations & Conclusion\n",
    "\n",
    "**Data Limitation**\n",
    "\n",
    "There was some missingness which could not be accounted for and therefore, columns had to be dropped. There are also potential duplicates as `Event.Id` and `Accident.Number` have duplicate values but display slighly different records with some shared information. There is a lack of understanding whether these are supposed to be unique identifiers and it is recommended to obtain additional data for any additional phases of department expansion. There were also columns such as `Aircraft.carrier` that may be useful to analyse but had too much mixed data to be able to adequately organize.\n",
    "\n",
    "\n",
    "**Recommendations**\n",
    "\n",
    "*`Make`:* Cessna <br>\n",
    "Cessna airplanes are most widely used and have destroyed the least percentage of aircrafts within the accident report, when compared with top 4 most used makes. \n",
    "\n",
    "*`Model`:* Cessna 172 <br>\n",
    "The Cessna 172 model has shown that only 12% of accidents result in a destroyed airplane, this is less `Aircraft.damage` than caused by any of the other top 4 Cessna models. \n",
    "\n",
    "*`Engine.Type`:* Reciprocating <br>\n",
    "Reciprocating engine yields percentages in the 90's for lower `Total.Injuries` counts (0-6), making it the safest engine a Cessna airplane can have, among widely used engines in the industry.\n",
    "\n",
    "*Safety Training:* Thorough safety training <br>\n",
    "Extra attention to training in IMC during which, pilots are primariy flying by reference to flight instruments. The percent of fatal `Injury.Severity` is highest at ~60% vs ~14% in VMC.\n",
    "\n",
    "**Conclusion** <br>\n",
    "\n",
    "For <u>*Phase 1*</u> of Aviation Department expansion we suggest starting small with Cessna 172 as it poses least risk overall to passengers and business development. As the industry standard, the Cessna make stands out. The 172 model, though 2nd most used, results in the least amount of destroyed aircrafts during accident events. The Reciprocating engine, being both industry standard and causing least amount of total injuries per accident event, is the clear winner among engine types and a great starter engine for our purposes.\n",
    "\n",
    "For <u>*Phase 2*</u> we suggest addressing the *data limitations* to perform a more robust analysis regarding additional Aircrafts we want to invest in for Phase 2. In addition, we would want to take a closer look at locations that resulted in least amount of aircraft damage and total injuries. We will also want to decide whether we will be conducting our own pilot/crew training. Whether doing this inhouse or partnering with other companies, we would want to address the higher number of fatal injuries occuring during instrument meteorological conditions (IMC) as ~60% of accidents occuring during IMC resulted in fatal injuries."
   ]
  }
 ],
 "metadata": {
  "kernelspec": {
   "display_name": "Python (learn-env-lite-2)",
   "language": "python",
   "name": "learn-env-lite-2"
  },
  "language_info": {
   "codemirror_mode": {
    "name": "ipython",
    "version": 3
   },
   "file_extension": ".py",
   "mimetype": "text/x-python",
   "name": "python",
   "nbconvert_exporter": "python",
   "pygments_lexer": "ipython3",
   "version": "3.8.5"
  }
 },
 "nbformat": 4,
 "nbformat_minor": 5
}
