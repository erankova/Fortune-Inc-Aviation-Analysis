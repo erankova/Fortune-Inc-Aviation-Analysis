{
 "cells": [
  {
   "cell_type": "markdown",
   "id": "11b1db10-9d78-45b8-8215-14a6c15841ad",
   "metadata": {},
   "source": [
    "# Aviation Exploration [placeholder title]"
   ]
  },
  {
   "cell_type": "markdown",
   "id": "91b30bce-0a40-4978-b16b-69afb66677fe",
   "metadata": {},
   "source": [
    "## Goals"
   ]
  },
  {
   "cell_type": "markdown",
   "id": "f259446d-1612-43ee-8833-8feddb239f3a",
   "metadata": {},
   "source": [
    "#### Business Problem\n",
    "Your company is expanding in to new industries to diversify its portfolio. Specifically, they are interested in purchasing and operating airplanes for commercial and private enterprises, but do not know anything about the potential risks of aircraft. You are charged with determining which aircraft are the lowest risk for the company to start this new business endeavor. You must then translate your findings into actionable insights that the head of the new aviation division can use to help decide which aircraft to purchase."
   ]
  },
  {
   "cell_type": "code",
   "execution_count": 1,
   "id": "987cdb5a-9e9d-4a9c-a731-1175766074fd",
   "metadata": {
    "collapsed": true,
    "jupyter": {
     "outputs_hidden": true
    }
   },
   "outputs": [],
   "source": [
    "# All imports\n",
    "# reminder to add ignore warning code at the end\n",
    "\n",
    "import pandas as pd\n",
    "import matplotlib.pyplot as plt\n",
    "import numpy as np"
   ]
  },
  {
   "cell_type": "markdown",
   "id": "5961d4aa-60d6-4c55-abff-36d84dc5277b",
   "metadata": {},
   "source": [
    "## Data"
   ]
  },
  {
   "cell_type": "code",
   "execution_count": 2,
   "id": "5bc30537-c58e-4f3a-843a-715f7b2a3962",
   "metadata": {
    "collapsed": true,
    "jupyter": {
     "outputs_hidden": true
    }
   },
   "outputs": [],
   "source": [
    "# Open data file\n",
    "\n",
    "# Had to specify encoding 'latin-1' for file to load\n",
    "# Setting low_memory=False in the read_csv function will force pandas to read the entire file at once, \n",
    "# which can help with inferring the correct data types. \n",
    "\n",
    "ad = pd.read_csv('Data/AviationData.csv', encoding='latin-1', low_memory=False)"
   ]
  },
  {
   "cell_type": "markdown",
   "id": "de22c016-73ea-4667-bf99-dcd5d37abbdd",
   "metadata": {},
   "source": [
    "### Initial Exploration"
   ]
  },
  {
   "cell_type": "code",
   "execution_count": 3,
   "id": "0487e12a-3999-458d-8a64-d3dc26f49c74",
   "metadata": {
    "collapsed": true,
    "jupyter": {
     "outputs_hidden": true
    }
   },
   "outputs": [
    {
     "name": "stdout",
     "output_type": "stream",
     "text": [
      "<class 'pandas.core.frame.DataFrame'>\n",
      "RangeIndex: 88889 entries, 0 to 88888\n",
      "Data columns (total 31 columns):\n",
      " #   Column                  Non-Null Count  Dtype  \n",
      "---  ------                  --------------  -----  \n",
      " 0   Event.Id                88889 non-null  object \n",
      " 1   Investigation.Type      88889 non-null  object \n",
      " 2   Accident.Number         88889 non-null  object \n",
      " 3   Event.Date              88889 non-null  object \n",
      " 4   Location                88837 non-null  object \n",
      " 5   Country                 88663 non-null  object \n",
      " 6   Latitude                34382 non-null  object \n",
      " 7   Longitude               34373 non-null  object \n",
      " 8   Airport.Code            50249 non-null  object \n",
      " 9   Airport.Name            52790 non-null  object \n",
      " 10  Injury.Severity         87889 non-null  object \n",
      " 11  Aircraft.damage         85695 non-null  object \n",
      " 12  Aircraft.Category       32287 non-null  object \n",
      " 13  Registration.Number     87572 non-null  object \n",
      " 14  Make                    88826 non-null  object \n",
      " 15  Model                   88797 non-null  object \n",
      " 16  Amateur.Built           88787 non-null  object \n",
      " 17  Number.of.Engines       82805 non-null  float64\n",
      " 18  Engine.Type             81812 non-null  object \n",
      " 19  FAR.Description         32023 non-null  object \n",
      " 20  Schedule                12582 non-null  object \n",
      " 21  Purpose.of.flight       82697 non-null  object \n",
      " 22  Air.carrier             16648 non-null  object \n",
      " 23  Total.Fatal.Injuries    77488 non-null  float64\n",
      " 24  Total.Serious.Injuries  76379 non-null  float64\n",
      " 25  Total.Minor.Injuries    76956 non-null  float64\n",
      " 26  Total.Uninjured         82977 non-null  float64\n",
      " 27  Weather.Condition       84397 non-null  object \n",
      " 28  Broad.phase.of.flight   61724 non-null  object \n",
      " 29  Report.Status           82508 non-null  object \n",
      " 30  Publication.Date        75118 non-null  object \n",
      "dtypes: float64(5), object(26)\n",
      "memory usage: 21.0+ MB\n"
     ]
    }
   ],
   "source": [
    "# Get initial info\n",
    "\n",
    "ad.info()"
   ]
  },
  {
   "cell_type": "code",
   "execution_count": 4,
   "id": "3b46ccfc-e70b-4df3-8125-b375e10e1032",
   "metadata": {
    "collapsed": true,
    "jupyter": {
     "outputs_hidden": true
    }
   },
   "outputs": [
    {
     "data": {
      "text/plain": [
       "0    0.0\n",
       "1    0.0\n",
       "2    NaN\n",
       "3    0.0\n",
       "4    NaN\n",
       "Name: Total.Minor.Injuries, dtype: float64"
      ]
     },
     "execution_count": 4,
     "metadata": {},
     "output_type": "execute_result"
    }
   ],
   "source": [
    "ad['Total.Minor.Injuries'].head()"
   ]
  },
  {
   "cell_type": "code",
   "execution_count": 5,
   "id": "e702baf8-c0e9-4220-ab99-9885a926cb4e",
   "metadata": {
    "collapsed": true,
    "jupyter": {
     "outputs_hidden": true
    }
   },
   "outputs": [
    {
     "data": {
      "text/html": [
       "<div>\n",
       "<style scoped>\n",
       "    .dataframe tbody tr th:only-of-type {\n",
       "        vertical-align: middle;\n",
       "    }\n",
       "\n",
       "    .dataframe tbody tr th {\n",
       "        vertical-align: top;\n",
       "    }\n",
       "\n",
       "    .dataframe thead th {\n",
       "        text-align: right;\n",
       "    }\n",
       "</style>\n",
       "<table border=\"1\" class=\"dataframe\">\n",
       "  <thead>\n",
       "    <tr style=\"text-align: right;\">\n",
       "      <th></th>\n",
       "      <th>Event.Id</th>\n",
       "      <th>Investigation.Type</th>\n",
       "      <th>Accident.Number</th>\n",
       "      <th>Event.Date</th>\n",
       "      <th>Location</th>\n",
       "      <th>Country</th>\n",
       "      <th>Latitude</th>\n",
       "      <th>Longitude</th>\n",
       "      <th>Airport.Code</th>\n",
       "      <th>Airport.Name</th>\n",
       "      <th>...</th>\n",
       "      <th>Purpose.of.flight</th>\n",
       "      <th>Air.carrier</th>\n",
       "      <th>Total.Fatal.Injuries</th>\n",
       "      <th>Total.Serious.Injuries</th>\n",
       "      <th>Total.Minor.Injuries</th>\n",
       "      <th>Total.Uninjured</th>\n",
       "      <th>Weather.Condition</th>\n",
       "      <th>Broad.phase.of.flight</th>\n",
       "      <th>Report.Status</th>\n",
       "      <th>Publication.Date</th>\n",
       "    </tr>\n",
       "  </thead>\n",
       "  <tbody>\n",
       "    <tr>\n",
       "      <th>26601</th>\n",
       "      <td>20001212X24239</td>\n",
       "      <td>Accident</td>\n",
       "      <td>DEN90DTE08</td>\n",
       "      <td>1990-09-11</td>\n",
       "      <td>IDALIA, CO</td>\n",
       "      <td>United States</td>\n",
       "      <td>NaN</td>\n",
       "      <td>NaN</td>\n",
       "      <td>NONE</td>\n",
       "      <td>TOBERMAN</td>\n",
       "      <td>...</td>\n",
       "      <td>Unknown</td>\n",
       "      <td>NaN</td>\n",
       "      <td>0.0</td>\n",
       "      <td>0.0</td>\n",
       "      <td>0.0</td>\n",
       "      <td>1.0</td>\n",
       "      <td>VMC</td>\n",
       "      <td>Landing</td>\n",
       "      <td>Probable Cause</td>\n",
       "      <td>30-12-1992</td>\n",
       "    </tr>\n",
       "    <tr>\n",
       "      <th>81816</th>\n",
       "      <td>20180629X91445</td>\n",
       "      <td>Accident</td>\n",
       "      <td>WPR18FA186</td>\n",
       "      <td>2018-06-28</td>\n",
       "      <td>Eagle Mountain, UT</td>\n",
       "      <td>United States</td>\n",
       "      <td>040137N</td>\n",
       "      <td>1115547W</td>\n",
       "      <td>NaN</td>\n",
       "      <td>NaN</td>\n",
       "      <td>...</td>\n",
       "      <td>Aerial Observation</td>\n",
       "      <td>GV Air Inc.</td>\n",
       "      <td>1.0</td>\n",
       "      <td>0.0</td>\n",
       "      <td>0.0</td>\n",
       "      <td>0.0</td>\n",
       "      <td>VMC</td>\n",
       "      <td>NaN</td>\n",
       "      <td>The pilot's exceedance of the airplane's criti...</td>\n",
       "      <td>03-12-2020</td>\n",
       "    </tr>\n",
       "    <tr>\n",
       "      <th>44053</th>\n",
       "      <td>20001211X10237</td>\n",
       "      <td>Accident</td>\n",
       "      <td>CHI98LA189</td>\n",
       "      <td>1998-06-02</td>\n",
       "      <td>NORTH PLATTE, NE</td>\n",
       "      <td>United States</td>\n",
       "      <td>NaN</td>\n",
       "      <td>NaN</td>\n",
       "      <td>LBF</td>\n",
       "      <td>LEE BIRD FIELD</td>\n",
       "      <td>...</td>\n",
       "      <td>Personal</td>\n",
       "      <td>NaN</td>\n",
       "      <td>0.0</td>\n",
       "      <td>0.0</td>\n",
       "      <td>0.0</td>\n",
       "      <td>2.0</td>\n",
       "      <td>VMC</td>\n",
       "      <td>Landing</td>\n",
       "      <td>Probable Cause</td>\n",
       "      <td>15-02-2001</td>\n",
       "    </tr>\n",
       "    <tr>\n",
       "      <th>83150</th>\n",
       "      <td>20190505X64101</td>\n",
       "      <td>Accident</td>\n",
       "      <td>WPR19LA139</td>\n",
       "      <td>2019-05-05</td>\n",
       "      <td>Minden, NV</td>\n",
       "      <td>United States</td>\n",
       "      <td>003902N</td>\n",
       "      <td>0119454W</td>\n",
       "      <td>MEV</td>\n",
       "      <td>Minden-Tahoe</td>\n",
       "      <td>...</td>\n",
       "      <td>Personal</td>\n",
       "      <td>NaN</td>\n",
       "      <td>0.0</td>\n",
       "      <td>0.0</td>\n",
       "      <td>0.0</td>\n",
       "      <td>1.0</td>\n",
       "      <td>VMC</td>\n",
       "      <td>NaN</td>\n",
       "      <td>A partial extension of the landing gear due to...</td>\n",
       "      <td>19-11-2020</td>\n",
       "    </tr>\n",
       "    <tr>\n",
       "      <th>58639</th>\n",
       "      <td>20050601X00694</td>\n",
       "      <td>Accident</td>\n",
       "      <td>LAX05LA176</td>\n",
       "      <td>2005-05-16</td>\n",
       "      <td>KIHEI, HI</td>\n",
       "      <td>United States</td>\n",
       "      <td>20.783333</td>\n",
       "      <td>-156.533333</td>\n",
       "      <td>NaN</td>\n",
       "      <td>NaN</td>\n",
       "      <td>...</td>\n",
       "      <td>Personal</td>\n",
       "      <td>NaN</td>\n",
       "      <td>NaN</td>\n",
       "      <td>NaN</td>\n",
       "      <td>NaN</td>\n",
       "      <td>4.0</td>\n",
       "      <td>VMC</td>\n",
       "      <td>Cruise</td>\n",
       "      <td>Probable Cause</td>\n",
       "      <td>30-05-2006</td>\n",
       "    </tr>\n",
       "    <tr>\n",
       "      <th>20399</th>\n",
       "      <td>20001213X25703</td>\n",
       "      <td>Accident</td>\n",
       "      <td>FTW88LA111</td>\n",
       "      <td>1988-05-28</td>\n",
       "      <td>NEW ROADS, LA</td>\n",
       "      <td>United States</td>\n",
       "      <td>NaN</td>\n",
       "      <td>NaN</td>\n",
       "      <td>LA30</td>\n",
       "      <td>FALSE RIVER AIR PARK</td>\n",
       "      <td>...</td>\n",
       "      <td>Personal</td>\n",
       "      <td>NaN</td>\n",
       "      <td>0.0</td>\n",
       "      <td>0.0</td>\n",
       "      <td>0.0</td>\n",
       "      <td>1.0</td>\n",
       "      <td>VMC</td>\n",
       "      <td>Takeoff</td>\n",
       "      <td>Probable Cause</td>\n",
       "      <td>25-04-1989</td>\n",
       "    </tr>\n",
       "    <tr>\n",
       "      <th>29987</th>\n",
       "      <td>20001211X14292</td>\n",
       "      <td>Accident</td>\n",
       "      <td>FTW92LA086</td>\n",
       "      <td>1992-03-08</td>\n",
       "      <td>HARRISON, AR</td>\n",
       "      <td>United States</td>\n",
       "      <td>NaN</td>\n",
       "      <td>NaN</td>\n",
       "      <td>HRO</td>\n",
       "      <td>BOONE COUNTY</td>\n",
       "      <td>...</td>\n",
       "      <td>Unknown</td>\n",
       "      <td>NaN</td>\n",
       "      <td>0.0</td>\n",
       "      <td>0.0</td>\n",
       "      <td>1.0</td>\n",
       "      <td>0.0</td>\n",
       "      <td>VMC</td>\n",
       "      <td>Landing</td>\n",
       "      <td>Probable Cause</td>\n",
       "      <td>11-06-1993</td>\n",
       "    </tr>\n",
       "    <tr>\n",
       "      <th>60373</th>\n",
       "      <td>20060420X00466</td>\n",
       "      <td>Accident</td>\n",
       "      <td>LAX06WA132</td>\n",
       "      <td>2006-03-27</td>\n",
       "      <td>NARRANDERA, AUSTRALIA</td>\n",
       "      <td>Australia</td>\n",
       "      <td>NaN</td>\n",
       "      <td>NaN</td>\n",
       "      <td>NaN</td>\n",
       "      <td>NaN</td>\n",
       "      <td>...</td>\n",
       "      <td>Positioning</td>\n",
       "      <td>NaN</td>\n",
       "      <td>1.0</td>\n",
       "      <td>NaN</td>\n",
       "      <td>NaN</td>\n",
       "      <td>NaN</td>\n",
       "      <td>VMC</td>\n",
       "      <td>NaN</td>\n",
       "      <td>Foreign</td>\n",
       "      <td>20-04-2006</td>\n",
       "    </tr>\n",
       "    <tr>\n",
       "      <th>15814</th>\n",
       "      <td>20001213X34704</td>\n",
       "      <td>Accident</td>\n",
       "      <td>ATL86LA245</td>\n",
       "      <td>1986-09-04</td>\n",
       "      <td>SMITHVILLE, TN</td>\n",
       "      <td>United States</td>\n",
       "      <td>NaN</td>\n",
       "      <td>NaN</td>\n",
       "      <td>OA3</td>\n",
       "      <td>SMITHVILLE MUNI</td>\n",
       "      <td>...</td>\n",
       "      <td>Personal</td>\n",
       "      <td>NaN</td>\n",
       "      <td>0.0</td>\n",
       "      <td>0.0</td>\n",
       "      <td>0.0</td>\n",
       "      <td>1.0</td>\n",
       "      <td>VMC</td>\n",
       "      <td>Go-around</td>\n",
       "      <td>Probable Cause</td>\n",
       "      <td>NaN</td>\n",
       "    </tr>\n",
       "    <tr>\n",
       "      <th>26307</th>\n",
       "      <td>20001212X24012</td>\n",
       "      <td>Accident</td>\n",
       "      <td>FTW90LA156</td>\n",
       "      <td>1990-08-09</td>\n",
       "      <td>CORPUS CHRISTI, TX</td>\n",
       "      <td>United States</td>\n",
       "      <td>NaN</td>\n",
       "      <td>NaN</td>\n",
       "      <td>NaN</td>\n",
       "      <td>NaN</td>\n",
       "      <td>...</td>\n",
       "      <td>Unknown</td>\n",
       "      <td>(dba: Southwest Airlines Co.)</td>\n",
       "      <td>0.0</td>\n",
       "      <td>1.0</td>\n",
       "      <td>0.0</td>\n",
       "      <td>75.0</td>\n",
       "      <td>VMC</td>\n",
       "      <td>Cruise</td>\n",
       "      <td>Probable Cause</td>\n",
       "      <td>08-12-1992</td>\n",
       "    </tr>\n",
       "  </tbody>\n",
       "</table>\n",
       "<p>10 rows × 31 columns</p>\n",
       "</div>"
      ],
      "text/plain": [
       "             Event.Id Investigation.Type Accident.Number  Event.Date  \\\n",
       "26601  20001212X24239           Accident      DEN90DTE08  1990-09-11   \n",
       "81816  20180629X91445           Accident      WPR18FA186  2018-06-28   \n",
       "44053  20001211X10237           Accident      CHI98LA189  1998-06-02   \n",
       "83150  20190505X64101           Accident      WPR19LA139  2019-05-05   \n",
       "58639  20050601X00694           Accident      LAX05LA176  2005-05-16   \n",
       "20399  20001213X25703           Accident      FTW88LA111  1988-05-28   \n",
       "29987  20001211X14292           Accident      FTW92LA086  1992-03-08   \n",
       "60373  20060420X00466           Accident      LAX06WA132  2006-03-27   \n",
       "15814  20001213X34704           Accident      ATL86LA245  1986-09-04   \n",
       "26307  20001212X24012           Accident      FTW90LA156  1990-08-09   \n",
       "\n",
       "                    Location        Country   Latitude    Longitude  \\\n",
       "26601             IDALIA, CO  United States        NaN          NaN   \n",
       "81816     Eagle Mountain, UT  United States    040137N     1115547W   \n",
       "44053       NORTH PLATTE, NE  United States        NaN          NaN   \n",
       "83150             Minden, NV  United States    003902N     0119454W   \n",
       "58639              KIHEI, HI  United States  20.783333  -156.533333   \n",
       "20399          NEW ROADS, LA  United States        NaN          NaN   \n",
       "29987           HARRISON, AR  United States        NaN          NaN   \n",
       "60373  NARRANDERA, AUSTRALIA      Australia        NaN          NaN   \n",
       "15814         SMITHVILLE, TN  United States        NaN          NaN   \n",
       "26307     CORPUS CHRISTI, TX  United States        NaN          NaN   \n",
       "\n",
       "      Airport.Code          Airport.Name  ...   Purpose.of.flight  \\\n",
       "26601         NONE              TOBERMAN  ...             Unknown   \n",
       "81816          NaN                   NaN  ...  Aerial Observation   \n",
       "44053          LBF        LEE BIRD FIELD  ...            Personal   \n",
       "83150          MEV          Minden-Tahoe  ...            Personal   \n",
       "58639          NaN                   NaN  ...            Personal   \n",
       "20399         LA30  FALSE RIVER AIR PARK  ...            Personal   \n",
       "29987          HRO          BOONE COUNTY  ...             Unknown   \n",
       "60373          NaN                   NaN  ...         Positioning   \n",
       "15814          OA3       SMITHVILLE MUNI  ...            Personal   \n",
       "26307          NaN                   NaN  ...             Unknown   \n",
       "\n",
       "                         Air.carrier Total.Fatal.Injuries  \\\n",
       "26601                            NaN                  0.0   \n",
       "81816                    GV Air Inc.                  1.0   \n",
       "44053                            NaN                  0.0   \n",
       "83150                            NaN                  0.0   \n",
       "58639                            NaN                  NaN   \n",
       "20399                            NaN                  0.0   \n",
       "29987                            NaN                  0.0   \n",
       "60373                            NaN                  1.0   \n",
       "15814                            NaN                  0.0   \n",
       "26307  (dba: Southwest Airlines Co.)                  0.0   \n",
       "\n",
       "      Total.Serious.Injuries Total.Minor.Injuries Total.Uninjured  \\\n",
       "26601                    0.0                  0.0             1.0   \n",
       "81816                    0.0                  0.0             0.0   \n",
       "44053                    0.0                  0.0             2.0   \n",
       "83150                    0.0                  0.0             1.0   \n",
       "58639                    NaN                  NaN             4.0   \n",
       "20399                    0.0                  0.0             1.0   \n",
       "29987                    0.0                  1.0             0.0   \n",
       "60373                    NaN                  NaN             NaN   \n",
       "15814                    0.0                  0.0             1.0   \n",
       "26307                    1.0                  0.0            75.0   \n",
       "\n",
       "      Weather.Condition  Broad.phase.of.flight  \\\n",
       "26601               VMC                Landing   \n",
       "81816               VMC                    NaN   \n",
       "44053               VMC                Landing   \n",
       "83150               VMC                    NaN   \n",
       "58639               VMC                 Cruise   \n",
       "20399               VMC                Takeoff   \n",
       "29987               VMC                Landing   \n",
       "60373               VMC                    NaN   \n",
       "15814               VMC              Go-around   \n",
       "26307               VMC                 Cruise   \n",
       "\n",
       "                                           Report.Status Publication.Date  \n",
       "26601                                     Probable Cause       30-12-1992  \n",
       "81816  The pilot's exceedance of the airplane's criti...       03-12-2020  \n",
       "44053                                     Probable Cause       15-02-2001  \n",
       "83150  A partial extension of the landing gear due to...       19-11-2020  \n",
       "58639                                     Probable Cause       30-05-2006  \n",
       "20399                                     Probable Cause       25-04-1989  \n",
       "29987                                     Probable Cause       11-06-1993  \n",
       "60373                                            Foreign       20-04-2006  \n",
       "15814                                     Probable Cause              NaN  \n",
       "26307                                     Probable Cause       08-12-1992  \n",
       "\n",
       "[10 rows x 31 columns]"
      ]
     },
     "execution_count": 5,
     "metadata": {},
     "output_type": "execute_result"
    }
   ],
   "source": [
    "ad.sample(n=10)"
   ]
  },
  {
   "cell_type": "markdown",
   "id": "371997c5-8d00-4c48-aa0f-a68e22034cd6",
   "metadata": {},
   "source": [
    "Initial observations:\n",
    "\n",
    "- 88888 rows and 31 columns\n",
    "- 5 floats and 26 objects\n",
    "- Column specifics denoted by a '.' followed by specification ('Airport.Code' & 'Airport.Name')\n",
    "- Columns that may need to be adjusted to different dtype\n",
    "    - Accident.Number -> int or float\n",
    "    - Event.Date -> date type\n",
    "    - Publication.Date -> date type\n",
    "- Columns that will need capitalization adjusted\n",
    "    - Location\n",
    "    - Air.carrier\n",
    "    - "
   ]
  },
  {
   "cell_type": "code",
   "execution_count": 6,
   "id": "1e08243b-ab26-42e5-9d2a-95b8a941d54a",
   "metadata": {
    "collapsed": true,
    "jupyter": {
     "outputs_hidden": true
    }
   },
   "outputs": [
    {
     "data": {
      "text/plain": [
       "Event.Id                      0\n",
       "Investigation.Type            0\n",
       "Accident.Number               0\n",
       "Event.Date                    0\n",
       "Location                     52\n",
       "Country                     226\n",
       "Latitude                  54507\n",
       "Longitude                 54516\n",
       "Airport.Code              38640\n",
       "Airport.Name              36099\n",
       "Injury.Severity            1000\n",
       "Aircraft.damage            3194\n",
       "Aircraft.Category         56602\n",
       "Registration.Number        1317\n",
       "Make                         63\n",
       "Model                        92\n",
       "Amateur.Built               102\n",
       "Number.of.Engines          6084\n",
       "Engine.Type                7077\n",
       "FAR.Description           56866\n",
       "Schedule                  76307\n",
       "Purpose.of.flight          6192\n",
       "Air.carrier               72241\n",
       "Total.Fatal.Injuries      11401\n",
       "Total.Serious.Injuries    12510\n",
       "Total.Minor.Injuries      11933\n",
       "Total.Uninjured            5912\n",
       "Weather.Condition          4492\n",
       "Broad.phase.of.flight     27165\n",
       "Report.Status              6381\n",
       "Publication.Date          13771\n",
       "dtype: int64"
      ]
     },
     "execution_count": 6,
     "metadata": {},
     "output_type": "execute_result"
    }
   ],
   "source": [
    "# Assess the na\n",
    "\n",
    "ad.isna().sum()"
   ]
  },
  {
   "cell_type": "code",
   "execution_count": 7,
   "id": "067e8f53-dd98-472b-831e-0183ca526ac1",
   "metadata": {
    "collapsed": true,
    "jupyter": {
     "outputs_hidden": true
    }
   },
   "outputs": [
    {
     "data": {
      "text/plain": [
       "Event.Id                   0.000000\n",
       "Investigation.Type         0.000000\n",
       "Accident.Number            0.000000\n",
       "Event.Date                 0.000000\n",
       "Location                   0.058500\n",
       "Country                    0.254250\n",
       "Latitude                  61.320298\n",
       "Longitude                 61.330423\n",
       "Airport.Code              43.469946\n",
       "Airport.Name              40.611324\n",
       "Injury.Severity            1.124999\n",
       "Aircraft.damage            3.593246\n",
       "Aircraft.Category         63.677170\n",
       "Registration.Number        1.481623\n",
       "Make                       0.070875\n",
       "Model                      0.103500\n",
       "Amateur.Built              0.114750\n",
       "Number.of.Engines          6.844491\n",
       "Engine.Type                7.961615\n",
       "FAR.Description           63.974170\n",
       "Schedule                  85.845268\n",
       "Purpose.of.flight          6.965991\n",
       "Air.carrier               81.271023\n",
       "Total.Fatal.Injuries      12.826109\n",
       "Total.Serious.Injuries    14.073732\n",
       "Total.Minor.Injuries      13.424608\n",
       "Total.Uninjured            6.650992\n",
       "Weather.Condition          5.053494\n",
       "Broad.phase.of.flight     30.560587\n",
       "Report.Status              7.178616\n",
       "Publication.Date          15.492356\n",
       "dtype: float64"
      ]
     },
     "execution_count": 7,
     "metadata": {},
     "output_type": "execute_result"
    }
   ],
   "source": [
    "# Assess missingness by percentage\n",
    "\n",
    "ad.isna().sum()/len(ad)*100"
   ]
  },
  {
   "cell_type": "markdown",
   "id": "0e65046c-a958-42c1-aa87-ffd715696060",
   "metadata": {},
   "source": [
    "#### Initial thoughts"
   ]
  },
  {
   "cell_type": "markdown",
   "id": "b3bd622a-886b-4e14-bc3b-8fcd260543ac",
   "metadata": {},
   "source": [
    "- Might be able to create subset of injuries into one column\n",
    "Total.Fatal.Injuries      11401\n",
    "Total.Serious.Injuries    12510\n",
    "Total.Minor.Injuries      11933\n",
    "- Drop missing rows from\n",
    "    - Location\n",
    "    - Country\n",
    "    - Make\n",
    "    - Model\n",
    "    - Amateur.Built\n",
    "    - Injury.Severity\n",
    "- Columns to drop that do not contribute to insights regarding aircrafts \n",
    "    - Latitude\n",
    "    - Longitude\n",
    "    - Airport.Code & Airport.Name\n",
    "        - Cound include in Next Steps (which airports to focus on and pull separate data on that)\n",
    "    - Schedule\n",
    "    - Purpose.of.flight (is this something that can be helpful for next stage of business development?)\n",
    "- Create subset analysis\n",
    "    - Weather.Condition (how do aircrafts wheather in harsh conditions?)"
   ]
  },
  {
   "cell_type": "markdown",
   "id": "ab73305d-3ae3-4b14-9528-92f2c607c6ce",
   "metadata": {},
   "source": [
    "##### Explore columns before deciding how to handle\n",
    "- Aircraft.Category\n",
    "- Registration.Number\n",
    "- Number.of.Engins\n",
    "- Engin.Type\n",
    "- FAR.Description\n",
    "- Schedule\n",
    "- Air.Carrier\n",
    "- Broad.phase.of.flight\n",
    "- Report.Status\n",
    "- Publication.Date (vs Event.Date which has 0 na)"
   ]
  },
  {
   "cell_type": "markdown",
   "id": "54454e84-c064-41b4-ad3a-d5cb4a3ceeb6",
   "metadata": {},
   "source": [
    "#### Exploration of Column Values"
   ]
  },
  {
   "cell_type": "code",
   "execution_count": 49,
   "id": "d2e8b1c3-ba7d-496d-b069-bdcf991c9ed9",
   "metadata": {},
   "outputs": [
    {
     "data": {
      "text/plain": [
       "20001214X45071    3\n",
       "20001212X19172    3\n",
       "20001211X11455    2\n",
       "20001214X37547    2\n",
       "20001213X34928    2\n",
       "                 ..\n",
       "20001211X13945    1\n",
       "20001211X14006    1\n",
       "20001211X14032    1\n",
       "20001211X13927    1\n",
       "20221230106513    1\n",
       "Name: Event.Id, Length: 86509, dtype: int64"
      ]
     },
     "execution_count": 49,
     "metadata": {},
     "output_type": "execute_result"
    }
   ],
   "source": [
    "# Non unique to the event!!!\n",
    "\n",
    "ad['Event.Id'].value_counts()"
   ]
  },
  {
   "cell_type": "code",
   "execution_count": 46,
   "id": "2a5bff74-9a04-4ad9-a68a-fc663470f916",
   "metadata": {},
   "outputs": [
    {
     "data": {
      "text/plain": [
       "1982-05-16    25\n",
       "1984-06-30    25\n",
       "1983-08-05    24\n",
       "2000-07-08    24\n",
       "1983-06-05    24\n",
       "              ..\n",
       "2014-04-16     1\n",
       "2014-04-07     1\n",
       "2014-03-31     1\n",
       "2014-03-16     1\n",
       "2022-12-29     1\n",
       "Name: Event.Date, Length: 14752, dtype: int64"
      ]
     },
     "execution_count": 46,
     "metadata": {},
     "output_type": "execute_result"
    }
   ],
   "source": [
    "# Change dtype to date\n",
    "# Compare to publication date\n",
    "\n",
    "ad['Event.Date'].value_counts()"
   ]
  },
  {
   "cell_type": "code",
   "execution_count": 8,
   "id": "23bce610-dd83-4d17-b851-9a6b7d08a150",
   "metadata": {
    "collapsed": true,
    "jupyter": {
     "outputs_hidden": true
    }
   },
   "outputs": [
    {
     "data": {
      "text/plain": [
       "Accident    85015\n",
       "Incident     3874\n",
       "Name: Investigation.Type, dtype: int64"
      ]
     },
     "execution_count": 8,
     "metadata": {},
     "output_type": "execute_result"
    }
   ],
   "source": [
    "# Relevant to analysis --> Keep \n",
    "\n",
    "\"\"\" \n",
    "\n",
    "An accident is when damage is done to an aircraft or person whereas \n",
    "an incident is an event the could have caused an accident.\n",
    "\n",
    "\n",
    "\"\"\"\n",
    "\n",
    "ad['Investigation.Type'].value_counts()"
   ]
  },
  {
   "cell_type": "code",
   "execution_count": 47,
   "id": "138fb7dc-9123-42d6-b7e7-d4cc551a054b",
   "metadata": {},
   "outputs": [
    {
     "data": {
      "text/plain": [
       "DCA22WA214     2\n",
       "CEN22LA149     2\n",
       "ERA22LA379     2\n",
       "CEN22LA346     2\n",
       "CEN22FA424     2\n",
       "              ..\n",
       "CHI92LA012     1\n",
       "NYC92FA009A    1\n",
       "NYC92FA009B    1\n",
       "ATL92FA008     1\n",
       "ERA23LA097     1\n",
       "Name: Accident.Number, Length: 87411, dtype: int64"
      ]
     },
     "execution_count": 47,
     "metadata": {},
     "output_type": "execute_result"
    }
   ],
   "source": [
    "# More than one record can have the same accident number with different details\n",
    "# Maybe get rid of duplicates\n",
    "\n",
    "ad['Accident.Number'].value_counts()"
   ]
  },
  {
   "cell_type": "code",
   "execution_count": 9,
   "id": "266dcd2d-8b7f-47a7-85de-bf4bb3f5b000",
   "metadata": {
    "collapsed": true,
    "jupyter": {
     "outputs_hidden": true
    }
   },
   "outputs": [
    {
     "data": {
      "text/plain": [
       "ANCHORAGE, AK          434\n",
       "MIAMI, FL              200\n",
       "ALBUQUERQUE, NM        196\n",
       "HOUSTON, TX            193\n",
       "CHICAGO, IL            184\n",
       "                      ... \n",
       "Corona De Tucso, AZ      1\n",
       "Lithonia, GA             1\n",
       "BONANZA, OR              1\n",
       "NEWPORT, PA              1\n",
       "Brasnorte,               1\n",
       "Name: Location, Length: 27758, dtype: int64"
      ]
     },
     "execution_count": 9,
     "metadata": {},
     "output_type": "execute_result"
    }
   ],
   "source": [
    "# Adjust capitalization & drop na rows\n",
    "\n",
    "ad['Location'].value_counts()"
   ]
  },
  {
   "cell_type": "code",
   "execution_count": 10,
   "id": "722df163-5323-4d7d-bdc6-1c60167857e0",
   "metadata": {
    "collapsed": true,
    "jupyter": {
     "outputs_hidden": true
    }
   },
   "outputs": [
    {
     "data": {
      "text/plain": [
       "Non-Fatal     67357\n",
       "Fatal(1)       6167\n",
       "Fatal          5262\n",
       "Fatal(2)       3711\n",
       "Incident       2219\n",
       "              ...  \n",
       "Fatal(270)        1\n",
       "Fatal(60)         1\n",
       "Fatal(43)         1\n",
       "Fatal(143)        1\n",
       "Fatal(230)        1\n",
       "Name: Injury.Severity, Length: 109, dtype: int64"
      ]
     },
     "execution_count": 10,
     "metadata": {},
     "output_type": "execute_result"
    }
   ],
   "source": [
    "# Adjust capitalization & trim to get rid of numbers at the end\n",
    "\n",
    "# Since the other columns with injury severity metrics are missing\n",
    "# so much data, we can focus on this column for analysis\n",
    "# and suggest we get a more complete data base to assess number \n",
    "# of injuries for phase 2 of business development\n",
    "\n",
    "ad['Injury.Severity'].value_counts()"
   ]
  },
  {
   "cell_type": "code",
   "execution_count": 11,
   "id": "5cc902f4-50a9-4931-876d-4d8e0196a4e3",
   "metadata": {
    "collapsed": true,
    "jupyter": {
     "outputs_hidden": true
    }
   },
   "outputs": [
    {
     "data": {
      "text/plain": [
       "Substantial    64148\n",
       "Destroyed      18623\n",
       "Minor           2805\n",
       "Unknown          119\n",
       "Name: Aircraft.damage, dtype: int64"
      ]
     },
     "execution_count": 11,
     "metadata": {},
     "output_type": "execute_result"
    }
   ],
   "source": [
    "# Can imputate and na to 'Unknown' & adjust capitalization --> Keep\n",
    "# Redistribute 'Unknowns' based on proportions of other categories\n",
    "\n",
    "ad['Aircraft.damage'].value_counts()"
   ]
  },
  {
   "cell_type": "code",
   "execution_count": 12,
   "id": "ab0e25cf-6e93-424b-95ea-73a25a2c1644",
   "metadata": {
    "collapsed": true,
    "jupyter": {
     "outputs_hidden": true
    }
   },
   "outputs": [
    {
     "data": {
      "text/plain": [
       "Airplane             27617\n",
       "Helicopter            3440\n",
       "Glider                 508\n",
       "Balloon                231\n",
       "Gyrocraft              173\n",
       "Weight-Shift           161\n",
       "Powered Parachute       91\n",
       "Ultralight              30\n",
       "Unknown                 14\n",
       "WSFT                     9\n",
       "Powered-Lift             5\n",
       "Blimp                    4\n",
       "UNK                      2\n",
       "Rocket                   1\n",
       "ULTR                     1\n",
       "Name: Aircraft.Category, dtype: int64"
      ]
     },
     "execution_count": 12,
     "metadata": {},
     "output_type": "execute_result"
    }
   ],
   "source": [
    "# Can imputate and na to 'Unknown' & adjust capitalization --> Keep\n",
    "# then can distribute unknown\n",
    "ad['Aircraft.Category'].value_counts()"
   ]
  },
  {
   "cell_type": "code",
   "execution_count": 13,
   "id": "5bf809ce-a467-4a3b-8e16-28659167f379",
   "metadata": {
    "collapsed": true,
    "jupyter": {
     "outputs_hidden": true
    }
   },
   "outputs": [
    {
     "data": {
      "text/plain": [
       "Cessna             22227\n",
       "Piper              12029\n",
       "CESSNA              4922\n",
       "Beech               4330\n",
       "PIPER               2841\n",
       "                   ...  \n",
       "Leonard Walters        1\n",
       "Maule Air Inc.         1\n",
       "Motley Vans            1\n",
       "Perlick                1\n",
       "ROYSE RALPH L          1\n",
       "Name: Make, Length: 8237, dtype: int64"
      ]
     },
     "execution_count": 13,
     "metadata": {},
     "output_type": "execute_result"
    }
   ],
   "source": [
    "# Lowercase all letters\n",
    "\n",
    "ad['Make'].value_counts()"
   ]
  },
  {
   "cell_type": "code",
   "execution_count": 14,
   "id": "03c6f592-b832-40a2-a48d-fdcf02526808",
   "metadata": {
    "collapsed": true,
    "jupyter": {
     "outputs_hidden": true
    }
   },
   "outputs": [
    {
     "data": {
      "text/plain": [
       "NONE      344\n",
       "UNREG     126\n",
       "None       65\n",
       "UNK        13\n",
       "USAF        9\n",
       "         ... \n",
       "N93478      1\n",
       "N519UA      1\n",
       "N8840W      1\n",
       "N21040      1\n",
       "N9026P      1\n",
       "Name: Registration.Number, Length: 79105, dtype: int64"
      ]
     },
     "execution_count": 14,
     "metadata": {},
     "output_type": "execute_result"
    }
   ],
   "source": [
    "# Not relevant for analysis --> Drop\n",
    "\n",
    "ad['Registration.Number'].value_counts()"
   ]
  },
  {
   "cell_type": "code",
   "execution_count": 15,
   "id": "d47c7147-78b6-41e1-a0b1-5022db8e6c9d",
   "metadata": {
    "collapsed": true,
    "jupyter": {
     "outputs_hidden": true
    }
   },
   "outputs": [
    {
     "data": {
      "text/plain": [
       "1.0    0.840312\n",
       "2.0    0.133796\n",
       "0.0    0.014806\n",
       "3.0    0.005833\n",
       "4.0    0.005205\n",
       "8.0    0.000036\n",
       "6.0    0.000012\n",
       "Name: Number.of.Engines, dtype: float64"
      ]
     },
     "execution_count": 15,
     "metadata": {},
     "output_type": "execute_result"
    }
   ],
   "source": [
    "# Needed for analysis --> Keep\n",
    "# Missing ~7% of data\n",
    "# Distribute na values based on probabily distribution of existing values\n",
    "\n",
    "ad['Number.of.Engines'].value_counts(normalize=True)"
   ]
  },
  {
   "cell_type": "code",
   "execution_count": 16,
   "id": "78458915-c5b2-4105-a5f9-e00b8eae5b7e",
   "metadata": {
    "collapsed": true,
    "jupyter": {
     "outputs_hidden": true
    }
   },
   "outputs": [
    {
     "data": {
      "text/plain": [
       "Reciprocating      0.849875\n",
       "Turbo Shaft        0.044113\n",
       "Turbo Prop         0.041449\n",
       "Turbo Fan          0.030326\n",
       "Unknown            0.025070\n",
       "Turbo Jet          0.008593\n",
       "None               0.000232\n",
       "Geared Turbofan    0.000147\n",
       "Electric           0.000122\n",
       "LR                 0.000024\n",
       "NONE               0.000024\n",
       "Hybrid Rocket      0.000012\n",
       "UNK                0.000012\n",
       "Name: Engine.Type, dtype: float64"
      ]
     },
     "execution_count": 16,
     "metadata": {},
     "output_type": "execute_result"
    }
   ],
   "source": [
    "# Adjust capitalization\n",
    "# Missing ~8% of data\n",
    "\n",
    "# Unknown, None, NONE, UNK\n",
    "\n",
    "ad['Engine.Type'].value_counts(normalize=True)"
   ]
  },
  {
   "cell_type": "code",
   "execution_count": 17,
   "id": "7f8da865-6f6f-4b95-a705-fc8a8d9cf002",
   "metadata": {
    "collapsed": true,
    "jupyter": {
     "outputs_hidden": true
    }
   },
   "outputs": [
    {
     "data": {
      "text/plain": [
       "091                               18221\n",
       "Part 91: General Aviation          6486\n",
       "NUSN                               1584\n",
       "NUSC                               1013\n",
       "137                                1010\n",
       "135                                 746\n",
       "121                                 679\n",
       "Part 137: Agricultural              437\n",
       "UNK                                 371\n",
       "Part 135: Air Taxi & Commuter       298\n",
       "PUBU                                253\n",
       "129                                 246\n",
       "Part 121: Air Carrier               165\n",
       "133                                 107\n",
       "Part 129: Foreign                   100\n",
       "Non-U.S., Non-Commercial             97\n",
       "Non-U.S., Commercial                 93\n",
       "Part 133: Rotorcraft Ext. Load       32\n",
       "Unknown                              22\n",
       "Public Use                           19\n",
       "091K                                 14\n",
       "ARMF                                  8\n",
       "Part 125: 20+ Pax,6000+ lbs           5\n",
       "125                                   5\n",
       "107                                   4\n",
       "Public Aircraft                       2\n",
       "103                                   2\n",
       "Part 91 Subpart K: Fractional         1\n",
       "Armed Forces                          1\n",
       "Part 91F: Special Flt Ops.            1\n",
       "437                                   1\n",
       "Name: FAR.Description, dtype: int64"
      ]
     },
     "execution_count": 17,
     "metadata": {},
     "output_type": "execute_result"
    }
   ],
   "source": [
    "# Too many na values and not enough significance for analysis --> Drop\n",
    "\n",
    "ad['FAR.Description'].value_counts()"
   ]
  },
  {
   "cell_type": "code",
   "execution_count": 18,
   "id": "cc3d0403-25e2-4ce1-b28d-d4cd254a5512",
   "metadata": {
    "collapsed": true,
    "jupyter": {
     "outputs_hidden": true
    }
   },
   "outputs": [
    {
     "data": {
      "text/plain": [
       "NSCH    4474\n",
       "UNK     4099\n",
       "SCHD    4009\n",
       "Name: Schedule, dtype: int64"
      ]
     },
     "execution_count": 18,
     "metadata": {},
     "output_type": "execute_result"
    }
   ],
   "source": [
    "# Not relevant to analysis --> Drop\n",
    "\n",
    "ad['Schedule'].value_counts()"
   ]
  },
  {
   "cell_type": "code",
   "execution_count": 19,
   "id": "d8db25c1-01f3-4e4b-978a-73d4326e2fde",
   "metadata": {
    "collapsed": true,
    "jupyter": {
     "outputs_hidden": true
    }
   },
   "outputs": [
    {
     "data": {
      "text/plain": [
       "<bound method IndexOpsMixin.value_counts of 0        Personal\n",
       "1        Personal\n",
       "2        Personal\n",
       "3        Personal\n",
       "4        Personal\n",
       "           ...   \n",
       "88884    Personal\n",
       "88885         NaN\n",
       "88886    Personal\n",
       "88887    Personal\n",
       "88888    Personal\n",
       "Name: Purpose.of.flight, Length: 88889, dtype: object>"
      ]
     },
     "execution_count": 19,
     "metadata": {},
     "output_type": "execute_result"
    }
   ],
   "source": [
    "# Can imputate and na to 'Unknown' & adjust capitalization --> Keep\n",
    "\n",
    "ad['Purpose.of.flight'].value_counts"
   ]
  },
  {
   "cell_type": "code",
   "execution_count": 20,
   "id": "90cb064b-06d6-427c-b958-b6a160594216",
   "metadata": {
    "collapsed": true,
    "jupyter": {
     "outputs_hidden": true
    }
   },
   "outputs": [
    {
     "data": {
      "text/plain": [
       "Pilot                        258\n",
       "American Airlines             90\n",
       "United Airlines               89\n",
       "Delta Air Lines               53\n",
       "SOUTHWEST AIRLINES CO         42\n",
       "                            ... \n",
       "WOODY CONTRACTING INC          1\n",
       "Rod Aviation LLC               1\n",
       "Paul D Franzon                 1\n",
       "TRAINING SERVICES INC DBA      1\n",
       "MC CESSNA 210N LLC             1\n",
       "Name: Air.carrier, Length: 13590, dtype: int64"
      ]
     },
     "execution_count": 20,
     "metadata": {},
     "output_type": "execute_result"
    }
   ],
   "source": [
    "# Too much missing data and not enough analytical significance --> Drop\n",
    "\n",
    "ad['Air.carrier'].value_counts()"
   ]
  },
  {
   "cell_type": "code",
   "execution_count": 21,
   "id": "60f60ad4-4912-4edc-ba06-a60cd7ddeb3e",
   "metadata": {
    "collapsed": true,
    "jupyter": {
     "outputs_hidden": true
    }
   },
   "outputs": [
    {
     "data": {
      "text/plain": [
       "0.0      29879\n",
       "1.0      25101\n",
       "2.0      15988\n",
       "3.0       4313\n",
       "4.0       2662\n",
       "         ...  \n",
       "558.0        1\n",
       "412.0        1\n",
       "338.0        1\n",
       "401.0        1\n",
       "455.0        1\n",
       "Name: Total.Uninjured, Length: 379, dtype: int64"
      ]
     },
     "execution_count": 21,
     "metadata": {},
     "output_type": "execute_result"
    }
   ],
   "source": [
    "# Would be good to keep this column and do analysis of safest aircraft\n",
    "\n",
    "# Drop na if we don't lose too much other data after evaluating the rest of the columns\n",
    "\n",
    "ad['Total.Uninjured'].value_counts()"
   ]
  },
  {
   "cell_type": "code",
   "execution_count": 22,
   "id": "3f1df1d9-b2b2-442c-80ed-9d8169472299",
   "metadata": {
    "collapsed": true,
    "jupyter": {
     "outputs_hidden": true
    }
   },
   "outputs": [
    {
     "data": {
      "text/plain": [
       "VMC    77303\n",
       "IMC     5976\n",
       "UNK      856\n",
       "Unk      262\n",
       "Name: Weather.Condition, dtype: int64"
      ]
     },
     "execution_count": 22,
     "metadata": {},
     "output_type": "execute_result"
    }
   ],
   "source": [
    "# Adjust capitalization and combine; unk & unknown\n",
    "\n",
    "\"\"\"\n",
    "Visual meteorological conditions (VMC) is an aviation flight category \n",
    "in which visual flight rules (VFR) flight is permitted—that is, conditions in which \n",
    "pilots have sufficient visibility to fly the aircraft maintaining visual separation \n",
    "from terrain and other aircraft. \n",
    "\n",
    "In aviation, instrument meteorological conditions (IMC) are weather conditions that \n",
    "require pilots to fly primarily by reference to flight instruments. Typically, this \n",
    "means flying in cloud or poor weather, where little or nothing can be seen or recognised \n",
    "when looking out of the window. \n",
    "\"\"\"\n",
    "\n",
    "ad['Weather.Condition'].value_counts()"
   ]
  },
  {
   "cell_type": "code",
   "execution_count": 23,
   "id": "9d15c927-935f-4df7-9fed-625ba008d211",
   "metadata": {
    "collapsed": true,
    "jupyter": {
     "outputs_hidden": true
    }
   },
   "outputs": [
    {
     "data": {
      "text/plain": [
       "Landing        0.249951\n",
       "Takeoff        0.202401\n",
       "Cruise         0.166370\n",
       "Maneuvering    0.131942\n",
       "Approach       0.106053\n",
       "Climb          0.032953\n",
       "Taxi           0.031722\n",
       "Descent        0.030572\n",
       "Go-around      0.021920\n",
       "Standing       0.015310\n",
       "Unknown        0.008878\n",
       "Other          0.001928\n",
       "Name: Broad.phase.of.flight, dtype: float64"
      ]
     },
     "execution_count": 23,
     "metadata": {},
     "output_type": "execute_result"
    }
   ],
   "source": [
    "# Combine 'unknown' & 'other'\n",
    "\n",
    "ad['Broad.phase.of.flight'].value_counts(normalize=True)"
   ]
  },
  {
   "cell_type": "code",
   "execution_count": 44,
   "id": "804e9133-e965-4075-a4bd-42957f0c1af7",
   "metadata": {},
   "outputs": [
    {
     "data": {
      "text/plain": [
       "Probable Cause                                                                                                                                                                                                                                                                                                     0.749723\n",
       "Foreign                                                                                                                                                                                                                                                                                                            0.022736\n",
       "<br /><br />                                                                                                                                                                                                                                                                                                       0.001769\n",
       "Factual                                                                                                                                                                                                                                                                                                            0.001744\n",
       "The pilot's failure to maintain directional control during the landing roll.                                                                                                                                                                                                                                       0.000683\n",
       "                                                                                                                                                                                                                                                                                                                     ...   \n",
       "The pilots decision to takeoff from a contaminated runway with unfavorable wind conditions, and his failure to maintain airspeed during the initial climb, which resulted in an aerodynamic stall. Contributing to the accident was the operators inadequate procedures for operational control and dispatch.    0.000012\n",
       "The pilots improper fuel management during the flight, which resulted in a total loss of engine power.                                                                                                                                                                                                            0.000012\n",
       "The pilot did not clear the area surrounding the airplane prior to taxi, resulting in the airplane contacting a piece of baggage.                                                                                                                                                                                  0.000012\n",
       "The pilot did not maintain the proper approach path, which resulted in a runway undershoot.                                                                                                                                                                                                                        0.000012\n",
       "The pilots loss of control due to a wind gust during landing.                                                                                                                                                                                                                                                     0.000012\n",
       "Name: Report.Status, Length: 17007, dtype: float64"
      ]
     },
     "execution_count": 44,
     "metadata": {},
     "output_type": "execute_result"
    }
   ],
   "source": [
    "# So much mixed information types, can't know what the numbers mean --> Drop\n",
    "\n",
    "ad['Report.Status'].value_counts(normalize=True)"
   ]
  },
  {
   "cell_type": "code",
   "execution_count": 45,
   "id": "c611ea00-b462-4d09-96b1-a118b55edce1",
   "metadata": {},
   "outputs": [
    {
     "data": {
      "text/plain": [
       "25-09-2020    0.224166\n",
       "26-09-2020    0.021888\n",
       "03-11-2020    0.013228\n",
       "31-03-1993    0.006080\n",
       "25-11-2003    0.005337\n",
       "                ...   \n",
       "13-06-2001    0.000014\n",
       "29-12-2008    0.000014\n",
       "02-04-2001    0.000014\n",
       "18-12-2002    0.000014\n",
       "29-12-2022    0.000014\n",
       "Name: Publication.Date, Length: 2877, dtype: float64"
      ]
     },
     "execution_count": 45,
     "metadata": {},
     "output_type": "execute_result"
    }
   ],
   "source": [
    "# Check if the same as Event.Date\n",
    "# Transform into a date format if keeping the column\n",
    "\n",
    "ad['Publication.Date'].value_counts(normalize=True)"
   ]
  },
  {
   "cell_type": "markdown",
   "id": "5879e1d5-7f9e-41b9-830b-c39ab1dc6476",
   "metadata": {},
   "source": [
    "### Adjust dtype, Capitalization, and Imputate na to Separate Category"
   ]
  },
  {
   "cell_type": "code",
   "execution_count": null,
   "id": "afe0eadb-9215-47e1-b361-840a55638a61",
   "metadata": {},
   "outputs": [],
   "source": [
    "# Get rid of duplicates based on Accident.Number"
   ]
  },
  {
   "cell_type": "code",
   "execution_count": 25,
   "id": "c2b6e01a-4035-4d66-81f9-3b988870d3b4",
   "metadata": {
    "collapsed": true,
    "jupyter": {
     "outputs_hidden": true
    }
   },
   "outputs": [
    {
     "data": {
      "text/plain": [
       "Event.Id                      0\n",
       "Investigation.Type            0\n",
       "Accident.Number               0\n",
       "Event.Date                    0\n",
       "Location                      0\n",
       "Country                       0\n",
       "Latitude                  53338\n",
       "Longitude                 53347\n",
       "Airport.Code              37496\n",
       "Airport.Name              34991\n",
       "Injury.Severity               0\n",
       "Aircraft.damage            2639\n",
       "Aircraft.Category         56103\n",
       "Registration.Number        1178\n",
       "Make                          0\n",
       "Model                         0\n",
       "Amateur.Built                 0\n",
       "Number.of.Engines          5212\n",
       "Engine.Type                6136\n",
       "FAR.Description           56309\n",
       "Schedule                  75464\n",
       "Purpose.of.flight          5132\n",
       "Air.carrier               71390\n",
       "Total.Fatal.Injuries      11299\n",
       "Total.Serious.Injuries    12378\n",
       "Total.Minor.Injuries      11797\n",
       "Total.Uninjured            5813\n",
       "Weather.Condition          3480\n",
       "Broad.phase.of.flight     25991\n",
       "Report.Status              5442\n",
       "Publication.Date          13415\n",
       "dtype: int64"
      ]
     },
     "execution_count": 25,
     "metadata": {},
     "output_type": "execute_result"
    }
   ],
   "source": [
    "# Dropping rows of columns with few missing data\n",
    "# Will not impact overall analysis\n",
    "\n",
    "ad.dropna(inplace=True, \n",
    "          subset=['Location', 'Country', 'Make', 'Model','Amateur.Built','Injury.Severity'])\n",
    "ad.isna().sum()"
   ]
  },
  {
   "cell_type": "code",
   "execution_count": 26,
   "id": "e7441530-e59d-4f3b-95b1-99f30175c142",
   "metadata": {
    "collapsed": true,
    "jupyter": {
     "outputs_hidden": true
    }
   },
   "outputs": [
    {
     "data": {
      "text/plain": [
       "reciprocating      0.852936\n",
       "turbo shaft        0.043203\n",
       "turbo prop         0.041321\n",
       "turbo fan          0.028798\n",
       "unknown            0.024763\n",
       "turbo jet          0.008562\n",
       "none               0.000258\n",
       "electric           0.000098\n",
       "lr                 0.000025\n",
       "hybrid rocket      0.000012\n",
       "geared turbofan    0.000012\n",
       "unk                0.000012\n",
       "Name: Engine.Type, dtype: float64"
      ]
     },
     "execution_count": 26,
     "metadata": {},
     "output_type": "execute_result"
    }
   ],
   "source": [
    "# Adjust capitalization to lowercase\n",
    "\n",
    "# Create function to lowercase selected columns\n",
    "\n",
    "def lowercase(df):\n",
    "    df = df.apply(lambda x: x.str.lower())\n",
    "    return df\n",
    "\n",
    "# Imutate on database to lowercase all relevant columns\n",
    "\n",
    "ad[['Purpose.of.flight','Make','Aircraft.Category','Engine.Type',\n",
    "    'Location','Injury.Severity','Aircraft.damage']] \\\n",
    "= lowercase(ad[['Purpose.of.flight','Make','Aircraft.Category','Engine.Type',\n",
    "                'Location','Injury.Severity','Aircraft.damage']])\n",
    "ad['Engine.Type'].value_counts(normalize=True)"
   ]
  },
  {
   "cell_type": "code",
   "execution_count": 27,
   "id": "37d96386-dea3-441c-a343-ca50da542637",
   "metadata": {
    "collapsed": true,
    "jupyter": {
     "outputs_hidden": true
    }
   },
   "outputs": [
    {
     "data": {
      "text/plain": [
       "VMC    0.916626\n",
       "IMC    0.070747\n",
       "UNK    0.012627\n",
       "Name: Weather.Condition, dtype: float64"
      ]
     },
     "execution_count": 27,
     "metadata": {},
     "output_type": "execute_result"
    }
   ],
   "source": [
    "# Adjust capitalization to uppercase\n",
    "\n",
    "def uppercase(df):\n",
    "    df = df.apply(lambda x: x.str.upper())\n",
    "    return df\n",
    "\n",
    "ad[['Weather.Condition']] = uppercase(ad[['Weather.Condition']])\n",
    "ad['Weather.Condition'].value_counts(normalize=True)"
   ]
  },
  {
   "cell_type": "code",
   "execution_count": 28,
   "id": "bb8bc8a7-83ad-479c-a0b6-af540b4f43bf",
   "metadata": {
    "collapsed": true,
    "jupyter": {
     "outputs_hidden": true
    }
   },
   "outputs": [
    {
     "name": "stdout",
     "output_type": "stream",
     "text": [
      "1.0    69332\n",
      "2.0    10778\n",
      "0.0     1220\n",
      "3.0      475\n",
      "4.0      406\n",
      "8.0        3\n",
      "6.0        1\n",
      "Name: Number.of.Engines, dtype: int64\n",
      "non-fatal     67130\n",
      "fatal(1)       6119\n",
      "fatal          5248\n",
      "fatal(2)       3675\n",
      "incident       2143\n",
      "              ...  \n",
      "fatal(153)        1\n",
      "fatal(33)         1\n",
      "fatal(123)        1\n",
      "fatal(189)        1\n",
      "fatal(72)         1\n",
      "Name: Injury.Severity, Length: 107, dtype: int64\n",
      "VMC        76948\n",
      "IMC         5939\n",
      "unknown     1060\n",
      "Name: Weather.Condition, dtype: int64\n",
      "Landing        15382\n",
      "Takeoff        12435\n",
      "Cruise         10206\n",
      "Maneuvering     8113\n",
      "Approach        6517\n",
      "Climb           2018\n",
      "Taxi            1950\n",
      "Descent         1874\n",
      "Go-around       1351\n",
      "Standing         934\n",
      "Unknown          656\n",
      "Name: Broad.phase.of.flight, dtype: int64\n"
     ]
    }
   ],
   "source": [
    "# Combine all versions of 'unknown' into one 'unknown'\n",
    "\n",
    "ad.loc[ad['Engine.Type'] == 'unk', ['Engine.Type']] = 'unknown'\n",
    "ad.loc[ad['Injury.Severity'] == 'unavailable', ['Injury.Severity']] = 'unknown'\n",
    "ad.loc[ad['Weather.Condition'] == 'UNK', ['Weather.Condition']] = 'unknown'\n",
    "ad.loc[ad['Broad.phase.of.flight'] == 'Other', ['Broad.phase.of.flight']] = 'Unknown'\n",
    "\n",
    "print(ad['Number.of.Engines'].value_counts())\n",
    "print(ad['Injury.Severity'].value_counts())\n",
    "print(ad['Weather.Condition'].value_counts())\n",
    "print(ad['Broad.phase.of.flight'].value_counts())"
   ]
  },
  {
   "cell_type": "code",
   "execution_count": 41,
   "id": "0995bd79-8eaf-4865-9245-a7841f72297e",
   "metadata": {
    "collapsed": true,
    "jupyter": {
     "outputs_hidden": true
    }
   },
   "outputs": [
    {
     "name": "stdout",
     "output_type": "stream",
     "text": [
      "0\n",
      "0\n",
      "0\n",
      "0\n",
      "0\n",
      "0\n",
      "0\n"
     ]
    }
   ],
   "source": [
    "# Adjust na value to it's own category\n",
    "\n",
    "ad['Purpose.of.flight'].fillna('unknown', inplace=True)\n",
    "ad['Aircraft.damage'].fillna('unknown', inplace=True)\n",
    "ad['Aircraft.Category'].fillna('unknown', inplace=True)\n",
    "ad['Injury.Severity'].fillna('unknown', inplace=True)\n",
    "ad['Engine.Type'].fillna('unknown', inplace=True)\n",
    "ad['Weather.Condition'].fillna('unknown', inplace=True)\n",
    "ad['Broad.phase.of.flight'].fillna('Unknown', inplace=True)\n",
    "\n",
    "print(ad['Purpose.of.flight'].isna().sum())\n",
    "print(ad['Aircraft.damage'].isna().sum())\n",
    "print(ad['Aircraft.Category'].isna().sum())\n",
    "print(ad['Injury.Severity'].isna().sum())\n",
    "print(ad['Engine.Type'].isna().sum())\n",
    "print(ad['Weather.Condition'].isna().sum())\n",
    "print(ad['Broad.phase.of.flight'].isna().sum())"
   ]
  },
  {
   "cell_type": "code",
   "execution_count": 43,
   "id": "f7e47682-6bf3-4804-a835-1770ef5cdf10",
   "metadata": {
    "collapsed": true,
    "jupyter": {
     "outputs_hidden": true
    }
   },
   "outputs": [
    {
     "data": {
      "text/plain": [
       "Unknown        0.304791\n",
       "Landing        0.175941\n",
       "Takeoff        0.142233\n",
       "Cruise         0.116737\n",
       "Maneuvering    0.092797\n",
       "Approach       0.074542\n",
       "Climb          0.023082\n",
       "Taxi           0.022304\n",
       "Descent        0.021435\n",
       "Go-around      0.015453\n",
       "Standing       0.010683\n",
       "Name: Broad.phase.of.flight, dtype: float64"
      ]
     },
     "execution_count": 43,
     "metadata": {},
     "output_type": "execute_result"
    }
   ],
   "source": [
    "# Confirm new 'unknown' count\n",
    "\n",
    "# 30% of data is missing from the column, too much to redistribute\n",
    "# Column could be useful for safety protocols\n",
    "\n",
    "ad['Broad.phase.of.flight'].value_counts(normalize=True)"
   ]
  },
  {
   "cell_type": "code",
   "execution_count": 31,
   "id": "944d442c-f3ce-4e28-ae5d-3165a13e9825",
   "metadata": {
    "collapsed": true,
    "jupyter": {
     "outputs_hidden": true
    }
   },
   "outputs": [
    {
     "data": {
      "text/plain": [
       "unknown              0.641838\n",
       "airplane             0.305832\n",
       "helicopter           0.038444\n",
       "glider               0.005811\n",
       "balloon              0.002642\n",
       "gyrocraft            0.001979\n",
       "weight-shift         0.001842\n",
       "powered parachute    0.001041\n",
       "ultralight           0.000343\n",
       "wsft                 0.000103\n",
       "powered-lift         0.000057\n",
       "blimp                0.000046\n",
       "rocket               0.000011\n",
       "ultr                 0.000011\n",
       "Name: Aircraft.Category, dtype: float64"
      ]
     },
     "execution_count": 31,
     "metadata": {},
     "output_type": "execute_result"
    }
   ],
   "source": [
    "# Confirm new 'unknown' count\n",
    "\n",
    "# too many missing values to redistribute based on proportions\n",
    "# since the category is probably useful, \n",
    "# we'd want to evaluate it in a separate data set where we drop unknowns\n",
    "\n",
    "# The option is to drop the entire column or rows with 'unknown'\n",
    "\n",
    "ad['Aircraft.Category'].value_counts(normalize=True)"
   ]
  },
  {
   "cell_type": "code",
   "execution_count": 32,
   "id": "2ad663b6-39c5-4562-b43b-d76716a6db18",
   "metadata": {
    "collapsed": true,
    "jupyter": {
     "outputs_hidden": true
    }
   },
   "outputs": [
    {
     "data": {
      "text/plain": [
       "fatal       0.970089\n",
       "incident    0.024512\n",
       "minor       0.002494\n",
       "serious     0.001979\n",
       "unknown     0.000926\n",
       "Name: Injury.Severity, dtype: float64"
      ]
     },
     "execution_count": 32,
     "metadata": {},
     "output_type": "execute_result"
    }
   ],
   "source": [
    "# Combine all variations of 'fatal' values into one 'fatal' category\n",
    "\n",
    "# We can now see there is an 'unavailable' and 'unknown' category into which we can add na values\n",
    "\n",
    "# We can also then distribute the 'unknown' values based \n",
    "# on proportional distribution of the other categories\n",
    "\n",
    "for value in ad:\n",
    "    if ad['Injury.Severity'].str.contains('fatal').any():\n",
    "        ad.loc[ad['Injury.Severity'].str.contains('fatal'), 'Injury.Severity'] = 'fatal'\n",
    "\n",
    "ad['Injury.Severity'].value_counts(normalize=True)"
   ]
  },
  {
   "cell_type": "markdown",
   "id": "5307c3d4-d598-4a3a-8f50-cefb5f84aeca",
   "metadata": {},
   "source": [
    "### Higher Level Imputation (drop cols, impute on na with stat functions)"
   ]
  },
  {
   "cell_type": "code",
   "execution_count": 33,
   "id": "5384c6a6-5d7d-4961-afec-be7de81e2949",
   "metadata": {
    "collapsed": true,
    "jp-MarkdownHeadingCollapsed": true,
    "jupyter": {
     "outputs_hidden": true
    }
   },
   "outputs": [],
   "source": [
    "# Create copy of original data for column dropping\n",
    "\n",
    "ad_1 = ad.copy()\n",
    "\n",
    "\"\"\"\n",
    "These columns do not add value to analysis and are missing alot of data\n",
    "    - Latitude\n",
    "    - Longitude\n",
    "    - Airport.Code\n",
    "    - Airport.Name\n",
    "    - Schedule\n",
    "    - FAR.Description\n",
    "    - Registration.Number\n",
    "    - Total.Fatal.Injuries\n",
    "    - Total.Serious.Injuries\n",
    "    - Total.Minor.Injuries\n",
    "    - Report.Status\n",
    "    \n",
    "Cound include in Next Steps suggestions for additional analysis when it's time\n",
    "for phase 2 of business development\n",
    "\"\"\"\n",
    "# Drop unnecessary columns\n",
    "ad_1 = ad.drop(['Airport.Code', 'Airport.Name', \\\n",
    "                'Schedule','Registration.Number','Latitude','Longitude', \\\n",
    "                'FAR.Description','Air.carrier','Total.Fatal.Injuries', \\\n",
    "                'Total.Serious.Injuries', 'Total.Minor.Injuries', 'Report.Status'], axis=1)"
   ]
  },
  {
   "cell_type": "markdown",
   "id": "d90f1dee-d5ed-4acd-91a5-f143ca70999b",
   "metadata": {},
   "source": [
    "##### Missing ~7% of data from Number.of.Engines\n",
    "\n",
    "ad['Number.of.Engines'].value_counts(normalize=True)\n",
    "\n",
    "Original distribution:\n",
    "\n",
    "- 1.0 = 0.843301\n",
    "- 2.0 = 0.131095\n",
    "- 0.0 = 0.014839\n",
    "- 3.0 = 0.005778\n",
    "- 4.0 = 0.004938\n",
    "- 8.0 = 0.000036\n",
    "- 6.0 = 0.000012\n",
    "\n",
    "After distribution of na:\n",
    "- 1.0 = 0.843790\n",
    "- 2.0 = 0.130692\n",
    "- 0.0 = 0.014778\n",
    "- 3.0 = 0.005662\n",
    "- 4.0 = 0.005033\n",
    "- 8.0 = 0.000034\n",
    "- 6.0 = 0.000011"
   ]
  },
  {
   "cell_type": "code",
   "execution_count": 34,
   "id": "0d20a7c3-003a-4075-93b8-9814e0523316",
   "metadata": {
    "collapsed": true,
    "jupyter": {
     "outputs_hidden": true
    }
   },
   "outputs": [
    {
     "name": "stdout",
     "output_type": "stream",
     "text": [
      "1.0    0.842943\n",
      "2.0    0.131481\n",
      "0.0    0.014812\n",
      "3.0    0.005799\n",
      "4.0    0.004896\n",
      "8.0    0.000046\n",
      "6.0    0.000023\n",
      "Name: Number.of.Engines, dtype: float64\n",
      "0\n"
     ]
    }
   ],
   "source": [
    "# Observation: account for 1.5% of the missing data in the column\n",
    "# Method: randomly select a class acccording to current distribution\n",
    "\n",
    "# REMINDER: adjust dataframe name based on the rest of the doc\n",
    "\n",
    "# Create copy of data base since this is a major imputation\n",
    "ad_2 = ad_1.copy()\n",
    "\n",
    "# relative probabilities (likelihood of 3 dif classes)\n",
    "rel_prob = [0.843301, 0.131095, 0.014839, 0.005778, 0.004938, 0.000036, 0.000012]\n",
    "\n",
    "# relative probabilities (likelihood of 3 dif classes)\n",
    "prob = [i/sum(rel_prob) for i in rel_prob]\n",
    "\n",
    "# actual probability of each class (x/total)\n",
    "def impute_pclass(value): # impute = replace\n",
    "    if pd.isna(value) == True:\n",
    "        return np.random.choice([1.0,2.0,0.0,3.0,4.0,8.0,6.0], p=prob)\n",
    "    else:\n",
    "        return value\n",
    "        \n",
    "ad_2['Number.of.Engines'] = ad_2['Number.of.Engines'].map(lambda x: impute_pclass(x))\n",
    "print(ad_2['Number.of.Engines'].value_counts(normalize=True))\n",
    "print(ad_2['Number.of.Engines'].isna().sum())"
   ]
  },
  {
   "cell_type": "markdown",
   "id": "9e2f635a-b1e0-4eab-9321-a0e4006ee17a",
   "metadata": {},
   "source": [
    "##### Missing .09% of data from 'Injury.Severity'\n",
    "\n",
    "ad['Injury.Severity'].value_counts(normalize=True)\n",
    "\n",
    "Original distribution:\n",
    "\n",
    "- fatal = 0.970089\n",
    "- incident = 0.024512\n",
    "- minor = 0.002494\n",
    "- serious = 0.001979\n",
    "- unavailable = 0.000926\n",
    "\n",
    "After distribution of 'unavailable':\n",
    "- fatal = 0.970970\n",
    "- incident = 0.024546\n",
    "- minor = 0.002494\n",
    "- serious = 0.001990"
   ]
  },
  {
   "cell_type": "code",
   "execution_count": 35,
   "id": "24fabc47-2c9e-45b8-a434-e535e19a4245",
   "metadata": {
    "collapsed": true,
    "jupyter": {
     "outputs_hidden": true
    }
   },
   "outputs": [
    {
     "data": {
      "text/plain": [
       "fatal       0.970982\n",
       "incident    0.024546\n",
       "minor       0.002494\n",
       "serious     0.001979\n",
       "Name: Injury.Severity, dtype: float64"
      ]
     },
     "execution_count": 35,
     "metadata": {},
     "output_type": "execute_result"
    }
   ],
   "source": [
    "# Observation: account for .09% of the data missing in the column\n",
    "# Method: randomly select a class acccording to current distribution\n",
    "\n",
    "# REMINDER: adjust dataframe name based on the rest of the doc\n",
    "\n",
    "# Create copy of data base since this is a major imputation\n",
    "ad_3= ad_2.copy()\n",
    "\n",
    "# relative probabilities (likelihood of dif classes)\n",
    "rel_prob = [0.970089, 0.024512, 0.002494, 0.001979]\n",
    "\n",
    "# relative probabilities (likelihood of 3 dif classes)\n",
    "prob = [i/sum(rel_prob) for i in rel_prob]\n",
    "\n",
    "# actual probability of each class (x/total)\n",
    "def impute_pclass(value): # impute = replace\n",
    "    if value == 'unknown':\n",
    "        return np.random.choice(['fatal','incident','minor','serious'], p=prob)\n",
    "    else:\n",
    "        return value\n",
    "        \n",
    "ad_3['Injury.Severity'] = ad_3['Injury.Severity'].map(lambda x: impute_pclass(x))\n",
    "ad_3['Injury.Severity'].value_counts(normalize=True)"
   ]
  },
  {
   "cell_type": "markdown",
   "id": "81468a6a-9e27-46ec-b429-8cb4894274c1",
   "metadata": {},
   "source": [
    "##### Missing ~3% of data from 'Aircraft.damage'\n",
    "\n",
    "ad['Aircraft.damage'].value_counts(normalize=True)\n",
    "\n",
    "Original distribution:\n",
    "\n",
    "- Substantial = 0.729328\n",
    "- Destroyed = 0.210427\n",
    "- Unknown = 0.031237\n",
    "- Minor = 0.029007\n",
    "\n",
    "After distribution of 'Unknown':\n",
    "\n",
    "- Substantial = 0.753074\n",
    "- Destroyed = 0.217027\n",
    "- Minor = 0.029899"
   ]
  },
  {
   "cell_type": "code",
   "execution_count": 36,
   "id": "e781a6da-e7ca-4f1e-a133-4cc9121c52f0",
   "metadata": {
    "collapsed": true,
    "jupyter": {
     "outputs_hidden": true
    },
    "scrolled": true
   },
   "outputs": [
    {
     "data": {
      "text/plain": [
       "substantial    0.729328\n",
       "destroyed      0.210427\n",
       "minor          0.029007\n",
       "Substantial    0.023574\n",
       "Destroyed      0.006508\n",
       "Minor          0.001155\n",
       "Name: Aircraft.damage, dtype: float64"
      ]
     },
     "execution_count": 36,
     "metadata": {},
     "output_type": "execute_result"
    }
   ],
   "source": [
    "# Observation: account for ~3% of the data missing in the column\n",
    "# Method: randomly select a class acccording to current distribution\n",
    "\n",
    "# REMINDER: adjust dataframe name based on the rest of the doc\n",
    "\n",
    "# Create copy of data base since this is a major imputation\n",
    "ad_4= ad_3.copy()\n",
    "\n",
    "# relative probabilities (likelihood of 3 dif classes)\n",
    "rel_prob = [0.729328, 0.210427, 0.029007]\n",
    "\n",
    "# relative probabilities (likelihood of 3 dif classes)\n",
    "prob = [i/sum(rel_prob) for i in rel_prob]\n",
    "\n",
    "# actual probability of each class (x/total)\n",
    "def impute_pclass(value): # impute = replace\n",
    "    if value == 'unknown':\n",
    "        return np.random.choice(['Substantial','Destroyed','Minor'], p=prob)\n",
    "    else:\n",
    "        return value\n",
    "        \n",
    "ad_4['Aircraft.damage'] = ad_4['Aircraft.damage'].map(lambda x: impute_pclass(x))\n",
    "ad_4['Aircraft.damage'].value_counts(normalize=True)"
   ]
  },
  {
   "cell_type": "markdown",
   "id": "a59efa4c-b6c0-4abe-b490-da07871e4e3e",
   "metadata": {},
   "source": [
    "##### Missing ~1.3% of data from 'Weather.Condition'\n",
    "\n",
    "ad['Weather.Condition'].value_counts(normalize=True)\n",
    "\n",
    "Original distribution:\n",
    "\n",
    "- VMC = 0.916614\n",
    "- IMC = 0.070747\n",
    "- UNKNOWN = 0.012639\n",
    "\n",
    "After distribution of 'UNKNOWN':\n",
    "\n",
    "- VMC = 0.928695\n",
    "- IMC = 0.071305"
   ]
  },
  {
   "cell_type": "code",
   "execution_count": 37,
   "id": "01e455d5-8f42-465e-920e-3888f3d8e5f8",
   "metadata": {
    "collapsed": true,
    "jupyter": {
     "outputs_hidden": true
    }
   },
   "outputs": [
    {
     "data": {
      "text/plain": [
       "VMC    0.928192\n",
       "IMC    0.071808\n",
       "Name: Weather.Condition, dtype: float64"
      ]
     },
     "execution_count": 37,
     "metadata": {},
     "output_type": "execute_result"
    }
   ],
   "source": [
    "# Observation: account for 1.3% of the data\n",
    "# Method: randomly select a class acccording to current distribution\n",
    "\n",
    "# REMINDER: adjust dataframe name based on the rest of the doc\n",
    "\n",
    "# Create copy of data base since this is a major imputation\n",
    "ad_5= ad_4.copy()\n",
    "\n",
    "# relative probabilities (likelihood of 3 dif classes)\n",
    "rel_prob = [0.916614, 0.070747]\n",
    "\n",
    "# relative probabilities (likelihood of 3 dif classes)\n",
    "prob = [i/sum(rel_prob) for i in rel_prob]\n",
    "\n",
    "# actual probability of each class (x/total)\n",
    "def impute_pclass(value): # impute = replace\n",
    "    if value == 'unknown':\n",
    "        return np.random.choice(['VMC','IMC'], p=prob)\n",
    "    else:\n",
    "        return value\n",
    "        \n",
    "ad_5['Weather.Condition'] = ad_5['Weather.Condition'].map(lambda x: impute_pclass(x))\n",
    "ad_5['Weather.Condition'].value_counts(normalize=True)"
   ]
  },
  {
   "cell_type": "code",
   "execution_count": 38,
   "id": "7722e4d5-6523-41c5-b981-a827dafc0d8c",
   "metadata": {
    "collapsed": true,
    "jupyter": {
     "outputs_hidden": true
    }
   },
   "outputs": [
    {
     "data": {
      "text/plain": [
       "Event.Id                     0\n",
       "Investigation.Type           0\n",
       "Accident.Number              0\n",
       "Event.Date                   0\n",
       "Location                     0\n",
       "Country                      0\n",
       "Injury.Severity              0\n",
       "Aircraft.damage              0\n",
       "Aircraft.Category            0\n",
       "Make                         0\n",
       "Model                        0\n",
       "Amateur.Built                0\n",
       "Number.of.Engines            0\n",
       "Engine.Type                  0\n",
       "Purpose.of.flight            0\n",
       "Total.Uninjured           5813\n",
       "Weather.Condition            0\n",
       "Broad.phase.of.flight    25991\n",
       "Report.Status             5442\n",
       "Publication.Date         13415\n",
       "dtype: int64"
      ]
     },
     "execution_count": 38,
     "metadata": {},
     "output_type": "execute_result"
    }
   ],
   "source": [
    "ad_5.isna().sum()"
   ]
  },
  {
   "cell_type": "code",
   "execution_count": 39,
   "id": "df1f569e-9a72-43fc-986b-ea412f471a90",
   "metadata": {
    "collapsed": true,
    "jupyter": {
     "outputs_hidden": true
    }
   },
   "outputs": [
    {
     "name": "stdout",
     "output_type": "stream",
     "text": [
      "<class 'pandas.core.frame.DataFrame'>\n",
      "Int64Index: 87427 entries, 0 to 88888\n",
      "Data columns (total 20 columns):\n",
      " #   Column                 Non-Null Count  Dtype  \n",
      "---  ------                 --------------  -----  \n",
      " 0   Event.Id               87427 non-null  object \n",
      " 1   Investigation.Type     87427 non-null  object \n",
      " 2   Accident.Number        87427 non-null  object \n",
      " 3   Event.Date             87427 non-null  object \n",
      " 4   Location               87427 non-null  object \n",
      " 5   Country                87427 non-null  object \n",
      " 6   Injury.Severity        87427 non-null  object \n",
      " 7   Aircraft.damage        87427 non-null  object \n",
      " 8   Aircraft.Category      87427 non-null  object \n",
      " 9   Make                   87427 non-null  object \n",
      " 10  Model                  87427 non-null  object \n",
      " 11  Amateur.Built          87427 non-null  object \n",
      " 12  Number.of.Engines      87427 non-null  float64\n",
      " 13  Engine.Type            87427 non-null  object \n",
      " 14  Purpose.of.flight      87427 non-null  object \n",
      " 15  Total.Uninjured        81614 non-null  float64\n",
      " 16  Weather.Condition      87427 non-null  object \n",
      " 17  Broad.phase.of.flight  61436 non-null  object \n",
      " 18  Report.Status          81985 non-null  object \n",
      " 19  Publication.Date       74012 non-null  object \n",
      "dtypes: float64(2), object(18)\n",
      "memory usage: 14.0+ MB\n"
     ]
    }
   ],
   "source": [
    "ad_5.info()"
   ]
  },
  {
   "cell_type": "code",
   "execution_count": null,
   "id": "a0da3a52-1c08-4a91-ad76-4fdeaf9fb324",
   "metadata": {
    "collapsed": true,
    "jupyter": {
     "outputs_hidden": true
    }
   },
   "outputs": [],
   "source": []
  }
 ],
 "metadata": {
  "kernelspec": {
   "display_name": "Python (learn-env-lite-2)",
   "language": "python",
   "name": "learn-env-lite-2"
  },
  "language_info": {
   "codemirror_mode": {
    "name": "ipython",
    "version": 3
   },
   "file_extension": ".py",
   "mimetype": "text/x-python",
   "name": "python",
   "nbconvert_exporter": "python",
   "pygments_lexer": "ipython3",
   "version": "3.8.5"
  }
 },
 "nbformat": 4,
 "nbformat_minor": 5
}
