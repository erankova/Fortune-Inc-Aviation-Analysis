{
 "cells": [
  {
   "cell_type": "markdown",
   "id": "11b1db10-9d78-45b8-8215-14a6c15841ad",
   "metadata": {},
   "source": [
    "# Aviation Exploration [placeholder title]"
   ]
  },
  {
   "cell_type": "markdown",
   "id": "91b30bce-0a40-4978-b16b-69afb66677fe",
   "metadata": {},
   "source": [
    "## Goals"
   ]
  },
  {
   "cell_type": "markdown",
   "id": "f259446d-1612-43ee-8833-8feddb239f3a",
   "metadata": {},
   "source": [
    "#### Business Problem\n",
    "Your company is expanding in to new industries to diversify its portfolio. Specifically, they are interested in purchasing and operating airplanes for commercial and private enterprises, but do not know anything about the potential risks of aircraft. You are charged with determining which aircraft are the lowest risk for the company to start this new business endeavor. You must then translate your findings into actionable insights that the head of the new aviation division can use to help decide which aircraft to purchase."
   ]
  },
  {
   "cell_type": "code",
   "execution_count": 1,
   "id": "987cdb5a-9e9d-4a9c-a731-1175766074fd",
   "metadata": {},
   "outputs": [],
   "source": [
    "# All imports\n",
    "# reminder to add ignore warning code at the end\n",
    "\n",
    "import pandas as pd\n",
    "import matplotlib.pyplot as plt\n",
    "import numpy as np\n",
    "import seaborn as sns"
   ]
  },
  {
   "cell_type": "markdown",
   "id": "5961d4aa-60d6-4c55-abff-36d84dc5277b",
   "metadata": {},
   "source": [
    "## Data"
   ]
  },
  {
   "cell_type": "code",
   "execution_count": 2,
   "id": "5bc30537-c58e-4f3a-843a-715f7b2a3962",
   "metadata": {},
   "outputs": [],
   "source": [
    "# Open data file\n",
    "\n",
    "# Had to specify encoding 'latin-1' for file to load\n",
    "# Setting low_memory=False in the read_csv function will force pandas to read the entire file at once, \n",
    "# which can help with inferring the correct data types. \n",
    "\n",
    "ad = pd.read_csv('Data/AviationData.csv', encoding='latin-1', low_memory=False)"
   ]
  },
  {
   "cell_type": "markdown",
   "id": "de22c016-73ea-4667-bf99-dcd5d37abbdd",
   "metadata": {},
   "source": [
    "### Initial Exploration"
   ]
  },
  {
   "cell_type": "code",
   "execution_count": 3,
   "id": "0487e12a-3999-458d-8a64-d3dc26f49c74",
   "metadata": {},
   "outputs": [
    {
     "name": "stdout",
     "output_type": "stream",
     "text": [
      "<class 'pandas.core.frame.DataFrame'>\n",
      "RangeIndex: 88889 entries, 0 to 88888\n",
      "Data columns (total 31 columns):\n",
      " #   Column                  Non-Null Count  Dtype  \n",
      "---  ------                  --------------  -----  \n",
      " 0   Event.Id                88889 non-null  object \n",
      " 1   Investigation.Type      88889 non-null  object \n",
      " 2   Accident.Number         88889 non-null  object \n",
      " 3   Event.Date              88889 non-null  object \n",
      " 4   Location                88837 non-null  object \n",
      " 5   Country                 88663 non-null  object \n",
      " 6   Latitude                34382 non-null  object \n",
      " 7   Longitude               34373 non-null  object \n",
      " 8   Airport.Code            50249 non-null  object \n",
      " 9   Airport.Name            52790 non-null  object \n",
      " 10  Injury.Severity         87889 non-null  object \n",
      " 11  Aircraft.damage         85695 non-null  object \n",
      " 12  Aircraft.Category       32287 non-null  object \n",
      " 13  Registration.Number     87572 non-null  object \n",
      " 14  Make                    88826 non-null  object \n",
      " 15  Model                   88797 non-null  object \n",
      " 16  Amateur.Built           88787 non-null  object \n",
      " 17  Number.of.Engines       82805 non-null  float64\n",
      " 18  Engine.Type             81812 non-null  object \n",
      " 19  FAR.Description         32023 non-null  object \n",
      " 20  Schedule                12582 non-null  object \n",
      " 21  Purpose.of.flight       82697 non-null  object \n",
      " 22  Air.carrier             16648 non-null  object \n",
      " 23  Total.Fatal.Injuries    77488 non-null  float64\n",
      " 24  Total.Serious.Injuries  76379 non-null  float64\n",
      " 25  Total.Minor.Injuries    76956 non-null  float64\n",
      " 26  Total.Uninjured         82977 non-null  float64\n",
      " 27  Weather.Condition       84397 non-null  object \n",
      " 28  Broad.phase.of.flight   61724 non-null  object \n",
      " 29  Report.Status           82508 non-null  object \n",
      " 30  Publication.Date        75118 non-null  object \n",
      "dtypes: float64(5), object(26)\n",
      "memory usage: 21.0+ MB\n"
     ]
    }
   ],
   "source": [
    "# Get initial info\n",
    "\n",
    "ad.info()"
   ]
  },
  {
   "cell_type": "code",
   "execution_count": 4,
   "id": "86c703e2-8b29-4882-a3c1-5190b7a58d48",
   "metadata": {},
   "outputs": [
    {
     "data": {
      "text/html": [
       "<div>\n",
       "<style scoped>\n",
       "    .dataframe tbody tr th:only-of-type {\n",
       "        vertical-align: middle;\n",
       "    }\n",
       "\n",
       "    .dataframe tbody tr th {\n",
       "        vertical-align: top;\n",
       "    }\n",
       "\n",
       "    .dataframe thead th {\n",
       "        text-align: right;\n",
       "    }\n",
       "</style>\n",
       "<table border=\"1\" class=\"dataframe\">\n",
       "  <thead>\n",
       "    <tr style=\"text-align: right;\">\n",
       "      <th></th>\n",
       "      <th>Number.of.Engines</th>\n",
       "      <th>Total.Fatal.Injuries</th>\n",
       "      <th>Total.Serious.Injuries</th>\n",
       "      <th>Total.Minor.Injuries</th>\n",
       "      <th>Total.Uninjured</th>\n",
       "    </tr>\n",
       "  </thead>\n",
       "  <tbody>\n",
       "    <tr>\n",
       "      <th>count</th>\n",
       "      <td>82805.000000</td>\n",
       "      <td>77488.000000</td>\n",
       "      <td>76379.000000</td>\n",
       "      <td>76956.000000</td>\n",
       "      <td>82977.000000</td>\n",
       "    </tr>\n",
       "    <tr>\n",
       "      <th>mean</th>\n",
       "      <td>1.146585</td>\n",
       "      <td>0.647855</td>\n",
       "      <td>0.279881</td>\n",
       "      <td>0.357061</td>\n",
       "      <td>5.325440</td>\n",
       "    </tr>\n",
       "    <tr>\n",
       "      <th>std</th>\n",
       "      <td>0.446510</td>\n",
       "      <td>5.485960</td>\n",
       "      <td>1.544084</td>\n",
       "      <td>2.235625</td>\n",
       "      <td>27.913634</td>\n",
       "    </tr>\n",
       "    <tr>\n",
       "      <th>min</th>\n",
       "      <td>0.000000</td>\n",
       "      <td>0.000000</td>\n",
       "      <td>0.000000</td>\n",
       "      <td>0.000000</td>\n",
       "      <td>0.000000</td>\n",
       "    </tr>\n",
       "    <tr>\n",
       "      <th>25%</th>\n",
       "      <td>1.000000</td>\n",
       "      <td>0.000000</td>\n",
       "      <td>0.000000</td>\n",
       "      <td>0.000000</td>\n",
       "      <td>0.000000</td>\n",
       "    </tr>\n",
       "    <tr>\n",
       "      <th>50%</th>\n",
       "      <td>1.000000</td>\n",
       "      <td>0.000000</td>\n",
       "      <td>0.000000</td>\n",
       "      <td>0.000000</td>\n",
       "      <td>1.000000</td>\n",
       "    </tr>\n",
       "    <tr>\n",
       "      <th>75%</th>\n",
       "      <td>1.000000</td>\n",
       "      <td>0.000000</td>\n",
       "      <td>0.000000</td>\n",
       "      <td>0.000000</td>\n",
       "      <td>2.000000</td>\n",
       "    </tr>\n",
       "    <tr>\n",
       "      <th>max</th>\n",
       "      <td>8.000000</td>\n",
       "      <td>349.000000</td>\n",
       "      <td>161.000000</td>\n",
       "      <td>380.000000</td>\n",
       "      <td>699.000000</td>\n",
       "    </tr>\n",
       "  </tbody>\n",
       "</table>\n",
       "</div>"
      ],
      "text/plain": [
       "       Number.of.Engines  Total.Fatal.Injuries  Total.Serious.Injuries  \\\n",
       "count       82805.000000          77488.000000            76379.000000   \n",
       "mean            1.146585              0.647855                0.279881   \n",
       "std             0.446510              5.485960                1.544084   \n",
       "min             0.000000              0.000000                0.000000   \n",
       "25%             1.000000              0.000000                0.000000   \n",
       "50%             1.000000              0.000000                0.000000   \n",
       "75%             1.000000              0.000000                0.000000   \n",
       "max             8.000000            349.000000              161.000000   \n",
       "\n",
       "       Total.Minor.Injuries  Total.Uninjured  \n",
       "count          76956.000000     82977.000000  \n",
       "mean               0.357061         5.325440  \n",
       "std                2.235625        27.913634  \n",
       "min                0.000000         0.000000  \n",
       "25%                0.000000         0.000000  \n",
       "50%                0.000000         1.000000  \n",
       "75%                0.000000         2.000000  \n",
       "max              380.000000       699.000000  "
      ]
     },
     "execution_count": 4,
     "metadata": {},
     "output_type": "execute_result"
    }
   ],
   "source": [
    "ad.describe()"
   ]
  },
  {
   "cell_type": "code",
   "execution_count": 5,
   "id": "e702baf8-c0e9-4220-ab99-9885a926cb4e",
   "metadata": {},
   "outputs": [
    {
     "data": {
      "text/html": [
       "<div>\n",
       "<style scoped>\n",
       "    .dataframe tbody tr th:only-of-type {\n",
       "        vertical-align: middle;\n",
       "    }\n",
       "\n",
       "    .dataframe tbody tr th {\n",
       "        vertical-align: top;\n",
       "    }\n",
       "\n",
       "    .dataframe thead th {\n",
       "        text-align: right;\n",
       "    }\n",
       "</style>\n",
       "<table border=\"1\" class=\"dataframe\">\n",
       "  <thead>\n",
       "    <tr style=\"text-align: right;\">\n",
       "      <th></th>\n",
       "      <th>Event.Id</th>\n",
       "      <th>Investigation.Type</th>\n",
       "      <th>Accident.Number</th>\n",
       "      <th>Event.Date</th>\n",
       "      <th>Location</th>\n",
       "      <th>Country</th>\n",
       "      <th>Latitude</th>\n",
       "      <th>Longitude</th>\n",
       "      <th>Airport.Code</th>\n",
       "      <th>Airport.Name</th>\n",
       "      <th>...</th>\n",
       "      <th>Purpose.of.flight</th>\n",
       "      <th>Air.carrier</th>\n",
       "      <th>Total.Fatal.Injuries</th>\n",
       "      <th>Total.Serious.Injuries</th>\n",
       "      <th>Total.Minor.Injuries</th>\n",
       "      <th>Total.Uninjured</th>\n",
       "      <th>Weather.Condition</th>\n",
       "      <th>Broad.phase.of.flight</th>\n",
       "      <th>Report.Status</th>\n",
       "      <th>Publication.Date</th>\n",
       "    </tr>\n",
       "  </thead>\n",
       "  <tbody>\n",
       "    <tr>\n",
       "      <th>71763</th>\n",
       "      <td>20120605X24844</td>\n",
       "      <td>Accident</td>\n",
       "      <td>ERA12CA382</td>\n",
       "      <td>2012-05-12</td>\n",
       "      <td>Savannah, GA</td>\n",
       "      <td>United States</td>\n",
       "      <td>032723N</td>\n",
       "      <td>0081204W</td>\n",
       "      <td>SAV</td>\n",
       "      <td>Savannah/Hilton Head Internati</td>\n",
       "      <td>...</td>\n",
       "      <td>Positioning</td>\n",
       "      <td>Riddell Enterprises</td>\n",
       "      <td>0.0</td>\n",
       "      <td>0.0</td>\n",
       "      <td>0.0</td>\n",
       "      <td>1.0</td>\n",
       "      <td>VMC</td>\n",
       "      <td>NaN</td>\n",
       "      <td>The pilot's failure to maintain adequate visua...</td>\n",
       "      <td>25-09-2020</td>\n",
       "    </tr>\n",
       "    <tr>\n",
       "      <th>86888</th>\n",
       "      <td>20210914103855</td>\n",
       "      <td>Accident</td>\n",
       "      <td>ERA21LA356</td>\n",
       "      <td>2021-09-13</td>\n",
       "      <td>Burt, NY</td>\n",
       "      <td>United States</td>\n",
       "      <td>431824N</td>\n",
       "      <td>0784442W</td>\n",
       "      <td>D80</td>\n",
       "      <td>OLCOTT-NEWFANE</td>\n",
       "      <td>...</td>\n",
       "      <td>Personal</td>\n",
       "      <td>NaN</td>\n",
       "      <td>0.0</td>\n",
       "      <td>0.0</td>\n",
       "      <td>0.0</td>\n",
       "      <td>1.0</td>\n",
       "      <td>VMC</td>\n",
       "      <td>NaN</td>\n",
       "      <td>NaN</td>\n",
       "      <td>30-09-2021</td>\n",
       "    </tr>\n",
       "    <tr>\n",
       "      <th>16556</th>\n",
       "      <td>20001213X35385</td>\n",
       "      <td>Accident</td>\n",
       "      <td>LAX87MA068A</td>\n",
       "      <td>1986-12-26</td>\n",
       "      <td>LONG BEACH, CA</td>\n",
       "      <td>United States</td>\n",
       "      <td>NaN</td>\n",
       "      <td>NaN</td>\n",
       "      <td>LGB</td>\n",
       "      <td>LONG BEACH</td>\n",
       "      <td>...</td>\n",
       "      <td>Instructional</td>\n",
       "      <td>NaN</td>\n",
       "      <td>0.0</td>\n",
       "      <td>0.0</td>\n",
       "      <td>0.0</td>\n",
       "      <td>4.0</td>\n",
       "      <td>VMC</td>\n",
       "      <td>Maneuvering</td>\n",
       "      <td>Probable Cause</td>\n",
       "      <td>28-10-1988</td>\n",
       "    </tr>\n",
       "    <tr>\n",
       "      <th>21601</th>\n",
       "      <td>20001213X27058</td>\n",
       "      <td>Accident</td>\n",
       "      <td>FTW89LA002</td>\n",
       "      <td>1988-10-02</td>\n",
       "      <td>HOUSTON, TX</td>\n",
       "      <td>United States</td>\n",
       "      <td>NaN</td>\n",
       "      <td>NaN</td>\n",
       "      <td>AAP</td>\n",
       "      <td>ANDRAU AIRPARK</td>\n",
       "      <td>...</td>\n",
       "      <td>Personal</td>\n",
       "      <td>NaN</td>\n",
       "      <td>0.0</td>\n",
       "      <td>0.0</td>\n",
       "      <td>0.0</td>\n",
       "      <td>4.0</td>\n",
       "      <td>VMC</td>\n",
       "      <td>Landing</td>\n",
       "      <td>Probable Cause</td>\n",
       "      <td>24-11-1989</td>\n",
       "    </tr>\n",
       "    <tr>\n",
       "      <th>77435</th>\n",
       "      <td>20151007X51551</td>\n",
       "      <td>Accident</td>\n",
       "      <td>ERA16LA003</td>\n",
       "      <td>2015-10-07</td>\n",
       "      <td>Knoxville, TN</td>\n",
       "      <td>United States</td>\n",
       "      <td>035570N</td>\n",
       "      <td>0855116W</td>\n",
       "      <td>DKX</td>\n",
       "      <td>KNOXVILLE DOWNTOWN ISLAND</td>\n",
       "      <td>...</td>\n",
       "      <td>Personal</td>\n",
       "      <td>NaN</td>\n",
       "      <td>0.0</td>\n",
       "      <td>0.0</td>\n",
       "      <td>2.0</td>\n",
       "      <td>0.0</td>\n",
       "      <td>IMC</td>\n",
       "      <td>NaN</td>\n",
       "      <td>The pilot's inadequate preflight weather plann...</td>\n",
       "      <td>03-12-2020</td>\n",
       "    </tr>\n",
       "    <tr>\n",
       "      <th>78762</th>\n",
       "      <td>20160810X81537</td>\n",
       "      <td>Accident</td>\n",
       "      <td>ANC16CA056</td>\n",
       "      <td>2016-08-08</td>\n",
       "      <td>Chickaloon, AK</td>\n",
       "      <td>United States</td>\n",
       "      <td>614330N</td>\n",
       "      <td>0014849W</td>\n",
       "      <td>NaN</td>\n",
       "      <td>NaN</td>\n",
       "      <td>...</td>\n",
       "      <td>Personal</td>\n",
       "      <td>NaN</td>\n",
       "      <td>0.0</td>\n",
       "      <td>0.0</td>\n",
       "      <td>0.0</td>\n",
       "      <td>2.0</td>\n",
       "      <td>VMC</td>\n",
       "      <td>NaN</td>\n",
       "      <td>A partial loss of engine power due to carburet...</td>\n",
       "      <td>25-09-2020</td>\n",
       "    </tr>\n",
       "    <tr>\n",
       "      <th>12390</th>\n",
       "      <td>20001214X37056</td>\n",
       "      <td>Accident</td>\n",
       "      <td>CHI85LA304</td>\n",
       "      <td>1985-07-21</td>\n",
       "      <td>BURLINGTON, WI</td>\n",
       "      <td>United States</td>\n",
       "      <td>NaN</td>\n",
       "      <td>NaN</td>\n",
       "      <td>NaN</td>\n",
       "      <td>NaN</td>\n",
       "      <td>...</td>\n",
       "      <td>Personal</td>\n",
       "      <td>NaN</td>\n",
       "      <td>0.0</td>\n",
       "      <td>1.0</td>\n",
       "      <td>1.0</td>\n",
       "      <td>0.0</td>\n",
       "      <td>VMC</td>\n",
       "      <td>Cruise</td>\n",
       "      <td>Probable Cause</td>\n",
       "      <td>NaN</td>\n",
       "    </tr>\n",
       "    <tr>\n",
       "      <th>26275</th>\n",
       "      <td>20001212X23914</td>\n",
       "      <td>Accident</td>\n",
       "      <td>CHI90DEM08</td>\n",
       "      <td>1990-08-06</td>\n",
       "      <td>HOLLAND, MI</td>\n",
       "      <td>United States</td>\n",
       "      <td>NaN</td>\n",
       "      <td>NaN</td>\n",
       "      <td>NaN</td>\n",
       "      <td>NaN</td>\n",
       "      <td>...</td>\n",
       "      <td>Personal</td>\n",
       "      <td>NaN</td>\n",
       "      <td>2.0</td>\n",
       "      <td>0.0</td>\n",
       "      <td>0.0</td>\n",
       "      <td>0.0</td>\n",
       "      <td>VMC</td>\n",
       "      <td>Unknown</td>\n",
       "      <td>Probable Cause</td>\n",
       "      <td>15-05-1992</td>\n",
       "    </tr>\n",
       "    <tr>\n",
       "      <th>81179</th>\n",
       "      <td>20180213X95840</td>\n",
       "      <td>Incident</td>\n",
       "      <td>DCA18RA093</td>\n",
       "      <td>2018-02-13</td>\n",
       "      <td>Lagos, Nigeria</td>\n",
       "      <td>Nigeria</td>\n",
       "      <td>NaN</td>\n",
       "      <td>NaN</td>\n",
       "      <td>NaN</td>\n",
       "      <td>Lagos</td>\n",
       "      <td>...</td>\n",
       "      <td>NaN</td>\n",
       "      <td>Delta Air Lines</td>\n",
       "      <td>0.0</td>\n",
       "      <td>9.0</td>\n",
       "      <td>0.0</td>\n",
       "      <td>135.0</td>\n",
       "      <td>NaN</td>\n",
       "      <td>NaN</td>\n",
       "      <td>NaN</td>\n",
       "      <td>25-09-2020</td>\n",
       "    </tr>\n",
       "    <tr>\n",
       "      <th>30734</th>\n",
       "      <td>20001211X14746</td>\n",
       "      <td>Incident</td>\n",
       "      <td>ANC92IA097</td>\n",
       "      <td>1992-06-26</td>\n",
       "      <td>ANCHORAGE, AK</td>\n",
       "      <td>United States</td>\n",
       "      <td>NaN</td>\n",
       "      <td>NaN</td>\n",
       "      <td>ANC</td>\n",
       "      <td>ANCHORAGE INTERNATIONAL</td>\n",
       "      <td>...</td>\n",
       "      <td>Instructional</td>\n",
       "      <td>NaN</td>\n",
       "      <td>0.0</td>\n",
       "      <td>0.0</td>\n",
       "      <td>0.0</td>\n",
       "      <td>1.0</td>\n",
       "      <td>VMC</td>\n",
       "      <td>Taxi</td>\n",
       "      <td>Probable Cause</td>\n",
       "      <td>30-06-1993</td>\n",
       "    </tr>\n",
       "  </tbody>\n",
       "</table>\n",
       "<p>10 rows × 31 columns</p>\n",
       "</div>"
      ],
      "text/plain": [
       "             Event.Id Investigation.Type Accident.Number  Event.Date  \\\n",
       "71763  20120605X24844           Accident      ERA12CA382  2012-05-12   \n",
       "86888  20210914103855           Accident      ERA21LA356  2021-09-13   \n",
       "16556  20001213X35385           Accident     LAX87MA068A  1986-12-26   \n",
       "21601  20001213X27058           Accident      FTW89LA002  1988-10-02   \n",
       "77435  20151007X51551           Accident      ERA16LA003  2015-10-07   \n",
       "78762  20160810X81537           Accident      ANC16CA056  2016-08-08   \n",
       "12390  20001214X37056           Accident      CHI85LA304  1985-07-21   \n",
       "26275  20001212X23914           Accident      CHI90DEM08  1990-08-06   \n",
       "81179  20180213X95840           Incident      DCA18RA093  2018-02-13   \n",
       "30734  20001211X14746           Incident      ANC92IA097  1992-06-26   \n",
       "\n",
       "             Location        Country Latitude Longitude Airport.Code  \\\n",
       "71763    Savannah, GA  United States  032723N  0081204W          SAV   \n",
       "86888        Burt, NY  United States  431824N  0784442W          D80   \n",
       "16556  LONG BEACH, CA  United States      NaN       NaN          LGB   \n",
       "21601     HOUSTON, TX  United States      NaN       NaN          AAP   \n",
       "77435   Knoxville, TN  United States  035570N  0855116W          DKX   \n",
       "78762  Chickaloon, AK  United States  614330N  0014849W          NaN   \n",
       "12390  BURLINGTON, WI  United States      NaN       NaN          NaN   \n",
       "26275     HOLLAND, MI  United States      NaN       NaN          NaN   \n",
       "81179  Lagos, Nigeria        Nigeria      NaN       NaN          NaN   \n",
       "30734   ANCHORAGE, AK  United States      NaN       NaN          ANC   \n",
       "\n",
       "                         Airport.Name  ... Purpose.of.flight  \\\n",
       "71763  Savannah/Hilton Head Internati  ...       Positioning   \n",
       "86888                  OLCOTT-NEWFANE  ...          Personal   \n",
       "16556                      LONG BEACH  ...     Instructional   \n",
       "21601                  ANDRAU AIRPARK  ...          Personal   \n",
       "77435       KNOXVILLE DOWNTOWN ISLAND  ...          Personal   \n",
       "78762                             NaN  ...          Personal   \n",
       "12390                             NaN  ...          Personal   \n",
       "26275                             NaN  ...          Personal   \n",
       "81179                           Lagos  ...               NaN   \n",
       "30734         ANCHORAGE INTERNATIONAL  ...     Instructional   \n",
       "\n",
       "               Air.carrier Total.Fatal.Injuries Total.Serious.Injuries  \\\n",
       "71763  Riddell Enterprises                  0.0                    0.0   \n",
       "86888                  NaN                  0.0                    0.0   \n",
       "16556                  NaN                  0.0                    0.0   \n",
       "21601                  NaN                  0.0                    0.0   \n",
       "77435                  NaN                  0.0                    0.0   \n",
       "78762                  NaN                  0.0                    0.0   \n",
       "12390                  NaN                  0.0                    1.0   \n",
       "26275                  NaN                  2.0                    0.0   \n",
       "81179      Delta Air Lines                  0.0                    9.0   \n",
       "30734                  NaN                  0.0                    0.0   \n",
       "\n",
       "      Total.Minor.Injuries Total.Uninjured Weather.Condition  \\\n",
       "71763                  0.0             1.0               VMC   \n",
       "86888                  0.0             1.0               VMC   \n",
       "16556                  0.0             4.0               VMC   \n",
       "21601                  0.0             4.0               VMC   \n",
       "77435                  2.0             0.0               IMC   \n",
       "78762                  0.0             2.0               VMC   \n",
       "12390                  1.0             0.0               VMC   \n",
       "26275                  0.0             0.0               VMC   \n",
       "81179                  0.0           135.0               NaN   \n",
       "30734                  0.0             1.0               VMC   \n",
       "\n",
       "       Broad.phase.of.flight  \\\n",
       "71763                    NaN   \n",
       "86888                    NaN   \n",
       "16556            Maneuvering   \n",
       "21601                Landing   \n",
       "77435                    NaN   \n",
       "78762                    NaN   \n",
       "12390                 Cruise   \n",
       "26275                Unknown   \n",
       "81179                    NaN   \n",
       "30734                   Taxi   \n",
       "\n",
       "                                           Report.Status Publication.Date  \n",
       "71763  The pilot's failure to maintain adequate visua...       25-09-2020  \n",
       "86888                                                NaN       30-09-2021  \n",
       "16556                                     Probable Cause       28-10-1988  \n",
       "21601                                     Probable Cause       24-11-1989  \n",
       "77435  The pilot's inadequate preflight weather plann...       03-12-2020  \n",
       "78762  A partial loss of engine power due to carburet...       25-09-2020  \n",
       "12390                                     Probable Cause              NaN  \n",
       "26275                                     Probable Cause       15-05-1992  \n",
       "81179                                                NaN       25-09-2020  \n",
       "30734                                     Probable Cause       30-06-1993  \n",
       "\n",
       "[10 rows x 31 columns]"
      ]
     },
     "execution_count": 5,
     "metadata": {},
     "output_type": "execute_result"
    }
   ],
   "source": [
    "ad.sample(n=10)"
   ]
  },
  {
   "cell_type": "markdown",
   "id": "371997c5-8d00-4c48-aa0f-a68e22034cd6",
   "metadata": {},
   "source": [
    "Initial observations:\n",
    "\n",
    "- 88888 rows and 31 columns\n",
    "- 5 floats and 26 objects\n",
    "- Column specifics denoted by a '.' followed by specification ('Airport.Code' & 'Airport.Name')\n",
    "- Columns may need to be adjusted to different dtype\n",
    "    - Event.Date -> date type\n",
    "    - Publication.Date -> date type\n",
    "- Columns may will need capitalization adjusted\n",
    "- Outliers in numerical columns"
   ]
  },
  {
   "cell_type": "code",
   "execution_count": 6,
   "id": "1e08243b-ab26-42e5-9d2a-95b8a941d54a",
   "metadata": {},
   "outputs": [
    {
     "data": {
      "text/plain": [
       "Event.Id                      0\n",
       "Investigation.Type            0\n",
       "Accident.Number               0\n",
       "Event.Date                    0\n",
       "Location                     52\n",
       "Country                     226\n",
       "Latitude                  54507\n",
       "Longitude                 54516\n",
       "Airport.Code              38640\n",
       "Airport.Name              36099\n",
       "Injury.Severity            1000\n",
       "Aircraft.damage            3194\n",
       "Aircraft.Category         56602\n",
       "Registration.Number        1317\n",
       "Make                         63\n",
       "Model                        92\n",
       "Amateur.Built               102\n",
       "Number.of.Engines          6084\n",
       "Engine.Type                7077\n",
       "FAR.Description           56866\n",
       "Schedule                  76307\n",
       "Purpose.of.flight          6192\n",
       "Air.carrier               72241\n",
       "Total.Fatal.Injuries      11401\n",
       "Total.Serious.Injuries    12510\n",
       "Total.Minor.Injuries      11933\n",
       "Total.Uninjured            5912\n",
       "Weather.Condition          4492\n",
       "Broad.phase.of.flight     27165\n",
       "Report.Status              6381\n",
       "Publication.Date          13771\n",
       "dtype: int64"
      ]
     },
     "execution_count": 6,
     "metadata": {},
     "output_type": "execute_result"
    }
   ],
   "source": [
    "# Assess the na\n",
    "\n",
    "ad.isna().sum()"
   ]
  },
  {
   "cell_type": "code",
   "execution_count": 7,
   "id": "067e8f53-dd98-472b-831e-0183ca526ac1",
   "metadata": {},
   "outputs": [
    {
     "data": {
      "text/plain": [
       "Event.Id                   0.000000\n",
       "Investigation.Type         0.000000\n",
       "Accident.Number            0.000000\n",
       "Event.Date                 0.000000\n",
       "Location                   0.058500\n",
       "Country                    0.254250\n",
       "Latitude                  61.320298\n",
       "Longitude                 61.330423\n",
       "Airport.Code              43.469946\n",
       "Airport.Name              40.611324\n",
       "Injury.Severity            1.124999\n",
       "Aircraft.damage            3.593246\n",
       "Aircraft.Category         63.677170\n",
       "Registration.Number        1.481623\n",
       "Make                       0.070875\n",
       "Model                      0.103500\n",
       "Amateur.Built              0.114750\n",
       "Number.of.Engines          6.844491\n",
       "Engine.Type                7.961615\n",
       "FAR.Description           63.974170\n",
       "Schedule                  85.845268\n",
       "Purpose.of.flight          6.965991\n",
       "Air.carrier               81.271023\n",
       "Total.Fatal.Injuries      12.826109\n",
       "Total.Serious.Injuries    14.073732\n",
       "Total.Minor.Injuries      13.424608\n",
       "Total.Uninjured            6.650992\n",
       "Weather.Condition          5.053494\n",
       "Broad.phase.of.flight     30.560587\n",
       "Report.Status              7.178616\n",
       "Publication.Date          15.492356\n",
       "dtype: float64"
      ]
     },
     "execution_count": 7,
     "metadata": {},
     "output_type": "execute_result"
    }
   ],
   "source": [
    "# Assess missingness by percentage\n",
    "\n",
    "ad.isna().sum()/len(ad)*100"
   ]
  },
  {
   "cell_type": "markdown",
   "id": "0e65046c-a958-42c1-aa87-ffd715696060",
   "metadata": {},
   "source": [
    "#### Initial thoughts"
   ]
  },
  {
   "cell_type": "markdown",
   "id": "b3bd622a-886b-4e14-bc3b-8fcd260543ac",
   "metadata": {},
   "source": [
    "- Might be able to create subset of injuries into one column\n",
    "Total.Fatal.Injuries      11401\n",
    "Total.Serious.Injuries    12510\n",
    "Total.Minor.Injuries      11933\n",
    "- Drop missing rows from\n",
    "    - Location\n",
    "    - Country\n",
    "    - Make\n",
    "    - Model\n",
    "    - Amateur.Built\n",
    "    - Injury.Severity\n",
    "- Columns to drop that do not contribute to insights regarding aircrafts \n",
    "    - Latitude\n",
    "    - Longitude\n",
    "    - Airport.Code & Airport.Name\n",
    "        - Cound include in Next Steps (which airports to focus on and pull separate data on that)\n",
    "    - Schedule\n",
    "    - Purpose.of.flight (is this something that can be helpful for next stage of business development?)\n",
    "- Create subset analysis\n",
    "    - Weather.Condition (how do aircrafts wheather in harsh conditions?)"
   ]
  },
  {
   "cell_type": "markdown",
   "id": "ab73305d-3ae3-4b14-9528-92f2c607c6ce",
   "metadata": {},
   "source": [
    "##### Explore columns before deciding how to handle\n",
    "- Aircraft.Category\n",
    "- Registration.Number\n",
    "- Number.of.Engins\n",
    "- Engin.Type\n",
    "- FAR.Description\n",
    "- Schedule\n",
    "- Air.Carrier\n",
    "- Broad.phase.of.flight\n",
    "- Report.Status\n",
    "- Publication.Date (vs Event.Date which has 0 na)"
   ]
  },
  {
   "cell_type": "markdown",
   "id": "54454e84-c064-41b4-ad3a-d5cb4a3ceeb6",
   "metadata": {},
   "source": [
    "#### Exploration of Column Values"
   ]
  },
  {
   "cell_type": "code",
   "execution_count": 8,
   "id": "d2e8b1c3-ba7d-496d-b069-bdcf991c9ed9",
   "metadata": {},
   "outputs": [
    {
     "data": {
      "text/plain": [
       "20001212X19172    3\n",
       "20001214X45071    3\n",
       "20220730105623    2\n",
       "20051213X01965    2\n",
       "20001212X16765    2\n",
       "                 ..\n",
       "20001211X14216    1\n",
       "20001211X14239    1\n",
       "20001211X14207    1\n",
       "20001211X14204    1\n",
       "20221230106513    1\n",
       "Name: Event.Id, Length: 87951, dtype: int64"
      ]
     },
     "execution_count": 8,
     "metadata": {},
     "output_type": "execute_result"
    }
   ],
   "source": [
    "# More than one record can have the same accident number with different details\n",
    "\n",
    "ad['Event.Id'].value_counts()"
   ]
  },
  {
   "cell_type": "code",
   "execution_count": 9,
   "id": "2a5bff74-9a04-4ad9-a68a-fc663470f916",
   "metadata": {},
   "outputs": [
    {
     "data": {
      "text/plain": [
       "1984-06-30    25\n",
       "1982-05-16    25\n",
       "2000-07-08    25\n",
       "1983-08-05    24\n",
       "1984-08-25    24\n",
       "              ..\n",
       "2014-03-16     1\n",
       "2014-03-15     1\n",
       "2014-03-12     1\n",
       "2014-03-10     1\n",
       "2022-12-29     1\n",
       "Name: Event.Date, Length: 14782, dtype: int64"
      ]
     },
     "execution_count": 9,
     "metadata": {},
     "output_type": "execute_result"
    }
   ],
   "source": [
    "# Change dtype to date\n",
    "# Compare to publication date\n",
    "\n",
    "ad['Event.Date'].value_counts()"
   ]
  },
  {
   "cell_type": "code",
   "execution_count": 10,
   "id": "23bce610-dd83-4d17-b851-9a6b7d08a150",
   "metadata": {},
   "outputs": [
    {
     "data": {
      "text/plain": [
       "Accident    85015\n",
       "Incident     3874\n",
       "Name: Investigation.Type, dtype: int64"
      ]
     },
     "execution_count": 10,
     "metadata": {},
     "output_type": "execute_result"
    }
   ],
   "source": [
    "# Relevant to analysis --> Keep \n",
    "\n",
    "\"\"\" \n",
    "\n",
    "An accident is when damage is done to an aircraft or person whereas \n",
    "an incident is an event the could have caused an accident.\n",
    "\n",
    "\n",
    "\"\"\"\n",
    "\n",
    "ad['Investigation.Type'].value_counts()"
   ]
  },
  {
   "cell_type": "code",
   "execution_count": 11,
   "id": "138fb7dc-9123-42d6-b7e7-d4cc551a054b",
   "metadata": {},
   "outputs": [
    {
     "data": {
      "text/plain": [
       "CEN22LA149    2\n",
       "WPR23LA041    2\n",
       "WPR23LA045    2\n",
       "DCA22WA214    2\n",
       "DCA22WA089    2\n",
       "             ..\n",
       "LAX92FA065    1\n",
       "ANC92T#A12    1\n",
       "MIA92LA049    1\n",
       "NYC92LA048    1\n",
       "ERA23LA097    1\n",
       "Name: Accident.Number, Length: 88863, dtype: int64"
      ]
     },
     "execution_count": 11,
     "metadata": {},
     "output_type": "execute_result"
    }
   ],
   "source": [
    "# More than one record can have the same accident number with different details\n",
    "\n",
    "ad['Accident.Number'].value_counts()"
   ]
  },
  {
   "cell_type": "code",
   "execution_count": 12,
   "id": "266dcd2d-8b7f-47a7-85de-bf4bb3f5b000",
   "metadata": {},
   "outputs": [
    {
     "data": {
      "text/plain": [
       "ANCHORAGE, AK          434\n",
       "MIAMI, FL              200\n",
       "ALBUQUERQUE, NM        196\n",
       "HOUSTON, TX            193\n",
       "CHICAGO, IL            184\n",
       "                      ... \n",
       "Corona De Tucso, AZ      1\n",
       "Lithonia, GA             1\n",
       "BONANZA, OR              1\n",
       "NEWPORT, PA              1\n",
       "Brasnorte,               1\n",
       "Name: Location, Length: 27758, dtype: int64"
      ]
     },
     "execution_count": 12,
     "metadata": {},
     "output_type": "execute_result"
    }
   ],
   "source": [
    "# Adjust capitalization & drop na rows\n",
    "\n",
    "ad['Location'].value_counts()"
   ]
  },
  {
   "cell_type": "code",
   "execution_count": 13,
   "id": "722df163-5323-4d7d-bdc6-1c60167857e0",
   "metadata": {},
   "outputs": [
    {
     "data": {
      "text/plain": [
       "Non-Fatal     67357\n",
       "Fatal(1)       6167\n",
       "Fatal          5262\n",
       "Fatal(2)       3711\n",
       "Incident       2219\n",
       "              ...  \n",
       "Fatal(270)        1\n",
       "Fatal(60)         1\n",
       "Fatal(43)         1\n",
       "Fatal(143)        1\n",
       "Fatal(230)        1\n",
       "Name: Injury.Severity, Length: 109, dtype: int64"
      ]
     },
     "execution_count": 13,
     "metadata": {},
     "output_type": "execute_result"
    }
   ],
   "source": [
    "# Adjust capitalization & trim to get rid of numbers at the end\n",
    "\n",
    "# Since the other columns with injury severity metrics are missing\n",
    "# so much data, we can focus on this column for analysis\n",
    "# and suggest we get a more complete data base to assess number \n",
    "# of injuries for phase 2 of business development\n",
    "\n",
    "ad['Injury.Severity'].value_counts()"
   ]
  },
  {
   "cell_type": "code",
   "execution_count": 14,
   "id": "5cc902f4-50a9-4931-876d-4d8e0196a4e3",
   "metadata": {},
   "outputs": [
    {
     "data": {
      "text/plain": [
       "Substantial    64148\n",
       "Destroyed      18623\n",
       "Minor           2805\n",
       "Unknown          119\n",
       "Name: Aircraft.damage, dtype: int64"
      ]
     },
     "execution_count": 14,
     "metadata": {},
     "output_type": "execute_result"
    }
   ],
   "source": [
    "# Can imputate and na to 'Unknown' & adjust capitalization --> Keep\n",
    "# Redistribute 'Unknowns' based on proportions of other categories\n",
    "\n",
    "ad['Aircraft.damage'].value_counts()"
   ]
  },
  {
   "cell_type": "code",
   "execution_count": 15,
   "id": "ab0e25cf-6e93-424b-95ea-73a25a2c1644",
   "metadata": {},
   "outputs": [
    {
     "data": {
      "text/plain": [
       "Airplane             27617\n",
       "Helicopter            3440\n",
       "Glider                 508\n",
       "Balloon                231\n",
       "Gyrocraft              173\n",
       "Weight-Shift           161\n",
       "Powered Parachute       91\n",
       "Ultralight              30\n",
       "Unknown                 14\n",
       "WSFT                     9\n",
       "Powered-Lift             5\n",
       "Blimp                    4\n",
       "UNK                      2\n",
       "Rocket                   1\n",
       "ULTR                     1\n",
       "Name: Aircraft.Category, dtype: int64"
      ]
     },
     "execution_count": 15,
     "metadata": {},
     "output_type": "execute_result"
    }
   ],
   "source": [
    "# Can imputate and na to 'Unknown' & adjust capitalization --> Keep\n",
    "# then can distribute unknown\n",
    "ad['Aircraft.Category'].value_counts()"
   ]
  },
  {
   "cell_type": "code",
   "execution_count": 16,
   "id": "5bf809ce-a467-4a3b-8e16-28659167f379",
   "metadata": {},
   "outputs": [
    {
     "data": {
      "text/plain": [
       "Cessna             22227\n",
       "Piper              12029\n",
       "CESSNA              4922\n",
       "Beech               4330\n",
       "PIPER               2841\n",
       "                   ...  \n",
       "Leonard Walters        1\n",
       "Maule Air Inc.         1\n",
       "Motley Vans            1\n",
       "Perlick                1\n",
       "ROYSE RALPH L          1\n",
       "Name: Make, Length: 8237, dtype: int64"
      ]
     },
     "execution_count": 16,
     "metadata": {},
     "output_type": "execute_result"
    }
   ],
   "source": [
    "# Lowercase all letters\n",
    "\n",
    "ad['Make'].value_counts()"
   ]
  },
  {
   "cell_type": "code",
   "execution_count": 17,
   "id": "03c6f592-b832-40a2-a48d-fdcf02526808",
   "metadata": {},
   "outputs": [
    {
     "data": {
      "text/plain": [
       "NONE      344\n",
       "UNREG     126\n",
       "None       65\n",
       "UNK        13\n",
       "USAF        9\n",
       "         ... \n",
       "N93478      1\n",
       "N519UA      1\n",
       "N8840W      1\n",
       "N21040      1\n",
       "N9026P      1\n",
       "Name: Registration.Number, Length: 79105, dtype: int64"
      ]
     },
     "execution_count": 17,
     "metadata": {},
     "output_type": "execute_result"
    }
   ],
   "source": [
    "# Not relevant for analysis --> Drop\n",
    "\n",
    "ad['Registration.Number'].value_counts()"
   ]
  },
  {
   "cell_type": "code",
   "execution_count": 18,
   "id": "d47c7147-78b6-41e1-a0b1-5022db8e6c9d",
   "metadata": {},
   "outputs": [
    {
     "data": {
      "text/plain": [
       "1.0    0.840312\n",
       "2.0    0.133796\n",
       "0.0    0.014806\n",
       "3.0    0.005833\n",
       "4.0    0.005205\n",
       "8.0    0.000036\n",
       "6.0    0.000012\n",
       "Name: Number.of.Engines, dtype: float64"
      ]
     },
     "execution_count": 18,
     "metadata": {},
     "output_type": "execute_result"
    }
   ],
   "source": [
    "# Needed for analysis --> Keep\n",
    "# Missing ~7% of data\n",
    "# Distribute na values based on probabily distribution of existing values\n",
    "\n",
    "ad['Number.of.Engines'].value_counts(normalize=True)"
   ]
  },
  {
   "cell_type": "code",
   "execution_count": 19,
   "id": "78458915-c5b2-4105-a5f9-e00b8eae5b7e",
   "metadata": {},
   "outputs": [
    {
     "data": {
      "text/plain": [
       "Reciprocating      0.849875\n",
       "Turbo Shaft        0.044113\n",
       "Turbo Prop         0.041449\n",
       "Turbo Fan          0.030326\n",
       "Unknown            0.025070\n",
       "Turbo Jet          0.008593\n",
       "None               0.000232\n",
       "Geared Turbofan    0.000147\n",
       "Electric           0.000122\n",
       "LR                 0.000024\n",
       "NONE               0.000024\n",
       "Hybrid Rocket      0.000012\n",
       "UNK                0.000012\n",
       "Name: Engine.Type, dtype: float64"
      ]
     },
     "execution_count": 19,
     "metadata": {},
     "output_type": "execute_result"
    }
   ],
   "source": [
    "# Adjust capitalization\n",
    "# Missing ~8% of data\n",
    "\n",
    "# Unknown, None, NONE, UNK\n",
    "\n",
    "ad['Engine.Type'].value_counts(normalize=True)"
   ]
  },
  {
   "cell_type": "code",
   "execution_count": 20,
   "id": "7f8da865-6f6f-4b95-a705-fc8a8d9cf002",
   "metadata": {},
   "outputs": [
    {
     "data": {
      "text/plain": [
       "091                               18221\n",
       "Part 91: General Aviation          6486\n",
       "NUSN                               1584\n",
       "NUSC                               1013\n",
       "137                                1010\n",
       "135                                 746\n",
       "121                                 679\n",
       "Part 137: Agricultural              437\n",
       "UNK                                 371\n",
       "Part 135: Air Taxi & Commuter       298\n",
       "PUBU                                253\n",
       "129                                 246\n",
       "Part 121: Air Carrier               165\n",
       "133                                 107\n",
       "Part 129: Foreign                   100\n",
       "Non-U.S., Non-Commercial             97\n",
       "Non-U.S., Commercial                 93\n",
       "Part 133: Rotorcraft Ext. Load       32\n",
       "Unknown                              22\n",
       "Public Use                           19\n",
       "091K                                 14\n",
       "ARMF                                  8\n",
       "Part 125: 20+ Pax,6000+ lbs           5\n",
       "125                                   5\n",
       "107                                   4\n",
       "Public Aircraft                       2\n",
       "103                                   2\n",
       "Part 91 Subpart K: Fractional         1\n",
       "Armed Forces                          1\n",
       "Part 91F: Special Flt Ops.            1\n",
       "437                                   1\n",
       "Name: FAR.Description, dtype: int64"
      ]
     },
     "execution_count": 20,
     "metadata": {},
     "output_type": "execute_result"
    }
   ],
   "source": [
    "# Too many na values and not enough significance for analysis --> Drop\n",
    "\n",
    "ad['FAR.Description'].value_counts()"
   ]
  },
  {
   "cell_type": "code",
   "execution_count": 21,
   "id": "cc3d0403-25e2-4ce1-b28d-d4cd254a5512",
   "metadata": {},
   "outputs": [
    {
     "data": {
      "text/plain": [
       "NSCH    4474\n",
       "UNK     4099\n",
       "SCHD    4009\n",
       "Name: Schedule, dtype: int64"
      ]
     },
     "execution_count": 21,
     "metadata": {},
     "output_type": "execute_result"
    }
   ],
   "source": [
    "# Not relevant to analysis --> Drop\n",
    "\n",
    "ad['Schedule'].value_counts()"
   ]
  },
  {
   "cell_type": "code",
   "execution_count": 22,
   "id": "d8db25c1-01f3-4e4b-978a-73d4326e2fde",
   "metadata": {},
   "outputs": [
    {
     "data": {
      "text/plain": [
       "<bound method IndexOpsMixin.value_counts of 0        Personal\n",
       "1        Personal\n",
       "2        Personal\n",
       "3        Personal\n",
       "4        Personal\n",
       "           ...   \n",
       "88884    Personal\n",
       "88885         NaN\n",
       "88886    Personal\n",
       "88887    Personal\n",
       "88888    Personal\n",
       "Name: Purpose.of.flight, Length: 88889, dtype: object>"
      ]
     },
     "execution_count": 22,
     "metadata": {},
     "output_type": "execute_result"
    }
   ],
   "source": [
    "# Can imputate and na to 'Unknown' & adjust capitalization --> Keep\n",
    "\n",
    "ad['Purpose.of.flight'].value_counts"
   ]
  },
  {
   "cell_type": "code",
   "execution_count": 23,
   "id": "90cb064b-06d6-427c-b958-b6a160594216",
   "metadata": {},
   "outputs": [
    {
     "data": {
      "text/plain": [
       "Pilot                        258\n",
       "American Airlines             90\n",
       "United Airlines               89\n",
       "Delta Air Lines               53\n",
       "SOUTHWEST AIRLINES CO         42\n",
       "                            ... \n",
       "WOODY CONTRACTING INC          1\n",
       "Rod Aviation LLC               1\n",
       "Paul D Franzon                 1\n",
       "TRAINING SERVICES INC DBA      1\n",
       "MC CESSNA 210N LLC             1\n",
       "Name: Air.carrier, Length: 13590, dtype: int64"
      ]
     },
     "execution_count": 23,
     "metadata": {},
     "output_type": "execute_result"
    }
   ],
   "source": [
    "# Too much missing data and not enough analytical significance --> Drop\n",
    "\n",
    "ad['Air.carrier'].value_counts()"
   ]
  },
  {
   "cell_type": "code",
   "execution_count": 24,
   "id": "60f60ad4-4912-4edc-ba06-a60cd7ddeb3e",
   "metadata": {},
   "outputs": [
    {
     "data": {
      "text/plain": [
       "0.0      29879\n",
       "1.0      25101\n",
       "2.0      15988\n",
       "3.0       4313\n",
       "4.0       2662\n",
       "         ...  \n",
       "558.0        1\n",
       "412.0        1\n",
       "338.0        1\n",
       "401.0        1\n",
       "455.0        1\n",
       "Name: Total.Uninjured, Length: 379, dtype: int64"
      ]
     },
     "execution_count": 24,
     "metadata": {},
     "output_type": "execute_result"
    }
   ],
   "source": [
    "# Would be good to keep this column and do analysis of safest aircraft\n",
    "\n",
    "# Drop na if we don't lose too much other data after evaluating the rest of the columns\n",
    "\n",
    "ad['Total.Uninjured'].value_counts()"
   ]
  },
  {
   "cell_type": "code",
   "execution_count": 25,
   "id": "3f1df1d9-b2b2-442c-80ed-9d8169472299",
   "metadata": {},
   "outputs": [
    {
     "data": {
      "text/plain": [
       "VMC    77303\n",
       "IMC     5976\n",
       "UNK      856\n",
       "Unk      262\n",
       "Name: Weather.Condition, dtype: int64"
      ]
     },
     "execution_count": 25,
     "metadata": {},
     "output_type": "execute_result"
    }
   ],
   "source": [
    "# Adjust capitalization and combine; unk & unknown\n",
    "\n",
    "\"\"\"\n",
    "Visual meteorological conditions (VMC) is an aviation flight category \n",
    "in which visual flight rules (VFR) flight is permitted—that is, conditions in which \n",
    "pilots have sufficient visibility to fly the aircraft maintaining visual separation \n",
    "from terrain and other aircraft. \n",
    "\n",
    "In aviation, instrument meteorological conditions (IMC) are weather conditions that \n",
    "require pilots to fly primarily by reference to flight instruments. Typically, this \n",
    "means flying in cloud or poor weather, where little or nothing can be seen or recognised \n",
    "when looking out of the window. \n",
    "\"\"\"\n",
    "\n",
    "ad['Weather.Condition'].value_counts()"
   ]
  },
  {
   "cell_type": "code",
   "execution_count": 26,
   "id": "9d15c927-935f-4df7-9fed-625ba008d211",
   "metadata": {},
   "outputs": [
    {
     "data": {
      "text/plain": [
       "Landing        0.249951\n",
       "Takeoff        0.202401\n",
       "Cruise         0.166370\n",
       "Maneuvering    0.131942\n",
       "Approach       0.106053\n",
       "Climb          0.032953\n",
       "Taxi           0.031722\n",
       "Descent        0.030572\n",
       "Go-around      0.021920\n",
       "Standing       0.015310\n",
       "Unknown        0.008878\n",
       "Other          0.001928\n",
       "Name: Broad.phase.of.flight, dtype: float64"
      ]
     },
     "execution_count": 26,
     "metadata": {},
     "output_type": "execute_result"
    }
   ],
   "source": [
    "# Combine 'unknown' & 'other'\n",
    "\n",
    "ad['Broad.phase.of.flight'].value_counts(normalize=True)"
   ]
  },
  {
   "cell_type": "code",
   "execution_count": 27,
   "id": "804e9133-e965-4075-a4bd-42957f0c1af7",
   "metadata": {},
   "outputs": [
    {
     "data": {
      "text/plain": [
       "Probable Cause                                                                                                                                                       0.748461\n",
       "Foreign                                                                                                                                                              0.024228\n",
       "<br /><br />                                                                                                                                                         0.002024\n",
       "Factual                                                                                                                                                              0.001757\n",
       "The pilot's failure to maintain directional control during the landing roll.                                                                                         0.000679\n",
       "                                                                                                                                                                       ...   \n",
       "The pilot's incapacitation due to a ruptured berry aneurysm during takeoff.                                                                                          0.000012\n",
       "The unauthorized operation of the helicopter by a non-certificated and unqualified individual who failed to maintain helicopter control.                             0.000012\n",
       "A loss of engine power due to the pilot's failure to utilize carburetor heat while maneuvering.\\r\\n.                                                                 0.000012\n",
       "The pilot's failure to maintain adequate separation behind a corporate jet, which resulted in an encounter with wake turbulence and a subsequent loss of control.    0.000012\n",
       "The pilots loss of control due to a wind gust during landing.                                                                                                       0.000012\n",
       "Name: Report.Status, Length: 17075, dtype: float64"
      ]
     },
     "execution_count": 27,
     "metadata": {},
     "output_type": "execute_result"
    }
   ],
   "source": [
    "# So much mixed information types, can't know what the numbers mean --> Drop\n",
    "\n",
    "ad['Report.Status'].value_counts(normalize=True)"
   ]
  },
  {
   "cell_type": "code",
   "execution_count": 28,
   "id": "c611ea00-b462-4d09-96b1-a118b55edce1",
   "metadata": {},
   "outputs": [
    {
     "data": {
      "text/plain": [
       "25-09-2020    0.226564\n",
       "26-09-2020    0.023550\n",
       "03-11-2020    0.015376\n",
       "31-03-1993    0.006017\n",
       "25-11-2003    0.005272\n",
       "                ...   \n",
       "29-11-2004    0.000013\n",
       "29-08-2001    0.000013\n",
       "18-11-2004    0.000013\n",
       "17-12-1996    0.000013\n",
       "29-12-2022    0.000013\n",
       "Name: Publication.Date, Length: 2924, dtype: float64"
      ]
     },
     "execution_count": 28,
     "metadata": {},
     "output_type": "execute_result"
    }
   ],
   "source": [
    "# Since we have event date and there are \n",
    "# so many values missing we are dropping the column --> Drop\n",
    "\n",
    "ad['Publication.Date'].value_counts(normalize=True)"
   ]
  },
  {
   "cell_type": "markdown",
   "id": "5879e1d5-7f9e-41b9-830b-c39ab1dc6476",
   "metadata": {},
   "source": [
    "### Adjust dtype, Capitalization, and Imputate na to Separate Category"
   ]
  },
  {
   "cell_type": "code",
   "execution_count": 29,
   "id": "ea54fab0-ff19-4684-84a6-5ff73fca52ed",
   "metadata": {},
   "outputs": [
    {
     "data": {
      "text/plain": [
       "Event.Id                      0\n",
       "Investigation.Type            0\n",
       "Accident.Number               0\n",
       "Event.Date                    0\n",
       "Location                      0\n",
       "Country                       0\n",
       "Latitude                  50672\n",
       "Longitude                 50671\n",
       "Airport.Code              31646\n",
       "Airport.Name              29363\n",
       "Injury.Severity               0\n",
       "Aircraft.damage            2142\n",
       "Aircraft.Category         45755\n",
       "Registration.Number         225\n",
       "Make                          0\n",
       "Model                         0\n",
       "Amateur.Built                 0\n",
       "Number.of.Engines          3956\n",
       "Engine.Type                4800\n",
       "FAR.Description           45964\n",
       "Schedule                  62811\n",
       "Purpose.of.flight          3603\n",
       "Air.carrier               57491\n",
       "Total.Fatal.Injuries          0\n",
       "Total.Serious.Injuries        0\n",
       "Total.Minor.Injuries          0\n",
       "Total.Uninjured               0\n",
       "Weather.Condition          3059\n",
       "Broad.phase.of.flight     24753\n",
       "Report.Status              5442\n",
       "Publication.Date          13104\n",
       "dtype: int64"
      ]
     },
     "execution_count": 29,
     "metadata": {},
     "output_type": "execute_result"
    }
   ],
   "source": [
    "# Dropping rows of columns with few missing data\n",
    "# Will not impact overall analysis\n",
    "\n",
    "ad.dropna(inplace=True, \n",
    "          subset=['Location', 'Country', 'Make', 'Model','Amateur.Built',\n",
    "                  'Injury.Severity','Total.Uninjured','Total.Fatal.Injuries',\n",
    "                  'Total.Serious.Injuries','Total.Minor.Injuries'])\n",
    "ad.isna().sum()"
   ]
  },
  {
   "cell_type": "code",
   "execution_count": 30,
   "id": "afe0eadb-9215-47e1-b361-840a55638a61",
   "metadata": {},
   "outputs": [
    {
     "data": {
      "text/plain": [
       "0        1948\n",
       "1        1962\n",
       "3        1977\n",
       "6        1981\n",
       "7        1982\n",
       "         ... \n",
       "88882    2022\n",
       "88883    2022\n",
       "88884    2022\n",
       "88886    2022\n",
       "88888    2022\n",
       "Name: Event.Year, Length: 73047, dtype: object"
      ]
     },
     "execution_count": 30,
     "metadata": {},
     "output_type": "execute_result"
    }
   ],
   "source": [
    "# Create event year column\n",
    "\n",
    "ad['Event.Year'] = ad['Event.Date'].str[:4]\n",
    "ad['Event.Year']"
   ]
  },
  {
   "cell_type": "code",
   "execution_count": 31,
   "id": "b42935eb-14ba-4aa9-99ee-f886eb0f347a",
   "metadata": {},
   "outputs": [
    {
     "name": "stdout",
     "output_type": "stream",
     "text": [
      "<class 'pandas.core.series.Series'>\n",
      "Int64Index: 73047 entries, 0 to 88888\n",
      "Series name: Event.Year\n",
      "Non-Null Count  Dtype\n",
      "--------------  -----\n",
      "73047 non-null  int64\n",
      "dtypes: int64(1)\n",
      "memory usage: 1.1 MB\n"
     ]
    }
   ],
   "source": [
    "# Convert Event.Year to int\n",
    "\n",
    "ad['Event.Year']= ad['Event.Year'].astype(int)\n",
    "ad['Event.Year'].info()"
   ]
  },
  {
   "cell_type": "code",
   "execution_count": 32,
   "id": "2fa7476f-8f12-4afa-adc9-ef3077e9c150",
   "metadata": {},
   "outputs": [
    {
     "name": "stdout",
     "output_type": "stream",
     "text": [
      "<class 'pandas.core.frame.DataFrame'>\n",
      "Int64Index: 73047 entries, 0 to 88888\n",
      "Data columns (total 32 columns):\n",
      " #   Column                  Non-Null Count  Dtype  \n",
      "---  ------                  --------------  -----  \n",
      " 0   Event.Id                73047 non-null  object \n",
      " 1   Investigation.Type      73047 non-null  object \n",
      " 2   Accident.Number         73047 non-null  object \n",
      " 3   Event.Date              73047 non-null  object \n",
      " 4   Location                73047 non-null  object \n",
      " 5   Country                 73047 non-null  object \n",
      " 6   Latitude                22375 non-null  object \n",
      " 7   Longitude               22376 non-null  object \n",
      " 8   Airport.Code            41401 non-null  object \n",
      " 9   Airport.Name            43684 non-null  object \n",
      " 10  Injury.Severity         73047 non-null  object \n",
      " 11  Aircraft.damage         70905 non-null  object \n",
      " 12  Aircraft.Category       27292 non-null  object \n",
      " 13  Registration.Number     72822 non-null  object \n",
      " 14  Make                    73047 non-null  object \n",
      " 15  Model                   73047 non-null  object \n",
      " 16  Amateur.Built           73047 non-null  object \n",
      " 17  Number.of.Engines       69091 non-null  float64\n",
      " 18  Engine.Type             68247 non-null  object \n",
      " 19  FAR.Description         27083 non-null  object \n",
      " 20  Schedule                10236 non-null  object \n",
      " 21  Purpose.of.flight       69444 non-null  object \n",
      " 22  Air.carrier             15556 non-null  object \n",
      " 23  Total.Fatal.Injuries    73047 non-null  int64  \n",
      " 24  Total.Serious.Injuries  73047 non-null  int64  \n",
      " 25  Total.Minor.Injuries    73047 non-null  int64  \n",
      " 26  Total.Uninjured         73047 non-null  int64  \n",
      " 27  Weather.Condition       69988 non-null  object \n",
      " 28  Broad.phase.of.flight   48294 non-null  object \n",
      " 29  Report.Status           67605 non-null  object \n",
      " 30  Publication.Date        59943 non-null  object \n",
      " 31  Event.Year              73047 non-null  int64  \n",
      "dtypes: float64(1), int64(5), object(26)\n",
      "memory usage: 18.4+ MB\n"
     ]
    }
   ],
   "source": [
    "# Convert Injury columns to int\n",
    "\n",
    "ad['Total.Fatal.Injuries']= ad['Total.Fatal.Injuries'].astype(int)\n",
    "ad['Total.Serious.Injuries']= ad['Total.Serious.Injuries'].astype(int)\n",
    "ad['Total.Minor.Injuries']= ad['Total.Minor.Injuries'].astype(int)\n",
    "ad['Total.Uninjured']= ad['Total.Uninjured'].astype(int)\n",
    "ad.info()"
   ]
  },
  {
   "cell_type": "code",
   "execution_count": 33,
   "id": "e7441530-e59d-4f3b-95b1-99f30175c142",
   "metadata": {},
   "outputs": [
    {
     "data": {
      "text/plain": [
       "reciprocating      0.857986\n",
       "turbo shaft        0.041203\n",
       "turbo prop         0.038786\n",
       "unknown            0.026785\n",
       "turbo fan          0.026682\n",
       "turbo jet          0.008059\n",
       "none               0.000308\n",
       "electric           0.000117\n",
       "lr                 0.000029\n",
       "hybrid rocket      0.000015\n",
       "geared turbofan    0.000015\n",
       "unk                0.000015\n",
       "Name: Engine.Type, dtype: float64"
      ]
     },
     "execution_count": 33,
     "metadata": {},
     "output_type": "execute_result"
    }
   ],
   "source": [
    "# Adjust capitalization to lowercase\n",
    "\n",
    "# Create function to lowercase selected columns\n",
    "\n",
    "def lowercase(df):\n",
    "    df = df.apply(lambda x: x.str.lower())\n",
    "    return df\n",
    "\n",
    "# Imutate on database to lowercase all relevant columns\n",
    "\n",
    "ad[['Purpose.of.flight','Make','Aircraft.Category','Engine.Type',\n",
    "    'Location','Injury.Severity','Aircraft.damage']] \\\n",
    "= lowercase(ad[['Purpose.of.flight','Make','Aircraft.Category','Engine.Type',\n",
    "                'Location','Injury.Severity','Aircraft.damage']])\n",
    "ad['Engine.Type'].value_counts(normalize=True)"
   ]
  },
  {
   "cell_type": "code",
   "execution_count": 34,
   "id": "37d96386-dea3-441c-a343-ca50da542637",
   "metadata": {},
   "outputs": [
    {
     "data": {
      "text/plain": [
       "VMC    0.915971\n",
       "IMC    0.070612\n",
       "UNK    0.013417\n",
       "Name: Weather.Condition, dtype: float64"
      ]
     },
     "execution_count": 34,
     "metadata": {},
     "output_type": "execute_result"
    }
   ],
   "source": [
    "# Adjust capitalization to uppercase\n",
    "\n",
    "def uppercase(df):\n",
    "    df = df.apply(lambda x: x.str.upper())\n",
    "    return df\n",
    "\n",
    "ad[['Weather.Condition']] = uppercase(ad[['Weather.Condition']])\n",
    "ad['Weather.Condition'].value_counts(normalize=True)"
   ]
  },
  {
   "cell_type": "code",
   "execution_count": 35,
   "id": "bb8bc8a7-83ad-479c-a0b6-af540b4f43bf",
   "metadata": {},
   "outputs": [
    {
     "name": "stdout",
     "output_type": "stream",
     "text": [
      "1.0    58468\n",
      "2.0     8925\n",
      "0.0      932\n",
      "3.0      417\n",
      "4.0      345\n",
      "8.0        3\n",
      "6.0        1\n",
      "Name: Number.of.Engines, dtype: int64\n",
      "non-fatal     56490\n",
      "fatal          5248\n",
      "fatal(1)       4653\n",
      "fatal(2)       2771\n",
      "incident       1548\n",
      "              ...  \n",
      "fatal(56)         1\n",
      "fatal(37)         1\n",
      "fatal(132)        1\n",
      "fatal(68)         1\n",
      "fatal(111)        1\n",
      "Name: Injury.Severity, Length: 70, dtype: int64\n",
      "VMC        64107\n",
      "IMC         4942\n",
      "unknown      939\n",
      "Name: Weather.Condition, dtype: int64\n",
      "Landing        11719\n",
      "Takeoff         9906\n",
      "Cruise          8194\n",
      "Maneuvering     6440\n",
      "Approach        5135\n",
      "Climb           1625\n",
      "Taxi            1499\n",
      "Descent         1482\n",
      "Go-around       1060\n",
      "Standing         679\n",
      "Unknown          555\n",
      "Name: Broad.phase.of.flight, dtype: int64\n"
     ]
    }
   ],
   "source": [
    "# Combine all versions of 'unknown' into one 'unknown'\n",
    "\n",
    "ad.loc[ad['Engine.Type'] == 'unk', ['Engine.Type']] = 'unknown'\n",
    "ad.loc[ad['Injury.Severity'] == 'unavailable', ['Injury.Severity']] = 'unknown'\n",
    "ad.loc[ad['Weather.Condition'] == 'UNK', ['Weather.Condition']] = 'unknown'\n",
    "ad.loc[ad['Broad.phase.of.flight'] == 'Other', ['Broad.phase.of.flight']] = 'Unknown'\n",
    "\n",
    "print(ad['Number.of.Engines'].value_counts())\n",
    "print(ad['Injury.Severity'].value_counts())\n",
    "print(ad['Weather.Condition'].value_counts())\n",
    "print(ad['Broad.phase.of.flight'].value_counts())"
   ]
  },
  {
   "cell_type": "code",
   "execution_count": 36,
   "id": "0995bd79-8eaf-4865-9245-a7841f72297e",
   "metadata": {},
   "outputs": [
    {
     "name": "stdout",
     "output_type": "stream",
     "text": [
      "0\n",
      "0\n",
      "0\n",
      "0\n",
      "0\n",
      "0\n",
      "0\n"
     ]
    }
   ],
   "source": [
    "# Adjust na value to it's own category\n",
    "\n",
    "ad['Purpose.of.flight'].fillna('unknown', inplace=True)\n",
    "ad['Aircraft.damage'].fillna('unknown', inplace=True)\n",
    "ad['Aircraft.Category'].fillna('unknown', inplace=True)\n",
    "ad['Injury.Severity'].fillna('unknown', inplace=True)\n",
    "ad['Engine.Type'].fillna('unknown', inplace=True)\n",
    "ad['Weather.Condition'].fillna('unknown', inplace=True)\n",
    "ad['Broad.phase.of.flight'].fillna('Unknown', inplace=True)\n",
    "\n",
    "print(ad['Purpose.of.flight'].isna().sum())\n",
    "print(ad['Aircraft.damage'].isna().sum())\n",
    "print(ad['Aircraft.Category'].isna().sum())\n",
    "print(ad['Injury.Severity'].isna().sum())\n",
    "print(ad['Engine.Type'].isna().sum())\n",
    "print(ad['Weather.Condition'].isna().sum())\n",
    "print(ad['Broad.phase.of.flight'].isna().sum())"
   ]
  },
  {
   "cell_type": "code",
   "execution_count": 37,
   "id": "f7e47682-6bf3-4804-a835-1770ef5cdf10",
   "metadata": {},
   "outputs": [
    {
     "data": {
      "text/plain": [
       "Unknown        0.346462\n",
       "Landing        0.160431\n",
       "Takeoff        0.135611\n",
       "Cruise         0.112174\n",
       "Maneuvering    0.088162\n",
       "Approach       0.070297\n",
       "Climb          0.022246\n",
       "Taxi           0.020521\n",
       "Descent        0.020288\n",
       "Go-around      0.014511\n",
       "Standing       0.009295\n",
       "Name: Broad.phase.of.flight, dtype: float64"
      ]
     },
     "execution_count": 37,
     "metadata": {},
     "output_type": "execute_result"
    }
   ],
   "source": [
    "# Confirm new 'unknown' count\n",
    "\n",
    "# 30% of data is missing from the column, too much to redistribute\n",
    "# Column could be useful for safety protocols\n",
    "\n",
    "ad['Broad.phase.of.flight'].value_counts(normalize=True)"
   ]
  },
  {
   "cell_type": "code",
   "execution_count": 38,
   "id": "944d442c-f3ce-4e28-ae5d-3165a13e9825",
   "metadata": {},
   "outputs": [
    {
     "data": {
      "text/plain": [
       "unknown              0.626528\n",
       "airplane             0.318932\n",
       "helicopter           0.040097\n",
       "glider               0.005750\n",
       "balloon              0.002628\n",
       "weight-shift         0.002204\n",
       "gyrocraft            0.002095\n",
       "powered parachute    0.001246\n",
       "ultralight           0.000329\n",
       "wsft                 0.000123\n",
       "powered-lift         0.000027\n",
       "rocket               0.000014\n",
       "blimp                0.000014\n",
       "ultr                 0.000014\n",
       "Name: Aircraft.Category, dtype: float64"
      ]
     },
     "execution_count": 38,
     "metadata": {},
     "output_type": "execute_result"
    }
   ],
   "source": [
    "# Confirm new 'unknown' count\n",
    "\n",
    "# too many missing values to redistribute based on proportions\n",
    "# since the category is probably useful, \n",
    "# we'd want to evaluate it in a separate data set where we drop unknowns\n",
    "\n",
    "# The option is to drop the entire column or rows with 'unknown'\n",
    "\n",
    "ad['Aircraft.Category'].value_counts(normalize=True)"
   ]
  },
  {
   "cell_type": "code",
   "execution_count": 39,
   "id": "ac5d16b2-70dc-46aa-88f2-cce6f460363d",
   "metadata": {},
   "outputs": [
    {
     "data": {
      "text/plain": [
       "personal                     0.565841\n",
       "unknown                      0.134763\n",
       "instructional                0.119868\n",
       "aerial application           0.056279\n",
       "business                     0.048079\n",
       "positioning                  0.016578\n",
       "other work use               0.013279\n",
       "ferry                        0.009884\n",
       "aerial observation           0.009076\n",
       "public aircraft              0.007242\n",
       "executive/corporate          0.006379\n",
       "flight test                  0.003464\n",
       "skydiving                    0.001506\n",
       "external load                0.001424\n",
       "air race show                0.001355\n",
       "public aircraft - federal    0.001081\n",
       "banner tow                   0.001040\n",
       "public aircraft - local      0.000890\n",
       "public aircraft - state      0.000684\n",
       "glider tow                   0.000589\n",
       "firefighting                 0.000452\n",
       "air drop                     0.000096\n",
       "asho                         0.000082\n",
       "pubs                         0.000055\n",
       "publ                         0.000014\n",
       "Name: Purpose.of.flight, dtype: float64"
      ]
     },
     "execution_count": 39,
     "metadata": {},
     "output_type": "execute_result"
    }
   ],
   "source": [
    "# Confirm new 'unknown' count\n",
    "\n",
    "ad['Purpose.of.flight'].value_counts(normalize=True)"
   ]
  },
  {
   "cell_type": "code",
   "execution_count": 40,
   "id": "ff31e196-6f62-4882-be9e-4543c5481643",
   "metadata": {},
   "outputs": [
    {
     "data": {
      "text/plain": [
       "cessna                 0.313209\n",
       "piper                  0.172807\n",
       "beech                  0.061057\n",
       "bell                   0.029529\n",
       "boeing                 0.023930\n",
       "                         ...   \n",
       "barriger               0.000014\n",
       "pacheco                0.000014\n",
       "sirocco flying club    0.000014\n",
       "trickle                0.000014\n",
       "royse ralph l          0.000014\n",
       "Name: Make, Length: 6326, dtype: float64"
      ]
     },
     "execution_count": 40,
     "metadata": {},
     "output_type": "execute_result"
    }
   ],
   "source": [
    "# Combine all Boeing values into one\n",
    "\n",
    "for value in ad:\n",
    "    if ad['Make'].str.contains('boeing').any():\n",
    "        ad.loc[ad['Make'].str.contains('fatal'), 'Make'] = 'boeing'\n",
    "\n",
    "ad['Make'].value_counts(normalize=True)"
   ]
  },
  {
   "cell_type": "code",
   "execution_count": 41,
   "id": "2ad663b6-39c5-4562-b43b-d76716a6db18",
   "metadata": {},
   "outputs": [
    {
     "data": {
      "text/plain": [
       "fatal       0.973346\n",
       "incident    0.021192\n",
       "minor       0.002984\n",
       "serious     0.002368\n",
       "unknown     0.000110\n",
       "Name: Injury.Severity, dtype: float64"
      ]
     },
     "execution_count": 41,
     "metadata": {},
     "output_type": "execute_result"
    }
   ],
   "source": [
    "# Combine all variations of 'fatal' values into one 'fatal' category\n",
    "\n",
    "# We can now see there is an 'unavailable' and 'unknown' category into which we can add na values\n",
    "\n",
    "# We can also then distribute the 'unknown' values based \n",
    "# on proportional distribution of the other categories\n",
    "\n",
    "for value in ad:\n",
    "    if ad['Injury.Severity'].str.contains('fatal').any():\n",
    "        ad.loc[ad['Injury.Severity'].str.contains('fatal'), 'Injury.Severity'] = 'fatal'\n",
    "\n",
    "ad['Injury.Severity'].value_counts(normalize=True)"
   ]
  },
  {
   "cell_type": "markdown",
   "id": "5307c3d4-d598-4a3a-8f50-cefb5f84aeca",
   "metadata": {},
   "source": [
    "### Higher Level Imputation (drop cols, impute on na with stat functions)"
   ]
  },
  {
   "cell_type": "code",
   "execution_count": 42,
   "id": "2225d743-f9c4-451f-9729-25055a1e132c",
   "metadata": {},
   "outputs": [
    {
     "data": {
      "text/plain": [
       "1992"
      ]
     },
     "execution_count": 42,
     "metadata": {},
     "output_type": "execute_result"
    }
   ],
   "source": [
    "# Create copy of original data for column dropping\n",
    "\n",
    "ad_1 = ad.copy()\n",
    "\n",
    "# Drop rows past 1992 in Event.Year\n",
    "\n",
    "mask = ad_1['Event.Year'] > 1991\n",
    "ad_1 = ad_1[mask]\n",
    "\n",
    "# Validate code worked \n",
    "\n",
    "ad_1['Event.Year'].min()"
   ]
  },
  {
   "cell_type": "markdown",
   "id": "ab1b1a9d-982b-448a-b3d3-12fc71321489",
   "metadata": {},
   "source": [
    "In 1982 and 1991, there were major changes in technological inovations in aviation regulations. So we want data starting 1992 and on.\n",
    "\n",
    "Source: https://www.faa.gov/about/history/brief_history"
   ]
  },
  {
   "cell_type": "code",
   "execution_count": 43,
   "id": "5384c6a6-5d7d-4961-afec-be7de81e2949",
   "metadata": {
    "jp-MarkdownHeadingCollapsed": true
   },
   "outputs": [],
   "source": [
    "\"\"\"\n",
    "These columns do not add value to analysis and are missing alot of data\n",
    "    - Latitude\n",
    "    - Longitude\n",
    "    - Airport.Code\n",
    "    - Airport.Name\n",
    "    - Schedule\n",
    "    - FAR.Description\n",
    "    - Registration.Number\n",
    "    - Report.Status\n",
    "    - Publication.Date\n",
    "    \n",
    "Cound include in Next Steps suggestions for additional analysis when it's time\n",
    "for phase 2 of business development\n",
    "\"\"\"\n",
    "# Drop unnecessary columns\n",
    "ad_1 = ad.drop(['Airport.Code', 'Airport.Name', \\\n",
    "                'Schedule','Registration.Number','Latitude','Longitude', \\\n",
    "                'FAR.Description','Air.carrier', \\\n",
    "                'Report.Status','Publication.Date'], axis=1)"
   ]
  },
  {
   "cell_type": "markdown",
   "id": "d90f1dee-d5ed-4acd-91a5-f143ca70999b",
   "metadata": {},
   "source": [
    "##### Missing ~7% of data from Number.of.Engines\n",
    "\n",
    "ad['Number.of.Engines'].value_counts(normalize=True)\n",
    "\n",
    "Original distribution:\n",
    "\n",
    "- 1.0 = 0.843301\n",
    "- 2.0 = 0.131095\n",
    "- 0.0 = 0.014839\n",
    "- 3.0 = 0.005778\n",
    "- 4.0 = 0.004938\n",
    "- 8.0 = 0.000036\n",
    "- 6.0 = 0.000012\n",
    "\n",
    "After distribution of na:\n",
    "- 1.0 = 0.843790\n",
    "- 2.0 = 0.130692\n",
    "- 0.0 = 0.014778\n",
    "- 3.0 = 0.005662\n",
    "- 4.0 = 0.005033\n",
    "- 8.0 = 0.000034\n",
    "- 6.0 = 0.000011"
   ]
  },
  {
   "cell_type": "code",
   "execution_count": 44,
   "id": "0d20a7c3-003a-4075-93b8-9814e0523316",
   "metadata": {},
   "outputs": [
    {
     "name": "stdout",
     "output_type": "stream",
     "text": [
      "1.0    0.846469\n",
      "2.0    0.129040\n",
      "0.0    0.013498\n",
      "3.0    0.005969\n",
      "4.0    0.004969\n",
      "8.0    0.000041\n",
      "6.0    0.000014\n",
      "Name: Number.of.Engines, dtype: float64\n",
      "0\n"
     ]
    }
   ],
   "source": [
    "# Observation: account for 1.5% of the missing data in the column\n",
    "# Method: randomly select a class acccording to current distribution\n",
    "\n",
    "# REMINDER: adjust dataframe name based on the rest of the doc\n",
    "\n",
    "# Create copy of data base since this is a major imputation\n",
    "ad_2 = ad_1.copy()\n",
    "\n",
    "# relative probabilities (likelihood of 3 dif classes)\n",
    "rel_prob = [0.843301, 0.131095, 0.014839, 0.005778, 0.004938, 0.000036, 0.000012]\n",
    "\n",
    "# relative probabilities (likelihood of 3 dif classes)\n",
    "prob = [i/sum(rel_prob) for i in rel_prob]\n",
    "\n",
    "# actual probability of each class (x/total)\n",
    "def impute_pclass(value): # impute = replace\n",
    "    if pd.isna(value) == True:\n",
    "        return np.random.choice([1.0,2.0,0.0,3.0,4.0,8.0,6.0], p=prob)\n",
    "    else:\n",
    "        return value\n",
    "        \n",
    "ad_2['Number.of.Engines'] = ad_2['Number.of.Engines'].map(lambda x: impute_pclass(x))\n",
    "print(ad_2['Number.of.Engines'].value_counts(normalize=True))\n",
    "print(ad_2['Number.of.Engines'].isna().sum())"
   ]
  },
  {
   "cell_type": "markdown",
   "id": "9e2f635a-b1e0-4eab-9321-a0e4006ee17a",
   "metadata": {},
   "source": [
    "##### Missing .09% of data from 'Injury.Severity'\n",
    "\n",
    "ad['Injury.Severity'].value_counts(normalize=True)\n",
    "\n",
    "Original distribution:\n",
    "\n",
    "- fatal = 0.970089\n",
    "- incident = 0.024512\n",
    "- minor = 0.002494\n",
    "- serious = 0.001979\n",
    "- unavailable = 0.000926\n",
    "\n",
    "After distribution of 'unavailable':\n",
    "- fatal = 0.970970\n",
    "- incident = 0.024546\n",
    "- minor = 0.002494\n",
    "- serious = 0.001990"
   ]
  },
  {
   "cell_type": "code",
   "execution_count": 45,
   "id": "24fabc47-2c9e-45b8-a434-e535e19a4245",
   "metadata": {},
   "outputs": [
    {
     "data": {
      "text/plain": [
       "fatal       0.973455\n",
       "incident    0.021192\n",
       "minor       0.002984\n",
       "serious     0.002368\n",
       "Name: Injury.Severity, dtype: float64"
      ]
     },
     "execution_count": 45,
     "metadata": {},
     "output_type": "execute_result"
    }
   ],
   "source": [
    "# Observation: account for .09% of the data missing in the column\n",
    "# Method: randomly select a class acccording to current distribution\n",
    "\n",
    "# REMINDER: adjust dataframe name based on the rest of the doc\n",
    "\n",
    "# Create copy of data base since this is a major imputation\n",
    "ad_3= ad_2.copy()\n",
    "\n",
    "# relative probabilities (likelihood of dif classes)\n",
    "rel_prob = [0.970089, 0.024512, 0.002494, 0.001979]\n",
    "\n",
    "# relative probabilities (likelihood of 3 dif classes)\n",
    "prob = [i/sum(rel_prob) for i in rel_prob]\n",
    "\n",
    "# actual probability of each class (x/total)\n",
    "def impute_pclass(value): # impute = replace\n",
    "    if value == 'unknown':\n",
    "        return np.random.choice(['fatal','incident','minor','serious'], p=prob)\n",
    "    else:\n",
    "        return value\n",
    "        \n",
    "ad_3['Injury.Severity'] = ad_3['Injury.Severity'].map(lambda x: impute_pclass(x))\n",
    "ad_3['Injury.Severity'].value_counts(normalize=True)"
   ]
  },
  {
   "cell_type": "markdown",
   "id": "81468a6a-9e27-46ec-b429-8cb4894274c1",
   "metadata": {},
   "source": [
    "##### Missing ~3% of data from 'Aircraft.damage'\n",
    "\n",
    "ad['Aircraft.damage'].value_counts(normalize=True)\n",
    "\n",
    "Original distribution:\n",
    "\n",
    "- Substantial = 0.729328\n",
    "- Destroyed = 0.210427\n",
    "- Unknown = 0.031237\n",
    "- Minor = 0.029007\n",
    "\n",
    "After distribution of 'Unknown':\n",
    "\n",
    "- Substantial = 0.753074\n",
    "- Destroyed = 0.217027\n",
    "- Minor = 0.029899"
   ]
  },
  {
   "cell_type": "code",
   "execution_count": 46,
   "id": "e781a6da-e7ca-4f1e-a133-4cc9121c52f0",
   "metadata": {
    "scrolled": true
   },
   "outputs": [
    {
     "data": {
      "text/plain": [
       "substantial    0.750681\n",
       "destroyed      0.220036\n",
       "minor          0.029283\n",
       "Name: Aircraft.damage, dtype: float64"
      ]
     },
     "execution_count": 46,
     "metadata": {},
     "output_type": "execute_result"
    }
   ],
   "source": [
    "# Observation: account for ~3% of the data missing in the column\n",
    "# Method: randomly select a class acccording to current distribution\n",
    "\n",
    "# REMINDER: adjust dataframe name based on the rest of the doc\n",
    "\n",
    "# Create copy of data base since this is a major imputation\n",
    "ad_4= ad_3.copy()\n",
    "\n",
    "# relative probabilities (likelihood of 3 dif classes)\n",
    "rel_prob = [0.729328, 0.210427, 0.029007]\n",
    "\n",
    "# relative probabilities (likelihood of 3 dif classes)\n",
    "prob = [i/sum(rel_prob) for i in rel_prob]\n",
    "\n",
    "# actual probability of each class (x/total)\n",
    "def impute_pclass(value): # impute = replace\n",
    "    if value == 'unknown':\n",
    "        return np.random.choice(['substantial','destroyed','minor'], p=prob)\n",
    "    else:\n",
    "        return value\n",
    "        \n",
    "ad_4['Aircraft.damage'] = ad_4['Aircraft.damage'].map(lambda x: impute_pclass(x))\n",
    "ad_4['Aircraft.damage'].value_counts(normalize=True)"
   ]
  },
  {
   "cell_type": "markdown",
   "id": "a59efa4c-b6c0-4abe-b490-da07871e4e3e",
   "metadata": {},
   "source": [
    "##### Missing ~1.3% of data from 'Weather.Condition'\n",
    "\n",
    "ad['Weather.Condition'].value_counts(normalize=True)\n",
    "\n",
    "Original distribution:\n",
    "\n",
    "- VMC = 0.916614\n",
    "- IMC = 0.070747\n",
    "- UNKNOWN = 0.012639\n",
    "\n",
    "After distribution of 'UNKNOWN':\n",
    "\n",
    "- VMC = 0.928695\n",
    "- IMC = 0.071305"
   ]
  },
  {
   "cell_type": "code",
   "execution_count": 47,
   "id": "01e455d5-8f42-465e-920e-3888f3d8e5f8",
   "metadata": {},
   "outputs": [
    {
     "data": {
      "text/plain": [
       "VMC    0.92806\n",
       "IMC    0.07194\n",
       "Name: Weather.Condition, dtype: float64"
      ]
     },
     "execution_count": 47,
     "metadata": {},
     "output_type": "execute_result"
    }
   ],
   "source": [
    "# Observation: account for 1.3% of the data\n",
    "# Method: randomly select a class acccording to current distribution\n",
    "\n",
    "# REMINDER: adjust dataframe name based on the rest of the doc\n",
    "\n",
    "# Create copy of data base since this is a major imputation\n",
    "ad_5= ad_4.copy()\n",
    "\n",
    "# relative probabilities (likelihood of 3 dif classes)\n",
    "rel_prob = [0.916614, 0.070747]\n",
    "\n",
    "# relative probabilities (likelihood of 3 dif classes)\n",
    "prob = [i/sum(rel_prob) for i in rel_prob]\n",
    "\n",
    "# actual probability of each class (x/total)\n",
    "def impute_pclass(value): # impute = replace\n",
    "    if value == 'unknown':\n",
    "        return np.random.choice(['VMC','IMC'], p=prob)\n",
    "    else:\n",
    "        return value\n",
    "        \n",
    "ad_5['Weather.Condition'] = ad_5['Weather.Condition'].map(lambda x: impute_pclass(x))\n",
    "ad_5['Weather.Condition'].value_counts(normalize=True)"
   ]
  },
  {
   "cell_type": "code",
   "execution_count": 48,
   "id": "7722e4d5-6523-41c5-b981-a827dafc0d8c",
   "metadata": {},
   "outputs": [
    {
     "data": {
      "text/plain": [
       "Event.Id                  0\n",
       "Investigation.Type        0\n",
       "Accident.Number           0\n",
       "Event.Date                0\n",
       "Location                  0\n",
       "Country                   0\n",
       "Injury.Severity           0\n",
       "Aircraft.damage           0\n",
       "Aircraft.Category         0\n",
       "Make                      0\n",
       "Model                     0\n",
       "Amateur.Built             0\n",
       "Number.of.Engines         0\n",
       "Engine.Type               0\n",
       "Purpose.of.flight         0\n",
       "Total.Fatal.Injuries      0\n",
       "Total.Serious.Injuries    0\n",
       "Total.Minor.Injuries      0\n",
       "Total.Uninjured           0\n",
       "Weather.Condition         0\n",
       "Broad.phase.of.flight     0\n",
       "Event.Year                0\n",
       "dtype: int64"
      ]
     },
     "execution_count": 48,
     "metadata": {},
     "output_type": "execute_result"
    }
   ],
   "source": [
    "ad_5.isna().sum()"
   ]
  },
  {
   "cell_type": "code",
   "execution_count": 49,
   "id": "df1f569e-9a72-43fc-986b-ea412f471a90",
   "metadata": {
    "scrolled": true
   },
   "outputs": [
    {
     "name": "stdout",
     "output_type": "stream",
     "text": [
      "<class 'pandas.core.frame.DataFrame'>\n",
      "Int64Index: 73047 entries, 0 to 88888\n",
      "Data columns (total 22 columns):\n",
      " #   Column                  Non-Null Count  Dtype  \n",
      "---  ------                  --------------  -----  \n",
      " 0   Event.Id                73047 non-null  object \n",
      " 1   Investigation.Type      73047 non-null  object \n",
      " 2   Accident.Number         73047 non-null  object \n",
      " 3   Event.Date              73047 non-null  object \n",
      " 4   Location                73047 non-null  object \n",
      " 5   Country                 73047 non-null  object \n",
      " 6   Injury.Severity         73047 non-null  object \n",
      " 7   Aircraft.damage         73047 non-null  object \n",
      " 8   Aircraft.Category       73047 non-null  object \n",
      " 9   Make                    73047 non-null  object \n",
      " 10  Model                   73047 non-null  object \n",
      " 11  Amateur.Built           73047 non-null  object \n",
      " 12  Number.of.Engines       73047 non-null  float64\n",
      " 13  Engine.Type             73047 non-null  object \n",
      " 14  Purpose.of.flight       73047 non-null  object \n",
      " 15  Total.Fatal.Injuries    73047 non-null  int64  \n",
      " 16  Total.Serious.Injuries  73047 non-null  int64  \n",
      " 17  Total.Minor.Injuries    73047 non-null  int64  \n",
      " 18  Total.Uninjured         73047 non-null  int64  \n",
      " 19  Weather.Condition       73047 non-null  object \n",
      " 20  Broad.phase.of.flight   73047 non-null  object \n",
      " 21  Event.Year              73047 non-null  int64  \n",
      "dtypes: float64(1), int64(5), object(16)\n",
      "memory usage: 12.8+ MB\n"
     ]
    }
   ],
   "source": [
    "ad_5.info()"
   ]
  },
  {
   "cell_type": "markdown",
   "id": "20b387bc-72bd-43f0-ab29-1f4f5e104f64",
   "metadata": {
    "collapsed": true,
    "jupyter": {
     "outputs_hidden": true
    }
   },
   "source": [
    "### Statistical & Visualization Exploration"
   ]
  },
  {
   "cell_type": "code",
   "execution_count": 50,
   "id": "0db7c695-b936-4516-928b-6f532cbf3355",
   "metadata": {},
   "outputs": [
    {
     "data": {
      "text/html": [
       "<div>\n",
       "<style scoped>\n",
       "    .dataframe tbody tr th:only-of-type {\n",
       "        vertical-align: middle;\n",
       "    }\n",
       "\n",
       "    .dataframe tbody tr th {\n",
       "        vertical-align: top;\n",
       "    }\n",
       "\n",
       "    .dataframe thead th {\n",
       "        text-align: right;\n",
       "    }\n",
       "</style>\n",
       "<table border=\"1\" class=\"dataframe\">\n",
       "  <thead>\n",
       "    <tr style=\"text-align: right;\">\n",
       "      <th></th>\n",
       "      <th>Number.of.Engines</th>\n",
       "      <th>Total.Fatal.Injuries</th>\n",
       "      <th>Total.Serious.Injuries</th>\n",
       "      <th>Total.Minor.Injuries</th>\n",
       "      <th>Total.Uninjured</th>\n",
       "      <th>Event.Year</th>\n",
       "    </tr>\n",
       "  </thead>\n",
       "  <tbody>\n",
       "    <tr>\n",
       "      <th>count</th>\n",
       "      <td>73047.000000</td>\n",
       "      <td>73047.000000</td>\n",
       "      <td>73047.000000</td>\n",
       "      <td>73047.000000</td>\n",
       "      <td>73047.000000</td>\n",
       "      <td>73047.000000</td>\n",
       "    </tr>\n",
       "    <tr>\n",
       "      <th>mean</th>\n",
       "      <td>1.142744</td>\n",
       "      <td>0.510685</td>\n",
       "      <td>0.246444</td>\n",
       "      <td>0.303640</td>\n",
       "      <td>4.840651</td>\n",
       "      <td>1998.146837</td>\n",
       "    </tr>\n",
       "    <tr>\n",
       "      <th>std</th>\n",
       "      <td>0.439454</td>\n",
       "      <td>4.235008</td>\n",
       "      <td>1.478230</td>\n",
       "      <td>1.549842</td>\n",
       "      <td>26.160360</td>\n",
       "      <td>12.661842</td>\n",
       "    </tr>\n",
       "    <tr>\n",
       "      <th>min</th>\n",
       "      <td>0.000000</td>\n",
       "      <td>0.000000</td>\n",
       "      <td>0.000000</td>\n",
       "      <td>0.000000</td>\n",
       "      <td>0.000000</td>\n",
       "      <td>1948.000000</td>\n",
       "    </tr>\n",
       "    <tr>\n",
       "      <th>25%</th>\n",
       "      <td>1.000000</td>\n",
       "      <td>0.000000</td>\n",
       "      <td>0.000000</td>\n",
       "      <td>0.000000</td>\n",
       "      <td>0.000000</td>\n",
       "      <td>1987.000000</td>\n",
       "    </tr>\n",
       "    <tr>\n",
       "      <th>50%</th>\n",
       "      <td>1.000000</td>\n",
       "      <td>0.000000</td>\n",
       "      <td>0.000000</td>\n",
       "      <td>0.000000</td>\n",
       "      <td>1.000000</td>\n",
       "      <td>1995.000000</td>\n",
       "    </tr>\n",
       "    <tr>\n",
       "      <th>75%</th>\n",
       "      <td>1.000000</td>\n",
       "      <td>0.000000</td>\n",
       "      <td>0.000000</td>\n",
       "      <td>0.000000</td>\n",
       "      <td>2.000000</td>\n",
       "      <td>2011.000000</td>\n",
       "    </tr>\n",
       "    <tr>\n",
       "      <th>max</th>\n",
       "      <td>8.000000</td>\n",
       "      <td>295.000000</td>\n",
       "      <td>161.000000</td>\n",
       "      <td>171.000000</td>\n",
       "      <td>576.000000</td>\n",
       "      <td>2022.000000</td>\n",
       "    </tr>\n",
       "  </tbody>\n",
       "</table>\n",
       "</div>"
      ],
      "text/plain": [
       "       Number.of.Engines  Total.Fatal.Injuries  Total.Serious.Injuries  \\\n",
       "count       73047.000000          73047.000000            73047.000000   \n",
       "mean            1.142744              0.510685                0.246444   \n",
       "std             0.439454              4.235008                1.478230   \n",
       "min             0.000000              0.000000                0.000000   \n",
       "25%             1.000000              0.000000                0.000000   \n",
       "50%             1.000000              0.000000                0.000000   \n",
       "75%             1.000000              0.000000                0.000000   \n",
       "max             8.000000            295.000000              161.000000   \n",
       "\n",
       "       Total.Minor.Injuries  Total.Uninjured    Event.Year  \n",
       "count          73047.000000     73047.000000  73047.000000  \n",
       "mean               0.303640         4.840651   1998.146837  \n",
       "std                1.549842        26.160360     12.661842  \n",
       "min                0.000000         0.000000   1948.000000  \n",
       "25%                0.000000         0.000000   1987.000000  \n",
       "50%                0.000000         1.000000   1995.000000  \n",
       "75%                0.000000         2.000000   2011.000000  \n",
       "max              171.000000       576.000000   2022.000000  "
      ]
     },
     "execution_count": 50,
     "metadata": {},
     "output_type": "execute_result"
    }
   ],
   "source": [
    "ad_5.describe()"
   ]
  },
  {
   "cell_type": "markdown",
   "id": "a63b154d-460d-46d9-8765-dd02d2108e1e",
   "metadata": {},
   "source": [
    "Get rid of the outliers in Total.Uninjured"
   ]
  },
  {
   "cell_type": "code",
   "execution_count": 51,
   "id": "0be26379-831d-44bb-876f-a8d8791c2c4d",
   "metadata": {},
   "outputs": [
    {
     "data": {
      "text/plain": [
       "0      28714\n",
       "1      21118\n",
       "2      13274\n",
       "3       3608\n",
       "4       2271\n",
       "       ...  \n",
       "399        1\n",
       "322        1\n",
       "265        1\n",
       "339        1\n",
       "368        1\n",
       "Name: Total.Uninjured, Length: 363, dtype: int64"
      ]
     },
     "execution_count": 51,
     "metadata": {},
     "output_type": "execute_result"
    }
   ],
   "source": [
    "# Identify all outliers of Total.Uninjured\n",
    "mask = ad_5['Total.Uninjured'].value_counts()\n",
    "mask"
   ]
  },
  {
   "cell_type": "code",
   "execution_count": 52,
   "id": "2d1b9e24-204f-4806-83b8-6400a33c864b",
   "metadata": {},
   "outputs": [
    {
     "data": {
      "text/plain": [
       "Text(0, 0.5, 'Outlier')"
      ]
     },
     "execution_count": 52,
     "metadata": {},
     "output_type": "execute_result"
    },
    {
     "data": {
      "image/png": "[encoded data removed]",
      "text/plain": [
       "<Figure size 640x480 with 1 Axes>"
      ]
     },
     "metadata": {},
     "output_type": "display_data"
    }
   ],
   "source": [
    "# Visualize outliers in Total.Uninjured\n",
    "\n",
    "x = mask.index\n",
    "y = mask.values\n",
    "\n",
    "fig, ax = plt.subplots()\n",
    "\n",
    "ax.bar(x,y)\n",
    "plt.xlim(xmin=2, xmax=10)\n",
    "ax.set_title('Total Uninjured Outlier Analysis')\n",
    "ax.set_xlabel('Outlier Count')\n",
    "ax.set_ylabel('Outlier')"
   ]
  },
  {
   "cell_type": "markdown",
   "id": "1f8b2a4e-72eb-4507-a52c-c02bd9869a07",
   "metadata": {},
   "source": [
    "Looks like it makes sense to get rid of outliers with values >4"
   ]
  },
  {
   "cell_type": "code",
   "execution_count": 53,
   "id": "d74baac9-276d-403b-bf32-1237c2c87258",
   "metadata": {},
   "outputs": [
    {
     "name": "stdout",
     "output_type": "stream",
     "text": [
      "Value Count Check:\n",
      "0    28714\n",
      "1    21118\n",
      "2    13274\n",
      "3     3608\n",
      "4     2271\n",
      "Name: Total.Uninjured, dtype: int64\n"
     ]
    },
    {
     "data": {
      "text/html": [
       "<div>\n",
       "<style scoped>\n",
       "    .dataframe tbody tr th:only-of-type {\n",
       "        vertical-align: middle;\n",
       "    }\n",
       "\n",
       "    .dataframe tbody tr th {\n",
       "        vertical-align: top;\n",
       "    }\n",
       "\n",
       "    .dataframe thead th {\n",
       "        text-align: right;\n",
       "    }\n",
       "</style>\n",
       "<table border=\"1\" class=\"dataframe\">\n",
       "  <thead>\n",
       "    <tr style=\"text-align: right;\">\n",
       "      <th></th>\n",
       "      <th>Number.of.Engines</th>\n",
       "      <th>Total.Fatal.Injuries</th>\n",
       "      <th>Total.Serious.Injuries</th>\n",
       "      <th>Total.Minor.Injuries</th>\n",
       "      <th>Total.Uninjured</th>\n",
       "      <th>Event.Year</th>\n",
       "    </tr>\n",
       "  </thead>\n",
       "  <tbody>\n",
       "    <tr>\n",
       "      <th>count</th>\n",
       "      <td>68985.000000</td>\n",
       "      <td>68985.000000</td>\n",
       "      <td>68985.000000</td>\n",
       "      <td>68985.000000</td>\n",
       "      <td>68985.000000</td>\n",
       "      <td>68985.000000</td>\n",
       "    </tr>\n",
       "    <tr>\n",
       "      <th>mean</th>\n",
       "      <td>1.100413</td>\n",
       "      <td>0.528637</td>\n",
       "      <td>0.228282</td>\n",
       "      <td>0.263260</td>\n",
       "      <td>0.979546</td>\n",
       "      <td>1998.082409</td>\n",
       "    </tr>\n",
       "    <tr>\n",
       "      <th>std</th>\n",
       "      <td>0.368499</td>\n",
       "      <td>4.259213</td>\n",
       "      <td>1.086931</td>\n",
       "      <td>0.771724</td>\n",
       "      <td>1.055338</td>\n",
       "      <td>12.655827</td>\n",
       "    </tr>\n",
       "    <tr>\n",
       "      <th>min</th>\n",
       "      <td>0.000000</td>\n",
       "      <td>0.000000</td>\n",
       "      <td>0.000000</td>\n",
       "      <td>0.000000</td>\n",
       "      <td>0.000000</td>\n",
       "      <td>1948.000000</td>\n",
       "    </tr>\n",
       "    <tr>\n",
       "      <th>25%</th>\n",
       "      <td>1.000000</td>\n",
       "      <td>0.000000</td>\n",
       "      <td>0.000000</td>\n",
       "      <td>0.000000</td>\n",
       "      <td>0.000000</td>\n",
       "      <td>1987.000000</td>\n",
       "    </tr>\n",
       "    <tr>\n",
       "      <th>50%</th>\n",
       "      <td>1.000000</td>\n",
       "      <td>0.000000</td>\n",
       "      <td>0.000000</td>\n",
       "      <td>0.000000</td>\n",
       "      <td>1.000000</td>\n",
       "      <td>1995.000000</td>\n",
       "    </tr>\n",
       "    <tr>\n",
       "      <th>75%</th>\n",
       "      <td>1.000000</td>\n",
       "      <td>0.000000</td>\n",
       "      <td>0.000000</td>\n",
       "      <td>0.000000</td>\n",
       "      <td>2.000000</td>\n",
       "      <td>2011.000000</td>\n",
       "    </tr>\n",
       "    <tr>\n",
       "      <th>max</th>\n",
       "      <td>8.000000</td>\n",
       "      <td>295.000000</td>\n",
       "      <td>161.000000</td>\n",
       "      <td>62.000000</td>\n",
       "      <td>4.000000</td>\n",
       "      <td>2022.000000</td>\n",
       "    </tr>\n",
       "  </tbody>\n",
       "</table>\n",
       "</div>"
      ],
      "text/plain": [
       "       Number.of.Engines  Total.Fatal.Injuries  Total.Serious.Injuries  \\\n",
       "count       68985.000000          68985.000000            68985.000000   \n",
       "mean            1.100413              0.528637                0.228282   \n",
       "std             0.368499              4.259213                1.086931   \n",
       "min             0.000000              0.000000                0.000000   \n",
       "25%             1.000000              0.000000                0.000000   \n",
       "50%             1.000000              0.000000                0.000000   \n",
       "75%             1.000000              0.000000                0.000000   \n",
       "max             8.000000            295.000000              161.000000   \n",
       "\n",
       "       Total.Minor.Injuries  Total.Uninjured    Event.Year  \n",
       "count          68985.000000     68985.000000  68985.000000  \n",
       "mean               0.263260         0.979546   1998.082409  \n",
       "std                0.771724         1.055338     12.655827  \n",
       "min                0.000000         0.000000   1948.000000  \n",
       "25%                0.000000         0.000000   1987.000000  \n",
       "50%                0.000000         1.000000   1995.000000  \n",
       "75%                0.000000         2.000000   2011.000000  \n",
       "max               62.000000         4.000000   2022.000000  "
      ]
     },
     "execution_count": 53,
     "metadata": {},
     "output_type": "execute_result"
    }
   ],
   "source": [
    "# Eliminate outliers (>5) in Total.Uninjured\n",
    "\n",
    "ad_6 = ad_5.copy()\n",
    "\n",
    "mask = ad_6['Total.Uninjured'] < 5\n",
    "ad_6 = ad_6[mask]\n",
    "\n",
    "print(f\"Value Count Check:\\n{ad_6['Total.Uninjured'].value_counts()}\")\n",
    "\n",
    "# New describe check\n",
    "ad_6.describe()"
   ]
  },
  {
   "cell_type": "code",
   "execution_count": 148,
   "id": "e6611393-a0b1-4714-b5c7-56a682b67463",
   "metadata": {},
   "outputs": [],
   "source": [
    "# Plotting functions\n",
    "\n",
    "def plot_scatter(df, col1, col2, title, xlabel, ylabel):\n",
    "    # Extract the relevant data\n",
    "    x = df[col1]\n",
    "    y = df[col2]\n",
    "    # Set up plot\n",
    "    fig, ax = plt.subplots(figsize=(10,7))\n",
    "    # Plot scatter plot\n",
    "    ax.scatter(x,y)\n",
    "    # Customize title and axes labels\n",
    "    ax.set_title(title)\n",
    "    ax.set_xlabel(xlabel)\n",
    "    ax.set_ylabel(ylabel)\n",
    "\n",
    "def plot_histogram(df, column, title, xlabel, ylabel):\n",
    "    # Extract the relevant data\n",
    "    data = ad_5[column]\n",
    "    mean = data.mean(numeric_only=True)\n",
    "    median = data.median(numeric_only=True)\n",
    "    mode = data.mode().iloc[0]\n",
    "    # Set up plot\n",
    "    fig, ax = plt.subplots(figsize=(10,7))\n",
    "    # Plot histogram\n",
    "    ax.hist(data, bins=1000)\n",
    "    # Plot vertical line\n",
    "    ax.axvline(mean, color=\"black\")\n",
    "    ax.axvline(median, color='green')\n",
    "    ax.axvline(mode, color='blue')\n",
    "    # Customize title and axes labels\n",
    "    ax.set_title(title)\n",
    "    ax.set_xlabel(xlabel)\n",
    "    ax.set_ylabel(ylabel)\n",
    "    plt.xlim(xmin=-1, xmax=30)\n",
    "\n",
    "\n",
    "def plot_bar(df, cat, val, title, xlabel, ylabel):\n",
    "    # Extract the relevant data\n",
    "    x = cat\n",
    "    y = val\n",
    "    # Set up plot\n",
    "    fig, ax = plt.subplots(figsize=(14,10))\n",
    "    # Plot bar graph\n",
    "    ax.bar(x,y,data=df)\n",
    "    # Customize title and axes labels\n",
    "    plt.xticks(rotation = 90)\n",
    "    ax.set_title(title)\n",
    "    ax.set_xlabel(xlabel)\n",
    "    ax.set_ylabel(ylabel)\n",
    "    plt.show()\n"
   ]
  },
  {
   "cell_type": "code",
   "execution_count": 149,
   "id": "b0a36fa3-ff79-454f-90e4-c479bd1d0c8a",
   "metadata": {},
   "outputs": [
    {
     "name": "stdout",
     "output_type": "stream",
     "text": [
      "(-0.296, 36.875]\n",
      "(36.875, 73.75]\n",
      "(73.75, 110.625]\n",
      "(110.625, 147.5]\n",
      "(147.5, 184.375]\n",
      "(221.25, 258.125]\n",
      "(184.375, 221.25]\n",
      "(258.125, 295.0]\n"
     ]
    }
   ],
   "source": [
    "bins = ad['Total.Fatal.Injuries'].value_counts(bins=8).index\n",
    "\n",
    "for bin in bins:\n",
    "    print(bin)"
   ]
  },
  {
   "cell_type": "code",
   "execution_count": 150,
   "id": "35d471ba-c601-483e-9ad3-ee7c80e97b3f",
   "metadata": {},
   "outputs": [
    {
     "data": {
      "image/png": "[encoded data removed]",
      "text/plain": [
       "<Figure size 1000x700 with 1 Axes>"
      ]
     },
     "metadata": {},
     "output_type": "display_data"
    }
   ],
   "source": [
    "# Statistical analysis of Total.Uninjured before dropping na values\n",
    "\n",
    "plot_histogram(\n",
    "    ad_5,\n",
    "    \"Total.Uninjured\",\n",
    "    \"Distribution of Uninjured \",\n",
    "    'Uninjured per Accident',\n",
    "    \"Count of Uninjured\"\n",
    ")"
   ]
  },
  {
   "cell_type": "code",
   "execution_count": 179,
   "id": "a6082f7b-d121-42ff-ae92-1fa83db7c521",
   "metadata": {},
   "outputs": [
    {
     "data": {
      "image/png": "[encoded data removed]",
      "text/plain": [
       "<Figure size 1000x600 with 1 Axes>"
      ]
     },
     "metadata": {},
     "output_type": "display_data"
    }
   ],
   "source": [
    "# Assuming 'df' is your DataFrame with categorical data\n",
    "# and columns 'Category1', 'Category2', 'Category3'\n",
    "\n",
    "# Melt the DataFrame to have a 'variable' column\n",
    "df_melted = pd.melt(ad_6, id_vars=['Aircraft.damage'], value_vars=['Make'])\n",
    "\n",
    "# Create a stacked bar chart\n",
    "plt.figure(figsize=(10, 6))\n",
    "sns.countplot(x='Aircraft.damage', hue='variable', data=df_melted, palette='muted')\n",
    "\n",
    "# Add labels and title\n",
    "plt.xlabel('X-axis Label')\n",
    "plt.ylabel('Count')\n",
    "plt.title('Stacked Bar Chart for Categorical Data')\n",
    "\n",
    "# Show the plot\n",
    "plt.show()"
   ]
  },
  {
   "cell_type": "code",
   "execution_count": 171,
   "id": "68cb3bcb-64a5-4768-9be4-f67ce013c66d",
   "metadata": {},
   "outputs": [
    {
     "data": {
      "text/plain": [
       "Int64Index([36827, 47892, 48130, 48131, 48132, 48133, 48134, 48135, 48136,\n",
       "            48137,\n",
       "            ...\n",
       "            64565, 20022, 20023, 20024, 20026, 20027, 20028, 20029, 20033,\n",
       "                0],\n",
       "           dtype='int64', length=68985)"
      ]
     },
     "execution_count": 171,
     "metadata": {},
     "output_type": "execute_result"
    }
   ],
   "source": [
    "top_make = ad_6['Make'].value_counts().index[:50]\n",
    "top_make\n",
    "top_damage = ad_6['Aircraft.damage'].sort_values(ascending=False).index\n",
    "top_damage"
   ]
  },
  {
   "cell_type": "code",
   "execution_count": 155,
   "id": "b11702bf-2989-4bcc-af25-adfc8b63b181",
   "metadata": {},
   "outputs": [
    {
     "name": "stdout",
     "output_type": "stream",
     "text": [
      "<class 'pandas.core.frame.DataFrame'>\n",
      "Int64Index: 68985 entries, 0 to 88888\n",
      "Data columns (total 22 columns):\n",
      " #   Column                  Non-Null Count  Dtype  \n",
      "---  ------                  --------------  -----  \n",
      " 0   Event.Id                68985 non-null  object \n",
      " 1   Investigation.Type      68985 non-null  object \n",
      " 2   Accident.Number         68985 non-null  object \n",
      " 3   Event.Date              68985 non-null  object \n",
      " 4   Location                68985 non-null  object \n",
      " 5   Country                 68985 non-null  object \n",
      " 6   Injury.Severity         68985 non-null  object \n",
      " 7   Aircraft.damage         68985 non-null  object \n",
      " 8   Aircraft.Category       68985 non-null  object \n",
      " 9   Make                    68985 non-null  object \n",
      " 10  Model                   68985 non-null  object \n",
      " 11  Amateur.Built           68985 non-null  object \n",
      " 12  Number.of.Engines       68985 non-null  float64\n",
      " 13  Engine.Type             68985 non-null  object \n",
      " 14  Purpose.of.flight       68985 non-null  object \n",
      " 15  Total.Fatal.Injuries    68985 non-null  int64  \n",
      " 16  Total.Serious.Injuries  68985 non-null  int64  \n",
      " 17  Total.Minor.Injuries    68985 non-null  int64  \n",
      " 18  Total.Uninjured         68985 non-null  int64  \n",
      " 19  Weather.Condition       68985 non-null  object \n",
      " 20  Broad.phase.of.flight   68985 non-null  object \n",
      " 21  Event.Year              68985 non-null  int64  \n",
      "dtypes: float64(1), int64(5), object(16)\n",
      "memory usage: 14.1+ MB\n"
     ]
    }
   ],
   "source": [
    "ad_6.info()"
   ]
  },
  {
   "cell_type": "code",
   "execution_count": 168,
   "id": "8dfa0795-377a-4021-a1cf-dac04e34f6e8",
   "metadata": {},
   "outputs": [
    {
     "data": {
      "text/plain": [
       "substantial    52119\n",
       "destroyed      15714\n",
       "minor           1152\n",
       "Name: Aircraft.damage, dtype: int64"
      ]
     },
     "execution_count": 168,
     "metadata": {},
     "output_type": "execute_result"
    }
   ],
   "source": [
    "ad_6['Aircraft.damage'].value_counts()"
   ]
  },
  {
   "cell_type": "code",
   "execution_count": 162,
   "id": "ecc3e7ed-6c1f-4708-900e-56a2aa7843d4",
   "metadata": {},
   "outputs": [
    {
     "ename": "ValueError",
     "evalue": "shape mismatch: objects cannot be broadcast to a single shape.  Mismatch is between arg 0 with shape (68985,) and arg 1 with shape (50,).",
     "output_type": "error",
     "traceback": [
      "\u001b[0;31m---------------------------------------------------------------------------\u001b[0m",
      "\u001b[0;31mValueError\u001b[0m                                Traceback (most recent call last)",
      "Cell \u001b[0;32mIn[162], line 3\u001b[0m\n\u001b[1;32m      1\u001b[0m \u001b[38;5;66;03m# Investigation.Type vs Injury.Severity\u001b[39;00m\n\u001b[0;32m----> 3\u001b[0m \u001b[43mplot_bar\u001b[49m\u001b[43m(\u001b[49m\u001b[43mad_6\u001b[49m\u001b[43m,\u001b[49m\u001b[43m \u001b[49m\u001b[43mad_6\u001b[49m\u001b[43m[\u001b[49m\u001b[38;5;124;43m'\u001b[39;49m\u001b[38;5;124;43mAircraft.damage\u001b[39;49m\u001b[38;5;124;43m'\u001b[39;49m\u001b[43m]\u001b[49m\u001b[43m,\u001b[49m\u001b[43m \u001b[49m\u001b[43mtop_make\u001b[49m\u001b[43m,\u001b[49m\n\u001b[1;32m      4\u001b[0m \u001b[43m         \u001b[49m\u001b[38;5;124;43m'\u001b[39;49m\u001b[38;5;124;43mdata vs data\u001b[39;49m\u001b[38;5;124;43m'\u001b[39;49m\u001b[43m,\u001b[49m\u001b[43m \u001b[49m\u001b[38;5;124;43m'\u001b[39;49m\u001b[38;5;124;43mcat\u001b[39;49m\u001b[38;5;124;43m'\u001b[39;49m\u001b[43m,\u001b[49m\u001b[43m \u001b[49m\u001b[38;5;124;43m'\u001b[39;49m\u001b[38;5;124;43mval\u001b[39;49m\u001b[38;5;124;43m'\u001b[39;49m\u001b[43m)\u001b[49m\n",
      "Cell \u001b[0;32mIn[148], line 44\u001b[0m, in \u001b[0;36mplot_bar\u001b[0;34m(df, cat, val, title, xlabel, ylabel)\u001b[0m\n\u001b[1;32m     42\u001b[0m fig, ax \u001b[38;5;241m=\u001b[39m plt\u001b[38;5;241m.\u001b[39msubplots(figsize\u001b[38;5;241m=\u001b[39m(\u001b[38;5;241m14\u001b[39m,\u001b[38;5;241m10\u001b[39m))\n\u001b[1;32m     43\u001b[0m \u001b[38;5;66;03m# Plot bar graph\u001b[39;00m\n\u001b[0;32m---> 44\u001b[0m \u001b[43max\u001b[49m\u001b[38;5;241;43m.\u001b[39;49m\u001b[43mbar\u001b[49m\u001b[43m(\u001b[49m\u001b[43mx\u001b[49m\u001b[43m,\u001b[49m\u001b[43my\u001b[49m\u001b[43m,\u001b[49m\u001b[43mdata\u001b[49m\u001b[38;5;241;43m=\u001b[39;49m\u001b[43mdf\u001b[49m\u001b[43m)\u001b[49m\n\u001b[1;32m     45\u001b[0m \u001b[38;5;66;03m# Customize title and axes labels\u001b[39;00m\n\u001b[1;32m     46\u001b[0m plt\u001b[38;5;241m.\u001b[39mxticks(rotation \u001b[38;5;241m=\u001b[39m \u001b[38;5;241m90\u001b[39m)\n",
      "File \u001b[0;32m~/anaconda3/envs/learn-env-lite-2/lib/python3.8/site-packages/matplotlib/__init__.py:1472\u001b[0m, in \u001b[0;36m_preprocess_data.<locals>.inner\u001b[0;34m(ax, data, *args, **kwargs)\u001b[0m\n\u001b[1;32m   1468\u001b[0m \u001b[38;5;28;01mif\u001b[39;00m label_namer \u001b[38;5;129;01mand\u001b[39;00m \u001b[38;5;124m\"\u001b[39m\u001b[38;5;124mlabel\u001b[39m\u001b[38;5;124m\"\u001b[39m \u001b[38;5;129;01mnot\u001b[39;00m \u001b[38;5;129;01min\u001b[39;00m args_and_kwargs:\n\u001b[1;32m   1469\u001b[0m     new_kwargs[\u001b[38;5;124m\"\u001b[39m\u001b[38;5;124mlabel\u001b[39m\u001b[38;5;124m\"\u001b[39m] \u001b[38;5;241m=\u001b[39m _label_from_arg(\n\u001b[1;32m   1470\u001b[0m         args_and_kwargs\u001b[38;5;241m.\u001b[39mget(label_namer), auto_label)\n\u001b[0;32m-> 1472\u001b[0m \u001b[38;5;28;01mreturn\u001b[39;00m \u001b[43mfunc\u001b[49m\u001b[43m(\u001b[49m\u001b[38;5;241;43m*\u001b[39;49m\u001b[43mnew_args\u001b[49m\u001b[43m,\u001b[49m\u001b[43m \u001b[49m\u001b[38;5;241;43m*\u001b[39;49m\u001b[38;5;241;43m*\u001b[39;49m\u001b[43mnew_kwargs\u001b[49m\u001b[43m)\u001b[49m\n",
      "File \u001b[0;32m~/anaconda3/envs/learn-env-lite-2/lib/python3.8/site-packages/matplotlib/axes/_axes.py:2409\u001b[0m, in \u001b[0;36mAxes.bar\u001b[0;34m(self, x, height, width, bottom, align, **kwargs)\u001b[0m\n\u001b[1;32m   2406\u001b[0m     \u001b[38;5;28;01mif\u001b[39;00m yerr \u001b[38;5;129;01mis\u001b[39;00m \u001b[38;5;129;01mnot\u001b[39;00m \u001b[38;5;28;01mNone\u001b[39;00m:\n\u001b[1;32m   2407\u001b[0m         yerr \u001b[38;5;241m=\u001b[39m \u001b[38;5;28mself\u001b[39m\u001b[38;5;241m.\u001b[39m_convert_dx(yerr, y0, y, \u001b[38;5;28mself\u001b[39m\u001b[38;5;241m.\u001b[39mconvert_yunits)\n\u001b[0;32m-> 2409\u001b[0m x, height, width, y, linewidth, hatch \u001b[38;5;241m=\u001b[39m \u001b[43mnp\u001b[49m\u001b[38;5;241;43m.\u001b[39;49m\u001b[43mbroadcast_arrays\u001b[49m\u001b[43m(\u001b[49m\n\u001b[1;32m   2410\u001b[0m \u001b[43m    \u001b[49m\u001b[38;5;66;43;03m# Make args iterable too.\u001b[39;49;00m\n\u001b[1;32m   2411\u001b[0m \u001b[43m    \u001b[49m\u001b[43mnp\u001b[49m\u001b[38;5;241;43m.\u001b[39;49m\u001b[43matleast_1d\u001b[49m\u001b[43m(\u001b[49m\u001b[43mx\u001b[49m\u001b[43m)\u001b[49m\u001b[43m,\u001b[49m\u001b[43m \u001b[49m\u001b[43mheight\u001b[49m\u001b[43m,\u001b[49m\u001b[43m \u001b[49m\u001b[43mwidth\u001b[49m\u001b[43m,\u001b[49m\u001b[43m \u001b[49m\u001b[43my\u001b[49m\u001b[43m,\u001b[49m\u001b[43m \u001b[49m\u001b[43mlinewidth\u001b[49m\u001b[43m,\u001b[49m\u001b[43m \u001b[49m\u001b[43mhatch\u001b[49m\u001b[43m)\u001b[49m\n\u001b[1;32m   2413\u001b[0m \u001b[38;5;66;03m# Now that units have been converted, set the tick locations.\u001b[39;00m\n\u001b[1;32m   2414\u001b[0m \u001b[38;5;28;01mif\u001b[39;00m orientation \u001b[38;5;241m==\u001b[39m \u001b[38;5;124m'\u001b[39m\u001b[38;5;124mvertical\u001b[39m\u001b[38;5;124m'\u001b[39m:\n",
      "File \u001b[0;32m<__array_function__ internals>:200\u001b[0m, in \u001b[0;36mbroadcast_arrays\u001b[0;34m(*args, **kwargs)\u001b[0m\n",
      "File \u001b[0;32m~/anaconda3/envs/learn-env-lite-2/lib/python3.8/site-packages/numpy/lib/stride_tricks.py:540\u001b[0m, in \u001b[0;36mbroadcast_arrays\u001b[0;34m(subok, *args)\u001b[0m\n\u001b[1;32m    533\u001b[0m \u001b[38;5;66;03m# nditer is not used here to avoid the limit of 32 arrays.\u001b[39;00m\n\u001b[1;32m    534\u001b[0m \u001b[38;5;66;03m# Otherwise, something like the following one-liner would suffice:\u001b[39;00m\n\u001b[1;32m    535\u001b[0m \u001b[38;5;66;03m# return np.nditer(args, flags=['multi_index', 'zerosize_ok'],\u001b[39;00m\n\u001b[1;32m    536\u001b[0m \u001b[38;5;66;03m#                  order='C').itviews\u001b[39;00m\n\u001b[1;32m    538\u001b[0m args \u001b[38;5;241m=\u001b[39m [np\u001b[38;5;241m.\u001b[39marray(_m, copy\u001b[38;5;241m=\u001b[39m\u001b[38;5;28;01mFalse\u001b[39;00m, subok\u001b[38;5;241m=\u001b[39msubok) \u001b[38;5;28;01mfor\u001b[39;00m _m \u001b[38;5;129;01min\u001b[39;00m args]\n\u001b[0;32m--> 540\u001b[0m shape \u001b[38;5;241m=\u001b[39m \u001b[43m_broadcast_shape\u001b[49m\u001b[43m(\u001b[49m\u001b[38;5;241;43m*\u001b[39;49m\u001b[43margs\u001b[49m\u001b[43m)\u001b[49m\n\u001b[1;32m    542\u001b[0m \u001b[38;5;28;01mif\u001b[39;00m \u001b[38;5;28mall\u001b[39m(array\u001b[38;5;241m.\u001b[39mshape \u001b[38;5;241m==\u001b[39m shape \u001b[38;5;28;01mfor\u001b[39;00m array \u001b[38;5;129;01min\u001b[39;00m args):\n\u001b[1;32m    543\u001b[0m     \u001b[38;5;66;03m# Common case where nothing needs to be broadcasted.\u001b[39;00m\n\u001b[1;32m    544\u001b[0m     \u001b[38;5;28;01mreturn\u001b[39;00m args\n",
      "File \u001b[0;32m~/anaconda3/envs/learn-env-lite-2/lib/python3.8/site-packages/numpy/lib/stride_tricks.py:422\u001b[0m, in \u001b[0;36m_broadcast_shape\u001b[0;34m(*args)\u001b[0m\n\u001b[1;32m    417\u001b[0m \u001b[38;5;250m\u001b[39m\u001b[38;5;124;03m\"\"\"Returns the shape of the arrays that would result from broadcasting the\u001b[39;00m\n\u001b[1;32m    418\u001b[0m \u001b[38;5;124;03msupplied arrays against each other.\u001b[39;00m\n\u001b[1;32m    419\u001b[0m \u001b[38;5;124;03m\"\"\"\u001b[39;00m\n\u001b[1;32m    420\u001b[0m \u001b[38;5;66;03m# use the old-iterator because np.nditer does not handle size 0 arrays\u001b[39;00m\n\u001b[1;32m    421\u001b[0m \u001b[38;5;66;03m# consistently\u001b[39;00m\n\u001b[0;32m--> 422\u001b[0m b \u001b[38;5;241m=\u001b[39m \u001b[43mnp\u001b[49m\u001b[38;5;241;43m.\u001b[39;49m\u001b[43mbroadcast\u001b[49m\u001b[43m(\u001b[49m\u001b[38;5;241;43m*\u001b[39;49m\u001b[43margs\u001b[49m\u001b[43m[\u001b[49m\u001b[43m:\u001b[49m\u001b[38;5;241;43m32\u001b[39;49m\u001b[43m]\u001b[49m\u001b[43m)\u001b[49m\n\u001b[1;32m    423\u001b[0m \u001b[38;5;66;03m# unfortunately, it cannot handle 32 or more arguments directly\u001b[39;00m\n\u001b[1;32m    424\u001b[0m \u001b[38;5;28;01mfor\u001b[39;00m pos \u001b[38;5;129;01min\u001b[39;00m \u001b[38;5;28mrange\u001b[39m(\u001b[38;5;241m32\u001b[39m, \u001b[38;5;28mlen\u001b[39m(args), \u001b[38;5;241m31\u001b[39m):\n\u001b[1;32m    425\u001b[0m     \u001b[38;5;66;03m# ironically, np.broadcast does not properly handle np.broadcast\u001b[39;00m\n\u001b[1;32m    426\u001b[0m     \u001b[38;5;66;03m# objects (it treats them as scalars)\u001b[39;00m\n\u001b[1;32m    427\u001b[0m     \u001b[38;5;66;03m# use broadcasting to avoid allocating the full array\u001b[39;00m\n",
      "\u001b[0;31mValueError\u001b[0m: shape mismatch: objects cannot be broadcast to a single shape.  Mismatch is between arg 0 with shape (68985,) and arg 1 with shape (50,)."
     ]
    },
    {
     "data": {
      "image/png": "[encoded data removed]",
      "text/plain": [
       "<Figure size 1400x1000 with 1 Axes>"
      ]
     },
     "metadata": {},
     "output_type": "display_data"
    }
   ],
   "source": [
    "# Investigation.Type vs Injury.Severity\n",
    "\n",
    "plot_bar(ad_6, ad_6['Aircraft.damage'], top_make,\n",
    "         'data vs data', 'cat', 'val')"
   ]
  },
  {
   "cell_type": "code",
   "execution_count": null,
   "id": "9fe98044-1013-4821-9a1e-392642e9d008",
   "metadata": {},
   "outputs": [],
   "source": []
  }
 ],
 "metadata": {
  "kernelspec": {
   "display_name": "Python (learn-env-lite-2)",
   "language": "python",
   "name": "learn-env-lite-2"
  },
  "language_info": {
   "codemirror_mode": {
    "name": "ipython",
    "version": 3
   },
   "file_extension": ".py",
   "mimetype": "text/x-python",
   "name": "python",
   "nbconvert_exporter": "python",
   "pygments_lexer": "ipython3",
   "version": "3.8.5"
  }
 },
 "nbformat": 4,
 "nbformat_minor": 5
}
