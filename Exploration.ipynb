{
 "cells": [
  {
   "cell_type": "markdown",
   "id": "11b1db10-9d78-45b8-8215-14a6c15841ad",
   "metadata": {},
   "source": [
    "# Aviation Industry Analysis"
   ]
  },
  {
   "cell_type": "markdown",
   "id": "ebfbde19-5614-4b61-a11b-ff9ecb4af19e",
   "metadata": {},
   "source": [
    "#### Elina Rankova\n",
    "\n",
    "[Image Placeholder]"
   ]
  },
  {
   "cell_type": "markdown",
   "id": "91b30bce-0a40-4978-b16b-69afb66677fe",
   "metadata": {},
   "source": [
    "## 1. Business Problem and Understanding"
   ]
  },
  {
   "cell_type": "markdown",
   "id": "0480b968-8806-41d9-ab4d-ad3082a74fc4",
   "metadata": {},
   "source": [
    "**Stakeholders:** CEO, Head of Operations, Head of Aviation (brand new department)\n",
    "\n",
    "Our company is expanding into airplane aviation to diversify its portfolio. We aim to evaluate which aircrafts and aircraft specifics pose the lowest risk as we venture into a brand new industry. \n",
    "\n",
    "**Some preliminary questions include:**\n",
    "\n",
    "- *What type of aircraft makes the most sense to purchase first?*\n",
    "- *Are there aircraft specifics such as number of engines, or engine type that contribute to risk?*\n",
    "- *Are there special safety training conditions we should consider for training*\n",
    "- *Have there been improvements in aviation technology and regulation helping us determine which data is valid?*\n",
    "\n",
    "For analysis, we are using data from the <a href = \"https://www.kaggle.com/datasets/khsamaha/aviation-accident-database-synopses\">Aviation Accident Database & Synopses</a>, up to 2023.\n",
    "\n",
    "Each record represents an accident event and includes much information about aircraft specifics as well as passenger injury details and information about accident events.\n",
    "\n",
    "**The goal: evaluate which type of airplane makes the most sense purchase as we enter an industry we have not explored before.**\n",
    "\n",
    "We want to find out which statistics about aviation accident reports provide valuable information about which aircraft poses least risk."
   ]
  },
  {
   "cell_type": "code",
   "execution_count": 1,
   "id": "987cdb5a-9e9d-4a9c-a731-1175766074fd",
   "metadata": {},
   "outputs": [],
   "source": [
    "# Import libraries\n",
    "\n",
    "import pandas as pd\n",
    "import matplotlib.pyplot as plt\n",
    "%matplotlib inline\n",
    "import numpy as np\n",
    "import seaborn as sns\n",
    "\n",
    "# Ignore warnings\n",
    "import warnings\n",
    "warnings.simplefilter(action='ignore', category=FutureWarning)"
   ]
  },
  {
   "cell_type": "code",
   "execution_count": 2,
   "id": "5bc30537-c58e-4f3a-843a-715f7b2a3962",
   "metadata": {},
   "outputs": [
    {
     "data": {
      "text/html": [
       "<div>\n",
       "<style scoped>\n",
       "    .dataframe tbody tr th:only-of-type {\n",
       "        vertical-align: middle;\n",
       "    }\n",
       "\n",
       "    .dataframe tbody tr th {\n",
       "        vertical-align: top;\n",
       "    }\n",
       "\n",
       "    .dataframe thead th {\n",
       "        text-align: right;\n",
       "    }\n",
       "</style>\n",
       "<table border=\"1\" class=\"dataframe\">\n",
       "  <thead>\n",
       "    <tr style=\"text-align: right;\">\n",
       "      <th></th>\n",
       "      <th>Unnamed: 0.8</th>\n",
       "      <th>Unnamed: 0.7</th>\n",
       "      <th>Unnamed: 0.6</th>\n",
       "      <th>Unnamed: 0.5</th>\n",
       "      <th>Unnamed: 0.4</th>\n",
       "      <th>Unnamed: 0.3</th>\n",
       "      <th>Unnamed: 0.2</th>\n",
       "      <th>Unnamed: 0.1</th>\n",
       "      <th>Unnamed: 0</th>\n",
       "      <th>Event.Id</th>\n",
       "      <th>...</th>\n",
       "      <th>Total.Serious.Injuries</th>\n",
       "      <th>Total.Minor.Injuries</th>\n",
       "      <th>Total.Uninjured</th>\n",
       "      <th>Weather.Condition</th>\n",
       "      <th>Broad.phase.of.flight</th>\n",
       "      <th>Report.Status</th>\n",
       "      <th>Publication.Date</th>\n",
       "      <th>Event.Year</th>\n",
       "      <th>Total_Injuries</th>\n",
       "      <th>Total.Injuries</th>\n",
       "    </tr>\n",
       "  </thead>\n",
       "  <tbody>\n",
       "    <tr>\n",
       "      <th>0</th>\n",
       "      <td>0</td>\n",
       "      <td>0</td>\n",
       "      <td>0</td>\n",
       "      <td>0</td>\n",
       "      <td>0</td>\n",
       "      <td>0</td>\n",
       "      <td>0</td>\n",
       "      <td>0</td>\n",
       "      <td>0.0</td>\n",
       "      <td>20001218X45444</td>\n",
       "      <td>...</td>\n",
       "      <td>0</td>\n",
       "      <td>0</td>\n",
       "      <td>0</td>\n",
       "      <td>UNKNOWN</td>\n",
       "      <td>Cruise</td>\n",
       "      <td>Probable Cause</td>\n",
       "      <td>NaN</td>\n",
       "      <td>1948</td>\n",
       "      <td>2</td>\n",
       "      <td>2</td>\n",
       "    </tr>\n",
       "    <tr>\n",
       "      <th>1</th>\n",
       "      <td>1</td>\n",
       "      <td>1</td>\n",
       "      <td>1</td>\n",
       "      <td>1</td>\n",
       "      <td>1</td>\n",
       "      <td>1</td>\n",
       "      <td>1</td>\n",
       "      <td>1</td>\n",
       "      <td>1.0</td>\n",
       "      <td>20001218X45447</td>\n",
       "      <td>...</td>\n",
       "      <td>0</td>\n",
       "      <td>0</td>\n",
       "      <td>0</td>\n",
       "      <td>UNKNOWN</td>\n",
       "      <td>Unknown</td>\n",
       "      <td>Probable Cause</td>\n",
       "      <td>19-09-1996</td>\n",
       "      <td>1962</td>\n",
       "      <td>4</td>\n",
       "      <td>4</td>\n",
       "    </tr>\n",
       "    <tr>\n",
       "      <th>2</th>\n",
       "      <td>2</td>\n",
       "      <td>2</td>\n",
       "      <td>2</td>\n",
       "      <td>2</td>\n",
       "      <td>2</td>\n",
       "      <td>2</td>\n",
       "      <td>2</td>\n",
       "      <td>2</td>\n",
       "      <td>3.0</td>\n",
       "      <td>20001218X45448</td>\n",
       "      <td>...</td>\n",
       "      <td>0</td>\n",
       "      <td>0</td>\n",
       "      <td>0</td>\n",
       "      <td>IMC</td>\n",
       "      <td>Cruise</td>\n",
       "      <td>Probable Cause</td>\n",
       "      <td>12-09-2000</td>\n",
       "      <td>1977</td>\n",
       "      <td>2</td>\n",
       "      <td>2</td>\n",
       "    </tr>\n",
       "    <tr>\n",
       "      <th>3</th>\n",
       "      <td>3</td>\n",
       "      <td>3</td>\n",
       "      <td>3</td>\n",
       "      <td>3</td>\n",
       "      <td>3</td>\n",
       "      <td>3</td>\n",
       "      <td>3</td>\n",
       "      <td>3</td>\n",
       "      <td>6.0</td>\n",
       "      <td>20001218X45446</td>\n",
       "      <td>...</td>\n",
       "      <td>0</td>\n",
       "      <td>0</td>\n",
       "      <td>0</td>\n",
       "      <td>IMC</td>\n",
       "      <td>Unknown</td>\n",
       "      <td>Probable Cause</td>\n",
       "      <td>06-11-2001</td>\n",
       "      <td>1981</td>\n",
       "      <td>4</td>\n",
       "      <td>4</td>\n",
       "    </tr>\n",
       "    <tr>\n",
       "      <th>4</th>\n",
       "      <td>4</td>\n",
       "      <td>4</td>\n",
       "      <td>4</td>\n",
       "      <td>4</td>\n",
       "      <td>4</td>\n",
       "      <td>4</td>\n",
       "      <td>4</td>\n",
       "      <td>4</td>\n",
       "      <td>7.0</td>\n",
       "      <td>20020909X01562</td>\n",
       "      <td>...</td>\n",
       "      <td>0</td>\n",
       "      <td>0</td>\n",
       "      <td>2</td>\n",
       "      <td>VMC</td>\n",
       "      <td>Takeoff</td>\n",
       "      <td>Probable Cause</td>\n",
       "      <td>01-01-1982</td>\n",
       "      <td>1982</td>\n",
       "      <td>0</td>\n",
       "      <td>0</td>\n",
       "    </tr>\n",
       "  </tbody>\n",
       "</table>\n",
       "<p>5 rows × 43 columns</p>\n",
       "</div>"
      ],
      "text/plain": [
       "   Unnamed: 0.8  Unnamed: 0.7  Unnamed: 0.6  Unnamed: 0.5  Unnamed: 0.4  \\\n",
       "0             0             0             0             0             0   \n",
       "1             1             1             1             1             1   \n",
       "2             2             2             2             2             2   \n",
       "3             3             3             3             3             3   \n",
       "4             4             4             4             4             4   \n",
       "\n",
       "   Unnamed: 0.3  Unnamed: 0.2  Unnamed: 0.1  Unnamed: 0        Event.Id  ...  \\\n",
       "0             0             0             0         0.0  20001218X45444  ...   \n",
       "1             1             1             1         1.0  20001218X45447  ...   \n",
       "2             2             2             2         3.0  20001218X45448  ...   \n",
       "3             3             3             3         6.0  20001218X45446  ...   \n",
       "4             4             4             4         7.0  20020909X01562  ...   \n",
       "\n",
       "  Total.Serious.Injuries Total.Minor.Injuries Total.Uninjured  \\\n",
       "0                      0                    0               0   \n",
       "1                      0                    0               0   \n",
       "2                      0                    0               0   \n",
       "3                      0                    0               0   \n",
       "4                      0                    0               2   \n",
       "\n",
       "  Weather.Condition Broad.phase.of.flight   Report.Status Publication.Date  \\\n",
       "0           UNKNOWN                Cruise  Probable Cause              NaN   \n",
       "1           UNKNOWN               Unknown  Probable Cause       19-09-1996   \n",
       "2               IMC                Cruise  Probable Cause       12-09-2000   \n",
       "3               IMC               Unknown  Probable Cause       06-11-2001   \n",
       "4               VMC               Takeoff  Probable Cause       01-01-1982   \n",
       "\n",
       "  Event.Year Total_Injuries Total.Injuries  \n",
       "0       1948              2              2  \n",
       "1       1962              4              4  \n",
       "2       1977              2              2  \n",
       "3       1981              4              4  \n",
       "4       1982              0              0  \n",
       "\n",
       "[5 rows x 43 columns]"
      ]
     },
     "execution_count": 2,
     "metadata": {},
     "output_type": "execute_result"
    }
   ],
   "source": [
    "# Load in data\n",
    "\n",
    "# Had to specify encoding 'latin-1' for file to load\n",
    "# Setting low_memory=False in the read_csv function will force pandas to read the entire file at once, \n",
    "# which can help with inferring the correct data types. \n",
    "\n",
    "ad = pd.read_csv('Data/AviationData.csv', encoding='latin-1', low_memory=False)\n",
    "ad.head()"
   ]
  },
  {
   "cell_type": "code",
   "execution_count": 3,
   "id": "0487e12a-3999-458d-8a64-d3dc26f49c74",
   "metadata": {},
   "outputs": [
    {
     "name": "stdout",
     "output_type": "stream",
     "text": [
      "<class 'pandas.core.frame.DataFrame'>\n",
      "RangeIndex: 73047 entries, 0 to 73046\n",
      "Data columns (total 43 columns):\n",
      " #   Column                  Non-Null Count  Dtype  \n",
      "---  ------                  --------------  -----  \n",
      " 0   Unnamed: 0.8            73047 non-null  int64  \n",
      " 1   Unnamed: 0.7            73047 non-null  int64  \n",
      " 2   Unnamed: 0.6            73047 non-null  int64  \n",
      " 3   Unnamed: 0.5            73047 non-null  int64  \n",
      " 4   Unnamed: 0.4            73047 non-null  int64  \n",
      " 5   Unnamed: 0.3            73047 non-null  int64  \n",
      " 6   Unnamed: 0.2            73047 non-null  int64  \n",
      " 7   Unnamed: 0.1            73047 non-null  int64  \n",
      " 8   Unnamed: 0              73047 non-null  float64\n",
      " 9   Event.Id                73047 non-null  object \n",
      " 10  Investigation.Type      73047 non-null  object \n",
      " 11  Accident.Number         73047 non-null  object \n",
      " 12  Event.Date              73047 non-null  object \n",
      " 13  Location                73047 non-null  object \n",
      " 14  Country                 73047 non-null  object \n",
      " 15  Latitude                22375 non-null  object \n",
      " 16  Longitude               22376 non-null  object \n",
      " 17  Airport.Code            41401 non-null  object \n",
      " 18  Airport.Name            43684 non-null  object \n",
      " 19  Injury.Severity         73047 non-null  object \n",
      " 20  Aircraft.damage         73047 non-null  object \n",
      " 21  Aircraft.Category       73047 non-null  object \n",
      " 22  Registration.Number     72822 non-null  object \n",
      " 23  Make                    73047 non-null  object \n",
      " 24  Model                   73047 non-null  object \n",
      " 25  Amateur.Built           73047 non-null  object \n",
      " 26  Number.of.Engines       69091 non-null  float64\n",
      " 27  Engine.Type             73047 non-null  object \n",
      " 28  FAR.Description         27083 non-null  object \n",
      " 29  Schedule                10236 non-null  object \n",
      " 30  Purpose.of.flight       73047 non-null  object \n",
      " 31  Air.carrier             15556 non-null  object \n",
      " 32  Total.Fatal.Injuries    73047 non-null  int64  \n",
      " 33  Total.Serious.Injuries  73047 non-null  int64  \n",
      " 34  Total.Minor.Injuries    73047 non-null  int64  \n",
      " 35  Total.Uninjured         73047 non-null  int64  \n",
      " 36  Weather.Condition       73047 non-null  object \n",
      " 37  Broad.phase.of.flight   73047 non-null  object \n",
      " 38  Report.Status           67605 non-null  object \n",
      " 39  Publication.Date        58491 non-null  object \n",
      " 40  Event.Year              73047 non-null  int64  \n",
      " 41  Total_Injuries          73047 non-null  int64  \n",
      " 42  Total.Injuries          73047 non-null  int64  \n",
      "dtypes: float64(2), int64(15), object(26)\n",
      "memory usage: 24.0+ MB\n"
     ]
    }
   ],
   "source": [
    "ad.info()"
   ]
  },
  {
   "cell_type": "code",
   "execution_count": 4,
   "id": "86c703e2-8b29-4882-a3c1-5190b7a58d48",
   "metadata": {},
   "outputs": [
    {
     "data": {
      "text/html": [
       "<div>\n",
       "<style scoped>\n",
       "    .dataframe tbody tr th:only-of-type {\n",
       "        vertical-align: middle;\n",
       "    }\n",
       "\n",
       "    .dataframe tbody tr th {\n",
       "        vertical-align: top;\n",
       "    }\n",
       "\n",
       "    .dataframe thead th {\n",
       "        text-align: right;\n",
       "    }\n",
       "</style>\n",
       "<table border=\"1\" class=\"dataframe\">\n",
       "  <thead>\n",
       "    <tr style=\"text-align: right;\">\n",
       "      <th></th>\n",
       "      <th>Unnamed: 0.8</th>\n",
       "      <th>Unnamed: 0.7</th>\n",
       "      <th>Unnamed: 0.6</th>\n",
       "      <th>Unnamed: 0.5</th>\n",
       "      <th>Unnamed: 0.4</th>\n",
       "      <th>Unnamed: 0.3</th>\n",
       "      <th>Unnamed: 0.2</th>\n",
       "      <th>Unnamed: 0.1</th>\n",
       "      <th>Unnamed: 0</th>\n",
       "      <th>Number.of.Engines</th>\n",
       "      <th>Total.Fatal.Injuries</th>\n",
       "      <th>Total.Serious.Injuries</th>\n",
       "      <th>Total.Minor.Injuries</th>\n",
       "      <th>Total.Uninjured</th>\n",
       "      <th>Event.Year</th>\n",
       "      <th>Total_Injuries</th>\n",
       "      <th>Total.Injuries</th>\n",
       "    </tr>\n",
       "  </thead>\n",
       "  <tbody>\n",
       "    <tr>\n",
       "      <th>count</th>\n",
       "      <td>73047.000000</td>\n",
       "      <td>73047.000000</td>\n",
       "      <td>73047.000000</td>\n",
       "      <td>73047.000000</td>\n",
       "      <td>73047.000000</td>\n",
       "      <td>73047.000000</td>\n",
       "      <td>73047.000000</td>\n",
       "      <td>73047.000000</td>\n",
       "      <td>73047.000000</td>\n",
       "      <td>69091.000000</td>\n",
       "      <td>73047.000000</td>\n",
       "      <td>73047.000000</td>\n",
       "      <td>73047.000000</td>\n",
       "      <td>73047.000000</td>\n",
       "      <td>73047.000000</td>\n",
       "      <td>73047.000000</td>\n",
       "      <td>73047.000000</td>\n",
       "    </tr>\n",
       "    <tr>\n",
       "      <th>mean</th>\n",
       "      <td>36523.000000</td>\n",
       "      <td>36523.000000</td>\n",
       "      <td>36523.000000</td>\n",
       "      <td>36523.000000</td>\n",
       "      <td>36523.000000</td>\n",
       "      <td>36523.000000</td>\n",
       "      <td>36523.000000</td>\n",
       "      <td>36672.865059</td>\n",
       "      <td>41762.526798</td>\n",
       "      <td>1.143116</td>\n",
       "      <td>0.510685</td>\n",
       "      <td>0.246444</td>\n",
       "      <td>0.303640</td>\n",
       "      <td>4.840651</td>\n",
       "      <td>1998.146837</td>\n",
       "      <td>1.060769</td>\n",
       "      <td>1.060769</td>\n",
       "    </tr>\n",
       "    <tr>\n",
       "      <th>std</th>\n",
       "      <td>21086.996894</td>\n",
       "      <td>21086.996894</td>\n",
       "      <td>21086.996894</td>\n",
       "      <td>21086.996894</td>\n",
       "      <td>21086.996894</td>\n",
       "      <td>21086.996894</td>\n",
       "      <td>21086.996894</td>\n",
       "      <td>21308.985691</td>\n",
       "      <td>27173.237937</td>\n",
       "      <td>0.440182</td>\n",
       "      <td>4.235008</td>\n",
       "      <td>1.478230</td>\n",
       "      <td>1.549842</td>\n",
       "      <td>26.160360</td>\n",
       "      <td>12.661842</td>\n",
       "      <td>5.095347</td>\n",
       "      <td>5.095347</td>\n",
       "    </tr>\n",
       "    <tr>\n",
       "      <th>min</th>\n",
       "      <td>0.000000</td>\n",
       "      <td>0.000000</td>\n",
       "      <td>0.000000</td>\n",
       "      <td>0.000000</td>\n",
       "      <td>0.000000</td>\n",
       "      <td>0.000000</td>\n",
       "      <td>0.000000</td>\n",
       "      <td>0.000000</td>\n",
       "      <td>0.000000</td>\n",
       "      <td>0.000000</td>\n",
       "      <td>0.000000</td>\n",
       "      <td>0.000000</td>\n",
       "      <td>0.000000</td>\n",
       "      <td>0.000000</td>\n",
       "      <td>1948.000000</td>\n",
       "      <td>0.000000</td>\n",
       "      <td>0.000000</td>\n",
       "    </tr>\n",
       "    <tr>\n",
       "      <th>25%</th>\n",
       "      <td>18261.500000</td>\n",
       "      <td>18261.500000</td>\n",
       "      <td>18261.500000</td>\n",
       "      <td>18261.500000</td>\n",
       "      <td>18261.500000</td>\n",
       "      <td>18261.500000</td>\n",
       "      <td>18261.500000</td>\n",
       "      <td>18261.500000</td>\n",
       "      <td>18496.500000</td>\n",
       "      <td>1.000000</td>\n",
       "      <td>0.000000</td>\n",
       "      <td>0.000000</td>\n",
       "      <td>0.000000</td>\n",
       "      <td>0.000000</td>\n",
       "      <td>1987.000000</td>\n",
       "      <td>0.000000</td>\n",
       "      <td>0.000000</td>\n",
       "    </tr>\n",
       "    <tr>\n",
       "      <th>50%</th>\n",
       "      <td>36523.000000</td>\n",
       "      <td>36523.000000</td>\n",
       "      <td>36523.000000</td>\n",
       "      <td>36523.000000</td>\n",
       "      <td>36523.000000</td>\n",
       "      <td>36523.000000</td>\n",
       "      <td>36523.000000</td>\n",
       "      <td>36523.000000</td>\n",
       "      <td>37029.000000</td>\n",
       "      <td>1.000000</td>\n",
       "      <td>0.000000</td>\n",
       "      <td>0.000000</td>\n",
       "      <td>0.000000</td>\n",
       "      <td>1.000000</td>\n",
       "      <td>1995.000000</td>\n",
       "      <td>0.000000</td>\n",
       "      <td>0.000000</td>\n",
       "    </tr>\n",
       "    <tr>\n",
       "      <th>75%</th>\n",
       "      <td>54784.500000</td>\n",
       "      <td>54784.500000</td>\n",
       "      <td>54784.500000</td>\n",
       "      <td>54784.500000</td>\n",
       "      <td>54784.500000</td>\n",
       "      <td>54784.500000</td>\n",
       "      <td>54784.500000</td>\n",
       "      <td>54813.500000</td>\n",
       "      <td>69727.500000</td>\n",
       "      <td>1.000000</td>\n",
       "      <td>0.000000</td>\n",
       "      <td>0.000000</td>\n",
       "      <td>0.000000</td>\n",
       "      <td>2.000000</td>\n",
       "      <td>2011.000000</td>\n",
       "      <td>1.000000</td>\n",
       "      <td>1.000000</td>\n",
       "    </tr>\n",
       "    <tr>\n",
       "      <th>max</th>\n",
       "      <td>73046.000000</td>\n",
       "      <td>73046.000000</td>\n",
       "      <td>73046.000000</td>\n",
       "      <td>73046.000000</td>\n",
       "      <td>73046.000000</td>\n",
       "      <td>73046.000000</td>\n",
       "      <td>73046.000000</td>\n",
       "      <td>74498.000000</td>\n",
       "      <td>88888.000000</td>\n",
       "      <td>8.000000</td>\n",
       "      <td>295.000000</td>\n",
       "      <td>161.000000</td>\n",
       "      <td>171.000000</td>\n",
       "      <td>576.000000</td>\n",
       "      <td>2022.000000</td>\n",
       "      <td>295.000000</td>\n",
       "      <td>295.000000</td>\n",
       "    </tr>\n",
       "  </tbody>\n",
       "</table>\n",
       "</div>"
      ],
      "text/plain": [
       "       Unnamed: 0.8  Unnamed: 0.7  Unnamed: 0.6  Unnamed: 0.5  Unnamed: 0.4  \\\n",
       "count  73047.000000  73047.000000  73047.000000  73047.000000  73047.000000   \n",
       "mean   36523.000000  36523.000000  36523.000000  36523.000000  36523.000000   \n",
       "std    21086.996894  21086.996894  21086.996894  21086.996894  21086.996894   \n",
       "min        0.000000      0.000000      0.000000      0.000000      0.000000   \n",
       "25%    18261.500000  18261.500000  18261.500000  18261.500000  18261.500000   \n",
       "50%    36523.000000  36523.000000  36523.000000  36523.000000  36523.000000   \n",
       "75%    54784.500000  54784.500000  54784.500000  54784.500000  54784.500000   \n",
       "max    73046.000000  73046.000000  73046.000000  73046.000000  73046.000000   \n",
       "\n",
       "       Unnamed: 0.3  Unnamed: 0.2  Unnamed: 0.1    Unnamed: 0  \\\n",
       "count  73047.000000  73047.000000  73047.000000  73047.000000   \n",
       "mean   36523.000000  36523.000000  36672.865059  41762.526798   \n",
       "std    21086.996894  21086.996894  21308.985691  27173.237937   \n",
       "min        0.000000      0.000000      0.000000      0.000000   \n",
       "25%    18261.500000  18261.500000  18261.500000  18496.500000   \n",
       "50%    36523.000000  36523.000000  36523.000000  37029.000000   \n",
       "75%    54784.500000  54784.500000  54813.500000  69727.500000   \n",
       "max    73046.000000  73046.000000  74498.000000  88888.000000   \n",
       "\n",
       "       Number.of.Engines  Total.Fatal.Injuries  Total.Serious.Injuries  \\\n",
       "count       69091.000000          73047.000000            73047.000000   \n",
       "mean            1.143116              0.510685                0.246444   \n",
       "std             0.440182              4.235008                1.478230   \n",
       "min             0.000000              0.000000                0.000000   \n",
       "25%             1.000000              0.000000                0.000000   \n",
       "50%             1.000000              0.000000                0.000000   \n",
       "75%             1.000000              0.000000                0.000000   \n",
       "max             8.000000            295.000000              161.000000   \n",
       "\n",
       "       Total.Minor.Injuries  Total.Uninjured    Event.Year  Total_Injuries  \\\n",
       "count          73047.000000     73047.000000  73047.000000    73047.000000   \n",
       "mean               0.303640         4.840651   1998.146837        1.060769   \n",
       "std                1.549842        26.160360     12.661842        5.095347   \n",
       "min                0.000000         0.000000   1948.000000        0.000000   \n",
       "25%                0.000000         0.000000   1987.000000        0.000000   \n",
       "50%                0.000000         1.000000   1995.000000        0.000000   \n",
       "75%                0.000000         2.000000   2011.000000        1.000000   \n",
       "max              171.000000       576.000000   2022.000000      295.000000   \n",
       "\n",
       "       Total.Injuries  \n",
       "count    73047.000000  \n",
       "mean         1.060769  \n",
       "std          5.095347  \n",
       "min          0.000000  \n",
       "25%          0.000000  \n",
       "50%          0.000000  \n",
       "75%          1.000000  \n",
       "max        295.000000  "
      ]
     },
     "execution_count": 4,
     "metadata": {},
     "output_type": "execute_result"
    }
   ],
   "source": [
    "ad.describe()"
   ]
  },
  {
   "cell_type": "markdown",
   "id": "371997c5-8d00-4c48-aa0f-a68e22034cd6",
   "metadata": {},
   "source": [
    "We will have to do some cleaning since there seems to be a good amount of missingness. There are date columns that might also need to be converted to a non-object type.\n",
    "\n",
    "**Additional observations:**\n",
    "- 88888 rows and 31 columns\n",
    "- 5 floats and 26 objects\n",
    "- Columns may will need capitalization adjusted\n",
    "- There are some outliers that may need to be addressed"
   ]
  },
  {
   "cell_type": "markdown",
   "id": "de22c016-73ea-4667-bf99-dcd5d37abbdd",
   "metadata": {},
   "source": [
    "## 2. Data Exploration & Preparation \n",
    "\n",
    "The following process reflects preliminary data cleaning to adjust the dataframe to a working condition for the subsequent statistical analysis and visualization exploration.\n",
    "\n",
    "Handling the missingness will be a large part of data cleaning for this dataset."
   ]
  },
  {
   "cell_type": "code",
   "execution_count": 5,
   "id": "1e08243b-ab26-42e5-9d2a-95b8a941d54a",
   "metadata": {},
   "outputs": [
    {
     "data": {
      "text/plain": [
       "Unnamed: 0.8                  0\n",
       "Unnamed: 0.7                  0\n",
       "Unnamed: 0.6                  0\n",
       "Unnamed: 0.5                  0\n",
       "Unnamed: 0.4                  0\n",
       "Unnamed: 0.3                  0\n",
       "Unnamed: 0.2                  0\n",
       "Unnamed: 0.1                  0\n",
       "Unnamed: 0                    0\n",
       "Event.Id                      0\n",
       "Investigation.Type            0\n",
       "Accident.Number               0\n",
       "Event.Date                    0\n",
       "Location                      0\n",
       "Country                       0\n",
       "Latitude                  50672\n",
       "Longitude                 50671\n",
       "Airport.Code              31646\n",
       "Airport.Name              29363\n",
       "Injury.Severity               0\n",
       "Aircraft.damage               0\n",
       "Aircraft.Category             0\n",
       "Registration.Number         225\n",
       "Make                          0\n",
       "Model                         0\n",
       "Amateur.Built                 0\n",
       "Number.of.Engines          3956\n",
       "Engine.Type                   0\n",
       "FAR.Description           45964\n",
       "Schedule                  62811\n",
       "Purpose.of.flight             0\n",
       "Air.carrier               57491\n",
       "Total.Fatal.Injuries          0\n",
       "Total.Serious.Injuries        0\n",
       "Total.Minor.Injuries          0\n",
       "Total.Uninjured               0\n",
       "Weather.Condition             0\n",
       "Broad.phase.of.flight         0\n",
       "Report.Status              5442\n",
       "Publication.Date          14556\n",
       "Event.Year                    0\n",
       "Total_Injuries                0\n",
       "Total.Injuries                0\n",
       "dtype: int64"
      ]
     },
     "execution_count": 5,
     "metadata": {},
     "output_type": "execute_result"
    }
   ],
   "source": [
    "# Assess the missingness\n",
    "\n",
    "ad.isna().sum()"
   ]
  },
  {
   "cell_type": "code",
   "execution_count": 6,
   "id": "067e8f53-dd98-472b-831e-0183ca526ac1",
   "metadata": {},
   "outputs": [
    {
     "data": {
      "text/plain": [
       "Unnamed: 0.8               0.000000\n",
       "Unnamed: 0.7               0.000000\n",
       "Unnamed: 0.6               0.000000\n",
       "Unnamed: 0.5               0.000000\n",
       "Unnamed: 0.4               0.000000\n",
       "Unnamed: 0.3               0.000000\n",
       "Unnamed: 0.2               0.000000\n",
       "Unnamed: 0.1               0.000000\n",
       "Unnamed: 0                 0.000000\n",
       "Event.Id                   0.000000\n",
       "Investigation.Type         0.000000\n",
       "Accident.Number            0.000000\n",
       "Event.Date                 0.000000\n",
       "Location                   0.000000\n",
       "Country                    0.000000\n",
       "Latitude                  69.369036\n",
       "Longitude                 69.367667\n",
       "Airport.Code              43.322792\n",
       "Airport.Name              40.197407\n",
       "Injury.Severity            0.000000\n",
       "Aircraft.damage            0.000000\n",
       "Aircraft.Category          0.000000\n",
       "Registration.Number        0.308021\n",
       "Make                       0.000000\n",
       "Model                      0.000000\n",
       "Amateur.Built              0.000000\n",
       "Number.of.Engines          5.415691\n",
       "Engine.Type                0.000000\n",
       "FAR.Description           62.923871\n",
       "Schedule                  85.987104\n",
       "Purpose.of.flight          0.000000\n",
       "Air.carrier               78.704122\n",
       "Total.Fatal.Injuries       0.000000\n",
       "Total.Serious.Injuries     0.000000\n",
       "Total.Minor.Injuries       0.000000\n",
       "Total.Uninjured            0.000000\n",
       "Weather.Condition          0.000000\n",
       "Broad.phase.of.flight      0.000000\n",
       "Report.Status              7.449998\n",
       "Publication.Date          19.926896\n",
       "Event.Year                 0.000000\n",
       "Total_Injuries             0.000000\n",
       "Total.Injuries             0.000000\n",
       "dtype: float64"
      ]
     },
     "execution_count": 6,
     "metadata": {},
     "output_type": "execute_result"
    }
   ],
   "source": [
    "# Assess missingness by percentage\n",
    "\n",
    "ad.isna().sum()/len(ad)*100"
   ]
  },
  {
   "cell_type": "markdown",
   "id": "54454e84-c064-41b4-ad3a-d5cb4a3ceeb6",
   "metadata": {},
   "source": [
    "#### Exploration of Column Values\n",
    "\n",
    "To understand how to handle the missingness as well as understand which imputations may be necessary for analysis, we must explore relevant column.\n",
    "\n",
    "Some columns will be dropped and must be noted as such."
   ]
  },
  {
   "cell_type": "markdown",
   "id": "2947aeab-7ff5-4e25-84ba-ec7f07c7dde1",
   "metadata": {},
   "source": [
    "<br>**Injury Severity:** Adjust capitalization and combine all fatal cases into one."
   ]
  },
  {
   "cell_type": "code",
   "execution_count": 7,
   "id": "722df163-5323-4d7d-bdc6-1c60167857e0",
   "metadata": {},
   "outputs": [
    {
     "data": {
      "text/plain": [
       "non-fatal    56490\n",
       "fatal        14610\n",
       "incident      1548\n",
       "minor          218\n",
       "serious        173\n",
       "unknown          8\n",
       "Name: Injury.Severity, dtype: int64"
      ]
     },
     "execution_count": 7,
     "metadata": {},
     "output_type": "execute_result"
    }
   ],
   "source": [
    "ad['Injury.Severity'].value_counts()"
   ]
  },
  {
   "cell_type": "markdown",
   "id": "7bc8f5fa-9b10-4634-9b5a-7a0150f4dcc8",
   "metadata": {},
   "source": [
    "<br>**Aircraft Damage:** Can adjust capitalization, imputate NA to 'unknown', then redistribute unknowns based on probability."
   ]
  },
  {
   "cell_type": "code",
   "execution_count": 8,
   "id": "5cc902f4-50a9-4931-876d-4d8e0196a4e3",
   "metadata": {},
   "outputs": [
    {
     "data": {
      "text/plain": [
       "substantial    53138\n",
       "destroyed      15600\n",
       "unknown         2234\n",
       "minor           2075\n",
       "Name: Aircraft.damage, dtype: int64"
      ]
     },
     "execution_count": 8,
     "metadata": {},
     "output_type": "execute_result"
    }
   ],
   "source": [
    "ad['Aircraft.damage'].value_counts()"
   ]
  },
  {
   "cell_type": "markdown",
   "id": "8f4a6e42-0a82-422e-9fa1-b3d5f03cc868",
   "metadata": {},
   "source": [
    "<br>**Make:** Lowercase all letters."
   ]
  },
  {
   "cell_type": "code",
   "execution_count": 9,
   "id": "5bf809ce-a467-4a3b-8e16-28659167f379",
   "metadata": {},
   "outputs": [
    {
     "data": {
      "text/plain": [
       "cessna                 22879\n",
       "piper                  12623\n",
       "beech                   4460\n",
       "bell                    2157\n",
       "boeing                  1798\n",
       "                       ...  \n",
       "pacheco                    1\n",
       "sirocco flying club        1\n",
       "trickle                    1\n",
       "richardson                 1\n",
       "royse ralph l              1\n",
       "Name: Make, Length: 6316, dtype: int64"
      ]
     },
     "execution_count": 9,
     "metadata": {},
     "output_type": "execute_result"
    }
   ],
   "source": [
    "ad['Make'].value_counts()"
   ]
  },
  {
   "cell_type": "markdown",
   "id": "4322c220-a4b4-458f-8102-50b4bfc9c449",
   "metadata": {},
   "source": [
    "<br>**Registration Number:** This column isn't needed, we can drop it."
   ]
  },
  {
   "cell_type": "code",
   "execution_count": 10,
   "id": "03c6f592-b832-40a2-a48d-fdcf02526808",
   "metadata": {},
   "outputs": [
    {
     "data": {
      "text/plain": [
       "NONE      299\n",
       "UNREG     120\n",
       "UNK        12\n",
       "USAF        9\n",
       "N20752      8\n",
       "         ... \n",
       "N8074A      1\n",
       "N8126W      1\n",
       "N6369W      1\n",
       "N17577      1\n",
       "N9026P      1\n",
       "Name: Registration.Number, Length: 66842, dtype: int64"
      ]
     },
     "execution_count": 10,
     "metadata": {},
     "output_type": "execute_result"
    }
   ],
   "source": [
    "ad['Registration.Number'].value_counts()"
   ]
  },
  {
   "cell_type": "markdown",
   "id": "6430bde8-550c-4845-bfbb-faa6d8c861f2",
   "metadata": {},
   "source": [
    "<br>**Number of Engines:** Missing ~7% of data. Distribute na values based on probability distribution of existing values."
   ]
  },
  {
   "cell_type": "code",
   "execution_count": 11,
   "id": "d47c7147-78b6-41e1-a0b1-5022db8e6c9d",
   "metadata": {},
   "outputs": [
    {
     "data": {
      "text/plain": [
       "1.0    0.846246\n",
       "2.0    0.129177\n",
       "0.0    0.013489\n",
       "3.0    0.006036\n",
       "4.0    0.004993\n",
       "8.0    0.000043\n",
       "6.0    0.000014\n",
       "Name: Number.of.Engines, dtype: float64"
      ]
     },
     "execution_count": 11,
     "metadata": {},
     "output_type": "execute_result"
    }
   ],
   "source": [
    "ad['Number.of.Engines'].value_counts(normalize=True)"
   ]
  },
  {
   "cell_type": "markdown",
   "id": "5f9fba55-637e-444f-9f1d-ce261473dc27",
   "metadata": {},
   "source": [
    "<br> **Engine Type:** Adjust capitalization. Missing ~8% of data; we can combine unknown & UNK and then redistribute missing values based on probability.\n",
    "\n",
    "**Create probability dispersion & adjust visualization**"
   ]
  },
  {
   "cell_type": "code",
   "execution_count": 12,
   "id": "78458915-c5b2-4105-a5f9-e00b8eae5b7e",
   "metadata": {},
   "outputs": [
    {
     "data": {
      "text/plain": [
       "reciprocating      0.801607\n",
       "unknown            0.090750\n",
       "turbo shaft        0.038496\n",
       "turbo prop         0.036237\n",
       "turbo fan          0.024929\n",
       "turbo jet          0.007529\n",
       "none               0.000287\n",
       "electric           0.000110\n",
       "lr                 0.000027\n",
       "hybrid rocket      0.000014\n",
       "geared turbofan    0.000014\n",
       "Name: Engine.Type, dtype: float64"
      ]
     },
     "execution_count": 12,
     "metadata": {},
     "output_type": "execute_result"
    }
   ],
   "source": [
    "ad['Engine.Type'].value_counts(normalize=True)"
   ]
  },
  {
   "cell_type": "markdown",
   "id": "32997ffd-e5c5-4306-b6dc-89bef080b3cc",
   "metadata": {},
   "source": [
    "<br>**FAR Description:** Too many na values and not enough significance for analysis, we can drop this column"
   ]
  },
  {
   "cell_type": "code",
   "execution_count": 13,
   "id": "7f8da865-6f6f-4b95-a705-fc8a8d9cf002",
   "metadata": {},
   "outputs": [
    {
     "data": {
      "text/plain": [
       "091                               18193\n",
       "Part 91: General Aviation          3110\n",
       "NUSN                               1456\n",
       "137                                1010\n",
       "135                                 738\n",
       "NUSC                                624\n",
       "121                                 590\n",
       "UNK                                 293\n",
       "Part 137: Agricultural              261\n",
       "PUBU                                252\n",
       "Part 135: Air Taxi & Commuter       186\n",
       "129                                 136\n",
       "133                                 107\n",
       "Part 121: Air Carrier                52\n",
       "Part 133: Rotorcraft Ext. Load       26\n",
       "091K                                 14\n",
       "Unknown                               6\n",
       "ARMF                                  5\n",
       "125                                   5\n",
       "107                                   4\n",
       "Part 129: Foreign                     4\n",
       "Part 125: 20+ Pax,6000+ lbs           3\n",
       "Public Use                            2\n",
       "103                                   2\n",
       "Non-U.S., Commercial                  1\n",
       "Non-U.S., Non-Commercial              1\n",
       "437                                   1\n",
       "Part 91F: Special Flt Ops.            1\n",
       "Name: FAR.Description, dtype: int64"
      ]
     },
     "execution_count": 13,
     "metadata": {},
     "output_type": "execute_result"
    }
   ],
   "source": [
    "ad['FAR.Description'].value_counts()"
   ]
  },
  {
   "cell_type": "markdown",
   "id": "f738c6d4-a6f9-47fd-90e3-bb214990c102",
   "metadata": {},
   "source": [
    "<br> **Schedule:** Not relevant to analysis, we can drop"
   ]
  },
  {
   "cell_type": "code",
   "execution_count": 14,
   "id": "cc3d0403-25e2-4ce1-b28d-d4cd254a5512",
   "metadata": {},
   "outputs": [
    {
     "data": {
      "text/plain": [
       "UNK     4016\n",
       "NSCH    3487\n",
       "SCHD    2733\n",
       "Name: Schedule, dtype: int64"
      ]
     },
     "execution_count": 14,
     "metadata": {},
     "output_type": "execute_result"
    }
   ],
   "source": [
    "ad['Schedule'].value_counts()"
   ]
  },
  {
   "cell_type": "markdown",
   "id": "351cbceb-6f65-44b3-8ce2-5abc7e1a4535",
   "metadata": {},
   "source": [
    "<br> **Purpose of Flight:** Can imputate and na to 'Unknown' & adjust capitalization."
   ]
  },
  {
   "cell_type": "code",
   "execution_count": 15,
   "id": "d8db25c1-01f3-4e4b-978a-73d4326e2fde",
   "metadata": {},
   "outputs": [
    {
     "data": {
      "text/plain": [
       "<bound method IndexOpsMixin.value_counts of 0             personal\n",
       "1             personal\n",
       "2             personal\n",
       "3             personal\n",
       "4             personal\n",
       "             ...      \n",
       "73042    instructional\n",
       "73043          unknown\n",
       "73044         personal\n",
       "73045         personal\n",
       "73046         personal\n",
       "Name: Purpose.of.flight, Length: 73047, dtype: object>"
      ]
     },
     "execution_count": 15,
     "metadata": {},
     "output_type": "execute_result"
    }
   ],
   "source": [
    "ad['Purpose.of.flight'].value_counts"
   ]
  },
  {
   "cell_type": "markdown",
   "id": "83ded618-c021-4dc2-8d52-3862ca1a5b3d",
   "metadata": {},
   "source": [
    "<br> **Air Carrier:** Too much missing data and not enough analytical significance, we can drop this column."
   ]
  },
  {
   "cell_type": "code",
   "execution_count": 16,
   "id": "90cb064b-06d6-427c-b958-b6a160594216",
   "metadata": {},
   "outputs": [
    {
     "data": {
      "text/plain": [
       "Pilot                      258\n",
       "United Airlines             73\n",
       "American Airlines           73\n",
       "Delta Air Lines             45\n",
       "SOUTHWEST AIRLINES CO       41\n",
       "                          ... \n",
       "Glen Van Zee                 1\n",
       "Apollo Aviation Inc          1\n",
       "Panorama Flight Service      1\n",
       "JOHNSON TERRY G              1\n",
       "GERBER RICHARD E             1\n",
       "Name: Air.carrier, Length: 12953, dtype: int64"
      ]
     },
     "execution_count": 16,
     "metadata": {},
     "output_type": "execute_result"
    }
   ],
   "source": [
    "ad['Air.carrier'].value_counts()"
   ]
  },
  {
   "cell_type": "markdown",
   "id": "f499f7f5-4472-48a1-b0d9-16c667735110",
   "metadata": {},
   "source": [
    "<br> **Total Uninjured:** Drop na, may help understand which aircraft is safest"
   ]
  },
  {
   "cell_type": "code",
   "execution_count": 17,
   "id": "60f60ad4-4912-4edc-ba06-a60cd7ddeb3e",
   "metadata": {},
   "outputs": [
    {
     "data": {
      "text/plain": [
       "0      28714\n",
       "1      21118\n",
       "2      13274\n",
       "3       3608\n",
       "4       2271\n",
       "       ...  \n",
       "399        1\n",
       "322        1\n",
       "265        1\n",
       "339        1\n",
       "368        1\n",
       "Name: Total.Uninjured, Length: 363, dtype: int64"
      ]
     },
     "execution_count": 17,
     "metadata": {},
     "output_type": "execute_result"
    }
   ],
   "source": [
    "ad['Total.Uninjured'].value_counts()"
   ]
  },
  {
   "cell_type": "markdown",
   "id": "e0bb2da1-c09d-4fd2-9dfa-dbb19bf85b4d",
   "metadata": {},
   "source": [
    "<br> **Weather Condition:** Adjust capitalization and combine; unk & unknown\n",
    "\n",
    "**Definition:** Visual meteorological conditions (VMC) is an aviation flight category \n",
    "in which visual flight rules (VFR) flight is permitted—that is, conditions in which \n",
    "pilots have sufficient visibility to fly the aircraft maintaining visual separation \n",
    "from terrain and other aircraft. \n",
    "\n",
    "In aviation, instrument meteorological conditions (IMC) are weather conditions that \n",
    "require pilots to fly primarily by reference to flight instruments. Typically, this \n",
    "means flying in cloud or poor weather, where little or nothing can be seen or recognised \n",
    "when looking out of the window. \n",
    "\n",
    "**Source:** <a href = https://en.wikipedia.org/wiki/Visual_meteorological_conditions>Wikipedia</a>"
   ]
  },
  {
   "cell_type": "code",
   "execution_count": 18,
   "id": "3f1df1d9-b2b2-442c-80ed-9d8169472299",
   "metadata": {},
   "outputs": [
    {
     "data": {
      "text/plain": [
       "VMC        64107\n",
       "IMC         4942\n",
       "UNKNOWN     3998\n",
       "Name: Weather.Condition, dtype: int64"
      ]
     },
     "execution_count": 18,
     "metadata": {},
     "output_type": "execute_result"
    }
   ],
   "source": [
    "ad['Weather.Condition'].value_counts()"
   ]
  },
  {
   "cell_type": "markdown",
   "id": "09add17f-5959-4824-b275-7bd47c54278a",
   "metadata": {},
   "source": [
    "<br> **Broad Phase of Flight:** Combine 'unknown' & 'other'."
   ]
  },
  {
   "cell_type": "code",
   "execution_count": 19,
   "id": "9d15c927-935f-4df7-9fed-625ba008d211",
   "metadata": {},
   "outputs": [
    {
     "data": {
      "text/plain": [
       "Unknown        0.346462\n",
       "Landing        0.160431\n",
       "Takeoff        0.135611\n",
       "Cruise         0.112174\n",
       "Maneuvering    0.088162\n",
       "Approach       0.070297\n",
       "Climb          0.022246\n",
       "Taxi           0.020521\n",
       "Descent        0.020288\n",
       "Go-around      0.014511\n",
       "Standing       0.009295\n",
       "Name: Broad.phase.of.flight, dtype: float64"
      ]
     },
     "execution_count": 19,
     "metadata": {},
     "output_type": "execute_result"
    }
   ],
   "source": [
    "ad['Broad.phase.of.flight'].value_counts(normalize=True)"
   ]
  },
  {
   "cell_type": "markdown",
   "id": "278306fc-a160-4069-a294-b2333116a959",
   "metadata": {},
   "source": [
    "<br> **Report Status:** So much mixed information types, can't know what the numbers mean. Drop this column."
   ]
  },
  {
   "cell_type": "code",
   "execution_count": 20,
   "id": "804e9133-e965-4075-a4bd-42957f0c1af7",
   "metadata": {},
   "outputs": [
    {
     "data": {
      "text/plain": [
       "Probable Cause                                                                                                                                                                                                                                                                                                                                                                                                                                                                                                                                                                                                                                                                                                                                                         0.714799\n",
       "Foreign                                                                                                                                                                                                                                                                                                                                                                                                                                                                                                                                                                                                                                                                                                                                                                0.009422\n",
       "<br /><br />                                                                                                                                                                                                                                                                                                                                                                                                                                                                                                                                                                                                                                                                                                                                                           0.002145\n",
       "Factual                                                                                                                                                                                                                                                                                                                                                                                                                                                                                                                                                                                                                                                                                                                                                                0.001953\n",
       "The pilot's failure to maintain directional control during the landing roll.                                                                                                                                                                                                                                                                                                                                                                                                                                                                                                                                                                                                                                                                                           0.000858\n",
       "                                                                                                                                                                                                                                                                                                                                                                                                                                                                                                                                                                                                                                                                                                                                                                         ...   \n",
       "The total loss of engine power for reasons that could not be determined because postaccident examination of the airframe and engine did not reveal evidence of preaccident mechanical malfunctions or failures that would have precluded normal operation.                                                                                                                                                                                                                                                                                                                                                                                                                                                                                                             0.000015\n",
       "The certified flight instructorÃÂÃÂÃÂÃÂÃÂÃÂÃÂÃÂÃÂÃÂÃÂÃÂÃÂÃÂÃÂÃÂÃÂÃÂÃÂÃÂÃÂÃÂÃÂÃÂÃÂÃÂÃÂÃÂÃÂÃÂÃÂÃÂÃÂÃÂÃÂÃÂÃÂÃÂÃÂÃÂÃÂÃÂÃÂÃÂÃÂÃÂÃÂÃÂÃÂÃÂÃÂÃÂÃÂÃÂÃÂÃÂÃÂÃÂÃÂÃÂÃÂÃÂÃÂÃÂÃÂÃÂÃÂÃÂÃÂÃÂÃÂÃÂÃÂÃÂÃÂÃÂÃÂÃÂÃÂÃÂÃÂÃÂÃÂÃÂÃÂÃÂÃÂÃÂÃÂÃÂÃÂÃÂÃÂÃÂÃÂÃÂÃÂÃÂÃÂÃÂÃÂÃÂÃÂÃÂÃÂÃÂÃÂÃÂÃÂÃÂÃÂÃÂÃÂÃÂÃÂÃÂÃÂÃÂÃÂÃÂÃÂÃÂÃÂÃÂÃÂÃÂÃÂÃÂs delayed remedial action as the airplane neared an aerodynamic stall/spin. Contributing to the accident was that the student pilot did not maintain adequate airspeed during the go-around attempt.    0.000015\n",
       "The pilot landed without lowering the landing gear. Contributing to the accident was the pilot's self-reported fatigue.                                                                                                                                                                                                                                                                                                                                                                                                                                                                                                                                                                                                                                                0.000015\n",
       "A loss of engine power due to failure of the engine oil cooler and subsequent oil starvation to the engine.                                                                                                                                                                                                                                                                                                                                                                                                                                                                                                                                                                                                                                                            0.000015\n",
       "The pilotÃÂÃÂÃÂÃÂÃÂÃÂÃÂÃÂÃÂÃÂÃÂÃÂÃÂÃÂÃÂÃÂÃÂÃÂÃÂÃÂÃÂÃÂÃÂÃÂÃÂÃÂÃÂÃÂÃÂÃÂÃÂÃÂÃÂÃÂÃÂÃÂÃÂÃÂÃÂÃÂÃÂÃÂÃÂÃÂÃÂÃÂÃÂÃÂÃÂÃÂÃÂÃÂÃÂÃÂÃÂÃÂÃÂÃÂÃÂÃÂÃÂÃÂÃÂÃÂÃÂÃÂÃÂÃÂÃÂÃÂÃÂÃÂÃÂÃÂÃÂÃÂÃÂÃÂÃÂÃÂÃÂÃÂÃÂÃÂÃÂÃÂÃÂÃÂÃÂÃÂÃÂÃÂÃÂÃÂÃÂÃÂÃÂÃÂÃÂÃÂÃÂÃÂÃÂÃÂÃÂÃÂÃÂÃÂÃÂÃÂÃÂÃÂÃÂÃÂÃÂÃÂÃÂÃÂÃÂÃÂÃÂÃÂÃÂÃÂÃÂÃÂÃÂÃÂs loss of control due to a wind gust during landing.                                                                                                                                                                          0.000015\n",
       "Name: Report.Status, Length: 16939, dtype: float64"
      ]
     },
     "execution_count": 20,
     "metadata": {},
     "output_type": "execute_result"
    }
   ],
   "source": [
    "ad['Report.Status'].value_counts(normalize=True)"
   ]
  },
  {
   "cell_type": "markdown",
   "id": "cba114f7-0c06-4176-9e03-d13dadc1d86f",
   "metadata": {},
   "source": [
    "<br> **Publication Date:** # Since we have event date and there are, so many values missing we are dropping the column."
   ]
  },
  {
   "cell_type": "code",
   "execution_count": 21,
   "id": "c611ea00-b462-4d09-96b1-a118b55edce1",
   "metadata": {},
   "outputs": [
    {
     "data": {
      "text/plain": [
       "25-09-2020    0.271666\n",
       "26-09-2020    0.026671\n",
       "03-11-2020    0.016721\n",
       "31-03-1993    0.007693\n",
       "15-02-2001    0.006428\n",
       "                ...   \n",
       "03-12-2004    0.000017\n",
       "20-04-1998    0.000017\n",
       "11-02-2002    0.000017\n",
       "15-05-1998    0.000017\n",
       "29-12-2022    0.000017\n",
       "Name: Publication.Date, Length: 2032, dtype: float64"
      ]
     },
     "execution_count": 21,
     "metadata": {},
     "output_type": "execute_result"
    }
   ],
   "source": [
    "ad['Publication.Date'].value_counts(normalize=True)"
   ]
  },
  {
   "cell_type": "markdown",
   "id": "5879e1d5-7f9e-41b9-830b-c39ab1dc6476",
   "metadata": {},
   "source": [
    "### Basic Data Cleaning\n",
    "\n",
    "The next step in cleaning is dropping or accounting missingness where appropriate, adjusting data types, capitalization, and other minor adjustments to the database."
   ]
  },
  {
   "cell_type": "markdown",
   "id": "874af7e6-5770-459d-a28b-ad48ca57e569",
   "metadata": {},
   "source": [
    "#### Drop missing values"
   ]
  },
  {
   "cell_type": "code",
   "execution_count": 22,
   "id": "ea54fab0-ff19-4684-84a6-5ff73fca52ed",
   "metadata": {},
   "outputs": [
    {
     "data": {
      "text/plain": [
       "Unnamed: 0.8                  0\n",
       "Unnamed: 0.7                  0\n",
       "Unnamed: 0.6                  0\n",
       "Unnamed: 0.5                  0\n",
       "Unnamed: 0.4                  0\n",
       "Unnamed: 0.3                  0\n",
       "Unnamed: 0.2                  0\n",
       "Unnamed: 0.1                  0\n",
       "Unnamed: 0                    0\n",
       "Event.Id                      0\n",
       "Investigation.Type            0\n",
       "Accident.Number               0\n",
       "Event.Date                    0\n",
       "Location                      0\n",
       "Country                       0\n",
       "Latitude                  50672\n",
       "Longitude                 50671\n",
       "Airport.Code              31646\n",
       "Airport.Name              29363\n",
       "Injury.Severity               0\n",
       "Aircraft.damage               0\n",
       "Aircraft.Category             0\n",
       "Registration.Number         225\n",
       "Make                          0\n",
       "Model                         0\n",
       "Amateur.Built                 0\n",
       "Number.of.Engines          3956\n",
       "Engine.Type                   0\n",
       "FAR.Description           45964\n",
       "Schedule                  62811\n",
       "Purpose.of.flight             0\n",
       "Air.carrier               57491\n",
       "Total.Fatal.Injuries          0\n",
       "Total.Serious.Injuries        0\n",
       "Total.Minor.Injuries          0\n",
       "Total.Uninjured               0\n",
       "Weather.Condition             0\n",
       "Broad.phase.of.flight         0\n",
       "Report.Status              5442\n",
       "Publication.Date          14556\n",
       "Event.Year                    0\n",
       "Total_Injuries                0\n",
       "Total.Injuries                0\n",
       "dtype: int64"
      ]
     },
     "execution_count": 22,
     "metadata": {},
     "output_type": "execute_result"
    }
   ],
   "source": [
    "# Dropping rows of columns with few missing data\n",
    "# Will not impact overall analysis\n",
    "\n",
    "ad.dropna(inplace=True, \n",
    "          subset=['Location', 'Country', 'Make', 'Model',\n",
    "                  'Injury.Severity','Total.Uninjured','Total.Fatal.Injuries',\n",
    "                  'Total.Serious.Injuries','Total.Minor.Injuries'])\n",
    "ad.isna().sum()"
   ]
  },
  {
   "cell_type": "markdown",
   "id": "a265457b-856e-495a-a41a-49b2a7cfd9c4",
   "metadata": {},
   "source": [
    "#### Create `Event.Year` Column"
   ]
  },
  {
   "cell_type": "code",
   "execution_count": 23,
   "id": "afe0eadb-9215-47e1-b361-840a55638a61",
   "metadata": {},
   "outputs": [
    {
     "data": {
      "text/plain": [
       "'1948'"
      ]
     },
     "execution_count": 23,
     "metadata": {},
     "output_type": "execute_result"
    }
   ],
   "source": [
    "# Create event year column\n",
    "\n",
    "ad['Event.Year'] = ad['Event.Date'].str[:4]\n",
    "ad['Event.Year'].min()"
   ]
  },
  {
   "cell_type": "markdown",
   "id": "ff1b5688-fe29-40c9-b1ac-62ebf4a5e2a7",
   "metadata": {},
   "source": [
    "#### Create `Total.Injuries` Column"
   ]
  },
  {
   "cell_type": "code",
   "execution_count": 24,
   "id": "7077f4d7-5ac4-4de9-b68c-30085140ec8a",
   "metadata": {},
   "outputs": [
    {
     "data": {
      "text/plain": [
       "0      39422\n",
       "1      17238\n",
       "2      10178\n",
       "3       2674\n",
       "4       1895\n",
       "       ...  \n",
       "52         1\n",
       "121        1\n",
       "72         1\n",
       "101        1\n",
       "99         1\n",
       "Name: Total.Injuries, Length: 112, dtype: int64"
      ]
     },
     "execution_count": 24,
     "metadata": {},
     "output_type": "execute_result"
    }
   ],
   "source": [
    "# Create injuries column\n",
    "\n",
    "ad['Total.Injuries'] = ad['Total.Fatal.Injuries']+ad['Total.Serious.Injuries']+ad['Total.Minor.Injuries']\n",
    "ad['Total.Injuries'].value_counts()"
   ]
  },
  {
   "cell_type": "markdown",
   "id": "7b5f4000-7e05-4803-b856-f3be5dc97429",
   "metadata": {},
   "source": [
    "#### Adjust Data Types"
   ]
  },
  {
   "cell_type": "code",
   "execution_count": 25,
   "id": "2fa7476f-8f12-4afa-adc9-ef3077e9c150",
   "metadata": {},
   "outputs": [
    {
     "name": "stdout",
     "output_type": "stream",
     "text": [
      "<class 'pandas.core.frame.DataFrame'>\n",
      "RangeIndex: 73047 entries, 0 to 73046\n",
      "Data columns (total 43 columns):\n",
      " #   Column                  Non-Null Count  Dtype  \n",
      "---  ------                  --------------  -----  \n",
      " 0   Unnamed: 0.8            73047 non-null  int64  \n",
      " 1   Unnamed: 0.7            73047 non-null  int64  \n",
      " 2   Unnamed: 0.6            73047 non-null  int64  \n",
      " 3   Unnamed: 0.5            73047 non-null  int64  \n",
      " 4   Unnamed: 0.4            73047 non-null  int64  \n",
      " 5   Unnamed: 0.3            73047 non-null  int64  \n",
      " 6   Unnamed: 0.2            73047 non-null  int64  \n",
      " 7   Unnamed: 0.1            73047 non-null  int64  \n",
      " 8   Unnamed: 0              73047 non-null  float64\n",
      " 9   Event.Id                73047 non-null  object \n",
      " 10  Investigation.Type      73047 non-null  object \n",
      " 11  Accident.Number         73047 non-null  object \n",
      " 12  Event.Date              73047 non-null  object \n",
      " 13  Location                73047 non-null  object \n",
      " 14  Country                 73047 non-null  object \n",
      " 15  Latitude                22375 non-null  object \n",
      " 16  Longitude               22376 non-null  object \n",
      " 17  Airport.Code            41401 non-null  object \n",
      " 18  Airport.Name            43684 non-null  object \n",
      " 19  Injury.Severity         73047 non-null  object \n",
      " 20  Aircraft.damage         73047 non-null  object \n",
      " 21  Aircraft.Category       73047 non-null  object \n",
      " 22  Registration.Number     72822 non-null  object \n",
      " 23  Make                    73047 non-null  object \n",
      " 24  Model                   73047 non-null  object \n",
      " 25  Amateur.Built           73047 non-null  object \n",
      " 26  Number.of.Engines       69091 non-null  float64\n",
      " 27  Engine.Type             73047 non-null  object \n",
      " 28  FAR.Description         27083 non-null  object \n",
      " 29  Schedule                10236 non-null  object \n",
      " 30  Purpose.of.flight       73047 non-null  object \n",
      " 31  Air.carrier             15556 non-null  object \n",
      " 32  Total.Fatal.Injuries    73047 non-null  int64  \n",
      " 33  Total.Serious.Injuries  73047 non-null  int64  \n",
      " 34  Total.Minor.Injuries    73047 non-null  int64  \n",
      " 35  Total.Uninjured         73047 non-null  int64  \n",
      " 36  Weather.Condition       73047 non-null  object \n",
      " 37  Broad.phase.of.flight   73047 non-null  object \n",
      " 38  Report.Status           67605 non-null  object \n",
      " 39  Publication.Date        58491 non-null  object \n",
      " 40  Event.Year              73047 non-null  int64  \n",
      " 41  Total_Injuries          73047 non-null  int64  \n",
      " 42  Total.Injuries          73047 non-null  int64  \n",
      "dtypes: float64(2), int64(15), object(26)\n",
      "memory usage: 24.0+ MB\n"
     ]
    }
   ],
   "source": [
    "# Convert Injury columns to int\n",
    "\n",
    "ad['Event.Year']= ad['Event.Year'].astype(int)\n",
    "ad['Total.Fatal.Injuries']= ad['Total.Fatal.Injuries'].astype(int)\n",
    "ad['Total.Serious.Injuries']= ad['Total.Serious.Injuries'].astype(int)\n",
    "ad['Total.Minor.Injuries']= ad['Total.Minor.Injuries'].astype(int)\n",
    "ad['Total.Uninjured']= ad['Total.Uninjured'].astype(int)\n",
    "ad.info()"
   ]
  },
  {
   "cell_type": "markdown",
   "id": "20c3bb13-69fd-4f8d-bbf7-74d1cb598da4",
   "metadata": {},
   "source": [
    "#### Adjust Capitalization"
   ]
  },
  {
   "cell_type": "code",
   "execution_count": 26,
   "id": "e7441530-e59d-4f3b-95b1-99f30175c142",
   "metadata": {},
   "outputs": [
    {
     "data": {
      "text/plain": [
       "reciprocating      0.801607\n",
       "unknown            0.090750\n",
       "turbo shaft        0.038496\n",
       "turbo prop         0.036237\n",
       "turbo fan          0.024929\n",
       "turbo jet          0.007529\n",
       "none               0.000287\n",
       "electric           0.000110\n",
       "lr                 0.000027\n",
       "hybrid rocket      0.000014\n",
       "geared turbofan    0.000014\n",
       "Name: Engine.Type, dtype: float64"
      ]
     },
     "execution_count": 26,
     "metadata": {},
     "output_type": "execute_result"
    }
   ],
   "source": [
    "# Create function to lowercase selected columns\n",
    "\n",
    "def lowercase(df):\n",
    "    df = df.apply(lambda x: x.str.lower())\n",
    "    return df\n",
    "\n",
    "# Imutate on database to lowercase all relevant columns\n",
    "\n",
    "ad[['Purpose.of.flight','Make','Aircraft.Category','Engine.Type',\n",
    "    'Location','Injury.Severity','Aircraft.damage']] \\\n",
    "= lowercase(ad[['Purpose.of.flight','Make','Aircraft.Category','Engine.Type',\n",
    "                'Location','Injury.Severity','Aircraft.damage']])\n",
    "ad['Engine.Type'].value_counts(normalize=True)"
   ]
  },
  {
   "cell_type": "code",
   "execution_count": 27,
   "id": "37d96386-dea3-441c-a343-ca50da542637",
   "metadata": {},
   "outputs": [
    {
     "data": {
      "text/plain": [
       "VMC        0.877613\n",
       "IMC        0.067655\n",
       "UNKNOWN    0.054732\n",
       "Name: Weather.Condition, dtype: float64"
      ]
     },
     "execution_count": 27,
     "metadata": {},
     "output_type": "execute_result"
    }
   ],
   "source": [
    "# Create function to uppercase selected columns\n",
    "\n",
    "def uppercase(df):\n",
    "    df = df.apply(lambda x: x.str.upper())\n",
    "    return df\n",
    "\n",
    "ad[['Weather.Condition']] = uppercase(ad[['Weather.Condition']])\n",
    "ad['Weather.Condition'].value_counts(normalize=True)"
   ]
  },
  {
   "cell_type": "markdown",
   "id": "b0d9acb0-c4f0-496d-86f6-02c330ae5ef4",
   "metadata": {},
   "source": [
    "#### Addressing Unknown Category"
   ]
  },
  {
   "cell_type": "code",
   "execution_count": 28,
   "id": "bb8bc8a7-83ad-479c-a0b6-af540b4f43bf",
   "metadata": {},
   "outputs": [
    {
     "name": "stdout",
     "output_type": "stream",
     "text": [
      "1.0    58468\n",
      "2.0     8925\n",
      "0.0      932\n",
      "3.0      417\n",
      "4.0      345\n",
      "8.0        3\n",
      "6.0        1\n",
      "Name: Number.of.Engines, dtype: int64\n",
      "non-fatal    56490\n",
      "fatal        14610\n",
      "incident      1548\n",
      "minor          218\n",
      "serious        173\n",
      "unknown          8\n",
      "Name: Injury.Severity, dtype: int64\n",
      "VMC        64107\n",
      "IMC         4942\n",
      "UNKNOWN     3998\n",
      "Name: Weather.Condition, dtype: int64\n",
      "Unknown        25308\n",
      "Landing        11719\n",
      "Takeoff         9906\n",
      "Cruise          8194\n",
      "Maneuvering     6440\n",
      "Approach        5135\n",
      "Climb           1625\n",
      "Taxi            1499\n",
      "Descent         1482\n",
      "Go-around       1060\n",
      "Standing         679\n",
      "Name: Broad.phase.of.flight, dtype: int64\n"
     ]
    }
   ],
   "source": [
    "# Combine all versions of 'unknown' into one 'unknown'\n",
    "\n",
    "ad.loc[ad['Engine.Type'] == 'unk', ['Engine.Type']] = 'unknown'\n",
    "ad.loc[ad['Injury.Severity'] == 'unavailable', ['Injury.Severity']] = 'unknown'\n",
    "ad.loc[ad['Weather.Condition'] == 'UNK', ['Weather.Condition']] = 'unknown'\n",
    "ad.loc[ad['Broad.phase.of.flight'] == 'Other', ['Broad.phase.of.flight']] = 'unknown'\n",
    "\n",
    "print(ad['Number.of.Engines'].value_counts())\n",
    "print(ad['Injury.Severity'].value_counts())\n",
    "print(ad['Weather.Condition'].value_counts())\n",
    "print(ad['Broad.phase.of.flight'].value_counts())"
   ]
  },
  {
   "cell_type": "code",
   "execution_count": 29,
   "id": "0995bd79-8eaf-4865-9245-a7841f72297e",
   "metadata": {},
   "outputs": [
    {
     "name": "stdout",
     "output_type": "stream",
     "text": [
      "0\n",
      "0\n",
      "0\n",
      "0\n",
      "0\n",
      "0\n",
      "0\n"
     ]
    }
   ],
   "source": [
    "# Adjust na value to it's own category\n",
    "\n",
    "ad['Purpose.of.flight'].fillna('unknown', inplace=True)\n",
    "ad['Aircraft.damage'].fillna('unknown', inplace=True)\n",
    "ad['Aircraft.Category'].fillna('unknown', inplace=True)\n",
    "ad['Injury.Severity'].fillna('unknown', inplace=True)\n",
    "ad['Engine.Type'].fillna('unknown', inplace=True)\n",
    "ad['Weather.Condition'].fillna('unknown', inplace=True)\n",
    "ad['Broad.phase.of.flight'].fillna('unknown', inplace=True)\n",
    "\n",
    "print(ad['Purpose.of.flight'].isna().sum())\n",
    "print(ad['Aircraft.damage'].isna().sum())\n",
    "print(ad['Aircraft.Category'].isna().sum())\n",
    "print(ad['Injury.Severity'].isna().sum())\n",
    "print(ad['Engine.Type'].isna().sum())\n",
    "print(ad['Weather.Condition'].isna().sum())\n",
    "print(ad['Broad.phase.of.flight'].isna().sum())"
   ]
  },
  {
   "cell_type": "markdown",
   "id": "403150eb-6b98-4c3b-a995-0feaf2c26942",
   "metadata": {},
   "source": [
    "<br> It looks like `Aircraft.Category` has a lot of missing values and is not eligible to redistribute the unknowns. While it may be useful for analysis, we might not have enough data to get meaningful results.\n",
    "\n",
    "**note:** we may want to advise stakeholders to find complete data for phase 2 of the department expansion."
   ]
  },
  {
   "cell_type": "code",
   "execution_count": 30,
   "id": "944d442c-f3ce-4e28-ae5d-3165a13e9825",
   "metadata": {},
   "outputs": [
    {
     "data": {
      "text/plain": [
       "unknown              0.626528\n",
       "airplane             0.318932\n",
       "helicopter           0.040097\n",
       "glider               0.005750\n",
       "balloon              0.002628\n",
       "weight-shift         0.002204\n",
       "gyrocraft            0.002095\n",
       "powered parachute    0.001246\n",
       "ultralight           0.000329\n",
       "wsft                 0.000123\n",
       "powered-lift         0.000027\n",
       "rocket               0.000014\n",
       "blimp                0.000014\n",
       "ultr                 0.000014\n",
       "Name: Aircraft.Category, dtype: float64"
      ]
     },
     "execution_count": 30,
     "metadata": {},
     "output_type": "execute_result"
    }
   ],
   "source": [
    "# Confirm new 'unknown' count\n",
    "\n",
    "ad['Aircraft.Category'].value_counts(normalize=True)"
   ]
  },
  {
   "cell_type": "markdown",
   "id": "92f040b0-33f6-4b96-bc42-e751a5d3a001",
   "metadata": {},
   "source": [
    "#### Combining Relevant Categories in `Make` and `Injury.Severity`"
   ]
  },
  {
   "cell_type": "code",
   "execution_count": 31,
   "id": "ff31e196-6f62-4882-be9e-4543c5481643",
   "metadata": {},
   "outputs": [
    {
     "data": {
      "text/plain": [
       "cessna                 0.313209\n",
       "piper                  0.172807\n",
       "beech                  0.061057\n",
       "bell                   0.029529\n",
       "boeing                 0.024614\n",
       "                         ...   \n",
       "pacheco                0.000014\n",
       "sirocco flying club    0.000014\n",
       "trickle                0.000014\n",
       "richardson             0.000014\n",
       "royse ralph l          0.000014\n",
       "Name: Make, Length: 6316, dtype: float64"
      ]
     },
     "execution_count": 31,
     "metadata": {},
     "output_type": "execute_result"
    }
   ],
   "source": [
    "# Combine all Boeing values into one\n",
    "\n",
    "for value in ad:\n",
    "    if ad['Make'].str.contains('boeing').any():\n",
    "        ad.loc[ad['Make'].str.contains('boeing'), 'Make'] = 'boeing'\n",
    "\n",
    "ad['Make'].value_counts(normalize=True)"
   ]
  },
  {
   "cell_type": "markdown",
   "id": "37d11019-175b-4fda-b9a8-0dddb4d4d37e",
   "metadata": {},
   "source": [
    "<br> We can now see there is an 'unavailable' and 'unknown' category in `Injury.Severity` into which we can add na values. We can then distribute the 'unknown' values based on proportional distribution of the other categories.\n"
   ]
  },
  {
   "cell_type": "code",
   "execution_count": 32,
   "id": "2ad663b6-39c5-4562-b43b-d76716a6db18",
   "metadata": {},
   "outputs": [
    {
     "data": {
      "text/plain": [
       "non-fatal    0.773338\n",
       "fatal        0.200008\n",
       "incident     0.021192\n",
       "minor        0.002984\n",
       "serious      0.002368\n",
       "unknown      0.000110\n",
       "Name: Injury.Severity, dtype: float64"
      ]
     },
     "execution_count": 32,
     "metadata": {},
     "output_type": "execute_result"
    }
   ],
   "source": [
    "# Combine all variations of 'fatal' values into one 'fatal' category, excluding 'non-fatal'\n",
    "def update_injury_severity(severity):\n",
    "    if pd.notna(severity) and 'fatal' in str(severity).lower() and 'non-fatal' not in str(severity).lower():\n",
    "        return 'fatal'\n",
    "    return severity\n",
    "\n",
    "# Apply the custom function to update 'Injury.Severity'\n",
    "ad['Injury.Severity'] = ad['Injury.Severity'].apply(update_injury_severity)\n",
    "\n",
    "ad['Injury.Severity'].value_counts(normalize=True)"
   ]
  },
  {
   "cell_type": "code",
   "execution_count": 33,
   "id": "92d45bf4-adbe-467b-a782-0e3529e7dc6c",
   "metadata": {},
   "outputs": [],
   "source": [
    "# Save as cleaned csv\n",
    "ad.to_csv('Data/AviationData.csv')"
   ]
  },
  {
   "cell_type": "markdown",
   "id": "5307c3d4-d598-4a3a-8f50-cefb5f84aeca",
   "metadata": {},
   "source": [
    "### Higher Level Imputation (drop cols, impute on na with stat functions)"
   ]
  },
  {
   "cell_type": "markdown",
   "id": "02222619-722e-4c2a-9752-67a5e9068e4e",
   "metadata": {},
   "source": [
    "Now it's time to make some greater adjustments to the dataset which may involve creating copies of the original dataset in order to be able to easily go back if any mistakes or adjustments need to be addressed."
   ]
  },
  {
   "cell_type": "code",
   "execution_count": 34,
   "id": "2225d743-f9c4-451f-9729-25055a1e132c",
   "metadata": {},
   "outputs": [
    {
     "data": {
      "text/plain": [
       "1992"
      ]
     },
     "execution_count": 34,
     "metadata": {},
     "output_type": "execute_result"
    }
   ],
   "source": [
    "# Create copy of original data for column dropping\n",
    "\n",
    "ad_1 = ad.copy()\n",
    "\n",
    "# Drop rows past 1992 in Event.Year\n",
    "\n",
    "mask_year = ad_1['Event.Year'] > 1991\n",
    "ad_1 = ad_1[mask_year]\n",
    "\n",
    "# Validate code worked \n",
    "\n",
    "ad_1['Event.Year'].min()"
   ]
  },
  {
   "cell_type": "markdown",
   "id": "ab1b1a9d-982b-448a-b3d3-12fc71321489",
   "metadata": {},
   "source": [
    "In 1982 and 1991, there were major changes in technological inovations and aviation regulations. So we want data starting 1992 and on for `Event.Year`.\n",
    "\n",
    "**Source:** <a hrfe = \"https://www.faa.gov/about/history/brief_history\">Brief History of Aviation Regulations</a>\n",
    "\n",
    "**Fix Link**"
   ]
  },
  {
   "cell_type": "markdown",
   "id": "05018dd5-8e75-4077-abb3-2fd8a10f037a",
   "metadata": {},
   "source": [
    "#### Drop Unneeded Columns\n",
    "\n",
    "Based on earlier analysis the following columns are either missing too much data to produce meaningful results or do not add any conceptual significance for analysis:\n",
    "- Latitude\n",
    "- Longitude\n",
    "- Airport.Code\n",
    "- Airport.Name\n",
    "- Schedule\n",
    "- FAR.Description\n",
    "- Registration.Number\n",
    "- Report.Status\n",
    "- Publication.Date\n",
    "- Amateur Built\n",
    "\n",
    "**Note:** Any columns missing too much data, but conceptually may be helpful can be included as recommendation of additional data retrieval for Phase 2 of department expansion."
   ]
  },
  {
   "cell_type": "code",
   "execution_count": 35,
   "id": "5384c6a6-5d7d-4961-afec-be7de81e2949",
   "metadata": {
    "jp-MarkdownHeadingCollapsed": true
   },
   "outputs": [],
   "source": [
    "# Drop unnecessary columns\n",
    "ad_1 = ad.drop(['Airport.Code', 'Airport.Name', \\\n",
    "                'Schedule','Registration.Number','Latitude','Longitude', \\\n",
    "                'FAR.Description','Air.carrier', \\\n",
    "                'Report.Status','Publication.Date','Amateur.Built'], axis=1)"
   ]
  },
  {
   "cell_type": "markdown",
   "id": "bea1708a-2fc4-4380-8ab5-ece5ee027794",
   "metadata": {},
   "source": [
    "#### Statistical Dispersion of NA or Unknown Values"
   ]
  },
  {
   "cell_type": "markdown",
   "id": "d90f1dee-d5ed-4acd-91a5-f143ca70999b",
   "metadata": {},
   "source": [
    "##### Missing ~5% of data from `Number.of.Engines`\n",
    "\n",
    "ad['Number.of.Engines'].value_counts(dropna=False,normalize=True)\n",
    "\n",
    "Original distribution:\n",
    "\n",
    "- 1.0 = 0.800416\n",
    "- 2.0 = 0.122182\n",
    "- NaN = 0.054157\n",
    "- 0.0 = 0.012759\n",
    "- 3.0 = 0.005709\n",
    "- 4.0 = 0.004723\n",
    "- 8.0 = 0.000041\n",
    "- 6.0 = 0.000014\n",
    "\n",
    "After distribution of na:\n",
    "- 1.0 = 0.843790\n",
    "- 2.0 = 0.130692\n",
    "- 0.0 = 0.014778\n",
    "- 3.0 = 0.005662\n",
    "- 4.0 = 0.005033\n",
    "- 8.0 = 0.000034\n",
    "- 6.0 = 0.000011\n",
    "\n",
    "We can see that the distribution remains fairly unchanged, confirming that it made sense to redistribute the NA values."
   ]
  },
  {
   "cell_type": "code",
   "execution_count": 36,
   "id": "0d20a7c3-003a-4075-93b8-9814e0523316",
   "metadata": {},
   "outputs": [
    {
     "name": "stdout",
     "output_type": "stream",
     "text": [
      "1.0    0.845853\n",
      "2.0    0.129574\n",
      "0.0    0.013484\n",
      "3.0    0.006051\n",
      "4.0    0.004983\n",
      "8.0    0.000041\n",
      "6.0    0.000014\n",
      "Name: Number.of.Engines, dtype: float64\n",
      "0\n"
     ]
    }
   ],
   "source": [
    "# Create copy of data base since this is a major imputation\n",
    "ad_2 = ad_1.copy()\n",
    "\n",
    "# relative probabilities (likelihood of 3 dif classes)\n",
    "rel_prob = [0.843301, 0.131095, 0.014839, 0.005778, 0.004938, 0.000036, 0.000012]\n",
    "\n",
    "# relative probabilities (likelihood of 3 dif classes)\n",
    "prob = [i/sum(rel_prob) for i in rel_prob]\n",
    "\n",
    "# actual probability of each class (x/total)\n",
    "def impute_pclass(value): \n",
    "    if pd.isna(value) == True:\n",
    "        return np.random.choice([1.0,2.0,0.0,3.0,4.0,8.0,6.0], p=prob)\n",
    "    else:\n",
    "        return value\n",
    "        \n",
    "ad_2['Number.of.Engines'] = ad_2['Number.of.Engines'].map(lambda x: impute_pclass(x))\n",
    "print(ad_2['Number.of.Engines'].value_counts(normalize=True))\n",
    "print(ad_2['Number.of.Engines'].isna().sum())"
   ]
  },
  {
   "cell_type": "markdown",
   "id": "9e2f635a-b1e0-4eab-9321-a0e4006ee17a",
   "metadata": {},
   "source": [
    "##### Missing ~9% of data from `Injury.Severity`\n",
    "\n",
    "ad['Injury.Severity'].value_counts(normalize=True)\n",
    "\n",
    "Original distribution:\n",
    "\n",
    "- fatal = 0.970089\n",
    "- incident = 0.024512\n",
    "- minor = 0.002494\n",
    "- serious = 0.001979\n",
    "- unavailable = 0.000926\n",
    "\n",
    "After distribution of 'unknown':\n",
    "- fatal = 0.970970\n",
    "- incident = 0.024546\n",
    "- minor = 0.002494\n",
    "- serious = 0.001990\n",
    "\n",
    "We can see that the distribution remains fairly unchanged, confirming that it made sense to redistribute the unknown values."
   ]
  },
  {
   "cell_type": "code",
   "execution_count": 37,
   "id": "24fabc47-2c9e-45b8-a434-e535e19a4245",
   "metadata": {},
   "outputs": [
    {
     "data": {
      "text/plain": [
       "non-fatal    0.773338\n",
       "fatal        0.200118\n",
       "incident     0.021192\n",
       "minor        0.002984\n",
       "serious      0.002368\n",
       "Name: Injury.Severity, dtype: float64"
      ]
     },
     "execution_count": 37,
     "metadata": {},
     "output_type": "execute_result"
    }
   ],
   "source": [
    "# Create copy of data base since this is a major imputation\n",
    "ad_3= ad_2.copy()\n",
    "\n",
    "# relative probabilities (likelihood of dif classes)\n",
    "rel_prob = [0.970089, 0.024512, 0.002494, 0.001979]\n",
    "\n",
    "# relative probabilities (likelihood of 3 dif classes)\n",
    "prob = [i/sum(rel_prob) for i in rel_prob]\n",
    "\n",
    "# actual probability of each class (x/total)\n",
    "def impute_pclass(value): \n",
    "    if value == 'unknown':\n",
    "        return np.random.choice(['fatal','incident','minor','serious'], p=prob)\n",
    "    else:\n",
    "        return value\n",
    "        \n",
    "ad_3['Injury.Severity'] = ad_3['Injury.Severity'].map(lambda x: impute_pclass(x))\n",
    "ad_3['Injury.Severity'].value_counts(normalize=True)"
   ]
  },
  {
   "cell_type": "markdown",
   "id": "81468a6a-9e27-46ec-b429-8cb4894274c1",
   "metadata": {},
   "source": [
    "##### Missing ~3% of data from `Aircraft.damage`\n",
    "\n",
    "ad['Aircraft.damage'].value_counts(normalize=True)\n",
    "\n",
    "Original distribution:\n",
    "\n",
    "- substantial = 0.729328\n",
    "- destroyed = 0.210427\n",
    "- unknown = 0.031237\n",
    "- minor = 0.029007\n",
    "\n",
    "After distribution of 'unknown':\n",
    "\n",
    "- substantial = 0.753074\n",
    "- destroyed = 0.217027\n",
    "- minor = 0.029899\n",
    "\n",
    "We can see that the distribution remains fairly unchanged, confirming that it made sense to redistribute the unknown values."
   ]
  },
  {
   "cell_type": "code",
   "execution_count": 38,
   "id": "e781a6da-e7ca-4f1e-a133-4cc9121c52f0",
   "metadata": {},
   "outputs": [
    {
     "data": {
      "text/plain": [
       "substantial    0.750708\n",
       "destroyed      0.219872\n",
       "minor          0.029419\n",
       "Name: Aircraft.damage, dtype: float64"
      ]
     },
     "execution_count": 38,
     "metadata": {},
     "output_type": "execute_result"
    }
   ],
   "source": [
    "# Create copy of data base since this is a major imputation\n",
    "ad_4= ad_3.copy()\n",
    "\n",
    "# relative probabilities (likelihood of 3 dif classes)\n",
    "rel_prob = [0.729328, 0.210427, 0.029007]\n",
    "\n",
    "# relative probabilities (likelihood of 3 dif classes)\n",
    "prob = [i/sum(rel_prob) for i in rel_prob]\n",
    "\n",
    "# actual probability of each class (x/total)\n",
    "def impute_pclass(value): \n",
    "    if value == 'unknown':\n",
    "        return np.random.choice(['substantial','destroyed','minor'], p=prob)\n",
    "    else:\n",
    "        return value\n",
    "        \n",
    "ad_4['Aircraft.damage'] = ad_4['Aircraft.damage'].map(lambda x: impute_pclass(x))\n",
    "ad_4['Aircraft.damage'].value_counts(normalize=True)"
   ]
  },
  {
   "cell_type": "markdown",
   "id": "a59efa4c-b6c0-4abe-b490-da07871e4e3e",
   "metadata": {},
   "source": [
    "##### Missing ~1.3% of data from `Weather.Condition`\n",
    "\n",
    "ad['Weather.Condition'].value_counts(normalize=True)\n",
    "\n",
    "Original distribution:\n",
    "\n",
    "- VMC = 0.916614\n",
    "- IMC = 0.070747\n",
    "- UNKNOWN = 0.012639\n",
    "\n",
    "After distribution of 'UNKNOWN':\n",
    "\n",
    "- VMC = 0.928695\n",
    "- IMC = 0.071305\n",
    "\n",
    "We can see that the distribution remains fairly unchanged, confirming that it made sense to redistribute the unknown values."
   ]
  },
  {
   "cell_type": "code",
   "execution_count": 39,
   "id": "01e455d5-8f42-465e-920e-3888f3d8e5f8",
   "metadata": {},
   "outputs": [
    {
     "data": {
      "text/plain": [
       "VMC        0.877613\n",
       "IMC        0.067655\n",
       "UNKNOWN    0.054732\n",
       "Name: Weather.Condition, dtype: float64"
      ]
     },
     "execution_count": 39,
     "metadata": {},
     "output_type": "execute_result"
    }
   ],
   "source": [
    "# Create copy of data base since this is a major imputation\n",
    "ad_5= ad_4.copy()\n",
    "\n",
    "# relative probabilities (likelihood of 3 dif classes)\n",
    "rel_prob = [0.916614, 0.070747]\n",
    "\n",
    "# relative probabilities (likelihood of 3 dif classes)\n",
    "prob = [i/sum(rel_prob) for i in rel_prob]\n",
    "\n",
    "# actual probability of each class (x/total)\n",
    "def impute_pclass(value): # impute = replace\n",
    "    if value == 'unknown':\n",
    "        return np.random.choice(['VMC','IMC'], p=prob)\n",
    "    else:\n",
    "        return value\n",
    "        \n",
    "ad_5['Weather.Condition'] = ad_5['Weather.Condition'].map(lambda x: impute_pclass(x))\n",
    "ad_5['Weather.Condition'].value_counts(normalize=True)"
   ]
  },
  {
   "cell_type": "markdown",
   "id": "82c8d8d1-cdba-4b56-9208-32d3f38f44c7",
   "metadata": {},
   "source": [
    "##### Missing ~9% of data from `Engine.Type`\n",
    "\n",
    "ad['Engine.Type'].value_counts(normalize=True)\n",
    "\n",
    "Original distribution:\n",
    "\n",
    "- reciprocating = 0.801607\n",
    "- unknown = 0.090750\n",
    "- turbo shaft = 0.038496\n",
    "- turbo prop = 0.036237\n",
    "- turbo fan = 0.024929\n",
    "- turbo jet = 0.007529\n",
    "- none = 0.000287\n",
    "- electric = 0.000110\n",
    "- lr = 0.000027\n",
    "- hybrid rocket = 0.000014\n",
    "- geared turbofan = 0.000014\n",
    "\n",
    "After distribution of 'unknown':\n",
    "\n",
    "- reciprocating = 0.881734\n",
    "- turbo shaft = 0.042589\n",
    "- turbo prop = 0.039851\n",
    "- turbo fan = 0.027106\n",
    "- turbo jet = 0.008214\n",
    "- none = 0.000342\n",
    "- electric = 0.000110\n",
    "- lr = 0.000027\n",
    "- hybrid rocket = 0.000014\n",
    "- geared turbofan = 0.000014\n",
    "\n",
    "We can see that the distribution remains fairly unchanged, confirming that it made sense to redistribute the unknown values."
   ]
  },
  {
   "cell_type": "code",
   "execution_count": 40,
   "id": "362a3dbe-467c-483e-a125-543fbdb8cee3",
   "metadata": {},
   "outputs": [
    {
     "data": {
      "text/plain": [
       "reciprocating      0.881213\n",
       "turbo shaft        0.042740\n",
       "turbo prop         0.039810\n",
       "turbo fan          0.027544\n",
       "turbo jet          0.008200\n",
       "none               0.000315\n",
       "electric           0.000123\n",
       "lr                 0.000027\n",
       "hybrid rocket      0.000014\n",
       "geared turbofan    0.000014\n",
       "Name: Engine.Type, dtype: float64"
      ]
     },
     "execution_count": 40,
     "metadata": {},
     "output_type": "execute_result"
    }
   ],
   "source": [
    "# Create copy of data base since this is a major imputation\n",
    "ad_6= ad_5.copy()\n",
    "\n",
    "# relative probabilities (likelihood of 3 dif classes)\n",
    "rel_prob = [0.801607, 0.038496, 0.036237, 0.024929, 0.007529, \n",
    "            0.000287, 0.000110, 0.000027, 0.000014, 0.000014]\n",
    "\n",
    "# relative probabilities\n",
    "prob = [i/sum(rel_prob) for i in rel_prob]\n",
    "\n",
    "# actual probability of each class (x/total)\n",
    "def impute_engine(value):\n",
    "    if value == 'unknown':\n",
    "        return np.random.choice(['reciprocating', 'turbo shaft', 'turbo prop', 'turbo fan',\n",
    "       'turbo jet', 'none', 'electric', 'lr', 'hybrid rocket', 'geared turbofan'], p=prob)\n",
    "    else:\n",
    "        return value\n",
    "        \n",
    "ad_6['Engine.Type'] = ad_5['Engine.Type'].map(lambda x: impute_engine(x))\n",
    "ad_6['Engine.Type'].value_counts(normalize=True)"
   ]
  },
  {
   "cell_type": "code",
   "execution_count": 41,
   "id": "7722e4d5-6523-41c5-b981-a827dafc0d8c",
   "metadata": {},
   "outputs": [
    {
     "data": {
      "text/plain": [
       "Unnamed: 0.8              0\n",
       "Unnamed: 0.7              0\n",
       "Unnamed: 0.6              0\n",
       "Unnamed: 0.5              0\n",
       "Unnamed: 0.4              0\n",
       "Unnamed: 0.3              0\n",
       "Unnamed: 0.2              0\n",
       "Unnamed: 0.1              0\n",
       "Unnamed: 0                0\n",
       "Event.Id                  0\n",
       "Investigation.Type        0\n",
       "Accident.Number           0\n",
       "Event.Date                0\n",
       "Location                  0\n",
       "Country                   0\n",
       "Injury.Severity           0\n",
       "Aircraft.damage           0\n",
       "Aircraft.Category         0\n",
       "Make                      0\n",
       "Model                     0\n",
       "Number.of.Engines         0\n",
       "Engine.Type               0\n",
       "Purpose.of.flight         0\n",
       "Total.Fatal.Injuries      0\n",
       "Total.Serious.Injuries    0\n",
       "Total.Minor.Injuries      0\n",
       "Total.Uninjured           0\n",
       "Weather.Condition         0\n",
       "Broad.phase.of.flight     0\n",
       "Event.Year                0\n",
       "Total_Injuries            0\n",
       "Total.Injuries            0\n",
       "dtype: int64"
      ]
     },
     "execution_count": 41,
     "metadata": {},
     "output_type": "execute_result"
    }
   ],
   "source": [
    "ad_5.isna().sum()"
   ]
  },
  {
   "cell_type": "markdown",
   "id": "20b387bc-72bd-43f0-ab29-1f4f5e104f64",
   "metadata": {
    "collapsed": true,
    "jupyter": {
     "outputs_hidden": true
    }
   },
   "source": [
    "## 3. Statistical Exploration & Evaluation\n",
    "\n",
    "Finally it's time to visualize our cleaned data to see where we can find statistical significance in relation to risk aversion when looking to invest in aircrafts.\n",
    "\n",
    "Below, we see that if we want to find any significance in `Total.Uninjured` we need to get rid of the outliers."
   ]
  },
  {
   "cell_type": "code",
   "execution_count": 42,
   "id": "0db7c695-b936-4516-928b-6f532cbf3355",
   "metadata": {},
   "outputs": [
    {
     "data": {
      "text/html": [
       "<div>\n",
       "<style scoped>\n",
       "    .dataframe tbody tr th:only-of-type {\n",
       "        vertical-align: middle;\n",
       "    }\n",
       "\n",
       "    .dataframe tbody tr th {\n",
       "        vertical-align: top;\n",
       "    }\n",
       "\n",
       "    .dataframe thead th {\n",
       "        text-align: right;\n",
       "    }\n",
       "</style>\n",
       "<table border=\"1\" class=\"dataframe\">\n",
       "  <thead>\n",
       "    <tr style=\"text-align: right;\">\n",
       "      <th></th>\n",
       "      <th>Unnamed: 0.8</th>\n",
       "      <th>Unnamed: 0.7</th>\n",
       "      <th>Unnamed: 0.6</th>\n",
       "      <th>Unnamed: 0.5</th>\n",
       "      <th>Unnamed: 0.4</th>\n",
       "      <th>Unnamed: 0.3</th>\n",
       "      <th>Unnamed: 0.2</th>\n",
       "      <th>Unnamed: 0.1</th>\n",
       "      <th>Unnamed: 0</th>\n",
       "      <th>Number.of.Engines</th>\n",
       "      <th>Total.Fatal.Injuries</th>\n",
       "      <th>Total.Serious.Injuries</th>\n",
       "      <th>Total.Minor.Injuries</th>\n",
       "      <th>Total.Uninjured</th>\n",
       "      <th>Event.Year</th>\n",
       "      <th>Total_Injuries</th>\n",
       "      <th>Total.Injuries</th>\n",
       "    </tr>\n",
       "  </thead>\n",
       "  <tbody>\n",
       "    <tr>\n",
       "      <th>count</th>\n",
       "      <td>73047.000000</td>\n",
       "      <td>73047.000000</td>\n",
       "      <td>73047.000000</td>\n",
       "      <td>73047.000000</td>\n",
       "      <td>73047.000000</td>\n",
       "      <td>73047.000000</td>\n",
       "      <td>73047.000000</td>\n",
       "      <td>73047.000000</td>\n",
       "      <td>73047.000000</td>\n",
       "      <td>73047.000000</td>\n",
       "      <td>73047.000000</td>\n",
       "      <td>73047.000000</td>\n",
       "      <td>73047.000000</td>\n",
       "      <td>73047.000000</td>\n",
       "      <td>73047.000000</td>\n",
       "      <td>73047.000000</td>\n",
       "      <td>73047.000000</td>\n",
       "    </tr>\n",
       "    <tr>\n",
       "      <th>mean</th>\n",
       "      <td>36523.000000</td>\n",
       "      <td>36523.000000</td>\n",
       "      <td>36523.000000</td>\n",
       "      <td>36523.000000</td>\n",
       "      <td>36523.000000</td>\n",
       "      <td>36523.000000</td>\n",
       "      <td>36523.000000</td>\n",
       "      <td>36672.865059</td>\n",
       "      <td>41762.526798</td>\n",
       "      <td>1.143497</td>\n",
       "      <td>0.510685</td>\n",
       "      <td>0.246444</td>\n",
       "      <td>0.303640</td>\n",
       "      <td>4.840651</td>\n",
       "      <td>1998.146837</td>\n",
       "      <td>1.060769</td>\n",
       "      <td>1.060769</td>\n",
       "    </tr>\n",
       "    <tr>\n",
       "      <th>std</th>\n",
       "      <td>21086.996894</td>\n",
       "      <td>21086.996894</td>\n",
       "      <td>21086.996894</td>\n",
       "      <td>21086.996894</td>\n",
       "      <td>21086.996894</td>\n",
       "      <td>21086.996894</td>\n",
       "      <td>21086.996894</td>\n",
       "      <td>21308.985691</td>\n",
       "      <td>27173.237937</td>\n",
       "      <td>0.440314</td>\n",
       "      <td>4.235008</td>\n",
       "      <td>1.478230</td>\n",
       "      <td>1.549842</td>\n",
       "      <td>26.160360</td>\n",
       "      <td>12.661842</td>\n",
       "      <td>5.095347</td>\n",
       "      <td>5.095347</td>\n",
       "    </tr>\n",
       "    <tr>\n",
       "      <th>min</th>\n",
       "      <td>0.000000</td>\n",
       "      <td>0.000000</td>\n",
       "      <td>0.000000</td>\n",
       "      <td>0.000000</td>\n",
       "      <td>0.000000</td>\n",
       "      <td>0.000000</td>\n",
       "      <td>0.000000</td>\n",
       "      <td>0.000000</td>\n",
       "      <td>0.000000</td>\n",
       "      <td>0.000000</td>\n",
       "      <td>0.000000</td>\n",
       "      <td>0.000000</td>\n",
       "      <td>0.000000</td>\n",
       "      <td>0.000000</td>\n",
       "      <td>1948.000000</td>\n",
       "      <td>0.000000</td>\n",
       "      <td>0.000000</td>\n",
       "    </tr>\n",
       "    <tr>\n",
       "      <th>25%</th>\n",
       "      <td>18261.500000</td>\n",
       "      <td>18261.500000</td>\n",
       "      <td>18261.500000</td>\n",
       "      <td>18261.500000</td>\n",
       "      <td>18261.500000</td>\n",
       "      <td>18261.500000</td>\n",
       "      <td>18261.500000</td>\n",
       "      <td>18261.500000</td>\n",
       "      <td>18496.500000</td>\n",
       "      <td>1.000000</td>\n",
       "      <td>0.000000</td>\n",
       "      <td>0.000000</td>\n",
       "      <td>0.000000</td>\n",
       "      <td>0.000000</td>\n",
       "      <td>1987.000000</td>\n",
       "      <td>0.000000</td>\n",
       "      <td>0.000000</td>\n",
       "    </tr>\n",
       "    <tr>\n",
       "      <th>50%</th>\n",
       "      <td>36523.000000</td>\n",
       "      <td>36523.000000</td>\n",
       "      <td>36523.000000</td>\n",
       "      <td>36523.000000</td>\n",
       "      <td>36523.000000</td>\n",
       "      <td>36523.000000</td>\n",
       "      <td>36523.000000</td>\n",
       "      <td>36523.000000</td>\n",
       "      <td>37029.000000</td>\n",
       "      <td>1.000000</td>\n",
       "      <td>0.000000</td>\n",
       "      <td>0.000000</td>\n",
       "      <td>0.000000</td>\n",
       "      <td>1.000000</td>\n",
       "      <td>1995.000000</td>\n",
       "      <td>0.000000</td>\n",
       "      <td>0.000000</td>\n",
       "    </tr>\n",
       "    <tr>\n",
       "      <th>75%</th>\n",
       "      <td>54784.500000</td>\n",
       "      <td>54784.500000</td>\n",
       "      <td>54784.500000</td>\n",
       "      <td>54784.500000</td>\n",
       "      <td>54784.500000</td>\n",
       "      <td>54784.500000</td>\n",
       "      <td>54784.500000</td>\n",
       "      <td>54813.500000</td>\n",
       "      <td>69727.500000</td>\n",
       "      <td>1.000000</td>\n",
       "      <td>0.000000</td>\n",
       "      <td>0.000000</td>\n",
       "      <td>0.000000</td>\n",
       "      <td>2.000000</td>\n",
       "      <td>2011.000000</td>\n",
       "      <td>1.000000</td>\n",
       "      <td>1.000000</td>\n",
       "    </tr>\n",
       "    <tr>\n",
       "      <th>max</th>\n",
       "      <td>73046.000000</td>\n",
       "      <td>73046.000000</td>\n",
       "      <td>73046.000000</td>\n",
       "      <td>73046.000000</td>\n",
       "      <td>73046.000000</td>\n",
       "      <td>73046.000000</td>\n",
       "      <td>73046.000000</td>\n",
       "      <td>74498.000000</td>\n",
       "      <td>88888.000000</td>\n",
       "      <td>8.000000</td>\n",
       "      <td>295.000000</td>\n",
       "      <td>161.000000</td>\n",
       "      <td>171.000000</td>\n",
       "      <td>576.000000</td>\n",
       "      <td>2022.000000</td>\n",
       "      <td>295.000000</td>\n",
       "      <td>295.000000</td>\n",
       "    </tr>\n",
       "  </tbody>\n",
       "</table>\n",
       "</div>"
      ],
      "text/plain": [
       "       Unnamed: 0.8  Unnamed: 0.7  Unnamed: 0.6  Unnamed: 0.5  Unnamed: 0.4  \\\n",
       "count  73047.000000  73047.000000  73047.000000  73047.000000  73047.000000   \n",
       "mean   36523.000000  36523.000000  36523.000000  36523.000000  36523.000000   \n",
       "std    21086.996894  21086.996894  21086.996894  21086.996894  21086.996894   \n",
       "min        0.000000      0.000000      0.000000      0.000000      0.000000   \n",
       "25%    18261.500000  18261.500000  18261.500000  18261.500000  18261.500000   \n",
       "50%    36523.000000  36523.000000  36523.000000  36523.000000  36523.000000   \n",
       "75%    54784.500000  54784.500000  54784.500000  54784.500000  54784.500000   \n",
       "max    73046.000000  73046.000000  73046.000000  73046.000000  73046.000000   \n",
       "\n",
       "       Unnamed: 0.3  Unnamed: 0.2  Unnamed: 0.1    Unnamed: 0  \\\n",
       "count  73047.000000  73047.000000  73047.000000  73047.000000   \n",
       "mean   36523.000000  36523.000000  36672.865059  41762.526798   \n",
       "std    21086.996894  21086.996894  21308.985691  27173.237937   \n",
       "min        0.000000      0.000000      0.000000      0.000000   \n",
       "25%    18261.500000  18261.500000  18261.500000  18496.500000   \n",
       "50%    36523.000000  36523.000000  36523.000000  37029.000000   \n",
       "75%    54784.500000  54784.500000  54813.500000  69727.500000   \n",
       "max    73046.000000  73046.000000  74498.000000  88888.000000   \n",
       "\n",
       "       Number.of.Engines  Total.Fatal.Injuries  Total.Serious.Injuries  \\\n",
       "count       73047.000000          73047.000000            73047.000000   \n",
       "mean            1.143497              0.510685                0.246444   \n",
       "std             0.440314              4.235008                1.478230   \n",
       "min             0.000000              0.000000                0.000000   \n",
       "25%             1.000000              0.000000                0.000000   \n",
       "50%             1.000000              0.000000                0.000000   \n",
       "75%             1.000000              0.000000                0.000000   \n",
       "max             8.000000            295.000000              161.000000   \n",
       "\n",
       "       Total.Minor.Injuries  Total.Uninjured    Event.Year  Total_Injuries  \\\n",
       "count          73047.000000     73047.000000  73047.000000    73047.000000   \n",
       "mean               0.303640         4.840651   1998.146837        1.060769   \n",
       "std                1.549842        26.160360     12.661842        5.095347   \n",
       "min                0.000000         0.000000   1948.000000        0.000000   \n",
       "25%                0.000000         0.000000   1987.000000        0.000000   \n",
       "50%                0.000000         1.000000   1995.000000        0.000000   \n",
       "75%                0.000000         2.000000   2011.000000        1.000000   \n",
       "max              171.000000       576.000000   2022.000000      295.000000   \n",
       "\n",
       "       Total.Injuries  \n",
       "count    73047.000000  \n",
       "mean         1.060769  \n",
       "std          5.095347  \n",
       "min          0.000000  \n",
       "25%          0.000000  \n",
       "50%          0.000000  \n",
       "75%          1.000000  \n",
       "max        295.000000  "
      ]
     },
     "execution_count": 42,
     "metadata": {},
     "output_type": "execute_result"
    }
   ],
   "source": [
    "ad_5.describe()"
   ]
  },
  {
   "cell_type": "markdown",
   "id": "bffb981d-d8cb-4db6-b647-4b4ed7fbd08d",
   "metadata": {},
   "source": [
    "#### Visualize Outliers in `Total.Uninjured`"
   ]
  },
  {
   "cell_type": "code",
   "execution_count": 43,
   "id": "2d1b9e24-204f-4806-83b8-6400a33c864b",
   "metadata": {},
   "outputs": [
    {
     "data": {
      "image/png": "[encoded data removed]",
      "text/plain": [
       "<Figure size 640x480 with 1 Axes>"
      ]
     },
     "metadata": {},
     "output_type": "display_data"
    }
   ],
   "source": [
    "# Identify all outliers of Total.Uninjured\n",
    "mask = ad_5['Total.Uninjured'].value_counts()\n",
    "\n",
    "# Assign x, y\n",
    "x = mask.index\n",
    "y = mask.values\n",
    "\n",
    "fig, ax = plt.subplots()\n",
    "\n",
    "ax.bar(x,y)\n",
    "plt.xlim(xmin=-1, xmax=10)\n",
    "ax.set_title('Total Uninjured Outlier Analysis')\n",
    "ax.set_xlabel('Outlier Count')\n",
    "ax.set_ylabel('Outlier');"
   ]
  },
  {
   "cell_type": "markdown",
   "id": "1f8b2a4e-72eb-4507-a52c-c02bd9869a07",
   "metadata": {},
   "source": [
    "Looks like it makes sense to get rid of outliers with values >7 in `Total.Uninjured`."
   ]
  },
  {
   "cell_type": "code",
   "execution_count": 44,
   "id": "d74baac9-276d-403b-bf32-1237c2c87258",
   "metadata": {},
   "outputs": [
    {
     "data": {
      "text/html": [
       "<div>\n",
       "<style scoped>\n",
       "    .dataframe tbody tr th:only-of-type {\n",
       "        vertical-align: middle;\n",
       "    }\n",
       "\n",
       "    .dataframe tbody tr th {\n",
       "        vertical-align: top;\n",
       "    }\n",
       "\n",
       "    .dataframe thead th {\n",
       "        text-align: right;\n",
       "    }\n",
       "</style>\n",
       "<table border=\"1\" class=\"dataframe\">\n",
       "  <thead>\n",
       "    <tr style=\"text-align: right;\">\n",
       "      <th></th>\n",
       "      <th>Unnamed: 0.8</th>\n",
       "      <th>Unnamed: 0.7</th>\n",
       "      <th>Unnamed: 0.6</th>\n",
       "      <th>Unnamed: 0.5</th>\n",
       "      <th>Unnamed: 0.4</th>\n",
       "      <th>Unnamed: 0.3</th>\n",
       "      <th>Unnamed: 0.2</th>\n",
       "      <th>Unnamed: 0.1</th>\n",
       "      <th>Unnamed: 0</th>\n",
       "      <th>Number.of.Engines</th>\n",
       "      <th>Total.Fatal.Injuries</th>\n",
       "      <th>Total.Serious.Injuries</th>\n",
       "      <th>Total.Minor.Injuries</th>\n",
       "      <th>Total.Uninjured</th>\n",
       "      <th>Event.Year</th>\n",
       "      <th>Total_Injuries</th>\n",
       "      <th>Total.Injuries</th>\n",
       "    </tr>\n",
       "  </thead>\n",
       "  <tbody>\n",
       "    <tr>\n",
       "      <th>count</th>\n",
       "      <td>70373.000000</td>\n",
       "      <td>70373.000000</td>\n",
       "      <td>70373.000000</td>\n",
       "      <td>70373.000000</td>\n",
       "      <td>70373.000000</td>\n",
       "      <td>70373.000000</td>\n",
       "      <td>70373.000000</td>\n",
       "      <td>70373.000000</td>\n",
       "      <td>70373.000000</td>\n",
       "      <td>70373.000000</td>\n",
       "      <td>70373.000000</td>\n",
       "      <td>70373.000000</td>\n",
       "      <td>70373.000000</td>\n",
       "      <td>70373.000000</td>\n",
       "      <td>70373.000000</td>\n",
       "      <td>70373.000000</td>\n",
       "      <td>70373.000000</td>\n",
       "    </tr>\n",
       "    <tr>\n",
       "      <th>mean</th>\n",
       "      <td>36367.829537</td>\n",
       "      <td>36367.829537</td>\n",
       "      <td>36367.829537</td>\n",
       "      <td>36367.829537</td>\n",
       "      <td>36367.829537</td>\n",
       "      <td>36367.829537</td>\n",
       "      <td>36367.829537</td>\n",
       "      <td>36516.614952</td>\n",
       "      <td>41561.317281</td>\n",
       "      <td>1.108991</td>\n",
       "      <td>0.521123</td>\n",
       "      <td>0.227559</td>\n",
       "      <td>0.260327</td>\n",
       "      <td>1.071192</td>\n",
       "      <td>1998.055632</td>\n",
       "      <td>1.009009</td>\n",
       "      <td>1.009009</td>\n",
       "    </tr>\n",
       "    <tr>\n",
       "      <th>std</th>\n",
       "      <td>21099.216373</td>\n",
       "      <td>21099.216373</td>\n",
       "      <td>21099.216373</td>\n",
       "      <td>21099.216373</td>\n",
       "      <td>21099.216373</td>\n",
       "      <td>21099.216373</td>\n",
       "      <td>21099.216373</td>\n",
       "      <td>21320.637763</td>\n",
       "      <td>27168.173797</td>\n",
       "      <td>0.383023</td>\n",
       "      <td>4.257489</td>\n",
       "      <td>1.176828</td>\n",
       "      <td>0.769864</td>\n",
       "      <td>1.232974</td>\n",
       "      <td>12.653617</td>\n",
       "      <td>4.614842</td>\n",
       "      <td>4.614842</td>\n",
       "    </tr>\n",
       "    <tr>\n",
       "      <th>min</th>\n",
       "      <td>0.000000</td>\n",
       "      <td>0.000000</td>\n",
       "      <td>0.000000</td>\n",
       "      <td>0.000000</td>\n",
       "      <td>0.000000</td>\n",
       "      <td>0.000000</td>\n",
       "      <td>0.000000</td>\n",
       "      <td>0.000000</td>\n",
       "      <td>0.000000</td>\n",
       "      <td>0.000000</td>\n",
       "      <td>0.000000</td>\n",
       "      <td>0.000000</td>\n",
       "      <td>0.000000</td>\n",
       "      <td>0.000000</td>\n",
       "      <td>1948.000000</td>\n",
       "      <td>0.000000</td>\n",
       "      <td>0.000000</td>\n",
       "    </tr>\n",
       "    <tr>\n",
       "      <th>25%</th>\n",
       "      <td>18070.000000</td>\n",
       "      <td>18070.000000</td>\n",
       "      <td>18070.000000</td>\n",
       "      <td>18070.000000</td>\n",
       "      <td>18070.000000</td>\n",
       "      <td>18070.000000</td>\n",
       "      <td>18070.000000</td>\n",
       "      <td>18070.000000</td>\n",
       "      <td>18302.000000</td>\n",
       "      <td>1.000000</td>\n",
       "      <td>0.000000</td>\n",
       "      <td>0.000000</td>\n",
       "      <td>0.000000</td>\n",
       "      <td>0.000000</td>\n",
       "      <td>1987.000000</td>\n",
       "      <td>0.000000</td>\n",
       "      <td>0.000000</td>\n",
       "    </tr>\n",
       "    <tr>\n",
       "      <th>50%</th>\n",
       "      <td>36260.000000</td>\n",
       "      <td>36260.000000</td>\n",
       "      <td>36260.000000</td>\n",
       "      <td>36260.000000</td>\n",
       "      <td>36260.000000</td>\n",
       "      <td>36260.000000</td>\n",
       "      <td>36260.000000</td>\n",
       "      <td>36260.000000</td>\n",
       "      <td>36760.000000</td>\n",
       "      <td>1.000000</td>\n",
       "      <td>0.000000</td>\n",
       "      <td>0.000000</td>\n",
       "      <td>0.000000</td>\n",
       "      <td>1.000000</td>\n",
       "      <td>1995.000000</td>\n",
       "      <td>0.000000</td>\n",
       "      <td>0.000000</td>\n",
       "    </tr>\n",
       "    <tr>\n",
       "      <th>75%</th>\n",
       "      <td>54616.000000</td>\n",
       "      <td>54616.000000</td>\n",
       "      <td>54616.000000</td>\n",
       "      <td>54616.000000</td>\n",
       "      <td>54616.000000</td>\n",
       "      <td>54616.000000</td>\n",
       "      <td>54616.000000</td>\n",
       "      <td>54643.000000</td>\n",
       "      <td>69553.000000</td>\n",
       "      <td>1.000000</td>\n",
       "      <td>0.000000</td>\n",
       "      <td>0.000000</td>\n",
       "      <td>0.000000</td>\n",
       "      <td>2.000000</td>\n",
       "      <td>2011.000000</td>\n",
       "      <td>1.000000</td>\n",
       "      <td>1.000000</td>\n",
       "    </tr>\n",
       "    <tr>\n",
       "      <th>max</th>\n",
       "      <td>73046.000000</td>\n",
       "      <td>73046.000000</td>\n",
       "      <td>73046.000000</td>\n",
       "      <td>73046.000000</td>\n",
       "      <td>73046.000000</td>\n",
       "      <td>73046.000000</td>\n",
       "      <td>73046.000000</td>\n",
       "      <td>74498.000000</td>\n",
       "      <td>88888.000000</td>\n",
       "      <td>8.000000</td>\n",
       "      <td>295.000000</td>\n",
       "      <td>161.000000</td>\n",
       "      <td>62.000000</td>\n",
       "      <td>7.000000</td>\n",
       "      <td>2022.000000</td>\n",
       "      <td>295.000000</td>\n",
       "      <td>295.000000</td>\n",
       "    </tr>\n",
       "  </tbody>\n",
       "</table>\n",
       "</div>"
      ],
      "text/plain": [
       "       Unnamed: 0.8  Unnamed: 0.7  Unnamed: 0.6  Unnamed: 0.5  Unnamed: 0.4  \\\n",
       "count  70373.000000  70373.000000  70373.000000  70373.000000  70373.000000   \n",
       "mean   36367.829537  36367.829537  36367.829537  36367.829537  36367.829537   \n",
       "std    21099.216373  21099.216373  21099.216373  21099.216373  21099.216373   \n",
       "min        0.000000      0.000000      0.000000      0.000000      0.000000   \n",
       "25%    18070.000000  18070.000000  18070.000000  18070.000000  18070.000000   \n",
       "50%    36260.000000  36260.000000  36260.000000  36260.000000  36260.000000   \n",
       "75%    54616.000000  54616.000000  54616.000000  54616.000000  54616.000000   \n",
       "max    73046.000000  73046.000000  73046.000000  73046.000000  73046.000000   \n",
       "\n",
       "       Unnamed: 0.3  Unnamed: 0.2  Unnamed: 0.1    Unnamed: 0  \\\n",
       "count  70373.000000  70373.000000  70373.000000  70373.000000   \n",
       "mean   36367.829537  36367.829537  36516.614952  41561.317281   \n",
       "std    21099.216373  21099.216373  21320.637763  27168.173797   \n",
       "min        0.000000      0.000000      0.000000      0.000000   \n",
       "25%    18070.000000  18070.000000  18070.000000  18302.000000   \n",
       "50%    36260.000000  36260.000000  36260.000000  36760.000000   \n",
       "75%    54616.000000  54616.000000  54643.000000  69553.000000   \n",
       "max    73046.000000  73046.000000  74498.000000  88888.000000   \n",
       "\n",
       "       Number.of.Engines  Total.Fatal.Injuries  Total.Serious.Injuries  \\\n",
       "count       70373.000000          70373.000000            70373.000000   \n",
       "mean            1.108991              0.521123                0.227559   \n",
       "std             0.383023              4.257489                1.176828   \n",
       "min             0.000000              0.000000                0.000000   \n",
       "25%             1.000000              0.000000                0.000000   \n",
       "50%             1.000000              0.000000                0.000000   \n",
       "75%             1.000000              0.000000                0.000000   \n",
       "max             8.000000            295.000000              161.000000   \n",
       "\n",
       "       Total.Minor.Injuries  Total.Uninjured    Event.Year  Total_Injuries  \\\n",
       "count          70373.000000     70373.000000  70373.000000    70373.000000   \n",
       "mean               0.260327         1.071192   1998.055632        1.009009   \n",
       "std                0.769864         1.232974     12.653617        4.614842   \n",
       "min                0.000000         0.000000   1948.000000        0.000000   \n",
       "25%                0.000000         0.000000   1987.000000        0.000000   \n",
       "50%                0.000000         1.000000   1995.000000        0.000000   \n",
       "75%                0.000000         2.000000   2011.000000        1.000000   \n",
       "max               62.000000         7.000000   2022.000000      295.000000   \n",
       "\n",
       "       Total.Injuries  \n",
       "count    70373.000000  \n",
       "mean         1.009009  \n",
       "std          4.614842  \n",
       "min          0.000000  \n",
       "25%          0.000000  \n",
       "50%          0.000000  \n",
       "75%          1.000000  \n",
       "max        295.000000  "
      ]
     },
     "execution_count": 44,
     "metadata": {},
     "output_type": "execute_result"
    }
   ],
   "source": [
    "# Eliminate outliers (>5) in Total.Uninjured\n",
    "\n",
    "ad_7 = ad_6.copy()\n",
    "\n",
    "mask_outliers = ad_6['Total.Uninjured'] < 8\n",
    "ad_7 = ad_7[mask_outliers]\n",
    "\n",
    "# New describe check\n",
    "ad_7.describe()"
   ]
  },
  {
   "cell_type": "markdown",
   "id": "265aa621-4bad-43b7-8983-0ed681c95649",
   "metadata": {},
   "source": [
    "#### Get Top 25 Used `Make`\n",
    "\n",
    "To be able to analyze which `Make` makes sense to start with, we want to find the top 25 being used."
   ]
  },
  {
   "cell_type": "code",
   "execution_count": 45,
   "id": "6fee59c8-18d3-476e-8ad9-503a9040ce2e",
   "metadata": {},
   "outputs": [
    {
     "data": {
      "image/png": "[encoded data removed]",
      "text/plain": [
       "<Figure size 640x480 with 1 Axes>"
      ]
     },
     "metadata": {},
     "output_type": "display_data"
    }
   ],
   "source": [
    "# Get the top 25 'Make' and see which aircrafts are most popular\n",
    "top25_make_names = ad_7['Make'].value_counts().nlargest(25).index\n",
    "\n",
    "# Filter the DataFrame to include only the top 25 'Make' values\n",
    "top25_make_data = ad_7[ad_7['Make'].isin(top25_make_names)]\n",
    "\n",
    "# Count occurrences of each 'Make'\n",
    "make_counts = top25_make_data['Make'].value_counts()\n",
    "\n",
    "#Plot\n",
    "fig, ax = plt.subplots()\n",
    "\n",
    "plt.bar(make_counts.index, make_counts.values)\n",
    "\n",
    "plt.xlabel('Aircraft Make')\n",
    "plt.ylabel('Count')\n",
    "plt.title('Most Used Aircraft Make')\n",
    "plt.xticks(rotation=45, ha='right')  # Rotate x-axis labels for better visibility\n",
    "plt.show()"
   ]
  },
  {
   "cell_type": "markdown",
   "id": "4ace80b5-239e-4f6d-8de6-8b86fc24cfc3",
   "metadata": {},
   "source": [
    "<br> If we view this data numerically, we can see that ~43% of aircrafts being used are of Cessna make. This aligns with the information provided by CNN about best selling airplanes.\n",
    "\n",
    "**Source:** <a href = \"https://www.cnn.com/travel/article/world-best-selling-airplanes/index.html\">Best Selling Airplain</a>"
   ]
  },
  {
   "cell_type": "code",
   "execution_count": 46,
   "id": "9e88b16e-d833-4b9f-829a-b3d7e816a962",
   "metadata": {},
   "outputs": [
    {
     "data": {
      "text/plain": [
       "cessna            42.970417\n",
       "piper             23.778059\n",
       "beech              8.233117\n",
       "bell               4.053314\n",
       "mooney             2.069135\n",
       "grumman            1.976628\n",
       "bellanca           1.699107\n",
       "robinson           1.587721\n",
       "hughes             1.434801\n",
       "boeing             1.264891\n",
       "schweizer          1.193151\n",
       "aeronca            1.040231\n",
       "air tractor        0.977930\n",
       "maule              0.900527\n",
       "champion           0.866545\n",
       "stinson            0.711737\n",
       "aero commander     0.672091\n",
       "luscombe           0.653212\n",
       "taylorcraft        0.613566\n",
       "hiller             0.611679\n",
       "rockwell           0.598463\n",
       "north american     0.589024\n",
       "aerospatiale       0.530499\n",
       "de havilland       0.500293\n",
       "enstrom            0.473862\n",
       "Name: Make, dtype: float64"
      ]
     },
     "execution_count": 46,
     "metadata": {},
     "output_type": "execute_result"
    }
   ],
   "source": [
    "top25_make_data['Make'].value_counts(normalize=True)*100"
   ]
  },
  {
   "cell_type": "markdown",
   "id": "56860e43-55df-4bcb-ac4e-8e81a213f80c",
   "metadata": {},
   "source": [
    "#### Top `Make` Compared with `Total.Uninjured` and `Aircraft.damage`"
   ]
  },
  {
   "cell_type": "markdown",
   "id": "e79cf48f-38a0-4442-91ad-655df8581701",
   "metadata": {},
   "source": [
    "We can tell that Cessna is the most widely used make by far. We would also want to know if it causes the least injuries and aircraft damage. \n",
    "\n",
    "In addition, we can see that our decision regarding make comes down to the top 4 since beyond that, the count is pretty evenly disperced among the rest of the make types.\n",
    "\n",
    "\n",
    "For `Total.Uninjured` vs `Make` analysis, it's hard to get any truly significant results since there are only max 7 uninjured passengers after removing outliers. Though, we can tell that Cessna has a leg up on the other top 4 makes. Regardless, we would want more data to confirm that make has the least risk associated with it."
   ]
  },
  {
   "cell_type": "code",
   "execution_count": 47,
   "id": "6d3a5fea-12bb-40ae-8a89-a6cbbafcc21d",
   "metadata": {},
   "outputs": [
    {
     "data": {
      "image/png": "[encoded data removed]",
      "text/plain": [
       "<Figure size 1200x800 with 1 Axes>"
      ]
     },
     "metadata": {},
     "output_type": "display_data"
    }
   ],
   "source": [
    "# Filter further to Top 4 Make \n",
    "\n",
    "# Use previous top25_make_data created\n",
    "top4_make_names = top25_make_data['Make'].value_counts().nlargest(4).index\n",
    "\n",
    "# Filter the DataFrame to include only the top 10 'Make' values\n",
    "top4_make_data = top25_make_data[top25_make_data['Make'].isin(top4_make_names)]\n",
    "\n",
    "# Calculate percentage values for each category per 'Make'\n",
    "percentage_uninjured = top4_make_data.groupby(['Total.Uninjured', 'Make']).size().unstack().apply(lambda x: x / x.sum(), axis=1) * 100\n",
    "\n",
    "# Stacks the DataFrame to create a Percentage column and restablishes 'Aircraft.damage'\n",
    "# column to be used as 'hue'\n",
    "stacked_percentage_uninjured = percentage_uninjured.stack().reset_index(name='Percentage')\n",
    "\n",
    "# Create a bar plot with percentage values\n",
    "plt.figure(figsize=(12, 8))\n",
    "\n",
    "# Use hue parameter to stack 'destroyed', 'substantial', 'minor' categories\n",
    "sns.barplot(x='Total.Uninjured', y='beech', data=percentage_uninjured.reset_index(), color='skyblue', label='beech')\n",
    "sns.barplot(x='Total.Uninjured', y='bell', data=percentage_uninjured.reset_index(), color='plum', label='bell', \n",
    "            bottom=percentage_uninjured['beech'])\n",
    "sns.barplot(x='Total.Uninjured', y='cessna', data=percentage_uninjured.reset_index(), color='mediumaquamarine', label='cessna', \n",
    "            bottom=percentage_uninjured['beech'] + percentage_uninjured['bell'])\n",
    "sns.barplot(x='Total.Uninjured', y='piper', data=percentage_uninjured.reset_index(), color='pink', label='piper', \n",
    "            bottom=percentage_uninjured['beech'] + percentage_uninjured['bell'] + percentage_uninjured['cessna'])\n",
    "\n",
    "# Add labels and title\n",
    "plt.xlabel('Uninjured Count')\n",
    "plt.ylabel('Percentage')\n",
    "plt.title('Percentage of Uninjured Count by Aircraft Make')\n",
    "plt.xticks(rotation=90)\n",
    "plt.legend(title='Aircraft Make')\n",
    "\n",
    "# Show the plot\n",
    "plt.show();"
   ]
  },
  {
   "cell_type": "markdown",
   "id": "a8bb48df-aa6d-4774-ba9a-1af514fb14bc",
   "metadata": {},
   "source": [
    "<br> "
   ]
  },
  {
   "cell_type": "markdown",
   "id": "5f2e75e8-9405-458c-b0b4-d63eda80c5cf",
   "metadata": {},
   "source": [
    "<br> When comparing `Make` with `Aircraft.damage` we can see that because Cessna is still by far the most popular, it also records the most substantial damage to the air craft. However, it does not *seem* have significanly more cases of destroyed aircrafts than lesser used makes.\n",
    "\n",
    "Again, we see that beyond the top 4 makes, the analysis becomes insignificant."
   ]
  },
  {
   "cell_type": "code",
   "execution_count": 48,
   "id": "a6082f7b-d121-42ff-ae92-1fa83db7c521",
   "metadata": {},
   "outputs": [
    {
     "data": {
      "image/png": "[encoded data removed]",
      "text/plain": [
       "<Figure size 1200x800 with 1 Axes>"
      ]
     },
     "metadata": {},
     "output_type": "display_data"
    }
   ],
   "source": [
    "# Visualize top 25 'Make' with 'Aircraft.damage'\n",
    "\n",
    "# Use previously established DataFrame\n",
    "top25_make_data\n",
    "\n",
    "# Get the order of 'Make' based on count in descending order\n",
    "make_order = top25_make_data['Make'].value_counts().index\n",
    "\n",
    "# Create a grouped bar chart comparing 'Make' and 'Aircraft.damage'\n",
    "plt.figure(figsize=(12, 8))\n",
    "sns.countplot(x='Make', hue='Aircraft.damage', data=top25_make_data, palette='muted', order=make_order)\n",
    "\n",
    "# Add labels and title\n",
    "plt.xlabel('Aircraft Make')\n",
    "plt.ylabel('Count')\n",
    "plt.title('Top 25 Makes with Aircraft Damage Types')\n",
    "plt.xticks(rotation=90)\n",
    "\n",
    "# Show the plot\n",
    "plt.show()"
   ]
  },
  {
   "cell_type": "markdown",
   "id": "99c26c27-6d8e-48f3-839c-93c429ecf1e4",
   "metadata": {},
   "source": [
    "<br> Finally we want to compare `Make` and `Aircraft.damage` on a percentage scale to be certain which make poses least risk to the aircraft during an accident.\n",
    "\n",
    "We can see that though it looked like Piper might have a lesser percentage of destroyed aircrafts, in fact, it is Cessna that poses least risk."
   ]
  },
  {
   "cell_type": "code",
   "execution_count": 49,
   "id": "09ec5884-eb89-4bbe-8934-798839d424ee",
   "metadata": {},
   "outputs": [
    {
     "data": {
      "image/png": "[encoded data removed]",
      "text/plain": [
       "<Figure size 1200x800 with 1 Axes>"
      ]
     },
     "metadata": {},
     "output_type": "display_data"
    }
   ],
   "source": [
    "# We can use previously established DataFrame\n",
    "top4_make_data\n",
    "\n",
    "# Calculate percentage values for each category per 'Make'\n",
    "percentage_damage = top4_make_data.groupby(['Make', 'Aircraft.damage']).size().unstack().apply(lambda x: x / x.sum(), axis=1) * 100\n",
    "\n",
    "# Stacks the DataFrame to create a Percentage column and restablishes 'Aircraft.damage'\n",
    "# column to be used as 'hue'\n",
    "stacked_percentage_damage = percentage_damage.stack().reset_index(name='Percentage')\n",
    "\n",
    "# Create a bar plot with percentage values\n",
    "plt.figure(figsize=(12, 8))\n",
    "\n",
    "# Use hue parameter to stack 'destroyed', 'substantial', 'minor' categories\n",
    "sns.barplot(x='Make', y='destroyed', data=percentage_damage.reset_index(), color='red', label='Destroyed')\n",
    "sns.barplot(x='Make', y='substantial', data=percentage_damage.reset_index(), color='orange', label='Substantial', bottom=percentage_damage['destroyed'])\n",
    "sns.barplot(x='Make', y='minor', data=percentage_damage.reset_index(), color='green', label='Minor', bottom=percentage_damage['destroyed'] + percentage_damage['substantial'])\n",
    "\n",
    "# Add labels and title\n",
    "plt.xlabel('Aircraft Make')\n",
    "plt.ylabel('Percentage')\n",
    "plt.title('Percentage of Aircraft Damage Types per Aircraft Make')\n",
    "plt.xticks(rotation=90)\n",
    "plt.legend(title='Aircraft Damage')\n",
    "\n",
    "# Show the plot\n",
    "plt.show();"
   ]
  },
  {
   "cell_type": "markdown",
   "id": "26052ac8-911e-4fbc-981a-ecb12ce49b78",
   "metadata": {},
   "source": [
    "<br> If we look at the data numerically below, we can see that ~20% of Cessna accidents destroy the aircraft while Piper, the second most used make, has ~24% of accidents resulting in a destroyed aircraft."
   ]
  },
  {
   "cell_type": "code",
   "execution_count": 50,
   "id": "fe4137e6-e056-4839-9f4e-689179278fe3",
   "metadata": {},
   "outputs": [
    {
     "data": {
      "text/html": [
       "<div>\n",
       "<style scoped>\n",
       "    .dataframe tbody tr th:only-of-type {\n",
       "        vertical-align: middle;\n",
       "    }\n",
       "\n",
       "    .dataframe tbody tr th {\n",
       "        vertical-align: top;\n",
       "    }\n",
       "\n",
       "    .dataframe thead th {\n",
       "        text-align: right;\n",
       "    }\n",
       "</style>\n",
       "<table border=\"1\" class=\"dataframe\">\n",
       "  <thead>\n",
       "    <tr style=\"text-align: right;\">\n",
       "      <th>Aircraft.damage</th>\n",
       "      <th>destroyed</th>\n",
       "      <th>minor</th>\n",
       "      <th>substantial</th>\n",
       "    </tr>\n",
       "    <tr>\n",
       "      <th>Make</th>\n",
       "      <th></th>\n",
       "      <th></th>\n",
       "      <th></th>\n",
       "    </tr>\n",
       "  </thead>\n",
       "  <tbody>\n",
       "    <tr>\n",
       "      <th>beech</th>\n",
       "      <td>29.855538</td>\n",
       "      <td>2.545288</td>\n",
       "      <td>67.599175</td>\n",
       "    </tr>\n",
       "    <tr>\n",
       "      <th>bell</th>\n",
       "      <td>26.455519</td>\n",
       "      <td>1.397299</td>\n",
       "      <td>72.147182</td>\n",
       "    </tr>\n",
       "    <tr>\n",
       "      <th>cessna</th>\n",
       "      <td>19.660823</td>\n",
       "      <td>1.419094</td>\n",
       "      <td>78.920083</td>\n",
       "    </tr>\n",
       "    <tr>\n",
       "      <th>piper</th>\n",
       "      <td>23.660183</td>\n",
       "      <td>1.421199</td>\n",
       "      <td>74.918618</td>\n",
       "    </tr>\n",
       "  </tbody>\n",
       "</table>\n",
       "</div>"
      ],
      "text/plain": [
       "Aircraft.damage  destroyed     minor  substantial\n",
       "Make                                             \n",
       "beech            29.855538  2.545288    67.599175\n",
       "bell             26.455519  1.397299    72.147182\n",
       "cessna           19.660823  1.419094    78.920083\n",
       "piper            23.660183  1.421199    74.918618"
      ]
     },
     "execution_count": 50,
     "metadata": {},
     "output_type": "execute_result"
    }
   ],
   "source": [
    "# Table of percentages\n",
    "top4_make_data.groupby(['Make', 'Aircraft.damage']).size().unstack().apply(lambda x: x / x.sum(), axis=1) * 100"
   ]
  },
  {
   "cell_type": "markdown",
   "id": "33a7c2ed-f766-4e8b-a03e-98fecf360a7a",
   "metadata": {},
   "source": [
    "#### `Model` vs `Aircraft.damage`"
   ]
  },
  {
   "cell_type": "code",
   "execution_count": 51,
   "id": "49cacec4-0e78-45c5-a419-f153c69be60f",
   "metadata": {},
   "outputs": [
    {
     "data": {
      "image/png": "[encoded data removed]",
      "text/plain": [
       "<Figure size 1200x800 with 1 Axes>"
      ]
     },
     "metadata": {},
     "output_type": "display_data"
    }
   ],
   "source": [
    "# We can use previously established DataFrame\n",
    "top4_make_data\n",
    "\n",
    "# Calculate percentage values for each category per 'Make'\n",
    "percentage_damage = top4_make_data.groupby(['Make', 'Aircraft.damage']).size().unstack().apply(lambda x: x / x.sum(), axis=1) * 100\n",
    "\n",
    "# Stacks the DataFrame to create a Percentage column and restablishes 'Aircraft.damage'\n",
    "# column to be used as 'hue'\n",
    "stacked_percentage_damage = percentage_damage.stack().reset_index(name='Percentage')\n",
    "\n",
    "# Create a bar plot with percentage values\n",
    "plt.figure(figsize=(12, 8))\n",
    "\n",
    "# Use hue parameter to stack 'destroyed', 'substantial', 'minor' categories\n",
    "sns.barplot(x='Make', y='destroyed', data=percentage_damage.reset_index(), color='red', label='Destroyed')\n",
    "sns.barplot(x='Make', y='substantial', data=percentage_damage.reset_index(), color='orange', label='Substantial', bottom=percentage_damage['destroyed'])\n",
    "sns.barplot(x='Make', y='minor', data=percentage_damage.reset_index(), color='green', label='Minor', bottom=percentage_damage['destroyed'] + percentage_damage['substantial'])\n",
    "\n",
    "# Add labels and title\n",
    "plt.xlabel('Aircraft Make')\n",
    "plt.ylabel('Percentage')\n",
    "plt.title('Percentage of Aircraft Damage Types per Aircraft Make')\n",
    "plt.xticks(rotation=90)\n",
    "plt.legend(title='Aircraft Damage')\n",
    "\n",
    "# Show the plot\n",
    "plt.show();"
   ]
  },
  {
   "cell_type": "markdown",
   "id": "da5a61a6-08e8-4115-8e00-0f4516037618",
   "metadata": {},
   "source": [
    "#### `Engine.Type` to `Total_Injuries` for Cessna `Make`"
   ]
  },
  {
   "cell_type": "markdown",
   "id": "63c0daa9-e0ba-4985-a647-7c46cf964d28",
   "metadata": {},
   "source": [
    "As we can see below, the Reciprocating engine yields the least injuries for Cessna planes."
   ]
  },
  {
   "cell_type": "code",
   "execution_count": 52,
   "id": "7819679c-46fc-44e2-9dbd-a139bac5f15b",
   "metadata": {},
   "outputs": [
    {
     "data": {
      "image/png": "[encoded data removed]",
      "text/plain": [
       "<Figure size 1200x800 with 1 Axes>"
      ]
     },
     "metadata": {},
     "output_type": "display_data"
    }
   ],
   "source": [
    "# Isolate data with Cessna as the make\n",
    "cessna_mask = ad_7['Make'] == 'cessna'\n",
    "cessna_make_data = ad_7[cessna_mask]\n",
    "\n",
    "# Define total injury values and index\n",
    "injuries_values = cessna_make_data['Total.Injuries'].sort_values(ascending=False).values\n",
    "injuries_index = cessna_make_data['Total.Injuries'].sort_values(ascending=False).index\n",
    "\n",
    "# Filter for engine type\n",
    "engine_values = cessna_make_data.loc[injuries_index, 'Engine.Type'].values\n",
    "\n",
    "# Plot bar graph\n",
    "fig, ax = plt.subplots(figsize = (12,8))\n",
    "\n",
    "sns.barplot(x=engine_values, y=injuries_values, data = ad_7)\n",
    "ax.set_xlabel(\"Engine Type\")\n",
    "ax.set_ylabel(\"Total Injuries\")\n",
    "ax.set_title(\"Engine Type vs Total Injuries for Cessna Planes\")\n",
    "plt.xticks(rotation=90)\n",
    "plt.show();"
   ]
  },
  {
   "cell_type": "markdown",
   "id": "a062062c-1c2a-412a-b058-a46c02f885cf",
   "metadata": {},
   "source": [
    "<br> We can see that numerically, the Reciprocating engine yields percentages in the 90's for lower total injury counts (0-6)"
   ]
  },
  {
   "cell_type": "code",
   "execution_count": 58,
   "id": "a52f3504-0ecb-4848-9f5d-8f23349c00a7",
   "metadata": {},
   "outputs": [
    {
     "data": {
      "text/html": [
       "<div>\n",
       "<style scoped>\n",
       "    .dataframe tbody tr th:only-of-type {\n",
       "        vertical-align: middle;\n",
       "    }\n",
       "\n",
       "    .dataframe tbody tr th {\n",
       "        vertical-align: top;\n",
       "    }\n",
       "\n",
       "    .dataframe thead th {\n",
       "        text-align: right;\n",
       "    }\n",
       "</style>\n",
       "<table border=\"1\" class=\"dataframe\">\n",
       "  <thead>\n",
       "    <tr style=\"text-align: right;\">\n",
       "      <th>Engine.Type</th>\n",
       "      <th>reciprocating</th>\n",
       "      <th>turbo fan</th>\n",
       "      <th>turbo jet</th>\n",
       "      <th>turbo prop</th>\n",
       "      <th>turbo shaft</th>\n",
       "    </tr>\n",
       "    <tr>\n",
       "      <th>Total.Injuries</th>\n",
       "      <th></th>\n",
       "      <th></th>\n",
       "      <th></th>\n",
       "      <th></th>\n",
       "      <th></th>\n",
       "    </tr>\n",
       "  </thead>\n",
       "  <tbody>\n",
       "    <tr>\n",
       "      <th>0</th>\n",
       "      <td>98.156817</td>\n",
       "      <td>0.782621</td>\n",
       "      <td>0.102399</td>\n",
       "      <td>0.782621</td>\n",
       "      <td>0.175541</td>\n",
       "    </tr>\n",
       "    <tr>\n",
       "      <th>1</th>\n",
       "      <td>97.467189</td>\n",
       "      <td>0.414460</td>\n",
       "      <td>0.138153</td>\n",
       "      <td>1.680866</td>\n",
       "      <td>0.299332</td>\n",
       "    </tr>\n",
       "    <tr>\n",
       "      <th>2</th>\n",
       "      <td>97.918835</td>\n",
       "      <td>0.693722</td>\n",
       "      <td>0.208117</td>\n",
       "      <td>0.971211</td>\n",
       "      <td>0.208117</td>\n",
       "    </tr>\n",
       "    <tr>\n",
       "      <th>3</th>\n",
       "      <td>96.376812</td>\n",
       "      <td>0.966184</td>\n",
       "      <td>0.120773</td>\n",
       "      <td>1.811594</td>\n",
       "      <td>0.724638</td>\n",
       "    </tr>\n",
       "    <tr>\n",
       "      <th>4</th>\n",
       "      <td>97.063369</td>\n",
       "      <td>1.545595</td>\n",
       "      <td>0.309119</td>\n",
       "      <td>0.772798</td>\n",
       "      <td>0.309119</td>\n",
       "    </tr>\n",
       "    <tr>\n",
       "      <th>5</th>\n",
       "      <td>92.222222</td>\n",
       "      <td>1.111111</td>\n",
       "      <td>1.666667</td>\n",
       "      <td>4.444444</td>\n",
       "      <td>0.555556</td>\n",
       "    </tr>\n",
       "    <tr>\n",
       "      <th>6</th>\n",
       "      <td>92.000000</td>\n",
       "      <td>1.000000</td>\n",
       "      <td>1.000000</td>\n",
       "      <td>4.000000</td>\n",
       "      <td>2.000000</td>\n",
       "    </tr>\n",
       "    <tr>\n",
       "      <th>7</th>\n",
       "      <td>86.666667</td>\n",
       "      <td>2.222222</td>\n",
       "      <td>2.222222</td>\n",
       "      <td>8.888889</td>\n",
       "      <td>NaN</td>\n",
       "    </tr>\n",
       "    <tr>\n",
       "      <th>8</th>\n",
       "      <td>87.500000</td>\n",
       "      <td>4.166667</td>\n",
       "      <td>NaN</td>\n",
       "      <td>8.333333</td>\n",
       "      <td>NaN</td>\n",
       "    </tr>\n",
       "    <tr>\n",
       "      <th>9</th>\n",
       "      <td>63.636364</td>\n",
       "      <td>NaN</td>\n",
       "      <td>9.090909</td>\n",
       "      <td>27.272727</td>\n",
       "      <td>NaN</td>\n",
       "    </tr>\n",
       "    <tr>\n",
       "      <th>10</th>\n",
       "      <td>63.636364</td>\n",
       "      <td>9.090909</td>\n",
       "      <td>NaN</td>\n",
       "      <td>27.272727</td>\n",
       "      <td>NaN</td>\n",
       "    </tr>\n",
       "    <tr>\n",
       "      <th>11</th>\n",
       "      <td>80.000000</td>\n",
       "      <td>20.000000</td>\n",
       "      <td>NaN</td>\n",
       "      <td>NaN</td>\n",
       "      <td>NaN</td>\n",
       "    </tr>\n",
       "    <tr>\n",
       "      <th>12</th>\n",
       "      <td>75.000000</td>\n",
       "      <td>NaN</td>\n",
       "      <td>NaN</td>\n",
       "      <td>25.000000</td>\n",
       "      <td>NaN</td>\n",
       "    </tr>\n",
       "    <tr>\n",
       "      <th>13</th>\n",
       "      <td>100.000000</td>\n",
       "      <td>NaN</td>\n",
       "      <td>NaN</td>\n",
       "      <td>NaN</td>\n",
       "      <td>NaN</td>\n",
       "    </tr>\n",
       "    <tr>\n",
       "      <th>14</th>\n",
       "      <td>50.000000</td>\n",
       "      <td>NaN</td>\n",
       "      <td>NaN</td>\n",
       "      <td>25.000000</td>\n",
       "      <td>25.000000</td>\n",
       "    </tr>\n",
       "    <tr>\n",
       "      <th>15</th>\n",
       "      <td>100.000000</td>\n",
       "      <td>NaN</td>\n",
       "      <td>NaN</td>\n",
       "      <td>NaN</td>\n",
       "      <td>NaN</td>\n",
       "    </tr>\n",
       "    <tr>\n",
       "      <th>16</th>\n",
       "      <td>100.000000</td>\n",
       "      <td>NaN</td>\n",
       "      <td>NaN</td>\n",
       "      <td>NaN</td>\n",
       "      <td>NaN</td>\n",
       "    </tr>\n",
       "  </tbody>\n",
       "</table>\n",
       "</div>"
      ],
      "text/plain": [
       "Engine.Type     reciprocating  turbo fan  turbo jet  turbo prop  turbo shaft\n",
       "Total.Injuries                                                              \n",
       "0                   98.156817   0.782621   0.102399    0.782621     0.175541\n",
       "1                   97.467189   0.414460   0.138153    1.680866     0.299332\n",
       "2                   97.918835   0.693722   0.208117    0.971211     0.208117\n",
       "3                   96.376812   0.966184   0.120773    1.811594     0.724638\n",
       "4                   97.063369   1.545595   0.309119    0.772798     0.309119\n",
       "5                   92.222222   1.111111   1.666667    4.444444     0.555556\n",
       "6                   92.000000   1.000000   1.000000    4.000000     2.000000\n",
       "7                   86.666667   2.222222   2.222222    8.888889          NaN\n",
       "8                   87.500000   4.166667        NaN    8.333333          NaN\n",
       "9                   63.636364        NaN   9.090909   27.272727          NaN\n",
       "10                  63.636364   9.090909        NaN   27.272727          NaN\n",
       "11                  80.000000  20.000000        NaN         NaN          NaN\n",
       "12                  75.000000        NaN        NaN   25.000000          NaN\n",
       "13                 100.000000        NaN        NaN         NaN          NaN\n",
       "14                  50.000000        NaN        NaN   25.000000    25.000000\n",
       "15                 100.000000        NaN        NaN         NaN          NaN\n",
       "16                 100.000000        NaN        NaN         NaN          NaN"
      ]
     },
     "execution_count": 58,
     "metadata": {},
     "output_type": "execute_result"
    }
   ],
   "source": [
    "# Engine type distribution within total injuries \n",
    "cessna_make_data.groupby(by=['Total.Injuries','Engine.Type']).size().unstack().apply(lambda x: x / x.sum(), axis=1) * 100"
   ]
  },
  {
   "cell_type": "markdown",
   "id": "f49d7df4-c0cc-499d-a49a-8afe9a28c11a",
   "metadata": {},
   "source": [
    "### `Weather.Condition` & `Location` vs `Injury Severity`"
   ]
  },
  {
   "cell_type": "code",
   "execution_count": null,
   "id": "bdce57d3-1019-47f1-b9ef-420cfc6dfce0",
   "metadata": {},
   "outputs": [],
   "source": [
    "\n",
    "\n",
    "# Plot\n",
    "plt.figure(figsize=(10, 8))\n",
    "sns.swarmplot(x='Location', y='Weather.Condition', hue='Injury.Severity', data=ad_7, palette='viridis', size=8)\n",
    "plt.title('Accidents by Location, Weather Condition, and Injury Severity')\n",
    "plt.xlabel('Location')\n",
    "plt.ylabel('Weather Condition')\n",
    "plt.legend(title='Injury Severity', bbox_to_anchor=(1.05, 1), loc='upper left')\n"
   ]
  },
  {
   "cell_type": "markdown",
   "id": "4c0129cc-d2da-448f-bf9f-aa1f80ac1524",
   "metadata": {},
   "source": [
    "## 4. Conclusion & Recommendations\n",
    "\n",
    "**Aircraft Make**\n",
    "\n"
   ]
  }
 ],
 "metadata": {
  "kernelspec": {
   "display_name": "Python (learn-env-lite-2)",
   "language": "python",
   "name": "learn-env-lite-2"
  },
  "language_info": {
   "codemirror_mode": {
    "name": "ipython",
    "version": 3
   },
   "file_extension": ".py",
   "mimetype": "text/x-python",
   "name": "python",
   "nbconvert_exporter": "python",
   "pygments_lexer": "ipython3",
   "version": "3.8.5"
  }
 },
 "nbformat": 4,
 "nbformat_minor": 5
}
