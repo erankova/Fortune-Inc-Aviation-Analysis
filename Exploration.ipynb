{
 "cells": [
  {
   "cell_type": "markdown",
   "id": "11b1db10-9d78-45b8-8215-14a6c15841ad",
   "metadata": {},
   "source": [
    "# Aviation Exploration [placeholder title]"
   ]
  },
  {
   "cell_type": "markdown",
   "id": "91b30bce-0a40-4978-b16b-69afb66677fe",
   "metadata": {},
   "source": [
    "## Goals"
   ]
  },
  {
   "cell_type": "markdown",
   "id": "f259446d-1612-43ee-8833-8feddb239f3a",
   "metadata": {},
   "source": [
    "#### Business Problem\n",
    "Your company is expanding in to new industries to diversify its portfolio. Specifically, they are interested in purchasing and operating airplanes for commercial and private enterprises, but do not know anything about the potential risks of aircraft. You are charged with determining which aircraft are the lowest risk for the company to start this new business endeavor. You must then translate your findings into actionable insights that the head of the new aviation division can use to help decide which aircraft to purchase."
   ]
  },
  {
   "cell_type": "code",
   "execution_count": 1,
   "id": "987cdb5a-9e9d-4a9c-a731-1175766074fd",
   "metadata": {
    "collapsed": true,
    "jupyter": {
     "outputs_hidden": true
    }
   },
   "outputs": [],
   "source": [
    "# All imports\n",
    "# reminder to add ignore warning code at the end\n",
    "\n",
    "import pandas as pd\n",
    "import matplotlib.pyplot as plt\n",
    "import numpy as np\n",
    "import seaborn as sns"
   ]
  },
  {
   "cell_type": "markdown",
   "id": "5961d4aa-60d6-4c55-abff-36d84dc5277b",
   "metadata": {},
   "source": [
    "## Data"
   ]
  },
  {
   "cell_type": "code",
   "execution_count": 2,
   "id": "5bc30537-c58e-4f3a-843a-715f7b2a3962",
   "metadata": {
    "collapsed": true,
    "jupyter": {
     "outputs_hidden": true
    }
   },
   "outputs": [],
   "source": [
    "# Open data file\n",
    "\n",
    "# Had to specify encoding 'latin-1' for file to load\n",
    "# Setting low_memory=False in the read_csv function will force pandas to read the entire file at once, \n",
    "# which can help with inferring the correct data types. \n",
    "\n",
    "ad = pd.read_csv('Data/AviationData.csv', encoding='latin-1', low_memory=False)"
   ]
  },
  {
   "cell_type": "markdown",
   "id": "de22c016-73ea-4667-bf99-dcd5d37abbdd",
   "metadata": {},
   "source": [
    "### Initial Exploration"
   ]
  },
  {
   "cell_type": "code",
   "execution_count": 3,
   "id": "0487e12a-3999-458d-8a64-d3dc26f49c74",
   "metadata": {
    "collapsed": true,
    "jupyter": {
     "outputs_hidden": true
    }
   },
   "outputs": [
    {
     "name": "stdout",
     "output_type": "stream",
     "text": [
      "<class 'pandas.core.frame.DataFrame'>\n",
      "RangeIndex: 88889 entries, 0 to 88888\n",
      "Data columns (total 31 columns):\n",
      " #   Column                  Non-Null Count  Dtype  \n",
      "---  ------                  --------------  -----  \n",
      " 0   Event.Id                88889 non-null  object \n",
      " 1   Investigation.Type      88889 non-null  object \n",
      " 2   Accident.Number         88889 non-null  object \n",
      " 3   Event.Date              88889 non-null  object \n",
      " 4   Location                88837 non-null  object \n",
      " 5   Country                 88663 non-null  object \n",
      " 6   Latitude                34382 non-null  object \n",
      " 7   Longitude               34373 non-null  object \n",
      " 8   Airport.Code            50249 non-null  object \n",
      " 9   Airport.Name            52790 non-null  object \n",
      " 10  Injury.Severity         87889 non-null  object \n",
      " 11  Aircraft.damage         85695 non-null  object \n",
      " 12  Aircraft.Category       32287 non-null  object \n",
      " 13  Registration.Number     87572 non-null  object \n",
      " 14  Make                    88826 non-null  object \n",
      " 15  Model                   88797 non-null  object \n",
      " 16  Amateur.Built           88787 non-null  object \n",
      " 17  Number.of.Engines       82805 non-null  float64\n",
      " 18  Engine.Type             81812 non-null  object \n",
      " 19  FAR.Description         32023 non-null  object \n",
      " 20  Schedule                12582 non-null  object \n",
      " 21  Purpose.of.flight       82697 non-null  object \n",
      " 22  Air.carrier             16648 non-null  object \n",
      " 23  Total.Fatal.Injuries    77488 non-null  float64\n",
      " 24  Total.Serious.Injuries  76379 non-null  float64\n",
      " 25  Total.Minor.Injuries    76956 non-null  float64\n",
      " 26  Total.Uninjured         82977 non-null  float64\n",
      " 27  Weather.Condition       84397 non-null  object \n",
      " 28  Broad.phase.of.flight   61724 non-null  object \n",
      " 29  Report.Status           82508 non-null  object \n",
      " 30  Publication.Date        75118 non-null  object \n",
      "dtypes: float64(5), object(26)\n",
      "memory usage: 21.0+ MB\n"
     ]
    }
   ],
   "source": [
    "# Get initial info\n",
    "\n",
    "ad.info()"
   ]
  },
  {
   "cell_type": "code",
   "execution_count": 4,
   "id": "86c703e2-8b29-4882-a3c1-5190b7a58d48",
   "metadata": {
    "collapsed": true,
    "jupyter": {
     "outputs_hidden": true
    }
   },
   "outputs": [
    {
     "data": {
      "text/html": [
       "<div>\n",
       "<style scoped>\n",
       "    .dataframe tbody tr th:only-of-type {\n",
       "        vertical-align: middle;\n",
       "    }\n",
       "\n",
       "    .dataframe tbody tr th {\n",
       "        vertical-align: top;\n",
       "    }\n",
       "\n",
       "    .dataframe thead th {\n",
       "        text-align: right;\n",
       "    }\n",
       "</style>\n",
       "<table border=\"1\" class=\"dataframe\">\n",
       "  <thead>\n",
       "    <tr style=\"text-align: right;\">\n",
       "      <th></th>\n",
       "      <th>Number.of.Engines</th>\n",
       "      <th>Total.Fatal.Injuries</th>\n",
       "      <th>Total.Serious.Injuries</th>\n",
       "      <th>Total.Minor.Injuries</th>\n",
       "      <th>Total.Uninjured</th>\n",
       "    </tr>\n",
       "  </thead>\n",
       "  <tbody>\n",
       "    <tr>\n",
       "      <th>count</th>\n",
       "      <td>82805.000000</td>\n",
       "      <td>77488.000000</td>\n",
       "      <td>76379.000000</td>\n",
       "      <td>76956.000000</td>\n",
       "      <td>82977.000000</td>\n",
       "    </tr>\n",
       "    <tr>\n",
       "      <th>mean</th>\n",
       "      <td>1.146585</td>\n",
       "      <td>0.647855</td>\n",
       "      <td>0.279881</td>\n",
       "      <td>0.357061</td>\n",
       "      <td>5.325440</td>\n",
       "    </tr>\n",
       "    <tr>\n",
       "      <th>std</th>\n",
       "      <td>0.446510</td>\n",
       "      <td>5.485960</td>\n",
       "      <td>1.544084</td>\n",
       "      <td>2.235625</td>\n",
       "      <td>27.913634</td>\n",
       "    </tr>\n",
       "    <tr>\n",
       "      <th>min</th>\n",
       "      <td>0.000000</td>\n",
       "      <td>0.000000</td>\n",
       "      <td>0.000000</td>\n",
       "      <td>0.000000</td>\n",
       "      <td>0.000000</td>\n",
       "    </tr>\n",
       "    <tr>\n",
       "      <th>25%</th>\n",
       "      <td>1.000000</td>\n",
       "      <td>0.000000</td>\n",
       "      <td>0.000000</td>\n",
       "      <td>0.000000</td>\n",
       "      <td>0.000000</td>\n",
       "    </tr>\n",
       "    <tr>\n",
       "      <th>50%</th>\n",
       "      <td>1.000000</td>\n",
       "      <td>0.000000</td>\n",
       "      <td>0.000000</td>\n",
       "      <td>0.000000</td>\n",
       "      <td>1.000000</td>\n",
       "    </tr>\n",
       "    <tr>\n",
       "      <th>75%</th>\n",
       "      <td>1.000000</td>\n",
       "      <td>0.000000</td>\n",
       "      <td>0.000000</td>\n",
       "      <td>0.000000</td>\n",
       "      <td>2.000000</td>\n",
       "    </tr>\n",
       "    <tr>\n",
       "      <th>max</th>\n",
       "      <td>8.000000</td>\n",
       "      <td>349.000000</td>\n",
       "      <td>161.000000</td>\n",
       "      <td>380.000000</td>\n",
       "      <td>699.000000</td>\n",
       "    </tr>\n",
       "  </tbody>\n",
       "</table>\n",
       "</div>"
      ],
      "text/plain": [
       "       Number.of.Engines  Total.Fatal.Injuries  Total.Serious.Injuries  \\\n",
       "count       82805.000000          77488.000000            76379.000000   \n",
       "mean            1.146585              0.647855                0.279881   \n",
       "std             0.446510              5.485960                1.544084   \n",
       "min             0.000000              0.000000                0.000000   \n",
       "25%             1.000000              0.000000                0.000000   \n",
       "50%             1.000000              0.000000                0.000000   \n",
       "75%             1.000000              0.000000                0.000000   \n",
       "max             8.000000            349.000000              161.000000   \n",
       "\n",
       "       Total.Minor.Injuries  Total.Uninjured  \n",
       "count          76956.000000     82977.000000  \n",
       "mean               0.357061         5.325440  \n",
       "std                2.235625        27.913634  \n",
       "min                0.000000         0.000000  \n",
       "25%                0.000000         0.000000  \n",
       "50%                0.000000         1.000000  \n",
       "75%                0.000000         2.000000  \n",
       "max              380.000000       699.000000  "
      ]
     },
     "execution_count": 4,
     "metadata": {},
     "output_type": "execute_result"
    }
   ],
   "source": [
    "ad.describe()"
   ]
  },
  {
   "cell_type": "code",
   "execution_count": 5,
   "id": "e702baf8-c0e9-4220-ab99-9885a926cb4e",
   "metadata": {
    "collapsed": true,
    "jupyter": {
     "outputs_hidden": true
    }
   },
   "outputs": [
    {
     "data": {
      "text/html": [
       "<div>\n",
       "<style scoped>\n",
       "    .dataframe tbody tr th:only-of-type {\n",
       "        vertical-align: middle;\n",
       "    }\n",
       "\n",
       "    .dataframe tbody tr th {\n",
       "        vertical-align: top;\n",
       "    }\n",
       "\n",
       "    .dataframe thead th {\n",
       "        text-align: right;\n",
       "    }\n",
       "</style>\n",
       "<table border=\"1\" class=\"dataframe\">\n",
       "  <thead>\n",
       "    <tr style=\"text-align: right;\">\n",
       "      <th></th>\n",
       "      <th>Event.Id</th>\n",
       "      <th>Investigation.Type</th>\n",
       "      <th>Accident.Number</th>\n",
       "      <th>Event.Date</th>\n",
       "      <th>Location</th>\n",
       "      <th>Country</th>\n",
       "      <th>Latitude</th>\n",
       "      <th>Longitude</th>\n",
       "      <th>Airport.Code</th>\n",
       "      <th>Airport.Name</th>\n",
       "      <th>...</th>\n",
       "      <th>Purpose.of.flight</th>\n",
       "      <th>Air.carrier</th>\n",
       "      <th>Total.Fatal.Injuries</th>\n",
       "      <th>Total.Serious.Injuries</th>\n",
       "      <th>Total.Minor.Injuries</th>\n",
       "      <th>Total.Uninjured</th>\n",
       "      <th>Weather.Condition</th>\n",
       "      <th>Broad.phase.of.flight</th>\n",
       "      <th>Report.Status</th>\n",
       "      <th>Publication.Date</th>\n",
       "    </tr>\n",
       "  </thead>\n",
       "  <tbody>\n",
       "    <tr>\n",
       "      <th>80953</th>\n",
       "      <td>20171205X52428</td>\n",
       "      <td>Accident</td>\n",
       "      <td>ERA18LA041</td>\n",
       "      <td>2017-12-05</td>\n",
       "      <td>Brewton, AL</td>\n",
       "      <td>United States</td>\n",
       "      <td>031039N</td>\n",
       "      <td>0087214W</td>\n",
       "      <td>NaN</td>\n",
       "      <td>NaN</td>\n",
       "      <td>...</td>\n",
       "      <td>Personal</td>\n",
       "      <td>NaN</td>\n",
       "      <td>0.0</td>\n",
       "      <td>0.0</td>\n",
       "      <td>0.0</td>\n",
       "      <td>2.0</td>\n",
       "      <td>VMC</td>\n",
       "      <td>NaN</td>\n",
       "      <td>The pilot's inadequate fuel management, which ...</td>\n",
       "      <td>25-09-2020</td>\n",
       "    </tr>\n",
       "    <tr>\n",
       "      <th>4240</th>\n",
       "      <td>20001214X42508</td>\n",
       "      <td>Accident</td>\n",
       "      <td>LAX83LA168</td>\n",
       "      <td>1983-03-29</td>\n",
       "      <td>GLENDALE, AZ</td>\n",
       "      <td>United States</td>\n",
       "      <td>NaN</td>\n",
       "      <td>NaN</td>\n",
       "      <td>P37</td>\n",
       "      <td>GLENDALE</td>\n",
       "      <td>...</td>\n",
       "      <td>Personal</td>\n",
       "      <td>NaN</td>\n",
       "      <td>0.0</td>\n",
       "      <td>0.0</td>\n",
       "      <td>0.0</td>\n",
       "      <td>3.0</td>\n",
       "      <td>VMC</td>\n",
       "      <td>Takeoff</td>\n",
       "      <td>Probable Cause</td>\n",
       "      <td>NaN</td>\n",
       "    </tr>\n",
       "    <tr>\n",
       "      <th>25838</th>\n",
       "      <td>20001212X23366</td>\n",
       "      <td>Accident</td>\n",
       "      <td>CHI90LA158</td>\n",
       "      <td>1990-06-22</td>\n",
       "      <td>MORAINE, OH</td>\n",
       "      <td>United States</td>\n",
       "      <td>NaN</td>\n",
       "      <td>NaN</td>\n",
       "      <td>I73</td>\n",
       "      <td>MORAINE AIRPART</td>\n",
       "      <td>...</td>\n",
       "      <td>Personal</td>\n",
       "      <td>NaN</td>\n",
       "      <td>0.0</td>\n",
       "      <td>0.0</td>\n",
       "      <td>0.0</td>\n",
       "      <td>2.0</td>\n",
       "      <td>IMC</td>\n",
       "      <td>Approach</td>\n",
       "      <td>Probable Cause</td>\n",
       "      <td>28-09-1992</td>\n",
       "    </tr>\n",
       "    <tr>\n",
       "      <th>35318</th>\n",
       "      <td>20001206X01467</td>\n",
       "      <td>Accident</td>\n",
       "      <td>BFO94LA107</td>\n",
       "      <td>1994-06-18</td>\n",
       "      <td>FOREST HILL, MD</td>\n",
       "      <td>United States</td>\n",
       "      <td>NaN</td>\n",
       "      <td>NaN</td>\n",
       "      <td>NaN</td>\n",
       "      <td>NaN</td>\n",
       "      <td>...</td>\n",
       "      <td>Personal</td>\n",
       "      <td>NaN</td>\n",
       "      <td>0.0</td>\n",
       "      <td>0.0</td>\n",
       "      <td>0.0</td>\n",
       "      <td>2.0</td>\n",
       "      <td>VMC</td>\n",
       "      <td>Climb</td>\n",
       "      <td>Probable Cause</td>\n",
       "      <td>13-03-1995</td>\n",
       "    </tr>\n",
       "    <tr>\n",
       "      <th>21503</th>\n",
       "      <td>20001213X26908</td>\n",
       "      <td>Accident</td>\n",
       "      <td>NYC88FA238</td>\n",
       "      <td>1988-09-21</td>\n",
       "      <td>ALBANY, NY</td>\n",
       "      <td>United States</td>\n",
       "      <td>NaN</td>\n",
       "      <td>NaN</td>\n",
       "      <td>ALB</td>\n",
       "      <td>ALBANY COUNTY</td>\n",
       "      <td>...</td>\n",
       "      <td>Unknown</td>\n",
       "      <td>Pan Am Express (dba: Pan Am Express)</td>\n",
       "      <td>0.0</td>\n",
       "      <td>1.0</td>\n",
       "      <td>2.0</td>\n",
       "      <td>12.0</td>\n",
       "      <td>VMC</td>\n",
       "      <td>Cruise</td>\n",
       "      <td>Probable Cause</td>\n",
       "      <td>24-01-1990</td>\n",
       "    </tr>\n",
       "    <tr>\n",
       "      <th>54833</th>\n",
       "      <td>20030618X00907</td>\n",
       "      <td>Accident</td>\n",
       "      <td>CHI03LA164</td>\n",
       "      <td>2003-06-13</td>\n",
       "      <td>MAGNOLIA, AR</td>\n",
       "      <td>United States</td>\n",
       "      <td>33.244722</td>\n",
       "      <td>-93.216945</td>\n",
       "      <td>AGO</td>\n",
       "      <td>Magnolia Municpal Airport</td>\n",
       "      <td>...</td>\n",
       "      <td>Personal</td>\n",
       "      <td>NaN</td>\n",
       "      <td>NaN</td>\n",
       "      <td>NaN</td>\n",
       "      <td>NaN</td>\n",
       "      <td>2.0</td>\n",
       "      <td>VMC</td>\n",
       "      <td>Landing</td>\n",
       "      <td>Probable Cause</td>\n",
       "      <td>30-03-2004</td>\n",
       "    </tr>\n",
       "    <tr>\n",
       "      <th>72248</th>\n",
       "      <td>20120724X74125</td>\n",
       "      <td>Accident</td>\n",
       "      <td>ERA12LA474</td>\n",
       "      <td>2012-07-23</td>\n",
       "      <td>Westerly, RI</td>\n",
       "      <td>United States</td>\n",
       "      <td>041173N</td>\n",
       "      <td>0071402W</td>\n",
       "      <td>NaN</td>\n",
       "      <td>NaN</td>\n",
       "      <td>...</td>\n",
       "      <td>Banner Tow</td>\n",
       "      <td>SIMMONS AVIATION SERVICES</td>\n",
       "      <td>0.0</td>\n",
       "      <td>1.0</td>\n",
       "      <td>0.0</td>\n",
       "      <td>0.0</td>\n",
       "      <td>VMC</td>\n",
       "      <td>NaN</td>\n",
       "      <td>A total loss of engine power for reasons that ...</td>\n",
       "      <td>25-09-2020</td>\n",
       "    </tr>\n",
       "    <tr>\n",
       "      <th>80807</th>\n",
       "      <td>20171026X00846</td>\n",
       "      <td>Accident</td>\n",
       "      <td>GAA18CA029</td>\n",
       "      <td>2017-10-26</td>\n",
       "      <td>Mabton, WA</td>\n",
       "      <td>United States</td>\n",
       "      <td>461126N</td>\n",
       "      <td>1195631W</td>\n",
       "      <td>NaN</td>\n",
       "      <td>NaN</td>\n",
       "      <td>...</td>\n",
       "      <td>Instructional</td>\n",
       "      <td>NaN</td>\n",
       "      <td>0.0</td>\n",
       "      <td>1.0</td>\n",
       "      <td>1.0</td>\n",
       "      <td>0.0</td>\n",
       "      <td>VMC</td>\n",
       "      <td>NaN</td>\n",
       "      <td>The pilots failure to see and avoid transmiss...</td>\n",
       "      <td>25-09-2020</td>\n",
       "    </tr>\n",
       "    <tr>\n",
       "      <th>19979</th>\n",
       "      <td>20001213X25557</td>\n",
       "      <td>Accident</td>\n",
       "      <td>NYC88LA124</td>\n",
       "      <td>1988-04-02</td>\n",
       "      <td>WARWICK, NY</td>\n",
       "      <td>United States</td>\n",
       "      <td>NaN</td>\n",
       "      <td>NaN</td>\n",
       "      <td>N72</td>\n",
       "      <td>WARWICK</td>\n",
       "      <td>...</td>\n",
       "      <td>Personal</td>\n",
       "      <td>NaN</td>\n",
       "      <td>0.0</td>\n",
       "      <td>0.0</td>\n",
       "      <td>0.0</td>\n",
       "      <td>1.0</td>\n",
       "      <td>VMC</td>\n",
       "      <td>Landing</td>\n",
       "      <td>Probable Cause</td>\n",
       "      <td>24-11-1989</td>\n",
       "    </tr>\n",
       "    <tr>\n",
       "      <th>85618</th>\n",
       "      <td>20210713103472</td>\n",
       "      <td>Accident</td>\n",
       "      <td>GAA21WA173</td>\n",
       "      <td>2020-11-17</td>\n",
       "      <td>Open Door, OF</td>\n",
       "      <td>Argentina</td>\n",
       "      <td>NaN</td>\n",
       "      <td>NaN</td>\n",
       "      <td>NaN</td>\n",
       "      <td>NaN</td>\n",
       "      <td>...</td>\n",
       "      <td>Instructional</td>\n",
       "      <td>NaN</td>\n",
       "      <td>2.0</td>\n",
       "      <td>0.0</td>\n",
       "      <td>0.0</td>\n",
       "      <td>0.0</td>\n",
       "      <td>NaN</td>\n",
       "      <td>NaN</td>\n",
       "      <td>NaN</td>\n",
       "      <td>NaN</td>\n",
       "    </tr>\n",
       "  </tbody>\n",
       "</table>\n",
       "<p>10 rows × 31 columns</p>\n",
       "</div>"
      ],
      "text/plain": [
       "             Event.Id Investigation.Type Accident.Number  Event.Date  \\\n",
       "80953  20171205X52428           Accident      ERA18LA041  2017-12-05   \n",
       "4240   20001214X42508           Accident      LAX83LA168  1983-03-29   \n",
       "25838  20001212X23366           Accident      CHI90LA158  1990-06-22   \n",
       "35318  20001206X01467           Accident      BFO94LA107  1994-06-18   \n",
       "21503  20001213X26908           Accident      NYC88FA238  1988-09-21   \n",
       "54833  20030618X00907           Accident      CHI03LA164  2003-06-13   \n",
       "72248  20120724X74125           Accident      ERA12LA474  2012-07-23   \n",
       "80807  20171026X00846           Accident      GAA18CA029  2017-10-26   \n",
       "19979  20001213X25557           Accident      NYC88LA124  1988-04-02   \n",
       "85618  20210713103472           Accident      GAA21WA173  2020-11-17   \n",
       "\n",
       "              Location        Country   Latitude   Longitude Airport.Code  \\\n",
       "80953      Brewton, AL  United States    031039N    0087214W          NaN   \n",
       "4240      GLENDALE, AZ  United States        NaN         NaN          P37   \n",
       "25838      MORAINE, OH  United States        NaN         NaN          I73   \n",
       "35318  FOREST HILL, MD  United States        NaN         NaN          NaN   \n",
       "21503       ALBANY, NY  United States        NaN         NaN          ALB   \n",
       "54833     MAGNOLIA, AR  United States  33.244722  -93.216945          AGO   \n",
       "72248     Westerly, RI  United States    041173N    0071402W          NaN   \n",
       "80807       Mabton, WA  United States    461126N    1195631W          NaN   \n",
       "19979      WARWICK, NY  United States        NaN         NaN          N72   \n",
       "85618    Open Door, OF      Argentina        NaN         NaN          NaN   \n",
       "\n",
       "                    Airport.Name  ... Purpose.of.flight  \\\n",
       "80953                        NaN  ...          Personal   \n",
       "4240                    GLENDALE  ...          Personal   \n",
       "25838            MORAINE AIRPART  ...          Personal   \n",
       "35318                        NaN  ...          Personal   \n",
       "21503              ALBANY COUNTY  ...           Unknown   \n",
       "54833  Magnolia Municpal Airport  ...          Personal   \n",
       "72248                        NaN  ...        Banner Tow   \n",
       "80807                        NaN  ...     Instructional   \n",
       "19979                    WARWICK  ...          Personal   \n",
       "85618                        NaN  ...     Instructional   \n",
       "\n",
       "                                Air.carrier Total.Fatal.Injuries  \\\n",
       "80953                                   NaN                  0.0   \n",
       "4240                                    NaN                  0.0   \n",
       "25838                                   NaN                  0.0   \n",
       "35318                                   NaN                  0.0   \n",
       "21503  Pan Am Express (dba: Pan Am Express)                  0.0   \n",
       "54833                                   NaN                  NaN   \n",
       "72248             SIMMONS AVIATION SERVICES                  0.0   \n",
       "80807                                   NaN                  0.0   \n",
       "19979                                   NaN                  0.0   \n",
       "85618                                   NaN                  2.0   \n",
       "\n",
       "      Total.Serious.Injuries Total.Minor.Injuries Total.Uninjured  \\\n",
       "80953                    0.0                  0.0             2.0   \n",
       "4240                     0.0                  0.0             3.0   \n",
       "25838                    0.0                  0.0             2.0   \n",
       "35318                    0.0                  0.0             2.0   \n",
       "21503                    1.0                  2.0            12.0   \n",
       "54833                    NaN                  NaN             2.0   \n",
       "72248                    1.0                  0.0             0.0   \n",
       "80807                    1.0                  1.0             0.0   \n",
       "19979                    0.0                  0.0             1.0   \n",
       "85618                    0.0                  0.0             0.0   \n",
       "\n",
       "      Weather.Condition  Broad.phase.of.flight  \\\n",
       "80953               VMC                    NaN   \n",
       "4240                VMC                Takeoff   \n",
       "25838               IMC               Approach   \n",
       "35318               VMC                  Climb   \n",
       "21503               VMC                 Cruise   \n",
       "54833               VMC                Landing   \n",
       "72248               VMC                    NaN   \n",
       "80807               VMC                    NaN   \n",
       "19979               VMC                Landing   \n",
       "85618               NaN                    NaN   \n",
       "\n",
       "                                           Report.Status Publication.Date  \n",
       "80953  The pilot's inadequate fuel management, which ...       25-09-2020  \n",
       "4240                                      Probable Cause              NaN  \n",
       "25838                                     Probable Cause       28-09-1992  \n",
       "35318                                     Probable Cause       13-03-1995  \n",
       "21503                                     Probable Cause       24-01-1990  \n",
       "54833                                     Probable Cause       30-03-2004  \n",
       "72248  A total loss of engine power for reasons that ...       25-09-2020  \n",
       "80807  The pilots failure to see and avoid transmiss...       25-09-2020  \n",
       "19979                                     Probable Cause       24-11-1989  \n",
       "85618                                                NaN              NaN  \n",
       "\n",
       "[10 rows x 31 columns]"
      ]
     },
     "execution_count": 5,
     "metadata": {},
     "output_type": "execute_result"
    }
   ],
   "source": [
    "ad.sample(n=10)"
   ]
  },
  {
   "cell_type": "markdown",
   "id": "371997c5-8d00-4c48-aa0f-a68e22034cd6",
   "metadata": {},
   "source": [
    "Initial observations:\n",
    "\n",
    "- 88888 rows and 31 columns\n",
    "- 5 floats and 26 objects\n",
    "- Column specifics denoted by a '.' followed by specification ('Airport.Code' & 'Airport.Name')\n",
    "- Columns may need to be adjusted to different dtype\n",
    "    - Event.Date -> date type\n",
    "    - Publication.Date -> date type\n",
    "- Columns may will need capitalization adjusted\n",
    "- Outliers in numerical columns"
   ]
  },
  {
   "cell_type": "code",
   "execution_count": 6,
   "id": "1e08243b-ab26-42e5-9d2a-95b8a941d54a",
   "metadata": {
    "collapsed": true,
    "jupyter": {
     "outputs_hidden": true
    }
   },
   "outputs": [
    {
     "data": {
      "text/plain": [
       "Event.Id                      0\n",
       "Investigation.Type            0\n",
       "Accident.Number               0\n",
       "Event.Date                    0\n",
       "Location                     52\n",
       "Country                     226\n",
       "Latitude                  54507\n",
       "Longitude                 54516\n",
       "Airport.Code              38640\n",
       "Airport.Name              36099\n",
       "Injury.Severity            1000\n",
       "Aircraft.damage            3194\n",
       "Aircraft.Category         56602\n",
       "Registration.Number        1317\n",
       "Make                         63\n",
       "Model                        92\n",
       "Amateur.Built               102\n",
       "Number.of.Engines          6084\n",
       "Engine.Type                7077\n",
       "FAR.Description           56866\n",
       "Schedule                  76307\n",
       "Purpose.of.flight          6192\n",
       "Air.carrier               72241\n",
       "Total.Fatal.Injuries      11401\n",
       "Total.Serious.Injuries    12510\n",
       "Total.Minor.Injuries      11933\n",
       "Total.Uninjured            5912\n",
       "Weather.Condition          4492\n",
       "Broad.phase.of.flight     27165\n",
       "Report.Status              6381\n",
       "Publication.Date          13771\n",
       "dtype: int64"
      ]
     },
     "execution_count": 6,
     "metadata": {},
     "output_type": "execute_result"
    }
   ],
   "source": [
    "# Assess the na\n",
    "\n",
    "ad.isna().sum()"
   ]
  },
  {
   "cell_type": "code",
   "execution_count": 7,
   "id": "067e8f53-dd98-472b-831e-0183ca526ac1",
   "metadata": {
    "collapsed": true,
    "jupyter": {
     "outputs_hidden": true
    }
   },
   "outputs": [
    {
     "data": {
      "text/plain": [
       "Event.Id                   0.000000\n",
       "Investigation.Type         0.000000\n",
       "Accident.Number            0.000000\n",
       "Event.Date                 0.000000\n",
       "Location                   0.058500\n",
       "Country                    0.254250\n",
       "Latitude                  61.320298\n",
       "Longitude                 61.330423\n",
       "Airport.Code              43.469946\n",
       "Airport.Name              40.611324\n",
       "Injury.Severity            1.124999\n",
       "Aircraft.damage            3.593246\n",
       "Aircraft.Category         63.677170\n",
       "Registration.Number        1.481623\n",
       "Make                       0.070875\n",
       "Model                      0.103500\n",
       "Amateur.Built              0.114750\n",
       "Number.of.Engines          6.844491\n",
       "Engine.Type                7.961615\n",
       "FAR.Description           63.974170\n",
       "Schedule                  85.845268\n",
       "Purpose.of.flight          6.965991\n",
       "Air.carrier               81.271023\n",
       "Total.Fatal.Injuries      12.826109\n",
       "Total.Serious.Injuries    14.073732\n",
       "Total.Minor.Injuries      13.424608\n",
       "Total.Uninjured            6.650992\n",
       "Weather.Condition          5.053494\n",
       "Broad.phase.of.flight     30.560587\n",
       "Report.Status              7.178616\n",
       "Publication.Date          15.492356\n",
       "dtype: float64"
      ]
     },
     "execution_count": 7,
     "metadata": {},
     "output_type": "execute_result"
    }
   ],
   "source": [
    "# Assess missingness by percentage\n",
    "\n",
    "ad.isna().sum()/len(ad)*100"
   ]
  },
  {
   "cell_type": "markdown",
   "id": "0e65046c-a958-42c1-aa87-ffd715696060",
   "metadata": {},
   "source": [
    "#### Initial thoughts"
   ]
  },
  {
   "cell_type": "markdown",
   "id": "b3bd622a-886b-4e14-bc3b-8fcd260543ac",
   "metadata": {},
   "source": [
    "- Might be able to create subset of injuries into one column\n",
    "Total.Fatal.Injuries      11401\n",
    "Total.Serious.Injuries    12510\n",
    "Total.Minor.Injuries      11933\n",
    "- Drop missing rows from\n",
    "    - Location\n",
    "    - Country\n",
    "    - Make\n",
    "    - Model\n",
    "    - Amateur.Built\n",
    "    - Injury.Severity\n",
    "- Columns to drop that do not contribute to insights regarding aircrafts \n",
    "    - Latitude\n",
    "    - Longitude\n",
    "    - Airport.Code & Airport.Name\n",
    "        - Cound include in Next Steps (which airports to focus on and pull separate data on that)\n",
    "    - Schedule\n",
    "    - Purpose.of.flight (is this something that can be helpful for next stage of business development?)\n",
    "- Create subset analysis\n",
    "    - Weather.Condition (how do aircrafts wheather in harsh conditions?)"
   ]
  },
  {
   "cell_type": "markdown",
   "id": "ab73305d-3ae3-4b14-9528-92f2c607c6ce",
   "metadata": {},
   "source": [
    "##### Explore columns before deciding how to handle\n",
    "- Aircraft.Category\n",
    "- Registration.Number\n",
    "- Number.of.Engins\n",
    "- Engin.Type\n",
    "- FAR.Description\n",
    "- Schedule\n",
    "- Air.Carrier\n",
    "- Broad.phase.of.flight\n",
    "- Report.Status\n",
    "- Publication.Date (vs Event.Date which has 0 na)"
   ]
  },
  {
   "cell_type": "markdown",
   "id": "54454e84-c064-41b4-ad3a-d5cb4a3ceeb6",
   "metadata": {},
   "source": [
    "#### Exploration of Column Values"
   ]
  },
  {
   "cell_type": "code",
   "execution_count": 135,
   "id": "d2e8b1c3-ba7d-496d-b069-bdcf991c9ed9",
   "metadata": {},
   "outputs": [
    {
     "data": {
      "text/plain": [
       "array([False, False, False, ..., False, False, False])"
      ]
     },
     "execution_count": 135,
     "metadata": {},
     "output_type": "execute_result"
    }
   ],
   "source": [
    "# More than one record can have the same accident number with different details\n",
    "\n",
    "ad['Event.Id'].value_counts()"
   ]
  },
  {
   "cell_type": "code",
   "execution_count": 9,
   "id": "2a5bff74-9a04-4ad9-a68a-fc663470f916",
   "metadata": {
    "collapsed": true,
    "jupyter": {
     "outputs_hidden": true
    }
   },
   "outputs": [
    {
     "data": {
      "text/plain": [
       "1984-06-30    25\n",
       "1982-05-16    25\n",
       "2000-07-08    25\n",
       "1983-08-05    24\n",
       "1984-08-25    24\n",
       "              ..\n",
       "2014-03-16     1\n",
       "2014-03-15     1\n",
       "2014-03-12     1\n",
       "2014-03-10     1\n",
       "2022-12-29     1\n",
       "Name: Event.Date, Length: 14782, dtype: int64"
      ]
     },
     "execution_count": 9,
     "metadata": {},
     "output_type": "execute_result"
    }
   ],
   "source": [
    "# Change dtype to date\n",
    "# Compare to publication date\n",
    "\n",
    "ad['Event.Date'].value_counts()"
   ]
  },
  {
   "cell_type": "code",
   "execution_count": 10,
   "id": "23bce610-dd83-4d17-b851-9a6b7d08a150",
   "metadata": {
    "collapsed": true,
    "jupyter": {
     "outputs_hidden": true
    }
   },
   "outputs": [
    {
     "data": {
      "text/plain": [
       "Accident    85015\n",
       "Incident     3874\n",
       "Name: Investigation.Type, dtype: int64"
      ]
     },
     "execution_count": 10,
     "metadata": {},
     "output_type": "execute_result"
    }
   ],
   "source": [
    "# Relevant to analysis --> Keep \n",
    "\n",
    "\"\"\" \n",
    "\n",
    "An accident is when damage is done to an aircraft or person whereas \n",
    "an incident is an event the could have caused an accident.\n",
    "\n",
    "\n",
    "\"\"\"\n",
    "\n",
    "ad['Investigation.Type'].value_counts()"
   ]
  },
  {
   "cell_type": "code",
   "execution_count": 11,
   "id": "138fb7dc-9123-42d6-b7e7-d4cc551a054b",
   "metadata": {
    "collapsed": true,
    "jupyter": {
     "outputs_hidden": true
    }
   },
   "outputs": [
    {
     "data": {
      "text/plain": [
       "CEN22LA149    2\n",
       "WPR23LA041    2\n",
       "WPR23LA045    2\n",
       "DCA22WA214    2\n",
       "DCA22WA089    2\n",
       "             ..\n",
       "LAX92FA065    1\n",
       "ANC92T#A12    1\n",
       "MIA92LA049    1\n",
       "NYC92LA048    1\n",
       "ERA23LA097    1\n",
       "Name: Accident.Number, Length: 88863, dtype: int64"
      ]
     },
     "execution_count": 11,
     "metadata": {},
     "output_type": "execute_result"
    }
   ],
   "source": [
    "# More than one record can have the same accident number with different details\n",
    "\n",
    "ad['Accident.Number'].value_counts()"
   ]
  },
  {
   "cell_type": "code",
   "execution_count": 12,
   "id": "266dcd2d-8b7f-47a7-85de-bf4bb3f5b000",
   "metadata": {
    "collapsed": true,
    "jupyter": {
     "outputs_hidden": true
    }
   },
   "outputs": [
    {
     "data": {
      "text/plain": [
       "ANCHORAGE, AK          434\n",
       "MIAMI, FL              200\n",
       "ALBUQUERQUE, NM        196\n",
       "HOUSTON, TX            193\n",
       "CHICAGO, IL            184\n",
       "                      ... \n",
       "Corona De Tucso, AZ      1\n",
       "Lithonia, GA             1\n",
       "BONANZA, OR              1\n",
       "NEWPORT, PA              1\n",
       "Brasnorte,               1\n",
       "Name: Location, Length: 27758, dtype: int64"
      ]
     },
     "execution_count": 12,
     "metadata": {},
     "output_type": "execute_result"
    }
   ],
   "source": [
    "# Adjust capitalization & drop na rows\n",
    "\n",
    "ad['Location'].value_counts()"
   ]
  },
  {
   "cell_type": "code",
   "execution_count": 13,
   "id": "722df163-5323-4d7d-bdc6-1c60167857e0",
   "metadata": {
    "collapsed": true,
    "jupyter": {
     "outputs_hidden": true
    }
   },
   "outputs": [
    {
     "data": {
      "text/plain": [
       "Non-Fatal     67357\n",
       "Fatal(1)       6167\n",
       "Fatal          5262\n",
       "Fatal(2)       3711\n",
       "Incident       2219\n",
       "              ...  \n",
       "Fatal(270)        1\n",
       "Fatal(60)         1\n",
       "Fatal(43)         1\n",
       "Fatal(143)        1\n",
       "Fatal(230)        1\n",
       "Name: Injury.Severity, Length: 109, dtype: int64"
      ]
     },
     "execution_count": 13,
     "metadata": {},
     "output_type": "execute_result"
    }
   ],
   "source": [
    "# Adjust capitalization & trim to get rid of numbers at the end\n",
    "\n",
    "# Since the other columns with injury severity metrics are missing\n",
    "# so much data, we can focus on this column for analysis\n",
    "# and suggest we get a more complete data base to assess number \n",
    "# of injuries for phase 2 of business development\n",
    "\n",
    "ad['Injury.Severity'].value_counts()"
   ]
  },
  {
   "cell_type": "code",
   "execution_count": 14,
   "id": "5cc902f4-50a9-4931-876d-4d8e0196a4e3",
   "metadata": {
    "collapsed": true,
    "jupyter": {
     "outputs_hidden": true
    }
   },
   "outputs": [
    {
     "data": {
      "text/plain": [
       "Substantial    64148\n",
       "Destroyed      18623\n",
       "Minor           2805\n",
       "Unknown          119\n",
       "Name: Aircraft.damage, dtype: int64"
      ]
     },
     "execution_count": 14,
     "metadata": {},
     "output_type": "execute_result"
    }
   ],
   "source": [
    "# Can imputate and na to 'Unknown' & adjust capitalization --> Keep\n",
    "# Redistribute 'Unknowns' based on proportions of other categories\n",
    "\n",
    "ad['Aircraft.damage'].value_counts()"
   ]
  },
  {
   "cell_type": "code",
   "execution_count": 15,
   "id": "ab0e25cf-6e93-424b-95ea-73a25a2c1644",
   "metadata": {
    "collapsed": true,
    "jupyter": {
     "outputs_hidden": true
    }
   },
   "outputs": [
    {
     "data": {
      "text/plain": [
       "Airplane             27617\n",
       "Helicopter            3440\n",
       "Glider                 508\n",
       "Balloon                231\n",
       "Gyrocraft              173\n",
       "Weight-Shift           161\n",
       "Powered Parachute       91\n",
       "Ultralight              30\n",
       "Unknown                 14\n",
       "WSFT                     9\n",
       "Powered-Lift             5\n",
       "Blimp                    4\n",
       "UNK                      2\n",
       "Rocket                   1\n",
       "ULTR                     1\n",
       "Name: Aircraft.Category, dtype: int64"
      ]
     },
     "execution_count": 15,
     "metadata": {},
     "output_type": "execute_result"
    }
   ],
   "source": [
    "# Can imputate and na to 'Unknown' & adjust capitalization --> Keep\n",
    "# then can distribute unknown\n",
    "ad['Aircraft.Category'].value_counts()"
   ]
  },
  {
   "cell_type": "code",
   "execution_count": 16,
   "id": "5bf809ce-a467-4a3b-8e16-28659167f379",
   "metadata": {
    "collapsed": true,
    "jupyter": {
     "outputs_hidden": true
    }
   },
   "outputs": [
    {
     "data": {
      "text/plain": [
       "Cessna             22227\n",
       "Piper              12029\n",
       "CESSNA              4922\n",
       "Beech               4330\n",
       "PIPER               2841\n",
       "                   ...  \n",
       "Leonard Walters        1\n",
       "Maule Air Inc.         1\n",
       "Motley Vans            1\n",
       "Perlick                1\n",
       "ROYSE RALPH L          1\n",
       "Name: Make, Length: 8237, dtype: int64"
      ]
     },
     "execution_count": 16,
     "metadata": {},
     "output_type": "execute_result"
    }
   ],
   "source": [
    "# Lowercase all letters\n",
    "\n",
    "ad['Make'].value_counts()"
   ]
  },
  {
   "cell_type": "code",
   "execution_count": 17,
   "id": "03c6f592-b832-40a2-a48d-fdcf02526808",
   "metadata": {
    "collapsed": true,
    "jupyter": {
     "outputs_hidden": true
    }
   },
   "outputs": [
    {
     "data": {
      "text/plain": [
       "NONE      344\n",
       "UNREG     126\n",
       "None       65\n",
       "UNK        13\n",
       "USAF        9\n",
       "         ... \n",
       "N93478      1\n",
       "N519UA      1\n",
       "N8840W      1\n",
       "N21040      1\n",
       "N9026P      1\n",
       "Name: Registration.Number, Length: 79105, dtype: int64"
      ]
     },
     "execution_count": 17,
     "metadata": {},
     "output_type": "execute_result"
    }
   ],
   "source": [
    "# Not relevant for analysis --> Drop\n",
    "\n",
    "ad['Registration.Number'].value_counts()"
   ]
  },
  {
   "cell_type": "code",
   "execution_count": 18,
   "id": "d47c7147-78b6-41e1-a0b1-5022db8e6c9d",
   "metadata": {
    "collapsed": true,
    "jupyter": {
     "outputs_hidden": true
    }
   },
   "outputs": [
    {
     "data": {
      "text/plain": [
       "1.0    0.840312\n",
       "2.0    0.133796\n",
       "0.0    0.014806\n",
       "3.0    0.005833\n",
       "4.0    0.005205\n",
       "8.0    0.000036\n",
       "6.0    0.000012\n",
       "Name: Number.of.Engines, dtype: float64"
      ]
     },
     "execution_count": 18,
     "metadata": {},
     "output_type": "execute_result"
    }
   ],
   "source": [
    "# Needed for analysis --> Keep\n",
    "# Missing ~7% of data\n",
    "# Distribute na values based on probabily distribution of existing values\n",
    "\n",
    "ad['Number.of.Engines'].value_counts(normalize=True)"
   ]
  },
  {
   "cell_type": "code",
   "execution_count": 19,
   "id": "78458915-c5b2-4105-a5f9-e00b8eae5b7e",
   "metadata": {
    "collapsed": true,
    "jupyter": {
     "outputs_hidden": true
    }
   },
   "outputs": [
    {
     "data": {
      "text/plain": [
       "Reciprocating      0.849875\n",
       "Turbo Shaft        0.044113\n",
       "Turbo Prop         0.041449\n",
       "Turbo Fan          0.030326\n",
       "Unknown            0.025070\n",
       "Turbo Jet          0.008593\n",
       "None               0.000232\n",
       "Geared Turbofan    0.000147\n",
       "Electric           0.000122\n",
       "LR                 0.000024\n",
       "NONE               0.000024\n",
       "Hybrid Rocket      0.000012\n",
       "UNK                0.000012\n",
       "Name: Engine.Type, dtype: float64"
      ]
     },
     "execution_count": 19,
     "metadata": {},
     "output_type": "execute_result"
    }
   ],
   "source": [
    "# Adjust capitalization\n",
    "# Missing ~8% of data\n",
    "\n",
    "# Unknown, None, NONE, UNK\n",
    "\n",
    "ad['Engine.Type'].value_counts(normalize=True)"
   ]
  },
  {
   "cell_type": "code",
   "execution_count": 20,
   "id": "7f8da865-6f6f-4b95-a705-fc8a8d9cf002",
   "metadata": {
    "collapsed": true,
    "jupyter": {
     "outputs_hidden": true
    }
   },
   "outputs": [
    {
     "data": {
      "text/plain": [
       "091                               18221\n",
       "Part 91: General Aviation          6486\n",
       "NUSN                               1584\n",
       "NUSC                               1013\n",
       "137                                1010\n",
       "135                                 746\n",
       "121                                 679\n",
       "Part 137: Agricultural              437\n",
       "UNK                                 371\n",
       "Part 135: Air Taxi & Commuter       298\n",
       "PUBU                                253\n",
       "129                                 246\n",
       "Part 121: Air Carrier               165\n",
       "133                                 107\n",
       "Part 129: Foreign                   100\n",
       "Non-U.S., Non-Commercial             97\n",
       "Non-U.S., Commercial                 93\n",
       "Part 133: Rotorcraft Ext. Load       32\n",
       "Unknown                              22\n",
       "Public Use                           19\n",
       "091K                                 14\n",
       "ARMF                                  8\n",
       "Part 125: 20+ Pax,6000+ lbs           5\n",
       "125                                   5\n",
       "107                                   4\n",
       "Public Aircraft                       2\n",
       "103                                   2\n",
       "Part 91 Subpart K: Fractional         1\n",
       "Armed Forces                          1\n",
       "Part 91F: Special Flt Ops.            1\n",
       "437                                   1\n",
       "Name: FAR.Description, dtype: int64"
      ]
     },
     "execution_count": 20,
     "metadata": {},
     "output_type": "execute_result"
    }
   ],
   "source": [
    "# Too many na values and not enough significance for analysis --> Drop\n",
    "\n",
    "ad['FAR.Description'].value_counts()"
   ]
  },
  {
   "cell_type": "code",
   "execution_count": 21,
   "id": "cc3d0403-25e2-4ce1-b28d-d4cd254a5512",
   "metadata": {
    "collapsed": true,
    "jupyter": {
     "outputs_hidden": true
    }
   },
   "outputs": [
    {
     "data": {
      "text/plain": [
       "NSCH    4474\n",
       "UNK     4099\n",
       "SCHD    4009\n",
       "Name: Schedule, dtype: int64"
      ]
     },
     "execution_count": 21,
     "metadata": {},
     "output_type": "execute_result"
    }
   ],
   "source": [
    "# Not relevant to analysis --> Drop\n",
    "\n",
    "ad['Schedule'].value_counts()"
   ]
  },
  {
   "cell_type": "code",
   "execution_count": 22,
   "id": "d8db25c1-01f3-4e4b-978a-73d4326e2fde",
   "metadata": {
    "collapsed": true,
    "jupyter": {
     "outputs_hidden": true
    }
   },
   "outputs": [
    {
     "data": {
      "text/plain": [
       "<bound method IndexOpsMixin.value_counts of 0        Personal\n",
       "1        Personal\n",
       "2        Personal\n",
       "3        Personal\n",
       "4        Personal\n",
       "           ...   \n",
       "88884    Personal\n",
       "88885         NaN\n",
       "88886    Personal\n",
       "88887    Personal\n",
       "88888    Personal\n",
       "Name: Purpose.of.flight, Length: 88889, dtype: object>"
      ]
     },
     "execution_count": 22,
     "metadata": {},
     "output_type": "execute_result"
    }
   ],
   "source": [
    "# Can imputate and na to 'Unknown' & adjust capitalization --> Keep\n",
    "\n",
    "ad['Purpose.of.flight'].value_counts"
   ]
  },
  {
   "cell_type": "code",
   "execution_count": 23,
   "id": "90cb064b-06d6-427c-b958-b6a160594216",
   "metadata": {
    "collapsed": true,
    "jupyter": {
     "outputs_hidden": true
    }
   },
   "outputs": [
    {
     "data": {
      "text/plain": [
       "Pilot                        258\n",
       "American Airlines             90\n",
       "United Airlines               89\n",
       "Delta Air Lines               53\n",
       "SOUTHWEST AIRLINES CO         42\n",
       "                            ... \n",
       "WOODY CONTRACTING INC          1\n",
       "Rod Aviation LLC               1\n",
       "Paul D Franzon                 1\n",
       "TRAINING SERVICES INC DBA      1\n",
       "MC CESSNA 210N LLC             1\n",
       "Name: Air.carrier, Length: 13590, dtype: int64"
      ]
     },
     "execution_count": 23,
     "metadata": {},
     "output_type": "execute_result"
    }
   ],
   "source": [
    "# Too much missing data and not enough analytical significance --> Drop\n",
    "\n",
    "ad['Air.carrier'].value_counts()"
   ]
  },
  {
   "cell_type": "code",
   "execution_count": 24,
   "id": "60f60ad4-4912-4edc-ba06-a60cd7ddeb3e",
   "metadata": {
    "collapsed": true,
    "jupyter": {
     "outputs_hidden": true
    }
   },
   "outputs": [
    {
     "data": {
      "text/plain": [
       "0.0      29879\n",
       "1.0      25101\n",
       "2.0      15988\n",
       "3.0       4313\n",
       "4.0       2662\n",
       "         ...  \n",
       "558.0        1\n",
       "412.0        1\n",
       "338.0        1\n",
       "401.0        1\n",
       "455.0        1\n",
       "Name: Total.Uninjured, Length: 379, dtype: int64"
      ]
     },
     "execution_count": 24,
     "metadata": {},
     "output_type": "execute_result"
    }
   ],
   "source": [
    "# Would be good to keep this column and do analysis of safest aircraft\n",
    "\n",
    "# Drop na if we don't lose too much other data after evaluating the rest of the columns\n",
    "\n",
    "ad['Total.Uninjured'].value_counts()"
   ]
  },
  {
   "cell_type": "code",
   "execution_count": 25,
   "id": "3f1df1d9-b2b2-442c-80ed-9d8169472299",
   "metadata": {
    "collapsed": true,
    "jupyter": {
     "outputs_hidden": true
    }
   },
   "outputs": [
    {
     "data": {
      "text/plain": [
       "VMC    77303\n",
       "IMC     5976\n",
       "UNK      856\n",
       "Unk      262\n",
       "Name: Weather.Condition, dtype: int64"
      ]
     },
     "execution_count": 25,
     "metadata": {},
     "output_type": "execute_result"
    }
   ],
   "source": [
    "# Adjust capitalization and combine; unk & unknown\n",
    "\n",
    "\"\"\"\n",
    "Visual meteorological conditions (VMC) is an aviation flight category \n",
    "in which visual flight rules (VFR) flight is permitted—that is, conditions in which \n",
    "pilots have sufficient visibility to fly the aircraft maintaining visual separation \n",
    "from terrain and other aircraft. \n",
    "\n",
    "In aviation, instrument meteorological conditions (IMC) are weather conditions that \n",
    "require pilots to fly primarily by reference to flight instruments. Typically, this \n",
    "means flying in cloud or poor weather, where little or nothing can be seen or recognised \n",
    "when looking out of the window. \n",
    "\"\"\"\n",
    "\n",
    "ad['Weather.Condition'].value_counts()"
   ]
  },
  {
   "cell_type": "code",
   "execution_count": 26,
   "id": "9d15c927-935f-4df7-9fed-625ba008d211",
   "metadata": {
    "collapsed": true,
    "jupyter": {
     "outputs_hidden": true
    }
   },
   "outputs": [
    {
     "data": {
      "text/plain": [
       "Landing        0.249951\n",
       "Takeoff        0.202401\n",
       "Cruise         0.166370\n",
       "Maneuvering    0.131942\n",
       "Approach       0.106053\n",
       "Climb          0.032953\n",
       "Taxi           0.031722\n",
       "Descent        0.030572\n",
       "Go-around      0.021920\n",
       "Standing       0.015310\n",
       "Unknown        0.008878\n",
       "Other          0.001928\n",
       "Name: Broad.phase.of.flight, dtype: float64"
      ]
     },
     "execution_count": 26,
     "metadata": {},
     "output_type": "execute_result"
    }
   ],
   "source": [
    "# Combine 'unknown' & 'other'\n",
    "\n",
    "ad['Broad.phase.of.flight'].value_counts(normalize=True)"
   ]
  },
  {
   "cell_type": "code",
   "execution_count": 27,
   "id": "804e9133-e965-4075-a4bd-42957f0c1af7",
   "metadata": {
    "collapsed": true,
    "jupyter": {
     "outputs_hidden": true
    }
   },
   "outputs": [
    {
     "data": {
      "text/plain": [
       "Probable Cause                                                                                                                                                       0.748461\n",
       "Foreign                                                                                                                                                              0.024228\n",
       "<br /><br />                                                                                                                                                         0.002024\n",
       "Factual                                                                                                                                                              0.001757\n",
       "The pilot's failure to maintain directional control during the landing roll.                                                                                         0.000679\n",
       "                                                                                                                                                                       ...   \n",
       "The pilot's incapacitation due to a ruptured berry aneurysm during takeoff.                                                                                          0.000012\n",
       "The unauthorized operation of the helicopter by a non-certificated and unqualified individual who failed to maintain helicopter control.                             0.000012\n",
       "A loss of engine power due to the pilot's failure to utilize carburetor heat while maneuvering.\\r\\n.                                                                 0.000012\n",
       "The pilot's failure to maintain adequate separation behind a corporate jet, which resulted in an encounter with wake turbulence and a subsequent loss of control.    0.000012\n",
       "The pilots loss of control due to a wind gust during landing.                                                                                                       0.000012\n",
       "Name: Report.Status, Length: 17075, dtype: float64"
      ]
     },
     "execution_count": 27,
     "metadata": {},
     "output_type": "execute_result"
    }
   ],
   "source": [
    "# So much mixed information types, can't know what the numbers mean --> Drop\n",
    "\n",
    "ad['Report.Status'].value_counts(normalize=True)"
   ]
  },
  {
   "cell_type": "code",
   "execution_count": 28,
   "id": "c611ea00-b462-4d09-96b1-a118b55edce1",
   "metadata": {
    "collapsed": true,
    "jupyter": {
     "outputs_hidden": true
    }
   },
   "outputs": [
    {
     "data": {
      "text/plain": [
       "25-09-2020    0.226564\n",
       "26-09-2020    0.023550\n",
       "03-11-2020    0.015376\n",
       "31-03-1993    0.006017\n",
       "25-11-2003    0.005272\n",
       "                ...   \n",
       "29-11-2004    0.000013\n",
       "29-08-2001    0.000013\n",
       "18-11-2004    0.000013\n",
       "17-12-1996    0.000013\n",
       "29-12-2022    0.000013\n",
       "Name: Publication.Date, Length: 2924, dtype: float64"
      ]
     },
     "execution_count": 28,
     "metadata": {},
     "output_type": "execute_result"
    }
   ],
   "source": [
    "# Since we have event date and there are \n",
    "# so many values missing we are dropping the column --> Drop\n",
    "\n",
    "ad['Publication.Date'].value_counts(normalize=True)"
   ]
  },
  {
   "cell_type": "markdown",
   "id": "5879e1d5-7f9e-41b9-830b-c39ab1dc6476",
   "metadata": {},
   "source": [
    "### Adjust dtype, Capitalization, and Imputate na to Separate Category"
   ]
  },
  {
   "cell_type": "code",
   "execution_count": 29,
   "id": "afe0eadb-9215-47e1-b361-840a55638a61",
   "metadata": {
    "collapsed": true,
    "jupyter": {
     "outputs_hidden": true
    }
   },
   "outputs": [],
   "source": [
    "# Get rid of duplicates based on Accident.Number"
   ]
  },
  {
   "cell_type": "code",
   "execution_count": 30,
   "id": "c2b6e01a-4035-4d66-81f9-3b988870d3b4",
   "metadata": {
    "collapsed": true,
    "jupyter": {
     "outputs_hidden": true
    }
   },
   "outputs": [
    {
     "data": {
      "text/plain": [
       "Event.Id                      0\n",
       "Investigation.Type            0\n",
       "Accident.Number               0\n",
       "Event.Date                    0\n",
       "Location                      0\n",
       "Country                       0\n",
       "Latitude                  52217\n",
       "Longitude                 52224\n",
       "Airport.Code              34587\n",
       "Airport.Name              32153\n",
       "Injury.Severity               0\n",
       "Aircraft.damage            2557\n",
       "Aircraft.Category         51349\n",
       "Registration.Number         502\n",
       "Make                          0\n",
       "Model                         0\n",
       "Amateur.Built                 0\n",
       "Number.of.Engines          4434\n",
       "Engine.Type                5362\n",
       "FAR.Description           51557\n",
       "Schedule                  70245\n",
       "Purpose.of.flight          4640\n",
       "Air.carrier               65665\n",
       "Total.Fatal.Injuries       8437\n",
       "Total.Serious.Injuries     8191\n",
       "Total.Minor.Injuries       7947\n",
       "Total.Uninjured               0\n",
       "Weather.Condition          3201\n",
       "Broad.phase.of.flight     25164\n",
       "Report.Status              5442\n",
       "Publication.Date          13210\n",
       "dtype: int64"
      ]
     },
     "execution_count": 30,
     "metadata": {},
     "output_type": "execute_result"
    }
   ],
   "source": [
    "# Dropping rows of columns with few missing data\n",
    "# Will not impact overall analysis\n",
    "\n",
    "ad.dropna(inplace=True, \n",
    "          subset=['Location', 'Country', 'Make', 'Model','Amateur.Built',\n",
    "                  'Injury.Severity','Total.Uninjured'])\n",
    "ad.isna().sum()"
   ]
  },
  {
   "cell_type": "code",
   "execution_count": 31,
   "id": "e7441530-e59d-4f3b-95b1-99f30175c142",
   "metadata": {
    "collapsed": true,
    "jupyter": {
     "outputs_hidden": true
    }
   },
   "outputs": [
    {
     "data": {
      "text/plain": [
       "reciprocating      0.853276\n",
       "turbo shaft        0.042360\n",
       "turbo prop         0.040524\n",
       "turbo fan          0.029875\n",
       "unknown            0.024852\n",
       "turbo jet          0.008669\n",
       "none               0.000275\n",
       "electric           0.000105\n",
       "lr                 0.000026\n",
       "hybrid rocket      0.000013\n",
       "geared turbofan    0.000013\n",
       "unk                0.000013\n",
       "Name: Engine.Type, dtype: float64"
      ]
     },
     "execution_count": 31,
     "metadata": {},
     "output_type": "execute_result"
    }
   ],
   "source": [
    "# Adjust capitalization to lowercase\n",
    "\n",
    "# Create function to lowercase selected columns\n",
    "\n",
    "def lowercase(df):\n",
    "    df = df.apply(lambda x: x.str.lower())\n",
    "    return df\n",
    "\n",
    "# Imutate on database to lowercase all relevant columns\n",
    "\n",
    "ad[['Purpose.of.flight','Make','Aircraft.Category','Engine.Type',\n",
    "    'Location','Injury.Severity','Aircraft.damage']] \\\n",
    "= lowercase(ad[['Purpose.of.flight','Make','Aircraft.Category','Engine.Type',\n",
    "                'Location','Injury.Severity','Aircraft.damage']])\n",
    "ad['Engine.Type'].value_counts(normalize=True)"
   ]
  },
  {
   "cell_type": "code",
   "execution_count": 32,
   "id": "37d96386-dea3-441c-a343-ca50da542637",
   "metadata": {
    "collapsed": true,
    "jupyter": {
     "outputs_hidden": true
    }
   },
   "outputs": [
    {
     "data": {
      "text/plain": [
       "VMC    0.920460\n",
       "IMC    0.066864\n",
       "UNK    0.012676\n",
       "Name: Weather.Condition, dtype: float64"
      ]
     },
     "execution_count": 32,
     "metadata": {},
     "output_type": "execute_result"
    }
   ],
   "source": [
    "# Adjust capitalization to uppercase\n",
    "\n",
    "def uppercase(df):\n",
    "    df = df.apply(lambda x: x.str.upper())\n",
    "    return df\n",
    "\n",
    "ad[['Weather.Condition']] = uppercase(ad[['Weather.Condition']])\n",
    "ad['Weather.Condition'].value_counts(normalize=True)"
   ]
  },
  {
   "cell_type": "code",
   "execution_count": 33,
   "id": "bb8bc8a7-83ad-479c-a0b6-af540b4f43bf",
   "metadata": {
    "collapsed": true,
    "jupyter": {
     "outputs_hidden": true
    }
   },
   "outputs": [
    {
     "name": "stdout",
     "output_type": "stream",
     "text": [
      "1.0    65060\n",
      "2.0    10151\n",
      "0.0     1101\n",
      "3.0      470\n",
      "4.0      394\n",
      "8.0        3\n",
      "6.0        1\n",
      "Name: Number.of.Engines, dtype: int64\n",
      "non-fatal     64445\n",
      "fatal          5248\n",
      "fatal(1)       4745\n",
      "fatal(2)       2792\n",
      "incident       2031\n",
      "              ...  \n",
      "fatal(37)         1\n",
      "fatal(132)        1\n",
      "fatal(68)         1\n",
      "fatal(65)         1\n",
      "fatal(72)         1\n",
      "Name: Injury.Severity, Length: 74, dtype: int64\n",
      "VMC        72176\n",
      "IMC         5243\n",
      "unknown      994\n",
      "Name: Weather.Condition, dtype: int64\n",
      "Landing        14917\n",
      "Takeoff        11348\n",
      "Cruise          9246\n",
      "Maneuvering     7025\n",
      "Approach        5786\n",
      "Taxi            1931\n",
      "Climb           1802\n",
      "Descent         1701\n",
      "Go-around       1211\n",
      "Standing         894\n",
      "Unknown          589\n",
      "Name: Broad.phase.of.flight, dtype: int64\n"
     ]
    }
   ],
   "source": [
    "# Combine all versions of 'unknown' into one 'unknown'\n",
    "\n",
    "ad.loc[ad['Engine.Type'] == 'unk', ['Engine.Type']] = 'unknown'\n",
    "ad.loc[ad['Injury.Severity'] == 'unavailable', ['Injury.Severity']] = 'unknown'\n",
    "ad.loc[ad['Weather.Condition'] == 'UNK', ['Weather.Condition']] = 'unknown'\n",
    "ad.loc[ad['Broad.phase.of.flight'] == 'Other', ['Broad.phase.of.flight']] = 'Unknown'\n",
    "\n",
    "print(ad['Number.of.Engines'].value_counts())\n",
    "print(ad['Injury.Severity'].value_counts())\n",
    "print(ad['Weather.Condition'].value_counts())\n",
    "print(ad['Broad.phase.of.flight'].value_counts())"
   ]
  },
  {
   "cell_type": "code",
   "execution_count": 34,
   "id": "0995bd79-8eaf-4865-9245-a7841f72297e",
   "metadata": {
    "collapsed": true,
    "jupyter": {
     "outputs_hidden": true
    }
   },
   "outputs": [
    {
     "name": "stdout",
     "output_type": "stream",
     "text": [
      "0\n",
      "0\n",
      "0\n",
      "0\n",
      "0\n",
      "0\n",
      "0\n"
     ]
    }
   ],
   "source": [
    "# Adjust na value to it's own category\n",
    "\n",
    "ad['Purpose.of.flight'].fillna('unknown', inplace=True)\n",
    "ad['Aircraft.damage'].fillna('unknown', inplace=True)\n",
    "ad['Aircraft.Category'].fillna('unknown', inplace=True)\n",
    "ad['Injury.Severity'].fillna('unknown', inplace=True)\n",
    "ad['Engine.Type'].fillna('unknown', inplace=True)\n",
    "ad['Weather.Condition'].fillna('unknown', inplace=True)\n",
    "ad['Broad.phase.of.flight'].fillna('Unknown', inplace=True)\n",
    "\n",
    "print(ad['Purpose.of.flight'].isna().sum())\n",
    "print(ad['Aircraft.damage'].isna().sum())\n",
    "print(ad['Aircraft.Category'].isna().sum())\n",
    "print(ad['Injury.Severity'].isna().sum())\n",
    "print(ad['Engine.Type'].isna().sum())\n",
    "print(ad['Weather.Condition'].isna().sum())\n",
    "print(ad['Broad.phase.of.flight'].isna().sum())"
   ]
  },
  {
   "cell_type": "code",
   "execution_count": 35,
   "id": "f7e47682-6bf3-4804-a835-1770ef5cdf10",
   "metadata": {
    "collapsed": true,
    "jupyter": {
     "outputs_hidden": true
    }
   },
   "outputs": [
    {
     "data": {
      "text/plain": [
       "Unknown        0.315546\n",
       "Landing        0.182775\n",
       "Takeoff        0.139045\n",
       "Cruise         0.113289\n",
       "Maneuvering    0.086076\n",
       "Approach       0.070895\n",
       "Taxi           0.023660\n",
       "Climb          0.022080\n",
       "Descent        0.020842\n",
       "Go-around      0.014838\n",
       "Standing       0.010954\n",
       "Name: Broad.phase.of.flight, dtype: float64"
      ]
     },
     "execution_count": 35,
     "metadata": {},
     "output_type": "execute_result"
    }
   ],
   "source": [
    "# Confirm new 'unknown' count\n",
    "\n",
    "# 30% of data is missing from the column, too much to redistribute\n",
    "# Column could be useful for safety protocols\n",
    "\n",
    "ad['Broad.phase.of.flight'].value_counts(normalize=True)"
   ]
  },
  {
   "cell_type": "code",
   "execution_count": 36,
   "id": "944d442c-f3ce-4e28-ae5d-3165a13e9825",
   "metadata": {
    "collapsed": true,
    "jupyter": {
     "outputs_hidden": true
    }
   },
   "outputs": [
    {
     "data": {
      "text/plain": [
       "unknown              0.629304\n",
       "airplane             0.316833\n",
       "helicopter           0.039540\n",
       "glider               0.005857\n",
       "balloon              0.002806\n",
       "gyrocraft            0.002046\n",
       "weight-shift         0.001973\n",
       "powered parachute    0.001115\n",
       "ultralight           0.000319\n",
       "wsft                 0.000110\n",
       "blimp                0.000037\n",
       "powered-lift         0.000037\n",
       "rocket               0.000012\n",
       "ultr                 0.000012\n",
       "Name: Aircraft.Category, dtype: float64"
      ]
     },
     "execution_count": 36,
     "metadata": {},
     "output_type": "execute_result"
    }
   ],
   "source": [
    "# Confirm new 'unknown' count\n",
    "\n",
    "# too many missing values to redistribute based on proportions\n",
    "# since the category is probably useful, \n",
    "# we'd want to evaluate it in a separate data set where we drop unknowns\n",
    "\n",
    "# The option is to drop the entire column or rows with 'unknown'\n",
    "\n",
    "ad['Aircraft.Category'].value_counts(normalize=True)"
   ]
  },
  {
   "cell_type": "code",
   "execution_count": 37,
   "id": "ac5d16b2-70dc-46aa-88f2-cce6f460363d",
   "metadata": {
    "collapsed": true,
    "jupyter": {
     "outputs_hidden": true
    }
   },
   "outputs": [
    {
     "data": {
      "text/plain": [
       "personal                     0.562122\n",
       "unknown                      0.135602\n",
       "instructional                0.123692\n",
       "aerial application           0.054647\n",
       "business                     0.046622\n",
       "positioning                  0.017828\n",
       "other work use               0.013833\n",
       "ferry                        0.009324\n",
       "aerial observation           0.008883\n",
       "public aircraft              0.007695\n",
       "executive/corporate          0.006224\n",
       "flight test                  0.003884\n",
       "skydiving                    0.001764\n",
       "external load                0.001385\n",
       "air race show                0.001213\n",
       "public aircraft - federal    0.001115\n",
       "banner tow                   0.001078\n",
       "public aircraft - local      0.000870\n",
       "public aircraft - state      0.000698\n",
       "glider tow                   0.000613\n",
       "firefighting                 0.000417\n",
       "air race/show                0.000257\n",
       "air drop                     0.000098\n",
       "asho                         0.000074\n",
       "pubs                         0.000049\n",
       "publ                         0.000012\n",
       "Name: Purpose.of.flight, dtype: float64"
      ]
     },
     "execution_count": 37,
     "metadata": {},
     "output_type": "execute_result"
    }
   ],
   "source": [
    "# Confirm new 'unknown' count\n",
    "\n",
    "ad['Purpose.of.flight'].value_counts(normalize=True)"
   ]
  },
  {
   "cell_type": "code",
   "execution_count": 38,
   "id": "2ad663b6-39c5-4562-b43b-d76716a6db18",
   "metadata": {
    "collapsed": true,
    "jupyter": {
     "outputs_hidden": true
    }
   },
   "outputs": [
    {
     "data": {
      "text/plain": [
       "fatal       0.970213\n",
       "incident    0.024885\n",
       "minor       0.002671\n",
       "serious     0.002120\n",
       "unknown     0.000110\n",
       "Name: Injury.Severity, dtype: float64"
      ]
     },
     "execution_count": 38,
     "metadata": {},
     "output_type": "execute_result"
    }
   ],
   "source": [
    "# Combine all variations of 'fatal' values into one 'fatal' category\n",
    "\n",
    "# We can now see there is an 'unavailable' and 'unknown' category into which we can add na values\n",
    "\n",
    "# We can also then distribute the 'unknown' values based \n",
    "# on proportional distribution of the other categories\n",
    "\n",
    "for value in ad:\n",
    "    if ad['Injury.Severity'].str.contains('fatal').any():\n",
    "        ad.loc[ad['Injury.Severity'].str.contains('fatal'), 'Injury.Severity'] = 'fatal'\n",
    "\n",
    "ad['Injury.Severity'].value_counts(normalize=True)"
   ]
  },
  {
   "cell_type": "markdown",
   "id": "5307c3d4-d598-4a3a-8f50-cefb5f84aeca",
   "metadata": {},
   "source": [
    "### Higher Level Imputation (drop cols, impute on na with stat functions)"
   ]
  },
  {
   "cell_type": "code",
   "execution_count": 39,
   "id": "5384c6a6-5d7d-4961-afec-be7de81e2949",
   "metadata": {
    "collapsed": true,
    "jp-MarkdownHeadingCollapsed": true,
    "jupyter": {
     "outputs_hidden": true
    }
   },
   "outputs": [],
   "source": [
    "# Create copy of original data for column dropping\n",
    "\n",
    "ad_1 = ad.copy()\n",
    "\n",
    "\"\"\"\n",
    "These columns do not add value to analysis and are missing alot of data\n",
    "    - Latitude\n",
    "    - Longitude\n",
    "    - Airport.Code\n",
    "    - Airport.Name\n",
    "    - Schedule\n",
    "    - FAR.Description\n",
    "    - Registration.Number\n",
    "    - Total.Fatal.Injuries\n",
    "    - Total.Serious.Injuries\n",
    "    - Total.Minor.Injuries\n",
    "    - Report.Status\n",
    "    - Publication.Date\n",
    "    \n",
    "Cound include in Next Steps suggestions for additional analysis when it's time\n",
    "for phase 2 of business development\n",
    "\"\"\"\n",
    "# Drop unnecessary columns\n",
    "ad_1 = ad.drop(['Airport.Code', 'Airport.Name', \\\n",
    "                'Schedule','Registration.Number','Latitude','Longitude', \\\n",
    "                'FAR.Description','Air.carrier','Total.Fatal.Injuries', \\\n",
    "                'Total.Serious.Injuries', 'Total.Minor.Injuries', \\\n",
    "                'Report.Status','Publication.Date'], axis=1)"
   ]
  },
  {
   "cell_type": "markdown",
   "id": "d90f1dee-d5ed-4acd-91a5-f143ca70999b",
   "metadata": {},
   "source": [
    "##### Missing ~7% of data from Number.of.Engines\n",
    "\n",
    "ad['Number.of.Engines'].value_counts(normalize=True)\n",
    "\n",
    "Original distribution:\n",
    "\n",
    "- 1.0 = 0.843301\n",
    "- 2.0 = 0.131095\n",
    "- 0.0 = 0.014839\n",
    "- 3.0 = 0.005778\n",
    "- 4.0 = 0.004938\n",
    "- 8.0 = 0.000036\n",
    "- 6.0 = 0.000012\n",
    "\n",
    "After distribution of na:\n",
    "- 1.0 = 0.843790\n",
    "- 2.0 = 0.130692\n",
    "- 0.0 = 0.014778\n",
    "- 3.0 = 0.005662\n",
    "- 4.0 = 0.005033\n",
    "- 8.0 = 0.000034\n",
    "- 6.0 = 0.000011"
   ]
  },
  {
   "cell_type": "code",
   "execution_count": 40,
   "id": "0d20a7c3-003a-4075-93b8-9814e0523316",
   "metadata": {
    "collapsed": true,
    "jupyter": {
     "outputs_hidden": true
    }
   },
   "outputs": [
    {
     "name": "stdout",
     "output_type": "stream",
     "text": [
      "1.0    0.843054\n",
      "2.0    0.131473\n",
      "0.0    0.014409\n",
      "3.0    0.005992\n",
      "4.0    0.005024\n",
      "8.0    0.000037\n",
      "6.0    0.000012\n",
      "Name: Number.of.Engines, dtype: float64\n",
      "0\n"
     ]
    }
   ],
   "source": [
    "# Observation: account for 1.5% of the missing data in the column\n",
    "# Method: randomly select a class acccording to current distribution\n",
    "\n",
    "# REMINDER: adjust dataframe name based on the rest of the doc\n",
    "\n",
    "# Create copy of data base since this is a major imputation\n",
    "ad_2 = ad_1.copy()\n",
    "\n",
    "# relative probabilities (likelihood of 3 dif classes)\n",
    "rel_prob = [0.843301, 0.131095, 0.014839, 0.005778, 0.004938, 0.000036, 0.000012]\n",
    "\n",
    "# relative probabilities (likelihood of 3 dif classes)\n",
    "prob = [i/sum(rel_prob) for i in rel_prob]\n",
    "\n",
    "# actual probability of each class (x/total)\n",
    "def impute_pclass(value): # impute = replace\n",
    "    if pd.isna(value) == True:\n",
    "        return np.random.choice([1.0,2.0,0.0,3.0,4.0,8.0,6.0], p=prob)\n",
    "    else:\n",
    "        return value\n",
    "        \n",
    "ad_2['Number.of.Engines'] = ad_2['Number.of.Engines'].map(lambda x: impute_pclass(x))\n",
    "print(ad_2['Number.of.Engines'].value_counts(normalize=True))\n",
    "print(ad_2['Number.of.Engines'].isna().sum())"
   ]
  },
  {
   "cell_type": "markdown",
   "id": "9e2f635a-b1e0-4eab-9321-a0e4006ee17a",
   "metadata": {},
   "source": [
    "##### Missing .09% of data from 'Injury.Severity'\n",
    "\n",
    "ad['Injury.Severity'].value_counts(normalize=True)\n",
    "\n",
    "Original distribution:\n",
    "\n",
    "- fatal = 0.970089\n",
    "- incident = 0.024512\n",
    "- minor = 0.002494\n",
    "- serious = 0.001979\n",
    "- unavailable = 0.000926\n",
    "\n",
    "After distribution of 'unavailable':\n",
    "- fatal = 0.970970\n",
    "- incident = 0.024546\n",
    "- minor = 0.002494\n",
    "- serious = 0.001990"
   ]
  },
  {
   "cell_type": "code",
   "execution_count": 41,
   "id": "24fabc47-2c9e-45b8-a434-e535e19a4245",
   "metadata": {
    "collapsed": true,
    "jupyter": {
     "outputs_hidden": true
    }
   },
   "outputs": [
    {
     "data": {
      "text/plain": [
       "fatal       0.970324\n",
       "incident    0.024885\n",
       "minor       0.002671\n",
       "serious     0.002120\n",
       "Name: Injury.Severity, dtype: float64"
      ]
     },
     "execution_count": 41,
     "metadata": {},
     "output_type": "execute_result"
    }
   ],
   "source": [
    "# Observation: account for .09% of the data missing in the column\n",
    "# Method: randomly select a class acccording to current distribution\n",
    "\n",
    "# REMINDER: adjust dataframe name based on the rest of the doc\n",
    "\n",
    "# Create copy of data base since this is a major imputation\n",
    "ad_3= ad_2.copy()\n",
    "\n",
    "# relative probabilities (likelihood of dif classes)\n",
    "rel_prob = [0.970089, 0.024512, 0.002494, 0.001979]\n",
    "\n",
    "# relative probabilities (likelihood of 3 dif classes)\n",
    "prob = [i/sum(rel_prob) for i in rel_prob]\n",
    "\n",
    "# actual probability of each class (x/total)\n",
    "def impute_pclass(value): # impute = replace\n",
    "    if value == 'unknown':\n",
    "        return np.random.choice(['fatal','incident','minor','serious'], p=prob)\n",
    "    else:\n",
    "        return value\n",
    "        \n",
    "ad_3['Injury.Severity'] = ad_3['Injury.Severity'].map(lambda x: impute_pclass(x))\n",
    "ad_3['Injury.Severity'].value_counts(normalize=True)"
   ]
  },
  {
   "cell_type": "markdown",
   "id": "81468a6a-9e27-46ec-b429-8cb4894274c1",
   "metadata": {},
   "source": [
    "##### Missing ~3% of data from 'Aircraft.damage'\n",
    "\n",
    "ad['Aircraft.damage'].value_counts(normalize=True)\n",
    "\n",
    "Original distribution:\n",
    "\n",
    "- Substantial = 0.729328\n",
    "- Destroyed = 0.210427\n",
    "- Unknown = 0.031237\n",
    "- Minor = 0.029007\n",
    "\n",
    "After distribution of 'Unknown':\n",
    "\n",
    "- Substantial = 0.753074\n",
    "- Destroyed = 0.217027\n",
    "- Minor = 0.029899"
   ]
  },
  {
   "cell_type": "code",
   "execution_count": 42,
   "id": "e781a6da-e7ca-4f1e-a133-4cc9121c52f0",
   "metadata": {
    "collapsed": true,
    "jupyter": {
     "outputs_hidden": true
    },
    "scrolled": true
   },
   "outputs": [
    {
     "data": {
      "text/plain": [
       "substantial    0.767234\n",
       "destroyed      0.201436\n",
       "minor          0.031330\n",
       "Name: Aircraft.damage, dtype: float64"
      ]
     },
     "execution_count": 42,
     "metadata": {},
     "output_type": "execute_result"
    }
   ],
   "source": [
    "# Observation: account for ~3% of the data missing in the column\n",
    "# Method: randomly select a class acccording to current distribution\n",
    "\n",
    "# REMINDER: adjust dataframe name based on the rest of the doc\n",
    "\n",
    "# Create copy of data base since this is a major imputation\n",
    "ad_4= ad_3.copy()\n",
    "\n",
    "# relative probabilities (likelihood of 3 dif classes)\n",
    "rel_prob = [0.729328, 0.210427, 0.029007]\n",
    "\n",
    "# relative probabilities (likelihood of 3 dif classes)\n",
    "prob = [i/sum(rel_prob) for i in rel_prob]\n",
    "\n",
    "# actual probability of each class (x/total)\n",
    "def impute_pclass(value): # impute = replace\n",
    "    if value == 'unknown':\n",
    "        return np.random.choice(['substantial','destroyed','minor'], p=prob)\n",
    "    else:\n",
    "        return value\n",
    "        \n",
    "ad_4['Aircraft.damage'] = ad_4['Aircraft.damage'].map(lambda x: impute_pclass(x))\n",
    "ad_4['Aircraft.damage'].value_counts(normalize=True)"
   ]
  },
  {
   "cell_type": "markdown",
   "id": "a59efa4c-b6c0-4abe-b490-da07871e4e3e",
   "metadata": {},
   "source": [
    "##### Missing ~1.3% of data from 'Weather.Condition'\n",
    "\n",
    "ad['Weather.Condition'].value_counts(normalize=True)\n",
    "\n",
    "Original distribution:\n",
    "\n",
    "- VMC = 0.916614\n",
    "- IMC = 0.070747\n",
    "- UNKNOWN = 0.012639\n",
    "\n",
    "After distribution of 'UNKNOWN':\n",
    "\n",
    "- VMC = 0.928695\n",
    "- IMC = 0.071305"
   ]
  },
  {
   "cell_type": "code",
   "execution_count": 43,
   "id": "01e455d5-8f42-465e-920e-3888f3d8e5f8",
   "metadata": {
    "collapsed": true,
    "jupyter": {
     "outputs_hidden": true
    }
   },
   "outputs": [
    {
     "data": {
      "text/plain": [
       "VMC    0.932119\n",
       "IMC    0.067881\n",
       "Name: Weather.Condition, dtype: float64"
      ]
     },
     "execution_count": 43,
     "metadata": {},
     "output_type": "execute_result"
    }
   ],
   "source": [
    "# Observation: account for 1.3% of the data\n",
    "# Method: randomly select a class acccording to current distribution\n",
    "\n",
    "# REMINDER: adjust dataframe name based on the rest of the doc\n",
    "\n",
    "# Create copy of data base since this is a major imputation\n",
    "ad_5= ad_4.copy()\n",
    "\n",
    "# relative probabilities (likelihood of 3 dif classes)\n",
    "rel_prob = [0.916614, 0.070747]\n",
    "\n",
    "# relative probabilities (likelihood of 3 dif classes)\n",
    "prob = [i/sum(rel_prob) for i in rel_prob]\n",
    "\n",
    "# actual probability of each class (x/total)\n",
    "def impute_pclass(value): # impute = replace\n",
    "    if value == 'unknown':\n",
    "        return np.random.choice(['VMC','IMC'], p=prob)\n",
    "    else:\n",
    "        return value\n",
    "        \n",
    "ad_5['Weather.Condition'] = ad_5['Weather.Condition'].map(lambda x: impute_pclass(x))\n",
    "ad_5['Weather.Condition'].value_counts(normalize=True)"
   ]
  },
  {
   "cell_type": "code",
   "execution_count": 44,
   "id": "7722e4d5-6523-41c5-b981-a827dafc0d8c",
   "metadata": {
    "collapsed": true,
    "jupyter": {
     "outputs_hidden": true
    }
   },
   "outputs": [
    {
     "data": {
      "text/plain": [
       "Event.Id                 0\n",
       "Investigation.Type       0\n",
       "Accident.Number          0\n",
       "Event.Date               0\n",
       "Location                 0\n",
       "Country                  0\n",
       "Injury.Severity          0\n",
       "Aircraft.damage          0\n",
       "Aircraft.Category        0\n",
       "Make                     0\n",
       "Model                    0\n",
       "Amateur.Built            0\n",
       "Number.of.Engines        0\n",
       "Engine.Type              0\n",
       "Purpose.of.flight        0\n",
       "Total.Uninjured          0\n",
       "Weather.Condition        0\n",
       "Broad.phase.of.flight    0\n",
       "dtype: int64"
      ]
     },
     "execution_count": 44,
     "metadata": {},
     "output_type": "execute_result"
    }
   ],
   "source": [
    "ad_5.isna().sum()"
   ]
  },
  {
   "cell_type": "code",
   "execution_count": 45,
   "id": "df1f569e-9a72-43fc-986b-ea412f471a90",
   "metadata": {
    "collapsed": true,
    "jupyter": {
     "outputs_hidden": true
    },
    "scrolled": true
   },
   "outputs": [
    {
     "name": "stdout",
     "output_type": "stream",
     "text": [
      "<class 'pandas.core.frame.DataFrame'>\n",
      "Int64Index: 81614 entries, 0 to 88888\n",
      "Data columns (total 18 columns):\n",
      " #   Column                 Non-Null Count  Dtype  \n",
      "---  ------                 --------------  -----  \n",
      " 0   Event.Id               81614 non-null  object \n",
      " 1   Investigation.Type     81614 non-null  object \n",
      " 2   Accident.Number        81614 non-null  object \n",
      " 3   Event.Date             81614 non-null  object \n",
      " 4   Location               81614 non-null  object \n",
      " 5   Country                81614 non-null  object \n",
      " 6   Injury.Severity        81614 non-null  object \n",
      " 7   Aircraft.damage        81614 non-null  object \n",
      " 8   Aircraft.Category      81614 non-null  object \n",
      " 9   Make                   81614 non-null  object \n",
      " 10  Model                  81614 non-null  object \n",
      " 11  Amateur.Built          81614 non-null  object \n",
      " 12  Number.of.Engines      81614 non-null  float64\n",
      " 13  Engine.Type            81614 non-null  object \n",
      " 14  Purpose.of.flight      81614 non-null  object \n",
      " 15  Total.Uninjured        81614 non-null  float64\n",
      " 16  Weather.Condition      81614 non-null  object \n",
      " 17  Broad.phase.of.flight  81614 non-null  object \n",
      "dtypes: float64(2), object(16)\n",
      "memory usage: 11.8+ MB\n"
     ]
    }
   ],
   "source": [
    "ad_5.info()"
   ]
  },
  {
   "cell_type": "markdown",
   "id": "20b387bc-72bd-43f0-ab29-1f4f5e104f64",
   "metadata": {
    "collapsed": true,
    "jupyter": {
     "outputs_hidden": true
    }
   },
   "source": [
    "### Statistical Exploration"
   ]
  },
  {
   "cell_type": "code",
   "execution_count": 46,
   "id": "0db7c695-b936-4516-928b-6f532cbf3355",
   "metadata": {
    "collapsed": true,
    "jupyter": {
     "outputs_hidden": true
    }
   },
   "outputs": [
    {
     "data": {
      "text/html": [
       "<div>\n",
       "<style scoped>\n",
       "    .dataframe tbody tr th:only-of-type {\n",
       "        vertical-align: middle;\n",
       "    }\n",
       "\n",
       "    .dataframe tbody tr th {\n",
       "        vertical-align: top;\n",
       "    }\n",
       "\n",
       "    .dataframe thead th {\n",
       "        text-align: right;\n",
       "    }\n",
       "</style>\n",
       "<table border=\"1\" class=\"dataframe\">\n",
       "  <thead>\n",
       "    <tr style=\"text-align: right;\">\n",
       "      <th></th>\n",
       "      <th>Number.of.Engines</th>\n",
       "      <th>Total.Uninjured</th>\n",
       "    </tr>\n",
       "  </thead>\n",
       "  <tbody>\n",
       "    <tr>\n",
       "      <th>count</th>\n",
       "      <td>81614.000000</td>\n",
       "      <td>81614.000000</td>\n",
       "    </tr>\n",
       "    <tr>\n",
       "      <th>mean</th>\n",
       "      <td>1.144436</td>\n",
       "      <td>5.357868</td>\n",
       "    </tr>\n",
       "    <tr>\n",
       "      <th>std</th>\n",
       "      <td>0.443068</td>\n",
       "      <td>27.983520</td>\n",
       "    </tr>\n",
       "    <tr>\n",
       "      <th>min</th>\n",
       "      <td>0.000000</td>\n",
       "      <td>0.000000</td>\n",
       "    </tr>\n",
       "    <tr>\n",
       "      <th>25%</th>\n",
       "      <td>1.000000</td>\n",
       "      <td>0.000000</td>\n",
       "    </tr>\n",
       "    <tr>\n",
       "      <th>50%</th>\n",
       "      <td>1.000000</td>\n",
       "      <td>1.000000</td>\n",
       "    </tr>\n",
       "    <tr>\n",
       "      <th>75%</th>\n",
       "      <td>1.000000</td>\n",
       "      <td>2.000000</td>\n",
       "    </tr>\n",
       "    <tr>\n",
       "      <th>max</th>\n",
       "      <td>8.000000</td>\n",
       "      <td>699.000000</td>\n",
       "    </tr>\n",
       "  </tbody>\n",
       "</table>\n",
       "</div>"
      ],
      "text/plain": [
       "       Number.of.Engines  Total.Uninjured\n",
       "count       81614.000000     81614.000000\n",
       "mean            1.144436         5.357868\n",
       "std             0.443068        27.983520\n",
       "min             0.000000         0.000000\n",
       "25%             1.000000         0.000000\n",
       "50%             1.000000         1.000000\n",
       "75%             1.000000         2.000000\n",
       "max             8.000000       699.000000"
      ]
     },
     "execution_count": 46,
     "metadata": {},
     "output_type": "execute_result"
    }
   ],
   "source": [
    "ad_5.describe()"
   ]
  },
  {
   "cell_type": "markdown",
   "id": "a63b154d-460d-46d9-8765-dd02d2108e1e",
   "metadata": {},
   "source": [
    "Get rid of the outliers in Total.Uninjured"
   ]
  },
  {
   "cell_type": "code",
   "execution_count": 125,
   "id": "0be26379-831d-44bb-876f-a8d8791c2c4d",
   "metadata": {
    "collapsed": true,
    "jupyter": {
     "outputs_hidden": true
    }
   },
   "outputs": [
    {
     "data": {
      "text/plain": [
       "0.0      1\n",
       "114.0    1\n",
       "167.0    1\n",
       "216.0    1\n",
       "172.0    1\n",
       "        ..\n",
       "23.0     1\n",
       "77.0     1\n",
       "137.0    1\n",
       "27.0     1\n",
       "320.0    1\n",
       "Length: 263, dtype: int64"
      ]
     },
     "execution_count": 125,
     "metadata": {},
     "output_type": "execute_result"
    }
   ],
   "source": [
    "# Identify all outliers of Total.Uninjured\n",
    "mask = ad_5['Total.Uninjured'].value_counts()\n",
    "specific_values = mask[mask > 2].index\n",
    "specific_values.value_counts()"
   ]
  },
  {
   "cell_type": "code",
   "execution_count": 110,
   "id": "e12d26b5-0b00-46f8-8e27-ee507056fc79",
   "metadata": {
    "collapsed": true,
    "jupyter": {
     "outputs_hidden": true
    }
   },
   "outputs": [
    {
     "data": {
      "image/png": "[encoded data removed]",
      "text/plain": [
       "<Figure size 640x480 with 1 Axes>"
      ]
     },
     "metadata": {},
     "output_type": "display_data"
    }
   ],
   "source": [
    "# Outlier analysis of Total.Uninjured\n",
    "\n",
    "x = specific_values.value_counts().index\n",
    "y = specific_values.value_counts().values\n",
    "\n",
    "fig, ax = plt.subplots()\n",
    "fig.set_tight_layout(True)\n",
    "\n",
    "ax.bar(x,y)\n",
    "plt.xlim(xmin=, xmax=10)\n",
    "plt.show();\n"
   ]
  },
  {
   "cell_type": "markdown",
   "id": "1f8b2a4e-72eb-4507-a52c-c02bd9869a07",
   "metadata": {},
   "source": [
    "Looks like it makes sense to get rid of outliers with values >5"
   ]
  },
  {
   "cell_type": "code",
   "execution_count": 144,
   "id": "d74baac9-276d-403b-bf32-1237c2c87258",
   "metadata": {},
   "outputs": [
    {
     "name": "stdout",
     "output_type": "stream",
     "text": [
      "Value Count Check:\n",
      "0.0    28720\n",
      "1.0    25042\n",
      "2.0    15937\n",
      "3.0     4295\n",
      "4.0     2645\n",
      "Name: Total.Uninjured, dtype: int64\n"
     ]
    },
    {
     "data": {
      "text/html": [
       "<div>\n",
       "<style scoped>\n",
       "    .dataframe tbody tr th:only-of-type {\n",
       "        vertical-align: middle;\n",
       "    }\n",
       "\n",
       "    .dataframe tbody tr th {\n",
       "        vertical-align: top;\n",
       "    }\n",
       "\n",
       "    .dataframe thead th {\n",
       "        text-align: right;\n",
       "    }\n",
       "</style>\n",
       "<table border=\"1\" class=\"dataframe\">\n",
       "  <thead>\n",
       "    <tr style=\"text-align: right;\">\n",
       "      <th></th>\n",
       "      <th>Number.of.Engines</th>\n",
       "      <th>Total.Uninjured</th>\n",
       "    </tr>\n",
       "  </thead>\n",
       "  <tbody>\n",
       "    <tr>\n",
       "      <th>count</th>\n",
       "      <td>76639.000000</td>\n",
       "      <td>76639.000000</td>\n",
       "    </tr>\n",
       "    <tr>\n",
       "      <th>mean</th>\n",
       "      <td>1.099610</td>\n",
       "      <td>1.048826</td>\n",
       "    </tr>\n",
       "    <tr>\n",
       "      <th>std</th>\n",
       "      <td>0.370244</td>\n",
       "      <td>1.055985</td>\n",
       "    </tr>\n",
       "    <tr>\n",
       "      <th>min</th>\n",
       "      <td>0.000000</td>\n",
       "      <td>0.000000</td>\n",
       "    </tr>\n",
       "    <tr>\n",
       "      <th>25%</th>\n",
       "      <td>1.000000</td>\n",
       "      <td>0.000000</td>\n",
       "    </tr>\n",
       "    <tr>\n",
       "      <th>50%</th>\n",
       "      <td>1.000000</td>\n",
       "      <td>1.000000</td>\n",
       "    </tr>\n",
       "    <tr>\n",
       "      <th>75%</th>\n",
       "      <td>1.000000</td>\n",
       "      <td>2.000000</td>\n",
       "    </tr>\n",
       "    <tr>\n",
       "      <th>max</th>\n",
       "      <td>8.000000</td>\n",
       "      <td>4.000000</td>\n",
       "    </tr>\n",
       "  </tbody>\n",
       "</table>\n",
       "</div>"
      ],
      "text/plain": [
       "       Number.of.Engines  Total.Uninjured\n",
       "count       76639.000000     76639.000000\n",
       "mean            1.099610         1.048826\n",
       "std             0.370244         1.055985\n",
       "min             0.000000         0.000000\n",
       "25%             1.000000         0.000000\n",
       "50%             1.000000         1.000000\n",
       "75%             1.000000         2.000000\n",
       "max             8.000000         4.000000"
      ]
     },
     "execution_count": 144,
     "metadata": {},
     "output_type": "execute_result"
    }
   ],
   "source": [
    "# Eliminate outliers (>5) in Total.Uninjured\n",
    "\n",
    "ad_6 = ad_5.copy()\n",
    "\n",
    "mask = ad_6['Total.Uninjured'] < 5\n",
    "ad_6 = ad_6[mask]\n",
    "\n",
    "print(f\"Value Count Check:\\n{ad_6['Total.Uninjured'].value_counts()}\")\n",
    "\n",
    "# New describe check\n",
    "ad_6.describe()"
   ]
  },
  {
   "cell_type": "code",
   "execution_count": 148,
   "id": "4dd39e47-ddf6-4e5c-868d-32e31b79d3f0",
   "metadata": {},
   "outputs": [
    {
     "data": {
      "text/plain": [
       "Index(['Event.Id', 'Investigation.Type', 'Accident.Number', 'Event.Date',\n",
       "       'Location', 'Country', 'Injury.Severity', 'Aircraft.damage',\n",
       "       'Aircraft.Category', 'Make', 'Model', 'Amateur.Built',\n",
       "       'Number.of.Engines', 'Engine.Type', 'Purpose.of.flight',\n",
       "       'Total.Uninjured', 'Weather.Condition', 'Broad.phase.of.flight'],\n",
       "      dtype='object')"
      ]
     },
     "execution_count": 148,
     "metadata": {},
     "output_type": "execute_result"
    }
   ],
   "source": [
    "ad_6.columns"
   ]
  },
  {
   "cell_type": "code",
   "execution_count": 149,
   "id": "860fa7d4-36f4-4ee4-9266-c7c1d79a1f65",
   "metadata": {},
   "outputs": [],
   "source": [
    "# Convert categorical columns to numeric\n",
    "\n",
    "inv_type_idx = ad_6['Investigation.Type'].index\n",
    "inj_sev_idx = ad_6['Injury.Severity'].index\n",
    "craft_dam_idx = ad_6['Aircraft.damage'].index"
   ]
  },
  {
   "cell_type": "code",
   "execution_count": 153,
   "id": "e1a67e3e-38b6-4ed4-b7b4-771de0749fb8",
   "metadata": {},
   "outputs": [
    {
     "data": {
      "image/png": "[encoded data removed]",
      "text/plain": [
       "<Figure size 640x480 with 4 Axes>"
      ]
     },
     "metadata": {},
     "output_type": "display_data"
    }
   ],
   "source": [
    "# Visualize scatter matrix to see which relationships are worth \n",
    "# noting for the business recommendations\n",
    "\n",
    "data = pd.DataFrame(ad_6,inv_type_idx)\n",
    "\n",
    "pd.plotting.scatter_matrix(data);"
   ]
  },
  {
   "cell_type": "code",
   "execution_count": 49,
   "id": "700eb484-03f4-4856-aa4d-4a4c7faf44c9",
   "metadata": {
    "collapsed": true,
    "jupyter": {
     "outputs_hidden": true
    }
   },
   "outputs": [
    {
     "data": {
      "text/plain": [
       "0.0      58455\n",
       "1.0       7452\n",
       "2.0       4251\n",
       "3.0       1286\n",
       "4.0        915\n",
       "         ...  \n",
       "113.0        1\n",
       "143.0        1\n",
       "83.0         1\n",
       "145.0        1\n",
       "97.0         1\n",
       "Name: Total.Fatal.Injuries, Length: 97, dtype: int64"
      ]
     },
     "execution_count": 49,
     "metadata": {},
     "output_type": "execute_result"
    }
   ],
   "source": [
    "ad['Total.Fatal.Injuries'].value_counts()"
   ]
  },
  {
   "cell_type": "code",
   "execution_count": 50,
   "id": "b0a36fa3-ff79-454f-90e4-c479bd1d0c8a",
   "metadata": {
    "collapsed": true,
    "jupyter": {
     "outputs_hidden": true
    }
   },
   "outputs": [
    {
     "name": "stdout",
     "output_type": "stream",
     "text": [
      "(-0.296, 36.875]\n",
      "(36.875, 73.75]\n",
      "(73.75, 110.625]\n",
      "(110.625, 147.5]\n",
      "(147.5, 184.375]\n",
      "(221.25, 258.125]\n",
      "(184.375, 221.25]\n",
      "(258.125, 295.0]\n"
     ]
    }
   ],
   "source": [
    "bins = ad['Total.Fatal.Injuries'].value_counts(bins=8).index\n",
    "\n",
    "for bin in bins:\n",
    "    print(bin)"
   ]
  },
  {
   "cell_type": "code",
   "execution_count": 145,
   "id": "35d471ba-c601-483e-9ad3-ee7c80e97b3f",
   "metadata": {},
   "outputs": [
    {
     "data": {
      "image/png": "[encoded data removed]",
      "text/plain": [
       "<Figure size 1000x700 with 1 Axes>"
      ]
     },
     "metadata": {},
     "output_type": "display_data"
    }
   ],
   "source": [
    "# Statistical analysis of Total.Uninjured before dropping na values\n",
    "\n",
    "def plot_histogram(df, column, title, xlabel, ylabel):\n",
    "    # Extract the relevant data\n",
    "    data = ad_5[column]\n",
    "    mean = data.mean()\n",
    "    median = data.median()\n",
    "    mode = data.mode().iloc[0]\n",
    "    # Set up plot\n",
    "    fig, ax = plt.subplots(figsize=(10,7))\n",
    "    # Plot histogram\n",
    "    ax.hist(data, bins=1000)\n",
    "    # Plot vertical line\n",
    "    ax.axvline(mean, color=\"black\")\n",
    "    ax.axvline(median, color='green')\n",
    "    ax.axvline(mode, color='blue')\n",
    "    # Customize title and axes labels\n",
    "    ax.set_title(title)\n",
    "    ax.set_xlabel(xlabel)\n",
    "    ax.set_ylabel(ylabel)\n",
    "    plt.xlim(xmin=-1, xmax=30)\n",
    "plot_histogram(\n",
    "    ad_5,\n",
    "    \"Total.Uninjured\",\n",
    "    \"Distribution of Uninjured \",\n",
    "    'Uninjured per Accident',\n",
    "    \"Count of Uninjured\"\n",
    ")"
   ]
  },
  {
   "cell_type": "code",
   "execution_count": 136,
   "id": "92099928-d58f-4204-a4be-9180d72a6225",
   "metadata": {},
   "outputs": [
    {
     "data": {
      "text/plain": [
       "<matplotlib.collections.PathCollection at 0x14925d580>"
      ]
     },
     "execution_count": 136,
     "metadata": {},
     "output_type": "execute_result"
    },
    {
     "data": {
      "image/png": "[encoded data removed]",
      "text/plain": [
       "<Figure size 640x480 with 1 Axes>"
      ]
     },
     "metadata": {},
     "output_type": "display_data"
    }
   ],
   "source": [
    "ad_5['Total.Uninjured'].value_counts()\n",
    "\n",
    "# create index & values\n",
    "\n",
    "tu_index = ad_5['Total.Uninjured'].value_counts().index\n",
    "tu_values = ad_5['Total.Uninjured'].value_counts().values\n",
    "\n",
    "plt.scatter(tu_index,tu_values)"
   ]
  },
  {
   "cell_type": "code",
   "execution_count": null,
   "id": "8dfa0795-377a-4021-a1cf-dac04e34f6e8",
   "metadata": {
    "collapsed": true,
    "jupyter": {
     "outputs_hidden": true
    }
   },
   "outputs": [],
   "source": []
  }
 ],
 "metadata": {
  "kernelspec": {
   "display_name": "Python (learn-env-lite-2)",
   "language": "python",
   "name": "learn-env-lite-2"
  },
  "language_info": {
   "codemirror_mode": {
    "name": "ipython",
    "version": 3
   },
   "file_extension": ".py",
   "mimetype": "text/x-python",
   "name": "python",
   "nbconvert_exporter": "python",
   "pygments_lexer": "ipython3",
   "version": "3.8.5"
  }
 },
 "nbformat": 4,
 "nbformat_minor": 5
}
